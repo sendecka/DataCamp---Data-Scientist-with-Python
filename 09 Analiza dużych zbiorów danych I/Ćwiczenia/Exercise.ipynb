{
 "cells": [
  {
   "cell_type": "markdown",
   "metadata": {},
   "source": [
    "# Ćwiczenie 1: Interakcja z powłoką Pythona przy użyciu IPythona - Polecenia"
   ]
  },
  {
   "cell_type": "markdown",
   "metadata": {},
   "source": [
    "Rozpoczęcie pracy z powłoką Pythona jest proste. Wykonajmy następujące kroki, aby wejść w interakcję\n",
    "z powłoka IPythona:"
   ]
  },
  {
   "cell_type": "markdown",
   "metadata": {},
   "source": [
    "1. Aby uruchomić powłokę Pythona, wpisz w konsoli polecenie ipython:\n",
    "> ipython\n",
    "In [1]:"
   ]
  },
  {
   "cell_type": "markdown",
   "metadata": {},
   "source": [
    "Wskazówka: Możesz użyć „ctrl-o”, aby dodać dodatkowe linie w pojedynczej komórce Ipythona.\n",
    "Powłoka IPython jest teraz gotowa i czeka na dalsze polecenia. Najpierw wykonajmy proste ćwiczenie\n",
    "rozwiązać problem sortowania za pomocą jednej z podstawowych metod sortowania, zwanej prostym wstawianiem."
   ]
  },
  {
   "cell_type": "markdown",
   "metadata": {},
   "source": [
    "2. W powłoce IPython skopiuj i wklej następujący kod:"
   ]
  },
  {
   "cell_type": "code",
   "execution_count": 1,
   "metadata": {},
   "outputs": [
    {
     "name": "stdout",
     "output_type": "stream",
     "text": [
      "[13 99 93 98 27]\n"
     ]
    }
   ],
   "source": [
    "import numpy as np\n",
    "vec = np.random.randint(0, 100, size=5)\n",
    "print(vec)"
   ]
  },
  {
   "cell_type": "markdown",
   "metadata": {},
   "source": [
    "Now, the output for the randomly generated numbers will be similar to the following:\n",
    "[23, 66, 12, 54, 98, 3]"
   ]
  },
  {
   "cell_type": "markdown",
   "metadata": {},
   "source": [
    "3. Użyj poniższej logiki, aby wypisać elementy tablicy vec w kolejności rosnącej:"
   ]
  },
  {
   "cell_type": "code",
   "execution_count": 2,
   "metadata": {},
   "outputs": [
    {
     "name": "stdout",
     "output_type": "stream",
     "text": [
      "[13 27 93 98 99]\n"
     ]
    }
   ],
   "source": [
    "for j in np.arange(1, vec.size):\n",
    "    v = vec[j]\n",
    "    i = j\n",
    "    while i > 0 and vec[i-1] > v:\n",
    "        vec[i] = vec[i-1]\n",
    "        i = i - 1\n",
    "    vec[i] = v\n",
    "\n",
    "print(vec)"
   ]
  },
  {
   "cell_type": "markdown",
   "metadata": {},
   "source": [
    "Użyj polecenia print(vec), aby wydrukować wynik na konsoli"
   ]
  },
  {
   "cell_type": "markdown",
   "metadata": {},
   "source": [
    "4. Teraz zmodyfikuj kod. Zamiast tworzyć tablicę składającą się z 5 elementów, zmień jej parametry tak, aby była tworzy tablicę z 20 elementami, używając strzałki w górę do edycji wklejonego kodu. Po zmianie odpowiedniej sekcji, użyj strzałki w dół, aby przejść na koniec kodu i naciśnij Enter, aby go wykonać."
   ]
  },
  {
   "cell_type": "code",
   "execution_count": 3,
   "metadata": {},
   "outputs": [
    {
     "name": "stdout",
     "output_type": "stream",
     "text": [
      "[36 79 39 28 79 56 63 97 45 70 97 56 33 24 67 84 97 27 74 60]\n"
     ]
    }
   ],
   "source": [
    "import numpy as np\n",
    "vec1 = np.random.randint(0, 100, size=20)\n",
    "print(vec1)"
   ]
  },
  {
   "cell_type": "code",
   "execution_count": 4,
   "metadata": {},
   "outputs": [
    {
     "name": "stdout",
     "output_type": "stream",
     "text": [
      "[24 27 28 33 36 39 45 56 56 60 63 67 70 74 79 79 84 97 97 97]\n"
     ]
    }
   ],
   "source": [
    "for j in np.arange(1, vec1.size):\n",
    "    v = vec1[j]\n",
    "    i = j\n",
    "    while i > 0 and vec1[i-1] > v:\n",
    "        vec1[i] = vec1[i-1]\n",
    "        i = i-1\n",
    "    vec1[i] = v\n",
    "print(vec1)"
   ]
  },
  {
   "cell_type": "markdown",
   "metadata": {},
   "source": [
    "# Ćwiczenie 2: Pierwsze kroki z notatnikiem Jupyter"
   ]
  },
  {
   "cell_type": "markdown",
   "metadata": {},
   "source": [
    "Wykonajmy następujące kroki, aby zademonstrować, jak rozpocząć wykonywanie prostych programów w pliku Notatnik Jupytera. Praca z notatnikiem Jupyter po raz pierwszy może być nieco myląca, ale\n",
    "spróbujmy poznać jego interfejs i funkcjonalność."
   ]
  },
  {
   "cell_type": "markdown",
   "metadata": {},
   "source": [
    "Teraz uruchom serwer notatników Jupyter i pracuj nad nim, wykonując następujące kroki:\n",
    "1. Aby uruchomić serwer notebooków Jupyter, uruchom na konsoli następującą komendę:\n",
    "> notatnik jupytera"
   ]
  },
  {
   "cell_type": "markdown",
   "metadata": {},
   "source": [
    "2. Po pomyślnym uruchomieniu lub zainstalowaniu Jupytera otwórz okno przeglądarki i\n",
    "przejdź do http://localhost:8888, aby uzyskać dostęp do notesu"
   ]
  },
  {
   "cell_type": "markdown",
   "metadata": {},
   "source": [
    "3. Powinieneś zobaczyć notatnik podobny do tego pokazanego na poniższym zrzucie ekranu:"
   ]
  },
  {
   "cell_type": "markdown",
   "metadata": {},
   "source": [
    "![title](1.png)"
   ]
  },
  {
   "cell_type": "markdown",
   "metadata": {},
   "source": [
    "4. Następnie w prawym górnym rogu kliknij Nowy i wybierz z listy Python 3"
   ]
  },
  {
   "cell_type": "markdown",
   "metadata": {},
   "source": [
    "![title1](2.png)"
   ]
  },
  {
   "cell_type": "markdown",
   "metadata": {},
   "source": [
    "6. Teraz w nowo wygenerowanej komórce dodaj w pierwszej komórce następującą funkcję arytmetyczną:"
   ]
  },
  {
   "cell_type": "code",
   "execution_count": 5,
   "metadata": {},
   "outputs": [
    {
     "name": "stdout",
     "output_type": "stream",
     "text": [
      "4\n"
     ]
    }
   ],
   "source": [
    "x = 2\n",
    "print(x*2)"
   ]
  },
  {
   "cell_type": "markdown",
   "metadata": {},
   "source": [
    "7. Teraz dodaj funkcję zwracającą średnią arytmetyczną dwóch liczb, a następnie wywołaj:"
   ]
  },
  {
   "cell_type": "code",
   "execution_count": 6,
   "metadata": {},
   "outputs": [],
   "source": [
    "def mean(a,b):\n",
    "    return (a+b)/2"
   ]
  },
  {
   "cell_type": "markdown",
   "metadata": {},
   "source": [
    "8. Użyjmy teraz funkcji średniej i wywołajmy funkcję z dwiema wartościami, 10 i 20. Wykonaj tą\n",
    "komórkę. Co się dzieje? Funkcja zostaje wywołana i wypisana zostanie odpowiedź."
   ]
  },
  {
   "cell_type": "code",
   "execution_count": 7,
   "metadata": {},
   "outputs": [
    {
     "data": {
      "text/plain": [
       "15.0"
      ]
     },
     "execution_count": 7,
     "metadata": {},
     "output_type": "execute_result"
    }
   ],
   "source": [
    "mean(10,20)"
   ]
  },
  {
   "cell_type": "markdown",
   "metadata": {},
   "source": [
    "9. Musimy udokumentować tę funkcję. Teraz utwórz nową komórkę Markdown i edytuj tekst w pliku\n",
    "Komórka Markdown dokumentująca działanie funkcji."
   ]
  },
  {
   "cell_type": "markdown",
   "metadata": {},
   "source": [
    "Funkcja średnia oblicza średnią arytmetyczną dwóch wartości."
   ]
  },
  {
   "cell_type": "markdown",
   "metadata": {},
   "source": [
    "Spróbuj użyć tagów HTML do sformatowania komórki Markdown. Aby zobaczyć efekt należy go „uruchomić” (Ctrl-Enter)."
   ]
  },
  {
   "cell_type": "markdown",
   "metadata": {},
   "source": [
    "10. Następnie dołącz obraz z Internetu. Pomysł jest taki, że notatnik jest dokumentem, który powinien zarejestrować wszystkie części analizy, więc czasami musimy dołączyć diagram lub wykres z innych źródła wyjaśniające pewną kwestię."
   ]
  },
  {
   "cell_type": "markdown",
   "metadata": {},
   "source": [
    "![title3](3.png)"
   ]
  },
  {
   "cell_type": "markdown",
   "metadata": {},
   "source": [
    "11. Teraz na koniec umieść wyrażenie matematyczne w LaTex w tej samej komórce Markdown."
   ]
  },
  {
   "cell_type": "markdown",
   "metadata": {},
   "source": [
    "Sample LaTex (you must use $$): $ c = \\sqrt{a^2 + b^2} $"
   ]
  },
  {
   "cell_type": "markdown",
   "metadata": {},
   "source": [
    "# Ćwiczenie 3: Odczyt danych za pomocą Pandas"
   ]
  },
  {
   "cell_type": "markdown",
   "metadata": {},
   "source": [
    "Jak analityk może rozpocząć analizę danych bez danych? Musimy się nauczyć, jak uzyskać dane z pliku\n",
    "źródło internetowe do naszego notatnika, abyśmy mogli rozpocząć analizę. Pokażmy, jak pandy\n",
    "może odczytać dane CSV ze źródła internetowego, abyśmy mogli je przeanalizować:"
   ]
  },
  {
   "cell_type": "markdown",
   "metadata": {},
   "source": [
    "1. Zaimportuj bibliotekę Pandas"
   ]
  },
  {
   "cell_type": "code",
   "execution_count": 8,
   "metadata": {},
   "outputs": [],
   "source": [
    "import pandas as pd"
   ]
  },
  {
   "cell_type": "markdown",
   "metadata": {},
   "source": [
    "2. Przeczytaj zbiór danych nobel.data. Przekonwertuj go na CSV. Aby odczytać plik CSV musimy skorzystać z funkcji read_csv(). Odczytuje plik i zwraca Pandas DataFrame."
   ]
  },
  {
   "cell_type": "code",
   "execution_count": 9,
   "metadata": {},
   "outputs": [],
   "source": [
    "df = pd.read_csv(\"nobel.csv\", encoding='utf-8')"
   ]
  },
  {
   "cell_type": "markdown",
   "metadata": {},
   "source": [
    "4. Użyj funkcji read_csv z pand i pokaż pierwsze wiersze wywołujące metodę head na DataFrame."
   ]
  },
  {
   "cell_type": "code",
   "execution_count": 10,
   "metadata": {},
   "outputs": [
    {
     "data": {
      "text/html": [
       "<div>\n",
       "<style scoped>\n",
       "    .dataframe tbody tr th:only-of-type {\n",
       "        vertical-align: middle;\n",
       "    }\n",
       "\n",
       "    .dataframe tbody tr th {\n",
       "        vertical-align: top;\n",
       "    }\n",
       "\n",
       "    .dataframe thead th {\n",
       "        text-align: right;\n",
       "    }\n",
       "</style>\n",
       "<table border=\"1\" class=\"dataframe\">\n",
       "  <thead>\n",
       "    <tr style=\"text-align: right;\">\n",
       "      <th></th>\n",
       "      <th>year</th>\n",
       "      <th>category</th>\n",
       "      <th>prize</th>\n",
       "      <th>motivation</th>\n",
       "      <th>prize_share</th>\n",
       "      <th>laureate_id</th>\n",
       "      <th>laureate_type</th>\n",
       "      <th>full_name</th>\n",
       "      <th>birth_date</th>\n",
       "      <th>birth_city</th>\n",
       "      <th>birth_country</th>\n",
       "      <th>sex</th>\n",
       "      <th>organization_name</th>\n",
       "      <th>organization_city</th>\n",
       "      <th>organization_country</th>\n",
       "      <th>death_date</th>\n",
       "      <th>death_city</th>\n",
       "      <th>death_country</th>\n",
       "    </tr>\n",
       "  </thead>\n",
       "  <tbody>\n",
       "    <tr>\n",
       "      <th>0</th>\n",
       "      <td>1901</td>\n",
       "      <td>Chemistry</td>\n",
       "      <td>The Nobel Prize in Chemistry 1901</td>\n",
       "      <td>\"in recognition of the extraordinary services ...</td>\n",
       "      <td>1/1</td>\n",
       "      <td>160</td>\n",
       "      <td>Individual</td>\n",
       "      <td>Jacobus Henricus van 't Hoff</td>\n",
       "      <td>1852-08-30</td>\n",
       "      <td>Rotterdam</td>\n",
       "      <td>Netherlands</td>\n",
       "      <td>Male</td>\n",
       "      <td>Berlin University</td>\n",
       "      <td>Berlin</td>\n",
       "      <td>Germany</td>\n",
       "      <td>1911-03-01</td>\n",
       "      <td>Berlin</td>\n",
       "      <td>Germany</td>\n",
       "    </tr>\n",
       "    <tr>\n",
       "      <th>1</th>\n",
       "      <td>1901</td>\n",
       "      <td>Literature</td>\n",
       "      <td>The Nobel Prize in Literature 1901</td>\n",
       "      <td>\"in special recognition of his poetic composit...</td>\n",
       "      <td>1/1</td>\n",
       "      <td>569</td>\n",
       "      <td>Individual</td>\n",
       "      <td>Sully Prudhomme</td>\n",
       "      <td>1839-03-16</td>\n",
       "      <td>Paris</td>\n",
       "      <td>France</td>\n",
       "      <td>Male</td>\n",
       "      <td>NaN</td>\n",
       "      <td>NaN</td>\n",
       "      <td>NaN</td>\n",
       "      <td>1907-09-07</td>\n",
       "      <td>Châtenay</td>\n",
       "      <td>France</td>\n",
       "    </tr>\n",
       "    <tr>\n",
       "      <th>2</th>\n",
       "      <td>1901</td>\n",
       "      <td>Medicine</td>\n",
       "      <td>The Nobel Prize in Physiology or Medicine 1901</td>\n",
       "      <td>\"for his work on serum therapy, especially its...</td>\n",
       "      <td>1/1</td>\n",
       "      <td>293</td>\n",
       "      <td>Individual</td>\n",
       "      <td>Emil Adolf von Behring</td>\n",
       "      <td>1854-03-15</td>\n",
       "      <td>Hansdorf (Lawice)</td>\n",
       "      <td>Prussia (Poland)</td>\n",
       "      <td>Male</td>\n",
       "      <td>Marburg University</td>\n",
       "      <td>Marburg</td>\n",
       "      <td>Germany</td>\n",
       "      <td>1917-03-31</td>\n",
       "      <td>Marburg</td>\n",
       "      <td>Germany</td>\n",
       "    </tr>\n",
       "    <tr>\n",
       "      <th>3</th>\n",
       "      <td>1901</td>\n",
       "      <td>Peace</td>\n",
       "      <td>The Nobel Peace Prize 1901</td>\n",
       "      <td>NaN</td>\n",
       "      <td>1/2</td>\n",
       "      <td>462</td>\n",
       "      <td>Individual</td>\n",
       "      <td>Jean Henry Dunant</td>\n",
       "      <td>1828-05-08</td>\n",
       "      <td>Geneva</td>\n",
       "      <td>Switzerland</td>\n",
       "      <td>Male</td>\n",
       "      <td>NaN</td>\n",
       "      <td>NaN</td>\n",
       "      <td>NaN</td>\n",
       "      <td>1910-10-30</td>\n",
       "      <td>Heiden</td>\n",
       "      <td>Switzerland</td>\n",
       "    </tr>\n",
       "    <tr>\n",
       "      <th>4</th>\n",
       "      <td>1901</td>\n",
       "      <td>Peace</td>\n",
       "      <td>The Nobel Peace Prize 1901</td>\n",
       "      <td>NaN</td>\n",
       "      <td>1/2</td>\n",
       "      <td>463</td>\n",
       "      <td>Individual</td>\n",
       "      <td>Frédéric Passy</td>\n",
       "      <td>1822-05-20</td>\n",
       "      <td>Paris</td>\n",
       "      <td>France</td>\n",
       "      <td>Male</td>\n",
       "      <td>NaN</td>\n",
       "      <td>NaN</td>\n",
       "      <td>NaN</td>\n",
       "      <td>1912-06-12</td>\n",
       "      <td>Paris</td>\n",
       "      <td>France</td>\n",
       "    </tr>\n",
       "  </tbody>\n",
       "</table>\n",
       "</div>"
      ],
      "text/plain": [
       "   year    category                                           prize  \\\n",
       "0  1901   Chemistry               The Nobel Prize in Chemistry 1901   \n",
       "1  1901  Literature              The Nobel Prize in Literature 1901   \n",
       "2  1901    Medicine  The Nobel Prize in Physiology or Medicine 1901   \n",
       "3  1901       Peace                      The Nobel Peace Prize 1901   \n",
       "4  1901       Peace                      The Nobel Peace Prize 1901   \n",
       "\n",
       "                                          motivation prize_share  laureate_id  \\\n",
       "0  \"in recognition of the extraordinary services ...         1/1          160   \n",
       "1  \"in special recognition of his poetic composit...         1/1          569   \n",
       "2  \"for his work on serum therapy, especially its...         1/1          293   \n",
       "3                                                NaN         1/2          462   \n",
       "4                                                NaN         1/2          463   \n",
       "\n",
       "  laureate_type                     full_name  birth_date         birth_city  \\\n",
       "0    Individual  Jacobus Henricus van 't Hoff  1852-08-30          Rotterdam   \n",
       "1    Individual               Sully Prudhomme  1839-03-16              Paris   \n",
       "2    Individual        Emil Adolf von Behring  1854-03-15  Hansdorf (Lawice)   \n",
       "3    Individual             Jean Henry Dunant  1828-05-08             Geneva   \n",
       "4    Individual                Frédéric Passy  1822-05-20              Paris   \n",
       "\n",
       "      birth_country   sex   organization_name organization_city  \\\n",
       "0       Netherlands  Male   Berlin University            Berlin   \n",
       "1            France  Male                 NaN               NaN   \n",
       "2  Prussia (Poland)  Male  Marburg University           Marburg   \n",
       "3       Switzerland  Male                 NaN               NaN   \n",
       "4            France  Male                 NaN               NaN   \n",
       "\n",
       "  organization_country  death_date death_city death_country  \n",
       "0              Germany  1911-03-01     Berlin       Germany  \n",
       "1                  NaN  1907-09-07   Châtenay        France  \n",
       "2              Germany  1917-03-31    Marburg       Germany  \n",
       "3                  NaN  1910-10-30     Heiden   Switzerland  \n",
       "4                  NaN  1912-06-12      Paris        France  "
      ]
     },
     "execution_count": 10,
     "metadata": {},
     "output_type": "execute_result"
    }
   ],
   "source": [
    "df.head()"
   ]
  },
  {
   "cell_type": "markdown",
   "metadata": {},
   "source": [
    "Pandy potrafią czytać więcej formatów:\n",
    "• JSON\n",
    "• Excela\n",
    "• HTML\n",
    "• HDF5\n",
    "• Parkiet (z PyArrow)\n",
    "• Bazy danych SQL\n",
    "• Wielkie zapytanie Google\n",
    "Spróbuj przeczytać inne formaty z pand, takie jak arkusze Excel."
   ]
  },
  {
   "cell_type": "markdown",
   "metadata": {},
   "source": [
    "Wybieranie danych: Aby wybrać kolumnę, po prostu użyj nazwy kolumny (projection):"
   ]
  },
  {
   "cell_type": "code",
   "execution_count": 11,
   "metadata": {},
   "outputs": [
    {
     "data": {
      "text/plain": [
       "0       Chemistry\n",
       "1      Literature\n",
       "2        Medicine\n",
       "3           Peace\n",
       "4           Peace\n",
       "          ...    \n",
       "995     Chemistry\n",
       "996     Chemistry\n",
       "997    Literature\n",
       "998         Peace\n",
       "999     Economics\n",
       "Name: category, Length: 1000, dtype: object"
      ]
     },
     "execution_count": 11,
     "metadata": {},
     "output_type": "execute_result"
    }
   ],
   "source": [
    "df['category']"
   ]
  },
  {
   "cell_type": "markdown",
   "metadata": {},
   "source": [
    "lub"
   ]
  },
  {
   "cell_type": "code",
   "execution_count": 12,
   "metadata": {},
   "outputs": [
    {
     "data": {
      "text/plain": [
       "0       Chemistry\n",
       "1      Literature\n",
       "2        Medicine\n",
       "3           Peace\n",
       "4           Peace\n",
       "          ...    \n",
       "995     Chemistry\n",
       "996     Chemistry\n",
       "997    Literature\n",
       "998         Peace\n",
       "999     Economics\n",
       "Name: category, Length: 1000, dtype: object"
      ]
     },
     "execution_count": 12,
     "metadata": {},
     "output_type": "execute_result"
    }
   ],
   "source": [
    "df.category"
   ]
  },
  {
   "cell_type": "markdown",
   "metadata": {},
   "source": [
    "Aby wybrać wiersze o podanej wartości atrybutu (selection)"
   ]
  },
  {
   "cell_type": "code",
   "execution_count": 13,
   "metadata": {},
   "outputs": [
    {
     "data": {
      "text/html": [
       "<div>\n",
       "<style scoped>\n",
       "    .dataframe tbody tr th:only-of-type {\n",
       "        vertical-align: middle;\n",
       "    }\n",
       "\n",
       "    .dataframe tbody tr th {\n",
       "        vertical-align: top;\n",
       "    }\n",
       "\n",
       "    .dataframe thead th {\n",
       "        text-align: right;\n",
       "    }\n",
       "</style>\n",
       "<table border=\"1\" class=\"dataframe\">\n",
       "  <thead>\n",
       "    <tr style=\"text-align: right;\">\n",
       "      <th></th>\n",
       "      <th>year</th>\n",
       "      <th>category</th>\n",
       "      <th>prize</th>\n",
       "      <th>motivation</th>\n",
       "      <th>prize_share</th>\n",
       "      <th>laureate_id</th>\n",
       "      <th>laureate_type</th>\n",
       "      <th>full_name</th>\n",
       "      <th>birth_date</th>\n",
       "      <th>birth_city</th>\n",
       "      <th>birth_country</th>\n",
       "      <th>sex</th>\n",
       "      <th>organization_name</th>\n",
       "      <th>organization_city</th>\n",
       "      <th>organization_country</th>\n",
       "      <th>death_date</th>\n",
       "      <th>death_city</th>\n",
       "      <th>death_country</th>\n",
       "    </tr>\n",
       "  </thead>\n",
       "  <tbody>\n",
       "    <tr>\n",
       "      <th>3</th>\n",
       "      <td>1901</td>\n",
       "      <td>Peace</td>\n",
       "      <td>The Nobel Peace Prize 1901</td>\n",
       "      <td>NaN</td>\n",
       "      <td>1/2</td>\n",
       "      <td>462</td>\n",
       "      <td>Individual</td>\n",
       "      <td>Jean Henry Dunant</td>\n",
       "      <td>1828-05-08</td>\n",
       "      <td>Geneva</td>\n",
       "      <td>Switzerland</td>\n",
       "      <td>Male</td>\n",
       "      <td>NaN</td>\n",
       "      <td>NaN</td>\n",
       "      <td>NaN</td>\n",
       "      <td>1910-10-30</td>\n",
       "      <td>Heiden</td>\n",
       "      <td>Switzerland</td>\n",
       "    </tr>\n",
       "    <tr>\n",
       "      <th>4</th>\n",
       "      <td>1901</td>\n",
       "      <td>Peace</td>\n",
       "      <td>The Nobel Peace Prize 1901</td>\n",
       "      <td>NaN</td>\n",
       "      <td>1/2</td>\n",
       "      <td>463</td>\n",
       "      <td>Individual</td>\n",
       "      <td>Frédéric Passy</td>\n",
       "      <td>1822-05-20</td>\n",
       "      <td>Paris</td>\n",
       "      <td>France</td>\n",
       "      <td>Male</td>\n",
       "      <td>NaN</td>\n",
       "      <td>NaN</td>\n",
       "      <td>NaN</td>\n",
       "      <td>1912-06-12</td>\n",
       "      <td>Paris</td>\n",
       "      <td>France</td>\n",
       "    </tr>\n",
       "    <tr>\n",
       "      <th>9</th>\n",
       "      <td>1902</td>\n",
       "      <td>Peace</td>\n",
       "      <td>The Nobel Peace Prize 1902</td>\n",
       "      <td>NaN</td>\n",
       "      <td>1/2</td>\n",
       "      <td>464</td>\n",
       "      <td>Individual</td>\n",
       "      <td>Élie Ducommun</td>\n",
       "      <td>1833-02-19</td>\n",
       "      <td>Geneva</td>\n",
       "      <td>Switzerland</td>\n",
       "      <td>Male</td>\n",
       "      <td>NaN</td>\n",
       "      <td>NaN</td>\n",
       "      <td>NaN</td>\n",
       "      <td>1906-12-07</td>\n",
       "      <td>Bern</td>\n",
       "      <td>Switzerland</td>\n",
       "    </tr>\n",
       "    <tr>\n",
       "      <th>10</th>\n",
       "      <td>1902</td>\n",
       "      <td>Peace</td>\n",
       "      <td>The Nobel Peace Prize 1902</td>\n",
       "      <td>NaN</td>\n",
       "      <td>1/2</td>\n",
       "      <td>465</td>\n",
       "      <td>Individual</td>\n",
       "      <td>Charles Albert Gobat</td>\n",
       "      <td>1843-05-21</td>\n",
       "      <td>Tramelan</td>\n",
       "      <td>Switzerland</td>\n",
       "      <td>Male</td>\n",
       "      <td>NaN</td>\n",
       "      <td>NaN</td>\n",
       "      <td>NaN</td>\n",
       "      <td>1914-03-16</td>\n",
       "      <td>Bern</td>\n",
       "      <td>Switzerland</td>\n",
       "    </tr>\n",
       "    <tr>\n",
       "      <th>16</th>\n",
       "      <td>1903</td>\n",
       "      <td>Peace</td>\n",
       "      <td>The Nobel Peace Prize 1903</td>\n",
       "      <td>NaN</td>\n",
       "      <td>1/1</td>\n",
       "      <td>466</td>\n",
       "      <td>Individual</td>\n",
       "      <td>William Randal Cremer</td>\n",
       "      <td>1828-03-18</td>\n",
       "      <td>Fareham</td>\n",
       "      <td>United Kingdom</td>\n",
       "      <td>Male</td>\n",
       "      <td>NaN</td>\n",
       "      <td>NaN</td>\n",
       "      <td>NaN</td>\n",
       "      <td>1908-07-22</td>\n",
       "      <td>London</td>\n",
       "      <td>United Kingdom</td>\n",
       "    </tr>\n",
       "    <tr>\n",
       "      <th>...</th>\n",
       "      <td>...</td>\n",
       "      <td>...</td>\n",
       "      <td>...</td>\n",
       "      <td>...</td>\n",
       "      <td>...</td>\n",
       "      <td>...</td>\n",
       "      <td>...</td>\n",
       "      <td>...</td>\n",
       "      <td>...</td>\n",
       "      <td>...</td>\n",
       "      <td>...</td>\n",
       "      <td>...</td>\n",
       "      <td>...</td>\n",
       "      <td>...</td>\n",
       "      <td>...</td>\n",
       "      <td>...</td>\n",
       "      <td>...</td>\n",
       "      <td>...</td>\n",
       "    </tr>\n",
       "    <tr>\n",
       "      <th>971</th>\n",
       "      <td>2021</td>\n",
       "      <td>Peace</td>\n",
       "      <td>The Nobel Peace Prize 2021</td>\n",
       "      <td>\"for their efforts to safeguard freedom of exp...</td>\n",
       "      <td>1/2</td>\n",
       "      <td>1006</td>\n",
       "      <td>Individual</td>\n",
       "      <td>Dmitry Muratov</td>\n",
       "      <td>1961-00-00</td>\n",
       "      <td>Kubyshev (now Samara)</td>\n",
       "      <td>USSR (now Russia)</td>\n",
       "      <td>Male</td>\n",
       "      <td>NaN</td>\n",
       "      <td>NaN</td>\n",
       "      <td>NaN</td>\n",
       "      <td>NaN</td>\n",
       "      <td>NaN</td>\n",
       "      <td>NaN</td>\n",
       "    </tr>\n",
       "    <tr>\n",
       "      <th>983</th>\n",
       "      <td>2022</td>\n",
       "      <td>Peace</td>\n",
       "      <td>The Nobel Peace Prize 2022</td>\n",
       "      <td>\"The Peace Prize laureates represent civil soc...</td>\n",
       "      <td>1/3</td>\n",
       "      <td>1018</td>\n",
       "      <td>Individual</td>\n",
       "      <td>Ales Bialiatski</td>\n",
       "      <td>1962-09-25</td>\n",
       "      <td>Vyartsilya Karelia</td>\n",
       "      <td>Russia</td>\n",
       "      <td>Male</td>\n",
       "      <td>NaN</td>\n",
       "      <td>NaN</td>\n",
       "      <td>NaN</td>\n",
       "      <td>NaN</td>\n",
       "      <td>NaN</td>\n",
       "      <td>NaN</td>\n",
       "    </tr>\n",
       "    <tr>\n",
       "      <th>984</th>\n",
       "      <td>2022</td>\n",
       "      <td>Peace</td>\n",
       "      <td>The Nobel Peace Prize 2022</td>\n",
       "      <td>\"The Peace Prize laureates represent civil soc...</td>\n",
       "      <td>1/3</td>\n",
       "      <td>1019</td>\n",
       "      <td>Organization</td>\n",
       "      <td>Memorial</td>\n",
       "      <td>NaN</td>\n",
       "      <td>NaN</td>\n",
       "      <td>NaN</td>\n",
       "      <td>NaN</td>\n",
       "      <td>NaN</td>\n",
       "      <td>NaN</td>\n",
       "      <td>NaN</td>\n",
       "      <td>NaN</td>\n",
       "      <td>NaN</td>\n",
       "      <td>NaN</td>\n",
       "    </tr>\n",
       "    <tr>\n",
       "      <th>985</th>\n",
       "      <td>2022</td>\n",
       "      <td>Peace</td>\n",
       "      <td>The Nobel Peace Prize 2022</td>\n",
       "      <td>\"The Peace Prize laureates represent civil soc...</td>\n",
       "      <td>1/3</td>\n",
       "      <td>1020</td>\n",
       "      <td>Organization</td>\n",
       "      <td>Center for Civil Liberties</td>\n",
       "      <td>NaN</td>\n",
       "      <td>NaN</td>\n",
       "      <td>NaN</td>\n",
       "      <td>NaN</td>\n",
       "      <td>NaN</td>\n",
       "      <td>NaN</td>\n",
       "      <td>NaN</td>\n",
       "      <td>NaN</td>\n",
       "      <td>NaN</td>\n",
       "      <td>NaN</td>\n",
       "    </tr>\n",
       "    <tr>\n",
       "      <th>998</th>\n",
       "      <td>2023</td>\n",
       "      <td>Peace</td>\n",
       "      <td>The Nobel Peace Prize 2023</td>\n",
       "      <td>\"for her fight against the oppression of women...</td>\n",
       "      <td>1/1</td>\n",
       "      <td>1033</td>\n",
       "      <td>Individual</td>\n",
       "      <td>Narges Mohammadi</td>\n",
       "      <td>1972-04-21</td>\n",
       "      <td>Zanjan</td>\n",
       "      <td>Iran</td>\n",
       "      <td>Female</td>\n",
       "      <td>NaN</td>\n",
       "      <td>NaN</td>\n",
       "      <td>NaN</td>\n",
       "      <td>NaN</td>\n",
       "      <td>NaN</td>\n",
       "      <td>NaN</td>\n",
       "    </tr>\n",
       "  </tbody>\n",
       "</table>\n",
       "<p>141 rows × 18 columns</p>\n",
       "</div>"
      ],
      "text/plain": [
       "     year category                       prize  \\\n",
       "3    1901    Peace  The Nobel Peace Prize 1901   \n",
       "4    1901    Peace  The Nobel Peace Prize 1901   \n",
       "9    1902    Peace  The Nobel Peace Prize 1902   \n",
       "10   1902    Peace  The Nobel Peace Prize 1902   \n",
       "16   1903    Peace  The Nobel Peace Prize 1903   \n",
       "..    ...      ...                         ...   \n",
       "971  2021    Peace  The Nobel Peace Prize 2021   \n",
       "983  2022    Peace  The Nobel Peace Prize 2022   \n",
       "984  2022    Peace  The Nobel Peace Prize 2022   \n",
       "985  2022    Peace  The Nobel Peace Prize 2022   \n",
       "998  2023    Peace  The Nobel Peace Prize 2023   \n",
       "\n",
       "                                            motivation prize_share  \\\n",
       "3                                                  NaN         1/2   \n",
       "4                                                  NaN         1/2   \n",
       "9                                                  NaN         1/2   \n",
       "10                                                 NaN         1/2   \n",
       "16                                                 NaN         1/1   \n",
       "..                                                 ...         ...   \n",
       "971  \"for their efforts to safeguard freedom of exp...         1/2   \n",
       "983  \"The Peace Prize laureates represent civil soc...         1/3   \n",
       "984  \"The Peace Prize laureates represent civil soc...         1/3   \n",
       "985  \"The Peace Prize laureates represent civil soc...         1/3   \n",
       "998  \"for her fight against the oppression of women...         1/1   \n",
       "\n",
       "     laureate_id laureate_type                   full_name  birth_date  \\\n",
       "3            462    Individual           Jean Henry Dunant  1828-05-08   \n",
       "4            463    Individual              Frédéric Passy  1822-05-20   \n",
       "9            464    Individual               Élie Ducommun  1833-02-19   \n",
       "10           465    Individual        Charles Albert Gobat  1843-05-21   \n",
       "16           466    Individual       William Randal Cremer  1828-03-18   \n",
       "..           ...           ...                         ...         ...   \n",
       "971         1006    Individual              Dmitry Muratov  1961-00-00   \n",
       "983         1018    Individual             Ales Bialiatski  1962-09-25   \n",
       "984         1019  Organization                    Memorial         NaN   \n",
       "985         1020  Organization  Center for Civil Liberties         NaN   \n",
       "998         1033    Individual            Narges Mohammadi  1972-04-21   \n",
       "\n",
       "                birth_city      birth_country     sex organization_name  \\\n",
       "3                   Geneva        Switzerland    Male               NaN   \n",
       "4                    Paris             France    Male               NaN   \n",
       "9                   Geneva        Switzerland    Male               NaN   \n",
       "10                Tramelan        Switzerland    Male               NaN   \n",
       "16                 Fareham     United Kingdom    Male               NaN   \n",
       "..                     ...                ...     ...               ...   \n",
       "971  Kubyshev (now Samara)  USSR (now Russia)    Male               NaN   \n",
       "983     Vyartsilya Karelia             Russia    Male               NaN   \n",
       "984                    NaN                NaN     NaN               NaN   \n",
       "985                    NaN                NaN     NaN               NaN   \n",
       "998                 Zanjan               Iran  Female               NaN   \n",
       "\n",
       "    organization_city organization_country  death_date death_city  \\\n",
       "3                 NaN                  NaN  1910-10-30     Heiden   \n",
       "4                 NaN                  NaN  1912-06-12      Paris   \n",
       "9                 NaN                  NaN  1906-12-07       Bern   \n",
       "10                NaN                  NaN  1914-03-16       Bern   \n",
       "16                NaN                  NaN  1908-07-22     London   \n",
       "..                ...                  ...         ...        ...   \n",
       "971               NaN                  NaN         NaN        NaN   \n",
       "983               NaN                  NaN         NaN        NaN   \n",
       "984               NaN                  NaN         NaN        NaN   \n",
       "985               NaN                  NaN         NaN        NaN   \n",
       "998               NaN                  NaN         NaN        NaN   \n",
       "\n",
       "      death_country  \n",
       "3       Switzerland  \n",
       "4            France  \n",
       "9       Switzerland  \n",
       "10      Switzerland  \n",
       "16   United Kingdom  \n",
       "..              ...  \n",
       "971             NaN  \n",
       "983             NaN  \n",
       "984             NaN  \n",
       "985             NaN  \n",
       "998             NaN  \n",
       "\n",
       "[141 rows x 18 columns]"
      ]
     },
     "execution_count": 13,
     "metadata": {},
     "output_type": "execute_result"
    }
   ],
   "source": [
    "df[df.category == \"Peace\"]"
   ]
  },
  {
   "cell_type": "markdown",
   "metadata": {},
   "source": [
    "Aby użyć operacji logicznych, np. wybierz wszystkie wiersze, które mają stan równy AK i lokalizację Nome, użyj operator &:"
   ]
  },
  {
   "cell_type": "code",
   "execution_count": 14,
   "metadata": {},
   "outputs": [
    {
     "data": {
      "text/html": [
       "<div>\n",
       "<style scoped>\n",
       "    .dataframe tbody tr th:only-of-type {\n",
       "        vertical-align: middle;\n",
       "    }\n",
       "\n",
       "    .dataframe tbody tr th {\n",
       "        vertical-align: top;\n",
       "    }\n",
       "\n",
       "    .dataframe thead th {\n",
       "        text-align: right;\n",
       "    }\n",
       "</style>\n",
       "<table border=\"1\" class=\"dataframe\">\n",
       "  <thead>\n",
       "    <tr style=\"text-align: right;\">\n",
       "      <th></th>\n",
       "      <th>year</th>\n",
       "      <th>category</th>\n",
       "      <th>prize</th>\n",
       "      <th>motivation</th>\n",
       "      <th>prize_share</th>\n",
       "      <th>laureate_id</th>\n",
       "      <th>laureate_type</th>\n",
       "      <th>full_name</th>\n",
       "      <th>birth_date</th>\n",
       "      <th>birth_city</th>\n",
       "      <th>birth_country</th>\n",
       "      <th>sex</th>\n",
       "      <th>organization_name</th>\n",
       "      <th>organization_city</th>\n",
       "      <th>organization_country</th>\n",
       "      <th>death_date</th>\n",
       "      <th>death_city</th>\n",
       "      <th>death_country</th>\n",
       "    </tr>\n",
       "  </thead>\n",
       "  <tbody>\n",
       "    <tr>\n",
       "      <th>3</th>\n",
       "      <td>1901</td>\n",
       "      <td>Peace</td>\n",
       "      <td>The Nobel Peace Prize 1901</td>\n",
       "      <td>NaN</td>\n",
       "      <td>1/2</td>\n",
       "      <td>462</td>\n",
       "      <td>Individual</td>\n",
       "      <td>Jean Henry Dunant</td>\n",
       "      <td>1828-05-08</td>\n",
       "      <td>Geneva</td>\n",
       "      <td>Switzerland</td>\n",
       "      <td>Male</td>\n",
       "      <td>NaN</td>\n",
       "      <td>NaN</td>\n",
       "      <td>NaN</td>\n",
       "      <td>1910-10-30</td>\n",
       "      <td>Heiden</td>\n",
       "      <td>Switzerland</td>\n",
       "    </tr>\n",
       "    <tr>\n",
       "      <th>4</th>\n",
       "      <td>1901</td>\n",
       "      <td>Peace</td>\n",
       "      <td>The Nobel Peace Prize 1901</td>\n",
       "      <td>NaN</td>\n",
       "      <td>1/2</td>\n",
       "      <td>463</td>\n",
       "      <td>Individual</td>\n",
       "      <td>Frédéric Passy</td>\n",
       "      <td>1822-05-20</td>\n",
       "      <td>Paris</td>\n",
       "      <td>France</td>\n",
       "      <td>Male</td>\n",
       "      <td>NaN</td>\n",
       "      <td>NaN</td>\n",
       "      <td>NaN</td>\n",
       "      <td>1912-06-12</td>\n",
       "      <td>Paris</td>\n",
       "      <td>France</td>\n",
       "    </tr>\n",
       "    <tr>\n",
       "      <th>9</th>\n",
       "      <td>1902</td>\n",
       "      <td>Peace</td>\n",
       "      <td>The Nobel Peace Prize 1902</td>\n",
       "      <td>NaN</td>\n",
       "      <td>1/2</td>\n",
       "      <td>464</td>\n",
       "      <td>Individual</td>\n",
       "      <td>Élie Ducommun</td>\n",
       "      <td>1833-02-19</td>\n",
       "      <td>Geneva</td>\n",
       "      <td>Switzerland</td>\n",
       "      <td>Male</td>\n",
       "      <td>NaN</td>\n",
       "      <td>NaN</td>\n",
       "      <td>NaN</td>\n",
       "      <td>1906-12-07</td>\n",
       "      <td>Bern</td>\n",
       "      <td>Switzerland</td>\n",
       "    </tr>\n",
       "    <tr>\n",
       "      <th>10</th>\n",
       "      <td>1902</td>\n",
       "      <td>Peace</td>\n",
       "      <td>The Nobel Peace Prize 1902</td>\n",
       "      <td>NaN</td>\n",
       "      <td>1/2</td>\n",
       "      <td>465</td>\n",
       "      <td>Individual</td>\n",
       "      <td>Charles Albert Gobat</td>\n",
       "      <td>1843-05-21</td>\n",
       "      <td>Tramelan</td>\n",
       "      <td>Switzerland</td>\n",
       "      <td>Male</td>\n",
       "      <td>NaN</td>\n",
       "      <td>NaN</td>\n",
       "      <td>NaN</td>\n",
       "      <td>1914-03-16</td>\n",
       "      <td>Bern</td>\n",
       "      <td>Switzerland</td>\n",
       "    </tr>\n",
       "    <tr>\n",
       "      <th>16</th>\n",
       "      <td>1903</td>\n",
       "      <td>Peace</td>\n",
       "      <td>The Nobel Peace Prize 1903</td>\n",
       "      <td>NaN</td>\n",
       "      <td>1/1</td>\n",
       "      <td>466</td>\n",
       "      <td>Individual</td>\n",
       "      <td>William Randal Cremer</td>\n",
       "      <td>1828-03-18</td>\n",
       "      <td>Fareham</td>\n",
       "      <td>United Kingdom</td>\n",
       "      <td>Male</td>\n",
       "      <td>NaN</td>\n",
       "      <td>NaN</td>\n",
       "      <td>NaN</td>\n",
       "      <td>1908-07-22</td>\n",
       "      <td>London</td>\n",
       "      <td>United Kingdom</td>\n",
       "    </tr>\n",
       "    <tr>\n",
       "      <th>...</th>\n",
       "      <td>...</td>\n",
       "      <td>...</td>\n",
       "      <td>...</td>\n",
       "      <td>...</td>\n",
       "      <td>...</td>\n",
       "      <td>...</td>\n",
       "      <td>...</td>\n",
       "      <td>...</td>\n",
       "      <td>...</td>\n",
       "      <td>...</td>\n",
       "      <td>...</td>\n",
       "      <td>...</td>\n",
       "      <td>...</td>\n",
       "      <td>...</td>\n",
       "      <td>...</td>\n",
       "      <td>...</td>\n",
       "      <td>...</td>\n",
       "      <td>...</td>\n",
       "    </tr>\n",
       "    <tr>\n",
       "      <th>946</th>\n",
       "      <td>2019</td>\n",
       "      <td>Peace</td>\n",
       "      <td>The Nobel Peace Prize 2019</td>\n",
       "      <td>\"for his efforts to achieve peace and internat...</td>\n",
       "      <td>1/1</td>\n",
       "      <td>981</td>\n",
       "      <td>Individual</td>\n",
       "      <td>Abiy Ahmed Ali</td>\n",
       "      <td>1976-08-15</td>\n",
       "      <td>Beshasha</td>\n",
       "      <td>Ethiopia</td>\n",
       "      <td>Male</td>\n",
       "      <td>NaN</td>\n",
       "      <td>NaN</td>\n",
       "      <td>NaN</td>\n",
       "      <td>NaN</td>\n",
       "      <td>NaN</td>\n",
       "      <td>NaN</td>\n",
       "    </tr>\n",
       "    <tr>\n",
       "      <th>970</th>\n",
       "      <td>2021</td>\n",
       "      <td>Peace</td>\n",
       "      <td>The Nobel Peace Prize 2021</td>\n",
       "      <td>\"for their efforts to safeguard freedom of exp...</td>\n",
       "      <td>1/2</td>\n",
       "      <td>1005</td>\n",
       "      <td>Individual</td>\n",
       "      <td>Maria Ressa</td>\n",
       "      <td>1963-10-02</td>\n",
       "      <td>Manila</td>\n",
       "      <td>Philippines</td>\n",
       "      <td>Female</td>\n",
       "      <td>NaN</td>\n",
       "      <td>NaN</td>\n",
       "      <td>NaN</td>\n",
       "      <td>NaN</td>\n",
       "      <td>NaN</td>\n",
       "      <td>NaN</td>\n",
       "    </tr>\n",
       "    <tr>\n",
       "      <th>971</th>\n",
       "      <td>2021</td>\n",
       "      <td>Peace</td>\n",
       "      <td>The Nobel Peace Prize 2021</td>\n",
       "      <td>\"for their efforts to safeguard freedom of exp...</td>\n",
       "      <td>1/2</td>\n",
       "      <td>1006</td>\n",
       "      <td>Individual</td>\n",
       "      <td>Dmitry Muratov</td>\n",
       "      <td>1961-00-00</td>\n",
       "      <td>Kubyshev (now Samara)</td>\n",
       "      <td>USSR (now Russia)</td>\n",
       "      <td>Male</td>\n",
       "      <td>NaN</td>\n",
       "      <td>NaN</td>\n",
       "      <td>NaN</td>\n",
       "      <td>NaN</td>\n",
       "      <td>NaN</td>\n",
       "      <td>NaN</td>\n",
       "    </tr>\n",
       "    <tr>\n",
       "      <th>983</th>\n",
       "      <td>2022</td>\n",
       "      <td>Peace</td>\n",
       "      <td>The Nobel Peace Prize 2022</td>\n",
       "      <td>\"The Peace Prize laureates represent civil soc...</td>\n",
       "      <td>1/3</td>\n",
       "      <td>1018</td>\n",
       "      <td>Individual</td>\n",
       "      <td>Ales Bialiatski</td>\n",
       "      <td>1962-09-25</td>\n",
       "      <td>Vyartsilya Karelia</td>\n",
       "      <td>Russia</td>\n",
       "      <td>Male</td>\n",
       "      <td>NaN</td>\n",
       "      <td>NaN</td>\n",
       "      <td>NaN</td>\n",
       "      <td>NaN</td>\n",
       "      <td>NaN</td>\n",
       "      <td>NaN</td>\n",
       "    </tr>\n",
       "    <tr>\n",
       "      <th>998</th>\n",
       "      <td>2023</td>\n",
       "      <td>Peace</td>\n",
       "      <td>The Nobel Peace Prize 2023</td>\n",
       "      <td>\"for her fight against the oppression of women...</td>\n",
       "      <td>1/1</td>\n",
       "      <td>1033</td>\n",
       "      <td>Individual</td>\n",
       "      <td>Narges Mohammadi</td>\n",
       "      <td>1972-04-21</td>\n",
       "      <td>Zanjan</td>\n",
       "      <td>Iran</td>\n",
       "      <td>Female</td>\n",
       "      <td>NaN</td>\n",
       "      <td>NaN</td>\n",
       "      <td>NaN</td>\n",
       "      <td>NaN</td>\n",
       "      <td>NaN</td>\n",
       "      <td>NaN</td>\n",
       "    </tr>\n",
       "  </tbody>\n",
       "</table>\n",
       "<p>107 rows × 18 columns</p>\n",
       "</div>"
      ],
      "text/plain": [
       "     year category                       prize  \\\n",
       "3    1901    Peace  The Nobel Peace Prize 1901   \n",
       "4    1901    Peace  The Nobel Peace Prize 1901   \n",
       "9    1902    Peace  The Nobel Peace Prize 1902   \n",
       "10   1902    Peace  The Nobel Peace Prize 1902   \n",
       "16   1903    Peace  The Nobel Peace Prize 1903   \n",
       "..    ...      ...                         ...   \n",
       "946  2019    Peace  The Nobel Peace Prize 2019   \n",
       "970  2021    Peace  The Nobel Peace Prize 2021   \n",
       "971  2021    Peace  The Nobel Peace Prize 2021   \n",
       "983  2022    Peace  The Nobel Peace Prize 2022   \n",
       "998  2023    Peace  The Nobel Peace Prize 2023   \n",
       "\n",
       "                                            motivation prize_share  \\\n",
       "3                                                  NaN         1/2   \n",
       "4                                                  NaN         1/2   \n",
       "9                                                  NaN         1/2   \n",
       "10                                                 NaN         1/2   \n",
       "16                                                 NaN         1/1   \n",
       "..                                                 ...         ...   \n",
       "946  \"for his efforts to achieve peace and internat...         1/1   \n",
       "970  \"for their efforts to safeguard freedom of exp...         1/2   \n",
       "971  \"for their efforts to safeguard freedom of exp...         1/2   \n",
       "983  \"The Peace Prize laureates represent civil soc...         1/3   \n",
       "998  \"for her fight against the oppression of women...         1/1   \n",
       "\n",
       "     laureate_id laureate_type              full_name  birth_date  \\\n",
       "3            462    Individual      Jean Henry Dunant  1828-05-08   \n",
       "4            463    Individual         Frédéric Passy  1822-05-20   \n",
       "9            464    Individual          Élie Ducommun  1833-02-19   \n",
       "10           465    Individual   Charles Albert Gobat  1843-05-21   \n",
       "16           466    Individual  William Randal Cremer  1828-03-18   \n",
       "..           ...           ...                    ...         ...   \n",
       "946          981    Individual         Abiy Ahmed Ali  1976-08-15   \n",
       "970         1005    Individual            Maria Ressa  1963-10-02   \n",
       "971         1006    Individual         Dmitry Muratov  1961-00-00   \n",
       "983         1018    Individual        Ales Bialiatski  1962-09-25   \n",
       "998         1033    Individual       Narges Mohammadi  1972-04-21   \n",
       "\n",
       "                birth_city      birth_country     sex organization_name  \\\n",
       "3                   Geneva        Switzerland    Male               NaN   \n",
       "4                    Paris             France    Male               NaN   \n",
       "9                   Geneva        Switzerland    Male               NaN   \n",
       "10                Tramelan        Switzerland    Male               NaN   \n",
       "16                 Fareham     United Kingdom    Male               NaN   \n",
       "..                     ...                ...     ...               ...   \n",
       "946               Beshasha           Ethiopia    Male               NaN   \n",
       "970                 Manila        Philippines  Female               NaN   \n",
       "971  Kubyshev (now Samara)  USSR (now Russia)    Male               NaN   \n",
       "983     Vyartsilya Karelia             Russia    Male               NaN   \n",
       "998                 Zanjan               Iran  Female               NaN   \n",
       "\n",
       "    organization_city organization_country  death_date death_city  \\\n",
       "3                 NaN                  NaN  1910-10-30     Heiden   \n",
       "4                 NaN                  NaN  1912-06-12      Paris   \n",
       "9                 NaN                  NaN  1906-12-07       Bern   \n",
       "10                NaN                  NaN  1914-03-16       Bern   \n",
       "16                NaN                  NaN  1908-07-22     London   \n",
       "..                ...                  ...         ...        ...   \n",
       "946               NaN                  NaN         NaN        NaN   \n",
       "970               NaN                  NaN         NaN        NaN   \n",
       "971               NaN                  NaN         NaN        NaN   \n",
       "983               NaN                  NaN         NaN        NaN   \n",
       "998               NaN                  NaN         NaN        NaN   \n",
       "\n",
       "      death_country  \n",
       "3       Switzerland  \n",
       "4            France  \n",
       "9       Switzerland  \n",
       "10      Switzerland  \n",
       "16   United Kingdom  \n",
       "..              ...  \n",
       "946             NaN  \n",
       "970             NaN  \n",
       "971             NaN  \n",
       "983             NaN  \n",
       "998             NaN  \n",
       "\n",
       "[107 rows x 18 columns]"
      ]
     },
     "execution_count": 14,
     "metadata": {},
     "output_type": "execute_result"
    }
   ],
   "source": [
    "df[(df.category == \"Peace\") & (df.laureate_type == \"Individual\")]"
   ]
  },
  {
   "cell_type": "markdown",
   "metadata": {},
   "source": [
    "Wybieranie przy użyciu zakresu wierszy lub indeksu:"
   ]
  },
  {
   "cell_type": "code",
   "execution_count": 15,
   "metadata": {},
   "outputs": [
    {
     "data": {
      "text/plain": [
       "'Medicine'"
      ]
     },
     "execution_count": 15,
     "metadata": {},
     "output_type": "execute_result"
    }
   ],
   "source": [
    "df.category[2]"
   ]
  },
  {
   "cell_type": "markdown",
   "metadata": {},
   "source": [
    "Wyświetl wiersze zaczynając od pierwszego (domyślnie wybieranych jest pięć pierwszych):"
   ]
  },
  {
   "cell_type": "code",
   "execution_count": 16,
   "metadata": {},
   "outputs": [
    {
     "data": {
      "text/html": [
       "<div>\n",
       "<style scoped>\n",
       "    .dataframe tbody tr th:only-of-type {\n",
       "        vertical-align: middle;\n",
       "    }\n",
       "\n",
       "    .dataframe tbody tr th {\n",
       "        vertical-align: top;\n",
       "    }\n",
       "\n",
       "    .dataframe thead th {\n",
       "        text-align: right;\n",
       "    }\n",
       "</style>\n",
       "<table border=\"1\" class=\"dataframe\">\n",
       "  <thead>\n",
       "    <tr style=\"text-align: right;\">\n",
       "      <th></th>\n",
       "      <th>year</th>\n",
       "      <th>category</th>\n",
       "      <th>prize</th>\n",
       "      <th>motivation</th>\n",
       "      <th>prize_share</th>\n",
       "      <th>laureate_id</th>\n",
       "      <th>laureate_type</th>\n",
       "      <th>full_name</th>\n",
       "      <th>birth_date</th>\n",
       "      <th>birth_city</th>\n",
       "      <th>birth_country</th>\n",
       "      <th>sex</th>\n",
       "      <th>organization_name</th>\n",
       "      <th>organization_city</th>\n",
       "      <th>organization_country</th>\n",
       "      <th>death_date</th>\n",
       "      <th>death_city</th>\n",
       "      <th>death_country</th>\n",
       "    </tr>\n",
       "  </thead>\n",
       "  <tbody>\n",
       "    <tr>\n",
       "      <th>0</th>\n",
       "      <td>1901</td>\n",
       "      <td>Chemistry</td>\n",
       "      <td>The Nobel Prize in Chemistry 1901</td>\n",
       "      <td>\"in recognition of the extraordinary services ...</td>\n",
       "      <td>1/1</td>\n",
       "      <td>160</td>\n",
       "      <td>Individual</td>\n",
       "      <td>Jacobus Henricus van 't Hoff</td>\n",
       "      <td>1852-08-30</td>\n",
       "      <td>Rotterdam</td>\n",
       "      <td>Netherlands</td>\n",
       "      <td>Male</td>\n",
       "      <td>Berlin University</td>\n",
       "      <td>Berlin</td>\n",
       "      <td>Germany</td>\n",
       "      <td>1911-03-01</td>\n",
       "      <td>Berlin</td>\n",
       "      <td>Germany</td>\n",
       "    </tr>\n",
       "    <tr>\n",
       "      <th>1</th>\n",
       "      <td>1901</td>\n",
       "      <td>Literature</td>\n",
       "      <td>The Nobel Prize in Literature 1901</td>\n",
       "      <td>\"in special recognition of his poetic composit...</td>\n",
       "      <td>1/1</td>\n",
       "      <td>569</td>\n",
       "      <td>Individual</td>\n",
       "      <td>Sully Prudhomme</td>\n",
       "      <td>1839-03-16</td>\n",
       "      <td>Paris</td>\n",
       "      <td>France</td>\n",
       "      <td>Male</td>\n",
       "      <td>NaN</td>\n",
       "      <td>NaN</td>\n",
       "      <td>NaN</td>\n",
       "      <td>1907-09-07</td>\n",
       "      <td>Châtenay</td>\n",
       "      <td>France</td>\n",
       "    </tr>\n",
       "    <tr>\n",
       "      <th>2</th>\n",
       "      <td>1901</td>\n",
       "      <td>Medicine</td>\n",
       "      <td>The Nobel Prize in Physiology or Medicine 1901</td>\n",
       "      <td>\"for his work on serum therapy, especially its...</td>\n",
       "      <td>1/1</td>\n",
       "      <td>293</td>\n",
       "      <td>Individual</td>\n",
       "      <td>Emil Adolf von Behring</td>\n",
       "      <td>1854-03-15</td>\n",
       "      <td>Hansdorf (Lawice)</td>\n",
       "      <td>Prussia (Poland)</td>\n",
       "      <td>Male</td>\n",
       "      <td>Marburg University</td>\n",
       "      <td>Marburg</td>\n",
       "      <td>Germany</td>\n",
       "      <td>1917-03-31</td>\n",
       "      <td>Marburg</td>\n",
       "      <td>Germany</td>\n",
       "    </tr>\n",
       "    <tr>\n",
       "      <th>3</th>\n",
       "      <td>1901</td>\n",
       "      <td>Peace</td>\n",
       "      <td>The Nobel Peace Prize 1901</td>\n",
       "      <td>NaN</td>\n",
       "      <td>1/2</td>\n",
       "      <td>462</td>\n",
       "      <td>Individual</td>\n",
       "      <td>Jean Henry Dunant</td>\n",
       "      <td>1828-05-08</td>\n",
       "      <td>Geneva</td>\n",
       "      <td>Switzerland</td>\n",
       "      <td>Male</td>\n",
       "      <td>NaN</td>\n",
       "      <td>NaN</td>\n",
       "      <td>NaN</td>\n",
       "      <td>1910-10-30</td>\n",
       "      <td>Heiden</td>\n",
       "      <td>Switzerland</td>\n",
       "    </tr>\n",
       "    <tr>\n",
       "      <th>4</th>\n",
       "      <td>1901</td>\n",
       "      <td>Peace</td>\n",
       "      <td>The Nobel Peace Prize 1901</td>\n",
       "      <td>NaN</td>\n",
       "      <td>1/2</td>\n",
       "      <td>463</td>\n",
       "      <td>Individual</td>\n",
       "      <td>Frédéric Passy</td>\n",
       "      <td>1822-05-20</td>\n",
       "      <td>Paris</td>\n",
       "      <td>France</td>\n",
       "      <td>Male</td>\n",
       "      <td>NaN</td>\n",
       "      <td>NaN</td>\n",
       "      <td>NaN</td>\n",
       "      <td>1912-06-12</td>\n",
       "      <td>Paris</td>\n",
       "      <td>France</td>\n",
       "    </tr>\n",
       "  </tbody>\n",
       "</table>\n",
       "</div>"
      ],
      "text/plain": [
       "   year    category                                           prize  \\\n",
       "0  1901   Chemistry               The Nobel Prize in Chemistry 1901   \n",
       "1  1901  Literature              The Nobel Prize in Literature 1901   \n",
       "2  1901    Medicine  The Nobel Prize in Physiology or Medicine 1901   \n",
       "3  1901       Peace                      The Nobel Peace Prize 1901   \n",
       "4  1901       Peace                      The Nobel Peace Prize 1901   \n",
       "\n",
       "                                          motivation prize_share  laureate_id  \\\n",
       "0  \"in recognition of the extraordinary services ...         1/1          160   \n",
       "1  \"in special recognition of his poetic composit...         1/1          569   \n",
       "2  \"for his work on serum therapy, especially its...         1/1          293   \n",
       "3                                                NaN         1/2          462   \n",
       "4                                                NaN         1/2          463   \n",
       "\n",
       "  laureate_type                     full_name  birth_date         birth_city  \\\n",
       "0    Individual  Jacobus Henricus van 't Hoff  1852-08-30          Rotterdam   \n",
       "1    Individual               Sully Prudhomme  1839-03-16              Paris   \n",
       "2    Individual        Emil Adolf von Behring  1854-03-15  Hansdorf (Lawice)   \n",
       "3    Individual             Jean Henry Dunant  1828-05-08             Geneva   \n",
       "4    Individual                Frédéric Passy  1822-05-20              Paris   \n",
       "\n",
       "      birth_country   sex   organization_name organization_city  \\\n",
       "0       Netherlands  Male   Berlin University            Berlin   \n",
       "1            France  Male                 NaN               NaN   \n",
       "2  Prussia (Poland)  Male  Marburg University           Marburg   \n",
       "3       Switzerland  Male                 NaN               NaN   \n",
       "4            France  Male                 NaN               NaN   \n",
       "\n",
       "  organization_country  death_date death_city death_country  \n",
       "0              Germany  1911-03-01     Berlin       Germany  \n",
       "1                  NaN  1907-09-07   Châtenay        France  \n",
       "2              Germany  1917-03-31    Marburg       Germany  \n",
       "3                  NaN  1910-10-30     Heiden   Switzerland  \n",
       "4                  NaN  1912-06-12      Paris        France  "
      ]
     },
     "execution_count": 16,
     "metadata": {},
     "output_type": "execute_result"
    }
   ],
   "source": [
    "df.head()"
   ]
  },
  {
   "cell_type": "code",
   "execution_count": 17,
   "metadata": {},
   "outputs": [
    {
     "data": {
      "text/html": [
       "<div>\n",
       "<style scoped>\n",
       "    .dataframe tbody tr th:only-of-type {\n",
       "        vertical-align: middle;\n",
       "    }\n",
       "\n",
       "    .dataframe tbody tr th {\n",
       "        vertical-align: top;\n",
       "    }\n",
       "\n",
       "    .dataframe thead th {\n",
       "        text-align: right;\n",
       "    }\n",
       "</style>\n",
       "<table border=\"1\" class=\"dataframe\">\n",
       "  <thead>\n",
       "    <tr style=\"text-align: right;\">\n",
       "      <th></th>\n",
       "      <th>year</th>\n",
       "      <th>category</th>\n",
       "      <th>prize</th>\n",
       "      <th>motivation</th>\n",
       "      <th>prize_share</th>\n",
       "      <th>laureate_id</th>\n",
       "      <th>laureate_type</th>\n",
       "      <th>full_name</th>\n",
       "      <th>birth_date</th>\n",
       "      <th>birth_city</th>\n",
       "      <th>birth_country</th>\n",
       "      <th>sex</th>\n",
       "      <th>organization_name</th>\n",
       "      <th>organization_city</th>\n",
       "      <th>organization_country</th>\n",
       "      <th>death_date</th>\n",
       "      <th>death_city</th>\n",
       "      <th>death_country</th>\n",
       "    </tr>\n",
       "  </thead>\n",
       "  <tbody>\n",
       "    <tr>\n",
       "      <th>0</th>\n",
       "      <td>1901</td>\n",
       "      <td>Chemistry</td>\n",
       "      <td>The Nobel Prize in Chemistry 1901</td>\n",
       "      <td>\"in recognition of the extraordinary services ...</td>\n",
       "      <td>1/1</td>\n",
       "      <td>160</td>\n",
       "      <td>Individual</td>\n",
       "      <td>Jacobus Henricus van 't Hoff</td>\n",
       "      <td>1852-08-30</td>\n",
       "      <td>Rotterdam</td>\n",
       "      <td>Netherlands</td>\n",
       "      <td>Male</td>\n",
       "      <td>Berlin University</td>\n",
       "      <td>Berlin</td>\n",
       "      <td>Germany</td>\n",
       "      <td>1911-03-01</td>\n",
       "      <td>Berlin</td>\n",
       "      <td>Germany</td>\n",
       "    </tr>\n",
       "    <tr>\n",
       "      <th>1</th>\n",
       "      <td>1901</td>\n",
       "      <td>Literature</td>\n",
       "      <td>The Nobel Prize in Literature 1901</td>\n",
       "      <td>\"in special recognition of his poetic composit...</td>\n",
       "      <td>1/1</td>\n",
       "      <td>569</td>\n",
       "      <td>Individual</td>\n",
       "      <td>Sully Prudhomme</td>\n",
       "      <td>1839-03-16</td>\n",
       "      <td>Paris</td>\n",
       "      <td>France</td>\n",
       "      <td>Male</td>\n",
       "      <td>NaN</td>\n",
       "      <td>NaN</td>\n",
       "      <td>NaN</td>\n",
       "      <td>1907-09-07</td>\n",
       "      <td>Châtenay</td>\n",
       "      <td>France</td>\n",
       "    </tr>\n",
       "    <tr>\n",
       "      <th>2</th>\n",
       "      <td>1901</td>\n",
       "      <td>Medicine</td>\n",
       "      <td>The Nobel Prize in Physiology or Medicine 1901</td>\n",
       "      <td>\"for his work on serum therapy, especially its...</td>\n",
       "      <td>1/1</td>\n",
       "      <td>293</td>\n",
       "      <td>Individual</td>\n",
       "      <td>Emil Adolf von Behring</td>\n",
       "      <td>1854-03-15</td>\n",
       "      <td>Hansdorf (Lawice)</td>\n",
       "      <td>Prussia (Poland)</td>\n",
       "      <td>Male</td>\n",
       "      <td>Marburg University</td>\n",
       "      <td>Marburg</td>\n",
       "      <td>Germany</td>\n",
       "      <td>1917-03-31</td>\n",
       "      <td>Marburg</td>\n",
       "      <td>Germany</td>\n",
       "    </tr>\n",
       "    <tr>\n",
       "      <th>3</th>\n",
       "      <td>1901</td>\n",
       "      <td>Peace</td>\n",
       "      <td>The Nobel Peace Prize 1901</td>\n",
       "      <td>NaN</td>\n",
       "      <td>1/2</td>\n",
       "      <td>462</td>\n",
       "      <td>Individual</td>\n",
       "      <td>Jean Henry Dunant</td>\n",
       "      <td>1828-05-08</td>\n",
       "      <td>Geneva</td>\n",
       "      <td>Switzerland</td>\n",
       "      <td>Male</td>\n",
       "      <td>NaN</td>\n",
       "      <td>NaN</td>\n",
       "      <td>NaN</td>\n",
       "      <td>1910-10-30</td>\n",
       "      <td>Heiden</td>\n",
       "      <td>Switzerland</td>\n",
       "    </tr>\n",
       "    <tr>\n",
       "      <th>4</th>\n",
       "      <td>1901</td>\n",
       "      <td>Peace</td>\n",
       "      <td>The Nobel Peace Prize 1901</td>\n",
       "      <td>NaN</td>\n",
       "      <td>1/2</td>\n",
       "      <td>463</td>\n",
       "      <td>Individual</td>\n",
       "      <td>Frédéric Passy</td>\n",
       "      <td>1822-05-20</td>\n",
       "      <td>Paris</td>\n",
       "      <td>France</td>\n",
       "      <td>Male</td>\n",
       "      <td>NaN</td>\n",
       "      <td>NaN</td>\n",
       "      <td>NaN</td>\n",
       "      <td>1912-06-12</td>\n",
       "      <td>Paris</td>\n",
       "      <td>France</td>\n",
       "    </tr>\n",
       "    <tr>\n",
       "      <th>5</th>\n",
       "      <td>1901</td>\n",
       "      <td>Physics</td>\n",
       "      <td>The Nobel Prize in Physics 1901</td>\n",
       "      <td>\"in recognition of the extraordinary services ...</td>\n",
       "      <td>1/1</td>\n",
       "      <td>1</td>\n",
       "      <td>Individual</td>\n",
       "      <td>Wilhelm Conrad Röntgen</td>\n",
       "      <td>1845-03-27</td>\n",
       "      <td>Lennep (Remscheid)</td>\n",
       "      <td>Prussia (Germany)</td>\n",
       "      <td>Male</td>\n",
       "      <td>Munich University</td>\n",
       "      <td>Munich</td>\n",
       "      <td>Germany</td>\n",
       "      <td>1923-02-10</td>\n",
       "      <td>Munich</td>\n",
       "      <td>Germany</td>\n",
       "    </tr>\n",
       "    <tr>\n",
       "      <th>6</th>\n",
       "      <td>1902</td>\n",
       "      <td>Chemistry</td>\n",
       "      <td>The Nobel Prize in Chemistry 1902</td>\n",
       "      <td>\"in recognition of the extraordinary services ...</td>\n",
       "      <td>1/1</td>\n",
       "      <td>161</td>\n",
       "      <td>Individual</td>\n",
       "      <td>Hermann Emil Fischer</td>\n",
       "      <td>1852-10-09</td>\n",
       "      <td>Euskirchen</td>\n",
       "      <td>Prussia (Germany)</td>\n",
       "      <td>Male</td>\n",
       "      <td>Berlin University</td>\n",
       "      <td>Berlin</td>\n",
       "      <td>Germany</td>\n",
       "      <td>1919-07-15</td>\n",
       "      <td>Berlin</td>\n",
       "      <td>Germany</td>\n",
       "    </tr>\n",
       "    <tr>\n",
       "      <th>7</th>\n",
       "      <td>1902</td>\n",
       "      <td>Literature</td>\n",
       "      <td>The Nobel Prize in Literature 1902</td>\n",
       "      <td>\"the greatest living master of the art of hist...</td>\n",
       "      <td>1/1</td>\n",
       "      <td>571</td>\n",
       "      <td>Individual</td>\n",
       "      <td>Christian Matthias Theodor Mommsen</td>\n",
       "      <td>1817-11-30</td>\n",
       "      <td>Garding</td>\n",
       "      <td>Schleswig (Germany)</td>\n",
       "      <td>Male</td>\n",
       "      <td>NaN</td>\n",
       "      <td>NaN</td>\n",
       "      <td>NaN</td>\n",
       "      <td>1903-11-01</td>\n",
       "      <td>Charlottenburg</td>\n",
       "      <td>Germany</td>\n",
       "    </tr>\n",
       "  </tbody>\n",
       "</table>\n",
       "</div>"
      ],
      "text/plain": [
       "   year    category                                           prize  \\\n",
       "0  1901   Chemistry               The Nobel Prize in Chemistry 1901   \n",
       "1  1901  Literature              The Nobel Prize in Literature 1901   \n",
       "2  1901    Medicine  The Nobel Prize in Physiology or Medicine 1901   \n",
       "3  1901       Peace                      The Nobel Peace Prize 1901   \n",
       "4  1901       Peace                      The Nobel Peace Prize 1901   \n",
       "5  1901     Physics                 The Nobel Prize in Physics 1901   \n",
       "6  1902   Chemistry               The Nobel Prize in Chemistry 1902   \n",
       "7  1902  Literature              The Nobel Prize in Literature 1902   \n",
       "\n",
       "                                          motivation prize_share  laureate_id  \\\n",
       "0  \"in recognition of the extraordinary services ...         1/1          160   \n",
       "1  \"in special recognition of his poetic composit...         1/1          569   \n",
       "2  \"for his work on serum therapy, especially its...         1/1          293   \n",
       "3                                                NaN         1/2          462   \n",
       "4                                                NaN         1/2          463   \n",
       "5  \"in recognition of the extraordinary services ...         1/1            1   \n",
       "6  \"in recognition of the extraordinary services ...         1/1          161   \n",
       "7  \"the greatest living master of the art of hist...         1/1          571   \n",
       "\n",
       "  laureate_type                           full_name  birth_date  \\\n",
       "0    Individual        Jacobus Henricus van 't Hoff  1852-08-30   \n",
       "1    Individual                     Sully Prudhomme  1839-03-16   \n",
       "2    Individual              Emil Adolf von Behring  1854-03-15   \n",
       "3    Individual                   Jean Henry Dunant  1828-05-08   \n",
       "4    Individual                      Frédéric Passy  1822-05-20   \n",
       "5    Individual              Wilhelm Conrad Röntgen  1845-03-27   \n",
       "6    Individual                Hermann Emil Fischer  1852-10-09   \n",
       "7    Individual  Christian Matthias Theodor Mommsen  1817-11-30   \n",
       "\n",
       "           birth_city        birth_country   sex   organization_name  \\\n",
       "0           Rotterdam          Netherlands  Male   Berlin University   \n",
       "1               Paris               France  Male                 NaN   \n",
       "2   Hansdorf (Lawice)     Prussia (Poland)  Male  Marburg University   \n",
       "3              Geneva          Switzerland  Male                 NaN   \n",
       "4               Paris               France  Male                 NaN   \n",
       "5  Lennep (Remscheid)    Prussia (Germany)  Male   Munich University   \n",
       "6          Euskirchen    Prussia (Germany)  Male   Berlin University   \n",
       "7             Garding  Schleswig (Germany)  Male                 NaN   \n",
       "\n",
       "  organization_city organization_country  death_date      death_city  \\\n",
       "0            Berlin              Germany  1911-03-01          Berlin   \n",
       "1               NaN                  NaN  1907-09-07        Châtenay   \n",
       "2           Marburg              Germany  1917-03-31         Marburg   \n",
       "3               NaN                  NaN  1910-10-30          Heiden   \n",
       "4               NaN                  NaN  1912-06-12           Paris   \n",
       "5            Munich              Germany  1923-02-10          Munich   \n",
       "6            Berlin              Germany  1919-07-15          Berlin   \n",
       "7               NaN                  NaN  1903-11-01  Charlottenburg   \n",
       "\n",
       "  death_country  \n",
       "0       Germany  \n",
       "1        France  \n",
       "2       Germany  \n",
       "3   Switzerland  \n",
       "4        France  \n",
       "5       Germany  \n",
       "6       Germany  \n",
       "7       Germany  "
      ]
     },
     "execution_count": 17,
     "metadata": {},
     "output_type": "execute_result"
    }
   ],
   "source": [
    "df.head(8)"
   ]
  },
  {
   "cell_type": "markdown",
   "metadata": {},
   "source": [
    "Pobierz listę nazw kolumn:"
   ]
  },
  {
   "cell_type": "code",
   "execution_count": 18,
   "metadata": {},
   "outputs": [
    {
     "data": {
      "text/plain": [
       "Index(['year', 'category', 'prize', 'motivation', 'prize_share', 'laureate_id',\n",
       "       'laureate_type', 'full_name', 'birth_date', 'birth_city',\n",
       "       'birth_country', 'sex', 'organization_name', 'organization_city',\n",
       "       'organization_country', 'death_date', 'death_city', 'death_country'],\n",
       "      dtype='object')"
      ]
     },
     "execution_count": 18,
     "metadata": {},
     "output_type": "execute_result"
    }
   ],
   "source": [
    "df.columns"
   ]
  },
  {
   "cell_type": "markdown",
   "metadata": {},
   "source": [
    "Wyświetl typy danych kolumn:"
   ]
  },
  {
   "cell_type": "code",
   "execution_count": 19,
   "metadata": {},
   "outputs": [
    {
     "data": {
      "text/plain": [
       "year                     int64\n",
       "category                object\n",
       "prize                   object\n",
       "motivation              object\n",
       "prize_share             object\n",
       "laureate_id              int64\n",
       "laureate_type           object\n",
       "full_name               object\n",
       "birth_date              object\n",
       "birth_city              object\n",
       "birth_country           object\n",
       "sex                     object\n",
       "organization_name       object\n",
       "organization_city       object\n",
       "organization_country    object\n",
       "death_date              object\n",
       "death_city              object\n",
       "death_country           object\n",
       "dtype: object"
      ]
     },
     "execution_count": 19,
     "metadata": {},
     "output_type": "execute_result"
    }
   ],
   "source": [
    "df.dtypes"
   ]
  },
  {
   "cell_type": "markdown",
   "metadata": {},
   "source": [
    "# Ćwiczenie 4: Selekcja danych i metoda .loc"
   ]
  },
  {
   "cell_type": "markdown",
   "metadata": {},
   "source": [
    "Jak widzieliśmy wcześniej, wybieranie danych, oddzielanie zmiennych oraz przeglądanie interesujących kolumn i wierszy jest fundamentalne dla procesu analizy. Powiedzmy, że chcemy przeanalizować promieniowanie z I-131 w stan Minnesota:"
   ]
  },
  {
   "cell_type": "markdown",
   "metadata": {},
   "source": [
    "1. Zaimportuj biblioteki NumPy i Pandas, używając następującego polecenia w notatniku Jupyter"
   ]
  },
  {
   "cell_type": "code",
   "execution_count": 20,
   "metadata": {},
   "outputs": [],
   "source": [
    "import numpy as np\n",
    "import pandas as pd"
   ]
  },
  {
   "cell_type": "markdown",
   "metadata": {},
   "source": [
    "2. Przeczytaj zbiór danych RadNet z EPA (Amerykańskiej Agencji Ochrony Środowiska), dostępny pod adresem projekt Socrata z pliku: RadNet_Laboratory_Analytics.csv"
   ]
  },
  {
   "cell_type": "code",
   "execution_count": 21,
   "metadata": {},
   "outputs": [],
   "source": [
    "df = pd.read_csv('RadNet_Laboratory_Analysis.csv')"
   ]
  },
  {
   "cell_type": "markdown",
   "metadata": {},
   "source": [
    "3. Zacznij od wybrania kolumny przy użyciu notacji ['<nazwa kolumny>']. Użyj kolumny Stan:"
   ]
  },
  {
   "cell_type": "code",
   "execution_count": 22,
   "metadata": {},
   "outputs": [
    {
     "data": {
      "text/plain": [
       "0    ID\n",
       "1    ID\n",
       "2    AK\n",
       "3    AK\n",
       "4    AK\n",
       "Name: State, dtype: object"
      ]
     },
     "execution_count": 22,
     "metadata": {},
     "output_type": "execute_result"
    }
   ],
   "source": [
    "df['State'].head()"
   ]
  },
  {
   "cell_type": "markdown",
   "metadata": {},
   "source": [
    "4. Teraz przefiltruj wybrane wartości w kolumnie, używając nazwy kolumny MN"
   ]
  },
  {
   "cell_type": "code",
   "execution_count": 23,
   "metadata": {},
   "outputs": [
    {
     "data": {
      "text/html": [
       "<div>\n",
       "<style scoped>\n",
       "    .dataframe tbody tr th:only-of-type {\n",
       "        vertical-align: middle;\n",
       "    }\n",
       "\n",
       "    .dataframe tbody tr th {\n",
       "        vertical-align: top;\n",
       "    }\n",
       "\n",
       "    .dataframe thead th {\n",
       "        text-align: right;\n",
       "    }\n",
       "</style>\n",
       "<table border=\"1\" class=\"dataframe\">\n",
       "  <thead>\n",
       "    <tr style=\"text-align: right;\">\n",
       "      <th></th>\n",
       "      <th>State</th>\n",
       "      <th>Location</th>\n",
       "      <th>Date Posted</th>\n",
       "      <th>Date Collected</th>\n",
       "      <th>Sample Type</th>\n",
       "      <th>Unit</th>\n",
       "      <th>Ba-140</th>\n",
       "      <th>Co-60</th>\n",
       "      <th>Cs-134</th>\n",
       "      <th>Cs-136</th>\n",
       "      <th>Cs-137</th>\n",
       "      <th>I-131</th>\n",
       "      <th>I-132</th>\n",
       "      <th>I-133</th>\n",
       "      <th>Te-129</th>\n",
       "      <th>Te-129m</th>\n",
       "      <th>Te-132</th>\n",
       "    </tr>\n",
       "  </thead>\n",
       "  <tbody>\n",
       "    <tr>\n",
       "      <th>367</th>\n",
       "      <td>MN</td>\n",
       "      <td>St. Paul</td>\n",
       "      <td>04/08/2011</td>\n",
       "      <td>03/28/2011</td>\n",
       "      <td>Drinking Water</td>\n",
       "      <td>pCi/l</td>\n",
       "      <td>Non-detect</td>\n",
       "      <td>Non-detect</td>\n",
       "      <td>Non-detect</td>\n",
       "      <td>Non-detect</td>\n",
       "      <td>Non-detect</td>\n",
       "      <td>Non-detect</td>\n",
       "      <td>Non-detect</td>\n",
       "      <td>Non-detect</td>\n",
       "      <td>Non-detect</td>\n",
       "      <td>Non-detect</td>\n",
       "      <td>Non-detect</td>\n",
       "    </tr>\n",
       "    <tr>\n",
       "      <th>368</th>\n",
       "      <td>MN</td>\n",
       "      <td>St. Paul</td>\n",
       "      <td>04/22/2011</td>\n",
       "      <td>04/13/2011</td>\n",
       "      <td>Drinking Water</td>\n",
       "      <td>pCi/l</td>\n",
       "      <td>Non-detect</td>\n",
       "      <td>Non-detect</td>\n",
       "      <td>Non-detect</td>\n",
       "      <td>Non-detect</td>\n",
       "      <td>Non-detect</td>\n",
       "      <td>0.16</td>\n",
       "      <td>Non-detect</td>\n",
       "      <td>Non-detect</td>\n",
       "      <td>Non-detect</td>\n",
       "      <td>Non-detect</td>\n",
       "      <td>Non-detect</td>\n",
       "    </tr>\n",
       "    <tr>\n",
       "      <th>380</th>\n",
       "      <td>MN</td>\n",
       "      <td>Welch</td>\n",
       "      <td>04/08/2011</td>\n",
       "      <td>03/29/2011</td>\n",
       "      <td>Drinking Water</td>\n",
       "      <td>pCi/l</td>\n",
       "      <td>Non-detect</td>\n",
       "      <td>Non-detect</td>\n",
       "      <td>Non-detect</td>\n",
       "      <td>Non-detect</td>\n",
       "      <td>Non-detect</td>\n",
       "      <td>Non-detect</td>\n",
       "      <td>Non-detect</td>\n",
       "      <td>Non-detect</td>\n",
       "      <td>Non-detect</td>\n",
       "      <td>Non-detect</td>\n",
       "      <td>Non-detect</td>\n",
       "    </tr>\n",
       "    <tr>\n",
       "      <th>381</th>\n",
       "      <td>MN</td>\n",
       "      <td>Welch</td>\n",
       "      <td>06/01/2011</td>\n",
       "      <td>04/14/2011</td>\n",
       "      <td>Drinking Water</td>\n",
       "      <td>pCi/l</td>\n",
       "      <td>Non-detect</td>\n",
       "      <td>Non-detect</td>\n",
       "      <td>Non-detect</td>\n",
       "      <td>Non-detect</td>\n",
       "      <td>Non-detect</td>\n",
       "      <td>Non-detect</td>\n",
       "      <td>Non-detect</td>\n",
       "      <td>Non-detect</td>\n",
       "      <td>Non-detect</td>\n",
       "      <td>Non-detect</td>\n",
       "      <td>Non-detect</td>\n",
       "    </tr>\n",
       "    <tr>\n",
       "      <th>555</th>\n",
       "      <td>MN</td>\n",
       "      <td>St. Paul</td>\n",
       "      <td>04/04/2011</td>\n",
       "      <td>03/22/2011</td>\n",
       "      <td>Precipitation</td>\n",
       "      <td>pCi/l</td>\n",
       "      <td>Non-detect</td>\n",
       "      <td>Non-detect</td>\n",
       "      <td>Non-detect</td>\n",
       "      <td>NaN</td>\n",
       "      <td>Non-detect</td>\n",
       "      <td>32.3</td>\n",
       "      <td>Non-detect</td>\n",
       "      <td>Non-detect</td>\n",
       "      <td>NaN</td>\n",
       "      <td>NaN</td>\n",
       "      <td>Non-detect</td>\n",
       "    </tr>\n",
       "    <tr>\n",
       "      <th>556</th>\n",
       "      <td>MN</td>\n",
       "      <td>St. Paul</td>\n",
       "      <td>04/10/2011</td>\n",
       "      <td>03/29/2011</td>\n",
       "      <td>Precipitation</td>\n",
       "      <td>pCi/l</td>\n",
       "      <td>Non-detect</td>\n",
       "      <td>Non-detect</td>\n",
       "      <td>Non-detect</td>\n",
       "      <td>Non-detect</td>\n",
       "      <td>Non-detect</td>\n",
       "      <td>16</td>\n",
       "      <td>Non-detect</td>\n",
       "      <td>Non-detect</td>\n",
       "      <td>Non-detect</td>\n",
       "      <td>Non-detect</td>\n",
       "      <td>Non-detect</td>\n",
       "    </tr>\n",
       "    <tr>\n",
       "      <th>557</th>\n",
       "      <td>MN</td>\n",
       "      <td>Welch</td>\n",
       "      <td>04/04/2011</td>\n",
       "      <td>03/17/2011</td>\n",
       "      <td>Precipitation</td>\n",
       "      <td>pCi/l</td>\n",
       "      <td>Non-detect</td>\n",
       "      <td>Non-detect</td>\n",
       "      <td>Non-detect</td>\n",
       "      <td>NaN</td>\n",
       "      <td>Non-detect</td>\n",
       "      <td>Non-detect</td>\n",
       "      <td>Non-detect</td>\n",
       "      <td>Non-detect</td>\n",
       "      <td>NaN</td>\n",
       "      <td>NaN</td>\n",
       "      <td>Non-detect</td>\n",
       "    </tr>\n",
       "    <tr>\n",
       "      <th>558</th>\n",
       "      <td>MN</td>\n",
       "      <td>Welch/510</td>\n",
       "      <td>04/13/2011</td>\n",
       "      <td>04/04/2011</td>\n",
       "      <td>Precipitation</td>\n",
       "      <td>pCi/l</td>\n",
       "      <td>Non-detect</td>\n",
       "      <td>Non-detect</td>\n",
       "      <td>Non-detect</td>\n",
       "      <td>Non-detect</td>\n",
       "      <td>Non-detect</td>\n",
       "      <td>9.1</td>\n",
       "      <td>Non-detect</td>\n",
       "      <td>Non-detect</td>\n",
       "      <td>Non-detect</td>\n",
       "      <td>Non-detect</td>\n",
       "      <td>Non-detect</td>\n",
       "    </tr>\n",
       "  </tbody>\n",
       "</table>\n",
       "</div>"
      ],
      "text/plain": [
       "    State   Location Date Posted Date Collected     Sample Type   Unit  \\\n",
       "367    MN   St. Paul  04/08/2011     03/28/2011  Drinking Water  pCi/l   \n",
       "368    MN   St. Paul  04/22/2011     04/13/2011  Drinking Water  pCi/l   \n",
       "380    MN      Welch  04/08/2011     03/29/2011  Drinking Water  pCi/l   \n",
       "381    MN      Welch  06/01/2011     04/14/2011  Drinking Water  pCi/l   \n",
       "555    MN   St. Paul  04/04/2011     03/22/2011   Precipitation  pCi/l   \n",
       "556    MN   St. Paul  04/10/2011     03/29/2011   Precipitation  pCi/l   \n",
       "557    MN      Welch  04/04/2011     03/17/2011   Precipitation  pCi/l   \n",
       "558    MN  Welch/510  04/13/2011     04/04/2011   Precipitation  pCi/l   \n",
       "\n",
       "         Ba-140       Co-60      Cs-134      Cs-136      Cs-137       I-131  \\\n",
       "367  Non-detect  Non-detect  Non-detect  Non-detect  Non-detect  Non-detect   \n",
       "368  Non-detect  Non-detect  Non-detect  Non-detect  Non-detect        0.16   \n",
       "380  Non-detect  Non-detect  Non-detect  Non-detect  Non-detect  Non-detect   \n",
       "381  Non-detect  Non-detect  Non-detect  Non-detect  Non-detect  Non-detect   \n",
       "555  Non-detect  Non-detect  Non-detect         NaN  Non-detect        32.3   \n",
       "556  Non-detect  Non-detect  Non-detect  Non-detect  Non-detect          16   \n",
       "557  Non-detect  Non-detect  Non-detect         NaN  Non-detect  Non-detect   \n",
       "558  Non-detect  Non-detect  Non-detect  Non-detect  Non-detect         9.1   \n",
       "\n",
       "          I-132       I-133      Te-129     Te-129m      Te-132  \n",
       "367  Non-detect  Non-detect  Non-detect  Non-detect  Non-detect  \n",
       "368  Non-detect  Non-detect  Non-detect  Non-detect  Non-detect  \n",
       "380  Non-detect  Non-detect  Non-detect  Non-detect  Non-detect  \n",
       "381  Non-detect  Non-detect  Non-detect  Non-detect  Non-detect  \n",
       "555  Non-detect  Non-detect         NaN         NaN  Non-detect  \n",
       "556  Non-detect  Non-detect  Non-detect  Non-detect  Non-detect  \n",
       "557  Non-detect  Non-detect         NaN         NaN  Non-detect  \n",
       "558  Non-detect  Non-detect  Non-detect  Non-detect  Non-detect  "
      ]
     },
     "execution_count": 23,
     "metadata": {},
     "output_type": "execute_result"
    }
   ],
   "source": [
    "df[df.State == \"MN\"]"
   ]
  },
  {
   "cell_type": "markdown",
   "metadata": {},
   "source": [
    "5. Wybierz więcej niż jedną kolumnę na warunek. Dodaj kolumnę Typ próbki do filtrowania:"
   ]
  },
  {
   "cell_type": "code",
   "execution_count": 24,
   "metadata": {},
   "outputs": [
    {
     "data": {
      "text/html": [
       "<div>\n",
       "<style scoped>\n",
       "    .dataframe tbody tr th:only-of-type {\n",
       "        vertical-align: middle;\n",
       "    }\n",
       "\n",
       "    .dataframe tbody tr th {\n",
       "        vertical-align: top;\n",
       "    }\n",
       "\n",
       "    .dataframe thead th {\n",
       "        text-align: right;\n",
       "    }\n",
       "</style>\n",
       "<table border=\"1\" class=\"dataframe\">\n",
       "  <thead>\n",
       "    <tr style=\"text-align: right;\">\n",
       "      <th></th>\n",
       "      <th>State</th>\n",
       "      <th>Location</th>\n",
       "      <th>Date Posted</th>\n",
       "      <th>Date Collected</th>\n",
       "      <th>Sample Type</th>\n",
       "      <th>Unit</th>\n",
       "      <th>Ba-140</th>\n",
       "      <th>Co-60</th>\n",
       "      <th>Cs-134</th>\n",
       "      <th>Cs-136</th>\n",
       "      <th>Cs-137</th>\n",
       "      <th>I-131</th>\n",
       "      <th>I-132</th>\n",
       "      <th>I-133</th>\n",
       "      <th>Te-129</th>\n",
       "      <th>Te-129m</th>\n",
       "      <th>Te-132</th>\n",
       "    </tr>\n",
       "  </thead>\n",
       "  <tbody>\n",
       "    <tr>\n",
       "      <th>305</th>\n",
       "      <td>CA</td>\n",
       "      <td>Los Angeles</td>\n",
       "      <td>04/10/2011</td>\n",
       "      <td>04/04/2011</td>\n",
       "      <td>Drinking Water</td>\n",
       "      <td>pCi/l</td>\n",
       "      <td>Non-detect</td>\n",
       "      <td>Non-detect</td>\n",
       "      <td>Non-detect</td>\n",
       "      <td>Non-detect</td>\n",
       "      <td>Non-detect</td>\n",
       "      <td>0.39</td>\n",
       "      <td>Non-detect</td>\n",
       "      <td>Non-detect</td>\n",
       "      <td>Non-detect</td>\n",
       "      <td>Non-detect</td>\n",
       "      <td>Non-detect</td>\n",
       "    </tr>\n",
       "    <tr>\n",
       "      <th>306</th>\n",
       "      <td>CA</td>\n",
       "      <td>Los Angeles</td>\n",
       "      <td>06/01/2011</td>\n",
       "      <td>04/12/2011</td>\n",
       "      <td>Drinking Water</td>\n",
       "      <td>pCi/l</td>\n",
       "      <td>Non-detect</td>\n",
       "      <td>Non-detect</td>\n",
       "      <td>Non-detect</td>\n",
       "      <td>Non-detect</td>\n",
       "      <td>Non-detect</td>\n",
       "      <td>0.18</td>\n",
       "      <td>Non-detect</td>\n",
       "      <td>Non-detect</td>\n",
       "      <td>Non-detect</td>\n",
       "      <td>Non-detect</td>\n",
       "      <td>Non-detect</td>\n",
       "    </tr>\n",
       "    <tr>\n",
       "      <th>356</th>\n",
       "      <td>CA</td>\n",
       "      <td>Richmond</td>\n",
       "      <td>04/09/2011</td>\n",
       "      <td>03/29/2011</td>\n",
       "      <td>Drinking Water</td>\n",
       "      <td>pCi/l</td>\n",
       "      <td>Non-detect</td>\n",
       "      <td>Non-detect</td>\n",
       "      <td>Non-detect</td>\n",
       "      <td>Non-detect</td>\n",
       "      <td>Non-detect</td>\n",
       "      <td>Non-detect</td>\n",
       "      <td>Non-detect</td>\n",
       "      <td>Non-detect</td>\n",
       "      <td>Non-detect</td>\n",
       "      <td>Non-detect</td>\n",
       "      <td>Non-detect</td>\n",
       "    </tr>\n",
       "    <tr>\n",
       "      <th>357</th>\n",
       "      <td>CA</td>\n",
       "      <td>Richmond</td>\n",
       "      <td>06/01/2011</td>\n",
       "      <td>04/13/2011</td>\n",
       "      <td>Drinking Water</td>\n",
       "      <td>pCi/l</td>\n",
       "      <td>Non-detect</td>\n",
       "      <td>Non-detect</td>\n",
       "      <td>Non-detect</td>\n",
       "      <td>Non-detect</td>\n",
       "      <td>Non-detect</td>\n",
       "      <td>Non-detect</td>\n",
       "      <td>Non-detect</td>\n",
       "      <td>Non-detect</td>\n",
       "      <td>Non-detect</td>\n",
       "      <td>Non-detect</td>\n",
       "      <td>Non-detect</td>\n",
       "    </tr>\n",
       "  </tbody>\n",
       "</table>\n",
       "</div>"
      ],
      "text/plain": [
       "    State      Location Date Posted Date Collected     Sample Type   Unit  \\\n",
       "305    CA   Los Angeles  04/10/2011     04/04/2011  Drinking Water  pCi/l   \n",
       "306    CA  Los Angeles   06/01/2011     04/12/2011  Drinking Water  pCi/l   \n",
       "356    CA      Richmond  04/09/2011     03/29/2011  Drinking Water  pCi/l   \n",
       "357    CA      Richmond  06/01/2011     04/13/2011  Drinking Water  pCi/l   \n",
       "\n",
       "         Ba-140       Co-60      Cs-134      Cs-136      Cs-137       I-131  \\\n",
       "305  Non-detect  Non-detect  Non-detect  Non-detect  Non-detect        0.39   \n",
       "306  Non-detect  Non-detect  Non-detect  Non-detect  Non-detect        0.18   \n",
       "356  Non-detect  Non-detect  Non-detect  Non-detect  Non-detect  Non-detect   \n",
       "357  Non-detect  Non-detect  Non-detect  Non-detect  Non-detect  Non-detect   \n",
       "\n",
       "          I-132       I-133      Te-129     Te-129m      Te-132  \n",
       "305  Non-detect  Non-detect  Non-detect  Non-detect  Non-detect  \n",
       "306  Non-detect  Non-detect  Non-detect  Non-detect  Non-detect  \n",
       "356  Non-detect  Non-detect  Non-detect  Non-detect  Non-detect  \n",
       "357  Non-detect  Non-detect  Non-detect  Non-detect  Non-detect  "
      ]
     },
     "execution_count": 24,
     "metadata": {},
     "output_type": "execute_result"
    }
   ],
   "source": [
    "df[(df.State == 'CA') & (df['Sample Type'] == 'Drinking Water')]"
   ]
  },
  {
   "cell_type": "markdown",
   "metadata": {},
   "source": [
    "6. Następnie wybierz stan MN i izotop I-131:"
   ]
  },
  {
   "cell_type": "code",
   "execution_count": 25,
   "metadata": {},
   "outputs": [
    {
     "data": {
      "text/plain": [
       "367    Non-detect\n",
       "368          0.16\n",
       "380    Non-detect\n",
       "381    Non-detect\n",
       "555          32.3\n",
       "556            16\n",
       "557    Non-detect\n",
       "558           9.1\n",
       "Name: I-131, dtype: object"
      ]
     },
     "execution_count": 25,
     "metadata": {},
     "output_type": "execute_result"
    }
   ],
   "source": [
    "df[(df.State == \"MN\") ][\"I-131\"]"
   ]
  },
  {
   "cell_type": "markdown",
   "metadata": {},
   "source": [
    "7. To samo możemy zrobić łatwiej, stosując metodę .loc, filtrując według stanu i wybierając kolumnę\n",
    "w tym samym wywołaniu .loc"
   ]
  },
  {
   "cell_type": "code",
   "execution_count": 26,
   "metadata": {},
   "outputs": [
    {
     "data": {
      "text/plain": [
       "367    Non-detect\n",
       "368          0.16\n",
       "380    Non-detect\n",
       "381    Non-detect\n",
       "555          32.3\n",
       "556            16\n",
       "557    Non-detect\n",
       "558           9.1\n",
       "Name: I-131, dtype: object"
      ]
     },
     "execution_count": 26,
     "metadata": {},
     "output_type": "execute_result"
    }
   ],
   "source": [
    "df_rad=df\n",
    "df_rad.loc[df_rad.State == \"MN\", \"I-131\"]"
   ]
  },
  {
   "cell_type": "markdown",
   "metadata": {},
   "source": [
    "Notatka:\n",
    "Wynikiem filtru .loc jest seria, a nie ramka danych. To zależy od operacji i wyboru dokonanego w DataFrame, a nie, jest spowodowany tylko przez .loc . Ponieważ DataFrame może być rozumiana jako kombinacja serii 2D, wybór jednej kolumny zwróci serię. Aby zrobić zaznaczenie i nadal zwracaj DataFrame, użyj podwójnych nawiasów, np .:"
   ]
  },
  {
   "cell_type": "code",
   "execution_count": 27,
   "metadata": {},
   "outputs": [
    {
     "data": {
      "text/html": [
       "<div>\n",
       "<style scoped>\n",
       "    .dataframe tbody tr th:only-of-type {\n",
       "        vertical-align: middle;\n",
       "    }\n",
       "\n",
       "    .dataframe tbody tr th {\n",
       "        vertical-align: top;\n",
       "    }\n",
       "\n",
       "    .dataframe thead th {\n",
       "        text-align: right;\n",
       "    }\n",
       "</style>\n",
       "<table border=\"1\" class=\"dataframe\">\n",
       "  <thead>\n",
       "    <tr style=\"text-align: right;\">\n",
       "      <th></th>\n",
       "      <th>I-132</th>\n",
       "    </tr>\n",
       "  </thead>\n",
       "  <tbody>\n",
       "    <tr>\n",
       "      <th>0</th>\n",
       "      <td>Non-detect</td>\n",
       "    </tr>\n",
       "    <tr>\n",
       "      <th>1</th>\n",
       "      <td>Non-detect</td>\n",
       "    </tr>\n",
       "    <tr>\n",
       "      <th>2</th>\n",
       "      <td>Non-detect</td>\n",
       "    </tr>\n",
       "    <tr>\n",
       "      <th>3</th>\n",
       "      <td>Non-detect</td>\n",
       "    </tr>\n",
       "    <tr>\n",
       "      <th>4</th>\n",
       "      <td>Non-detect</td>\n",
       "    </tr>\n",
       "  </tbody>\n",
       "</table>\n",
       "</div>"
      ],
      "text/plain": [
       "        I-132\n",
       "0  Non-detect\n",
       "1  Non-detect\n",
       "2  Non-detect\n",
       "3  Non-detect\n",
       "4  Non-detect"
      ]
     },
     "execution_count": 27,
     "metadata": {},
     "output_type": "execute_result"
    }
   ],
   "source": [
    "df[['I-132']].head()"
   ]
  },
  {
   "cell_type": "markdown",
   "metadata": {},
   "source": [
    "Stosowanie funkcji do kolumny\n",
    "Dane nigdy nie są czyste. Zawsze istnieją zadania czyszczenia, które należy wykonać, zanim zbiór danych będzie mógł zostać przeanalizowany. Jednym z najczęstszych zadań czyszczenia danych jest zastosowanie funkcji do kolumny, zmianę wartości na bardziej adekwatną. W naszym przykładowym zbiorze danych, gdy nie było stężenia zmierzona, wstawiono wartość niewykrytą. Ponieważ ta kolumna jest kolumną liczbową, analiza jej może stać się skomplikowanym. Możemy zastosować transformację w kolumnie, zmieniając ją z niewykrywanej na numpy.NaN, co ułatwia manipulowanie wartościami liczbowymi, wypełnianie innymi wartościami, np jako średnia i tak dalej.\n",
    "Aby zastosować funkcję do więcej niż jednej kolumny, użyj metody Applymap, kierując się tą samą logiką co metoda stosowania. Na przykład inną typową operacją jest usuwanie spacji z ciągów. Ponownie, możemy użyć funkcji Apply i Applymap, aby naprawić dane. Funkcję możemy także zastosować do wierszy zamiast do kolumn, używając parametru osi (0 dla wierszy, 1 dla kolumn)"
   ]
  },
  {
   "cell_type": "markdown",
   "metadata": {},
   "source": [
    "apply() method syntax sample (for all rows):\n",
    "df – Pandas Dataframe"
   ]
  },
  {
   "cell_type": "code",
   "execution_count": null,
   "metadata": {},
   "outputs": [],
   "source": [
    "df['column_name'].apply(<lambda function>)"
   ]
  },
  {
   "cell_type": "markdown",
   "metadata": {},
   "source": [
    "applymap() method syntax sample (for all rows):"
   ]
  },
  {
   "cell_type": "code",
   "execution_count": null,
   "metadata": {},
   "outputs": [],
   "source": [
    "df.loc[:, <[list_of_column_names]>]=df.loc[:,\n",
    "[<list_of_column_names>]].applymap(<lambda function>)"
   ]
  },
  {
   "cell_type": "markdown",
   "metadata": {},
   "source": [
    "# Ćwiczenie 5: Badanie typów danych"
   ]
  },
  {
   "cell_type": "markdown",
   "metadata": {},
   "source": [
    "Przekształć typy danych w naszej przykładowej ramce DataFrame na prawidłowe typy za pomocą astype Pandas\n",
    "funkcji. Wykorzystajmy te same dane, co w poprzednich ćwiczeniach."
   ]
  },
  {
   "cell_type": "markdown",
   "metadata": {},
   "source": [
    "1. Zaimportuj wymagane biblioteki."
   ]
  },
  {
   "cell_type": "code",
   "execution_count": 29,
   "metadata": {},
   "outputs": [],
   "source": [
    "import numpy as np\n",
    "import pandas as pd\n",
    "import matplotlib.pyplot as plt"
   ]
  },
  {
   "cell_type": "markdown",
   "metadata": {},
   "source": [
    "2. Przeczytaj dane."
   ]
  },
  {
   "cell_type": "code",
   "execution_count": 30,
   "metadata": {},
   "outputs": [],
   "source": [
    "df=pd.read_csv(\"RadNet_Laboratory_Analysis.csv\")"
   ]
  },
  {
   "cell_type": "markdown",
   "metadata": {},
   "source": [
    "3. Sprawdź aktualne typy danych za pomocą funkcji dtypes w DataFrame."
   ]
  },
  {
   "cell_type": "code",
   "execution_count": 31,
   "metadata": {},
   "outputs": [
    {
     "data": {
      "text/plain": [
       "State             object\n",
       "Location          object\n",
       "Date Posted       object\n",
       "Date Collected    object\n",
       "Sample Type       object\n",
       "Unit              object\n",
       "Ba-140            object\n",
       "Co-60             object\n",
       "Cs-134            object\n",
       "Cs-136            object\n",
       "Cs-137            object\n",
       "I-131             object\n",
       "I-132             object\n",
       "I-133             object\n",
       "Te-129            object\n",
       "Te-129m           object\n",
       "Te-132            object\n",
       "dtype: object"
      ]
     },
     "execution_count": 31,
     "metadata": {},
     "output_type": "execute_result"
    }
   ],
   "source": [
    "df.dtypes"
   ]
  },
  {
   "cell_type": "markdown",
   "metadata": {},
   "source": [
    "4. Utwórz listę kolumn numerycznych"
   ]
  },
  {
   "cell_type": "code",
   "execution_count": 32,
   "metadata": {},
   "outputs": [
    {
     "data": {
      "text/plain": [
       "['Cs-136',\n",
       " 'I-133',\n",
       " 'I-132',\n",
       " 'Cs-134',\n",
       " 'Ba-140',\n",
       " 'Cs-137',\n",
       " 'Te-129',\n",
       " 'Te-132',\n",
       " 'Te-129m',\n",
       " 'Co-60',\n",
       " 'I-131']"
      ]
     },
     "execution_count": 32,
     "metadata": {},
     "output_type": "execute_result"
    }
   ],
   "source": [
    "columns = df.columns\n",
    "id_cols = ['State', 'Location', \"Date Posted\", 'Date Collected',\n",
    "'Sample Type', 'Unit']\n",
    "columns = list(set(columns)-set(id_cols))\n",
    "columns"
   ]
  },
  {
   "cell_type": "markdown",
   "metadata": {},
   "source": [
    "5. Zastosuj funkcję lambda (lub funkcję zdefiniowaną przez użytkownika) do wszystkich kolumn numerycznych, aby zastosować wartość NaN"
   ]
  },
  {
   "cell_type": "code",
   "execution_count": 33,
   "metadata": {},
   "outputs": [
    {
     "name": "stderr",
     "output_type": "stream",
     "text": [
      "/tmp/ipykernel_4427/2397957895.py:1: FutureWarning: DataFrame.applymap has been deprecated. Use DataFrame.map instead.\n",
      "  df.loc[:,columns] = df.loc[:,columns].applymap(lambda x: np.nan if\n"
     ]
    },
    {
     "data": {
      "text/html": [
       "<div>\n",
       "<style scoped>\n",
       "    .dataframe tbody tr th:only-of-type {\n",
       "        vertical-align: middle;\n",
       "    }\n",
       "\n",
       "    .dataframe tbody tr th {\n",
       "        vertical-align: top;\n",
       "    }\n",
       "\n",
       "    .dataframe thead th {\n",
       "        text-align: right;\n",
       "    }\n",
       "</style>\n",
       "<table border=\"1\" class=\"dataframe\">\n",
       "  <thead>\n",
       "    <tr style=\"text-align: right;\">\n",
       "      <th></th>\n",
       "      <th>Cs-136</th>\n",
       "      <th>I-133</th>\n",
       "      <th>I-132</th>\n",
       "      <th>Cs-134</th>\n",
       "      <th>Ba-140</th>\n",
       "      <th>Cs-137</th>\n",
       "      <th>Te-129</th>\n",
       "      <th>Te-132</th>\n",
       "      <th>Te-129m</th>\n",
       "      <th>Co-60</th>\n",
       "      <th>I-131</th>\n",
       "    </tr>\n",
       "  </thead>\n",
       "  <tbody>\n",
       "    <tr>\n",
       "      <th>0</th>\n",
       "      <td>NaN</td>\n",
       "      <td>NaN</td>\n",
       "      <td>NaN</td>\n",
       "      <td>NaN</td>\n",
       "      <td>NaN</td>\n",
       "      <td>NaN</td>\n",
       "      <td>NaN</td>\n",
       "      <td>NaN</td>\n",
       "      <td>NaN</td>\n",
       "      <td>NaN</td>\n",
       "      <td>0.088</td>\n",
       "    </tr>\n",
       "    <tr>\n",
       "      <th>1</th>\n",
       "      <td>NaN</td>\n",
       "      <td>NaN</td>\n",
       "      <td>NaN</td>\n",
       "      <td>NaN</td>\n",
       "      <td>NaN</td>\n",
       "      <td>NaN</td>\n",
       "      <td>NaN</td>\n",
       "      <td>NaN</td>\n",
       "      <td>NaN</td>\n",
       "      <td>NaN</td>\n",
       "      <td>0.055</td>\n",
       "    </tr>\n",
       "    <tr>\n",
       "      <th>2</th>\n",
       "      <td>NaN</td>\n",
       "      <td>NaN</td>\n",
       "      <td>NaN</td>\n",
       "      <td>0.0057</td>\n",
       "      <td>NaN</td>\n",
       "      <td>0.0074</td>\n",
       "      <td>NaN</td>\n",
       "      <td>0.0043</td>\n",
       "      <td>NaN</td>\n",
       "      <td>NaN</td>\n",
       "      <td>0.067</td>\n",
       "    </tr>\n",
       "    <tr>\n",
       "      <th>3</th>\n",
       "      <td>NaN</td>\n",
       "      <td>NaN</td>\n",
       "      <td>NaN</td>\n",
       "      <td>NaN</td>\n",
       "      <td>NaN</td>\n",
       "      <td>NaN</td>\n",
       "      <td>NaN</td>\n",
       "      <td>NaN</td>\n",
       "      <td>NaN</td>\n",
       "      <td>NaN</td>\n",
       "      <td>0.096</td>\n",
       "    </tr>\n",
       "    <tr>\n",
       "      <th>4</th>\n",
       "      <td>NaN</td>\n",
       "      <td>NaN</td>\n",
       "      <td>NaN</td>\n",
       "      <td>NaN</td>\n",
       "      <td>NaN</td>\n",
       "      <td>NaN</td>\n",
       "      <td>NaN</td>\n",
       "      <td>NaN</td>\n",
       "      <td>NaN</td>\n",
       "      <td>NaN</td>\n",
       "      <td>0.22</td>\n",
       "    </tr>\n",
       "  </tbody>\n",
       "</table>\n",
       "</div>"
      ],
      "text/plain": [
       "  Cs-136 I-133 I-132  Cs-134 Ba-140  Cs-137 Te-129  Te-132 Te-129m Co-60  \\\n",
       "0    NaN   NaN   NaN     NaN    NaN     NaN    NaN     NaN     NaN   NaN   \n",
       "1    NaN   NaN   NaN     NaN    NaN     NaN    NaN     NaN     NaN   NaN   \n",
       "2    NaN   NaN   NaN  0.0057    NaN  0.0074    NaN  0.0043     NaN   NaN   \n",
       "3    NaN   NaN   NaN     NaN    NaN     NaN    NaN     NaN     NaN   NaN   \n",
       "4    NaN   NaN   NaN     NaN    NaN     NaN    NaN     NaN     NaN   NaN   \n",
       "\n",
       "   I-131  \n",
       "0  0.088  \n",
       "1  0.055  \n",
       "2  0.067  \n",
       "3  0.096  \n",
       "4   0.22  "
      ]
     },
     "execution_count": 33,
     "metadata": {},
     "output_type": "execute_result"
    }
   ],
   "source": [
    "df.loc[:,columns] = df.loc[:,columns].applymap(lambda x: np.nan if ((x==\"Non-detect\")|(x==\"ND\")) else x)\n",
    "df.loc[:,columns].head()\n"
   ]
  },
  {
   "cell_type": "markdown",
   "metadata": {},
   "source": [
    "6. Zmień typy danych datetime i to_numeric"
   ]
  },
  {
   "cell_type": "code",
   "execution_count": 35,
   "metadata": {},
   "outputs": [
    {
     "data": {
      "text/plain": [
       "State                     object\n",
       "Location                  object\n",
       "Date Posted       datetime64[ns]\n",
       "Date Collected    datetime64[ns]\n",
       "Sample Type               object\n",
       "Unit                      object\n",
       "Ba-140                   float64\n",
       "Co-60                    float64\n",
       "Cs-134                   float64\n",
       "Cs-136                   float64\n",
       "Cs-137                   float64\n",
       "I-131                    float64\n",
       "I-132                    float64\n",
       "I-133                    float64\n",
       "Te-129                   float64\n",
       "Te-129m                  float64\n",
       "Te-132                   float64\n",
       "dtype: object"
      ]
     },
     "execution_count": 35,
     "metadata": {},
     "output_type": "execute_result"
    }
   ],
   "source": [
    "df['Date Posted'] = pd.to_datetime(df['Date Posted'])\n",
    "df['Date Collected'] = pd.to_datetime(df['Date Collected'])\n",
    "for col in columns:\n",
    "    df[col] = pd.to_numeric(df[col])\n",
    "df.dtypes"
   ]
  },
  {
   "cell_type": "markdown",
   "metadata": {},
   "source": [
    "7. Użyj metody astype, aby przekształcić kolumny, które nie są numeryczne, w typ kategorii"
   ]
  },
  {
   "cell_type": "code",
   "execution_count": 36,
   "metadata": {},
   "outputs": [
    {
     "data": {
      "text/plain": [
       "State                   category\n",
       "Location                category\n",
       "Date Posted       datetime64[ns]\n",
       "Date Collected    datetime64[ns]\n",
       "Sample Type             category\n",
       "Unit                    category\n",
       "Ba-140                   float64\n",
       "Co-60                    float64\n",
       "Cs-134                   float64\n",
       "Cs-136                   float64\n",
       "Cs-137                   float64\n",
       "I-131                    float64\n",
       "I-132                    float64\n",
       "I-133                    float64\n",
       "Te-129                   float64\n",
       "Te-129m                  float64\n",
       "Te-132                   float64\n",
       "dtype: object"
      ]
     },
     "execution_count": 36,
     "metadata": {},
     "output_type": "execute_result"
    }
   ],
   "source": [
    "df['State'] = df['State'].astype('category')\n",
    "df['Location'] = df['Location'].astype('category')\n",
    "df['Unit'] = df['Unit'].astype('category')\n",
    "df['Sample Type'] = df['Sample Type'].astype('category')\n",
    "df.dtypes"
   ]
  },
  {
   "cell_type": "markdown",
   "metadata": {},
   "source": [
    "# Ćwiczenie 6. Agregacja i grupowanie"
   ]
  },
  {
   "cell_type": "markdown",
   "metadata": {},
   "source": [
    "1. Zgrupuj DataFrame, korzystając z kolumny State."
   ]
  },
  {
   "cell_type": "code",
   "execution_count": null,
   "metadata": {},
   "outputs": [],
   "source": [
    "df.groupby('State')"
   ]
  },
  {
   "cell_type": "markdown",
   "metadata": {},
   "source": [
    "2. Wybierz radionuklid Cs-134 i oblicz średnią wartość na grupę:"
   ]
  },
  {
   "cell_type": "code",
   "execution_count": 38,
   "metadata": {},
   "outputs": [
    {
     "name": "stderr",
     "output_type": "stream",
     "text": [
      "/tmp/ipykernel_4427/2951075891.py:1: FutureWarning: The default of observed=False is deprecated and will be changed to True in a future version of pandas. Pass observed=False to retain current behavior or observed=True to adopt the future default and silence this warning.\n",
      "  df.groupby('State')['Cs-134'].head()\n"
     ]
    },
    {
     "data": {
      "text/plain": [
       "0         NaN\n",
       "1         NaN\n",
       "2      0.0057\n",
       "3         NaN\n",
       "4         NaN\n",
       "        ...  \n",
       "551    1.4000\n",
       "552       NaN\n",
       "555       NaN\n",
       "574       NaN\n",
       "575       NaN\n",
       "Name: Cs-134, Length: 206, dtype: float64"
      ]
     },
     "execution_count": 38,
     "metadata": {},
     "output_type": "execute_result"
    }
   ],
   "source": [
    "df.groupby('State')['Cs-134'].head()"
   ]
  },
  {
   "cell_type": "markdown",
   "metadata": {},
   "source": [
    "3. Zrób to samo dla wszystkich kolumn, grupując według stanu i bezpośrednio stosując funkcję średniej"
   ]
  },
  {
   "cell_type": "code",
   "execution_count": null,
   "metadata": {},
   "outputs": [],
   "source": [
    "df.groupby('State').mean().head()"
   ]
  },
  {
   "cell_type": "markdown",
   "metadata": {},
   "source": [
    "4. Teraz pogrupuj według więcej niż jednej kolumny, korzystając z listy kolumn grupujących"
   ]
  },
  {
   "cell_type": "code",
   "execution_count": 40,
   "metadata": {},
   "outputs": [
    {
     "name": "stderr",
     "output_type": "stream",
     "text": [
      "/tmp/ipykernel_4427/2592696756.py:1: FutureWarning: The default of observed=False is deprecated and will be changed to True in a future version of pandas. Pass observed=False to retain current behavior or observed=True to adopt the future default and silence this warning.\n",
      "  df.groupby(['State','Location']).mean\n"
     ]
    },
    {
     "data": {
      "text/plain": [
       "<bound method GroupBy.mean of <pandas.core.groupby.generic.DataFrameGroupBy object at 0x78052f45ca30>>"
      ]
     },
     "execution_count": 40,
     "metadata": {},
     "output_type": "execute_result"
    }
   ],
   "source": [
    "df.groupby(['State','Location']).mean"
   ]
  },
  {
   "cell_type": "markdown",
   "metadata": {},
   "source": [
    "5. Agreguj przy użyciu kilku operacji agregacji na kolumnę, stosując metodę agg. Użyj państwa\n",
    "i kolumny lokalizacji:"
   ]
  },
  {
   "cell_type": "code",
   "execution_count": 42,
   "metadata": {},
   "outputs": [
    {
     "name": "stderr",
     "output_type": "stream",
     "text": [
      "/tmp/ipykernel_4427/2387163851.py:1: FutureWarning: The default of observed=False is deprecated and will be changed to True in a future version of pandas. Pass observed=False to retain current behavior or observed=True to adopt the future default and silence this warning.\n",
      "  df.groupby(['State', 'Location']).agg({'Cs-134':['mean', 'std'],'Te-129':['min', 'max']})\n"
     ]
    },
    {
     "data": {
      "text/html": [
       "<div>\n",
       "<style scoped>\n",
       "    .dataframe tbody tr th:only-of-type {\n",
       "        vertical-align: middle;\n",
       "    }\n",
       "\n",
       "    .dataframe tbody tr th {\n",
       "        vertical-align: top;\n",
       "    }\n",
       "\n",
       "    .dataframe thead tr th {\n",
       "        text-align: left;\n",
       "    }\n",
       "\n",
       "    .dataframe thead tr:last-of-type th {\n",
       "        text-align: right;\n",
       "    }\n",
       "</style>\n",
       "<table border=\"1\" class=\"dataframe\">\n",
       "  <thead>\n",
       "    <tr>\n",
       "      <th></th>\n",
       "      <th></th>\n",
       "      <th colspan=\"2\" halign=\"left\">Cs-134</th>\n",
       "      <th colspan=\"2\" halign=\"left\">Te-129</th>\n",
       "    </tr>\n",
       "    <tr>\n",
       "      <th></th>\n",
       "      <th></th>\n",
       "      <th>mean</th>\n",
       "      <th>std</th>\n",
       "      <th>min</th>\n",
       "      <th>max</th>\n",
       "    </tr>\n",
       "    <tr>\n",
       "      <th>State</th>\n",
       "      <th>Location</th>\n",
       "      <th></th>\n",
       "      <th></th>\n",
       "      <th></th>\n",
       "      <th></th>\n",
       "    </tr>\n",
       "  </thead>\n",
       "  <tbody>\n",
       "    <tr>\n",
       "      <th rowspan=\"5\" valign=\"top\">AK</th>\n",
       "      <th>Albany</th>\n",
       "      <td>NaN</td>\n",
       "      <td>NaN</td>\n",
       "      <td>NaN</td>\n",
       "      <td>NaN</td>\n",
       "    </tr>\n",
       "    <tr>\n",
       "      <th>Albany</th>\n",
       "      <td>NaN</td>\n",
       "      <td>NaN</td>\n",
       "      <td>NaN</td>\n",
       "      <td>NaN</td>\n",
       "    </tr>\n",
       "    <tr>\n",
       "      <th>Albuquerque</th>\n",
       "      <td>NaN</td>\n",
       "      <td>NaN</td>\n",
       "      <td>NaN</td>\n",
       "      <td>NaN</td>\n",
       "    </tr>\n",
       "    <tr>\n",
       "      <th>Anaheim</th>\n",
       "      <td>NaN</td>\n",
       "      <td>NaN</td>\n",
       "      <td>NaN</td>\n",
       "      <td>NaN</td>\n",
       "    </tr>\n",
       "    <tr>\n",
       "      <th>Ashland</th>\n",
       "      <td>NaN</td>\n",
       "      <td>NaN</td>\n",
       "      <td>NaN</td>\n",
       "      <td>NaN</td>\n",
       "    </tr>\n",
       "    <tr>\n",
       "      <th>...</th>\n",
       "      <th>...</th>\n",
       "      <td>...</td>\n",
       "      <td>...</td>\n",
       "      <td>...</td>\n",
       "      <td>...</td>\n",
       "    </tr>\n",
       "    <tr>\n",
       "      <th rowspan=\"5\" valign=\"top\">WV</th>\n",
       "      <th>Welch/510</th>\n",
       "      <td>NaN</td>\n",
       "      <td>NaN</td>\n",
       "      <td>NaN</td>\n",
       "      <td>NaN</td>\n",
       "    </tr>\n",
       "    <tr>\n",
       "      <th>West Chicago</th>\n",
       "      <td>NaN</td>\n",
       "      <td>NaN</td>\n",
       "      <td>NaN</td>\n",
       "      <td>NaN</td>\n",
       "    </tr>\n",
       "    <tr>\n",
       "      <th>Wichita</th>\n",
       "      <td>NaN</td>\n",
       "      <td>NaN</td>\n",
       "      <td>NaN</td>\n",
       "      <td>NaN</td>\n",
       "    </tr>\n",
       "    <tr>\n",
       "      <th>Wilmington</th>\n",
       "      <td>NaN</td>\n",
       "      <td>NaN</td>\n",
       "      <td>NaN</td>\n",
       "      <td>NaN</td>\n",
       "    </tr>\n",
       "    <tr>\n",
       "      <th>Yaphank</th>\n",
       "      <td>NaN</td>\n",
       "      <td>NaN</td>\n",
       "      <td>NaN</td>\n",
       "      <td>NaN</td>\n",
       "    </tr>\n",
       "  </tbody>\n",
       "</table>\n",
       "<p>7332 rows × 4 columns</p>\n",
       "</div>"
      ],
      "text/plain": [
       "                   Cs-134     Te-129    \n",
       "                     mean std    min max\n",
       "State Location                          \n",
       "AK    Albany          NaN NaN    NaN NaN\n",
       "      Albany          NaN NaN    NaN NaN\n",
       "      Albuquerque     NaN NaN    NaN NaN\n",
       "      Anaheim         NaN NaN    NaN NaN\n",
       "      Ashland         NaN NaN    NaN NaN\n",
       "...                   ...  ..    ...  ..\n",
       "WV    Welch/510       NaN NaN    NaN NaN\n",
       "      West Chicago    NaN NaN    NaN NaN\n",
       "      Wichita         NaN NaN    NaN NaN\n",
       "      Wilmington      NaN NaN    NaN NaN\n",
       "      Yaphank         NaN NaN    NaN NaN\n",
       "\n",
       "[7332 rows x 4 columns]"
      ]
     },
     "execution_count": 42,
     "metadata": {},
     "output_type": "execute_result"
    }
   ],
   "source": [
    "df.groupby(['State', 'Location']).agg({'Cs-134':['mean', 'std'],'Te-129':['min', 'max']})"
   ]
  },
  {
   "cell_type": "markdown",
   "metadata": {},
   "source": [
    "# Ćwiczenie 7. Eksportowanie danych w różnych formatach"
   ]
  },
  {
   "cell_type": "markdown",
   "metadata": {},
   "source": [
    "Po zastosowaniu wszystkich zmian w zbiorze danych (zmiana typów danych, zmiana niepożądanych wartości) możesz\n",
    "chcieć zapisać swoją pracę. Wyeksportuj naszą przekształconą ramkę danych z odpowiednimi wartościami i kolumnami do formatu CSV za pomocą funkcja to_csv. Wyklucz indeks, używając indeksu=False, użyj średnika jako separatora sep=\";\", i\n",
    "zakoduj dane jako UTF-8 encoding=\"utf-8\":"
   ]
  },
  {
   "cell_type": "code",
   "execution_count": 43,
   "metadata": {},
   "outputs": [],
   "source": [
    "df.to_csv('radiation_clean.csv', index=False, sep=';', encoding='utf-8')"
   ]
  },
  {
   "cell_type": "markdown",
   "metadata": {},
   "source": [
    "# Ćwiczenie 8: Wykreślanie funkcji analitycznej"
   ]
  },
  {
   "cell_type": "markdown",
   "metadata": {},
   "source": [
    "Utwórz podstawowy wykres za pomocą bibliotek Matplotlib, który wizualizuje dwie funkcje dwóch zmiennych. Używać Sposób kreślenia w MALTAB."
   ]
  },
  {
   "cell_type": "markdown",
   "metadata": {},
   "source": [
    "Hint: use plt.plot(x, y) method."
   ]
  },
  {
   "cell_type": "code",
   "execution_count": 1,
   "metadata": {},
   "outputs": [],
   "source": [
    "import numpy as np\n",
    "import matplotlib.pyplot as plt\n",
    "\n",
    "x=np.linspace(-4,4,100)\n",
    "y=4*np.power(x,2)\n",
    "y1=np.power(x,4)-12*np.power(x,2)+20"
   ]
  },
  {
   "cell_type": "code",
   "execution_count": 2,
   "metadata": {},
   "outputs": [
    {
     "data": {
      "text/plain": [
       "[<matplotlib.lines.Line2D at 0x776e6e708460>]"
      ]
     },
     "execution_count": 2,
     "metadata": {},
     "output_type": "execute_result"
    },
    {
     "data": {
      "image/png": "[encoded data removed]",
      "text/plain": [
       "<Figure size 640x480 with 1 Axes>"
      ]
     },
     "metadata": {},
     "output_type": "display_data"
    }
   ],
   "source": [
    "%matplotlib inline\n",
    "plt.plot(x,y)\n",
    "plt.plot(x,y1,'g')"
   ]
  },
  {
   "cell_type": "code",
   "execution_count": 4,
   "metadata": {},
   "outputs": [
    {
     "name": "stdout",
     "output_type": "stream",
     "text": [
      "Available matplotlib backends: ['tk', 'gtk', 'gtk3', 'gtk4', 'wx', 'qt4', 'qt5', 'qt6', 'qt', 'osx', 'nbagg', 'webagg', 'notebook', 'agg', 'svg', 'pdf', 'ps', 'inline', 'ipympl', 'widget']\n"
     ]
    }
   ],
   "source": [
    "%matplotlib -l"
   ]
  },
  {
   "cell_type": "markdown",
   "metadata": {},
   "source": [
    "# Ćwiczenie 9: Tworzenie wykresu"
   ]
  },
  {
   "cell_type": "markdown",
   "metadata": {},
   "source": [
    "Istnieje kilka sposobów tworzenia wykresów za pomocą Matplotlib. Pierwszy z nich jest ściśle powiązany z MATLAB sposobem, aby to zrobić, zwany Pyplot. Pyplot to API będące interfejsem opartym na stanach Matplotlib, co oznacza, że przechowuje konfiguracje i inne parametry w samym obiekcie. Pyplot ma być prostym przypadkiem."
   ]
  },
  {
   "cell_type": "markdown",
   "metadata": {},
   "source": [
    "1. Import required libraries"
   ]
  },
  {
   "cell_type": "code",
   "execution_count": 1,
   "metadata": {},
   "outputs": [],
   "source": [
    "import numpy as np\n",
    "import pandas as pd\n",
    "import matplotlib.pyplot as plt"
   ]
  },
  {
   "cell_type": "markdown",
   "metadata": {},
   "source": [
    "2. Skorzystaj z drugiego API, tzw. API obiektowego – przeznaczonego dla bardziej skomplikowanych wykresów. To pozwala większa elastyczność i konfiguracja. Uzyskując dostęp do tego interfejsu API, możesz tworzyć figury i osie za pomocą moduł plt.subplot:"
   ]
  },
  {
   "cell_type": "code",
   "execution_count": null,
   "metadata": {},
   "outputs": [],
   "source": [
    "fig, ax = plt.subplots()"
   ]
  },
  {
   "cell_type": "code",
   "execution_count": 6,
   "metadata": {},
   "outputs": [
    {
     "data": {
      "text/plain": [
       "[<matplotlib.lines.Line2D at 0x776e6c4d98d0>]"
      ]
     },
     "execution_count": 6,
     "metadata": {},
     "output_type": "execute_result"
    },
    {
     "data": {
      "image/png": "[encoded data removed]",
      "text/plain": [
       "<Figure size 640x480 with 1 Axes>"
      ]
     },
     "metadata": {},
     "output_type": "display_data"
    }
   ],
   "source": [
    "import numpy as np\n",
    "import matplotlib.pyplot as plt\n",
    "\n",
    "fig, ax = plt.subplots()\n",
    "x = np.linspace(0,100,500)\n",
    "y = np.sin(2*np.pi*x/100)\n",
    "ax.plot(x,y)"
   ]
  },
  {
   "cell_type": "markdown",
   "metadata": {},
   "source": [
    "3. Aby dodać wykres do wykresu utworzonego przy użyciu obiektowego API, użyj komendy:"
   ]
  },
  {
   "cell_type": "code",
   "execution_count": 5,
   "metadata": {},
   "outputs": [
    {
     "data": {
      "text/plain": [
       "[<matplotlib.lines.Line2D at 0x71811167f3d0>]"
      ]
     },
     "execution_count": 5,
     "metadata": {},
     "output_type": "execute_result"
    }
   ],
   "source": [
    "x = np.linspace(0,100,500)\n",
    "y = np.sin(2*np.pi*x/100)\n",
    "ax.plot(x, y)"
   ]
  },
  {
   "cell_type": "markdown",
   "metadata": {},
   "source": [
    "# Ćwiczenie 10: Tworzenie wykresu funkcji matematycznej"
   ]
  },
  {
   "cell_type": "markdown",
   "metadata": {},
   "source": [
    "Utwórz wykres za pomocą obiektowego API z funkcją NumPy sin() na przedziale [0,100]"
   ]
  },
  {
   "cell_type": "code",
   "execution_count": 8,
   "metadata": {},
   "outputs": [
    {
     "data": {
      "text/plain": [
       "[<matplotlib.lines.Line2D at 0x776e6c34d9f0>]"
      ]
     },
     "execution_count": 8,
     "metadata": {},
     "output_type": "execute_result"
    },
    {
     "data": {
      "image/png": "[encoded data removed]",
      "text/plain": [
       "<Figure size 640x480 with 1 Axes>"
      ]
     },
     "metadata": {},
     "output_type": "display_data"
    }
   ],
   "source": [
    "import numpy as np\n",
    "\n",
    "x = np.linspace(0,100,200)\n",
    "y = np.sin(x)\n",
    "\n",
    "import matplotlib.pyplot as plt\n",
    "fig, ax = plt.subplots()\n",
    "ax.plot(x,y)"
   ]
  },
  {
   "cell_type": "markdown",
   "metadata": {},
   "source": [
    "# Ćwiczenie 11: Tworzenie wykresu liniowego przy użyciu różnych bibliotek"
   ]
  },
  {
   "cell_type": "markdown",
   "metadata": {},
   "source": [
    "Porównajmy proces tworzenia między Matplotlibem, Pandami i Seabornem. Stworzymy Pandas DataFrame z losowymi wartościami i wykreśl ją różnymi metodami."
   ]
  },
  {
   "cell_type": "markdown",
   "metadata": {},
   "source": [
    "1. Utwórz zbiór danych z losowymi wartościami:"
   ]
  },
  {
   "cell_type": "code",
   "execution_count": 6,
   "metadata": {},
   "outputs": [],
   "source": [
    "import numpy as np\n",
    "X = np.arange(0,100)\n",
    "Y = np.random.randint(0,200, size=X.shape[0])"
   ]
  },
  {
   "cell_type": "markdown",
   "metadata": {},
   "source": [
    "2. Narysuj dane za pomocą interfejsu Matplotlib Pyplot:"
   ]
  },
  {
   "cell_type": "code",
   "execution_count": 7,
   "metadata": {},
   "outputs": [
    {
     "data": {
      "text/plain": [
       "[<matplotlib.lines.Line2D at 0x7181114d9180>]"
      ]
     },
     "execution_count": 7,
     "metadata": {},
     "output_type": "execute_result"
    },
    {
     "data": {
      "image/png": "[encoded data removed]",
      "text/plain": [
       "<Figure size 640x480 with 1 Axes>"
      ]
     },
     "metadata": {},
     "output_type": "display_data"
    }
   ],
   "source": [
    "import matplotlib.pyplot as plt\n",
    "plt.plot(X, Y)"
   ]
  },
  {
   "cell_type": "markdown",
   "metadata": {},
   "source": [
    "3. Teraz utwórz ramkę danych Pandas z utworzonymi wartościami:"
   ]
  },
  {
   "cell_type": "code",
   "execution_count": 8,
   "metadata": {},
   "outputs": [],
   "source": [
    "import pandas as pd\n",
    "df = pd.DataFrame({'x':X, 'y_col':Y})"
   ]
  },
  {
   "cell_type": "markdown",
   "metadata": {},
   "source": [
    "4. Możesz wykreślić t za pomocą interfejsu Pyplot, ale z argumentem data:"
   ]
  },
  {
   "cell_type": "code",
   "execution_count": 9,
   "metadata": {},
   "outputs": [
    {
     "data": {
      "text/plain": [
       "[<matplotlib.lines.Line2D at 0x718111564b20>]"
      ]
     },
     "execution_count": 9,
     "metadata": {},
     "output_type": "execute_result"
    },
    {
     "data": {
      "image/png": "[encoded data removed]",
      "text/plain": [
       "<Figure size 640x480 with 1 Axes>"
      ]
     },
     "metadata": {},
     "output_type": "display_data"
    }
   ],
   "source": [
    "plt.plot('x', 'y_col', data=df)"
   ]
  },
  {
   "cell_type": "markdown",
   "metadata": {},
   "source": [
    "5. Możesz także wykreślić to z Pandas DataFrame:"
   ]
  },
  {
   "cell_type": "code",
   "execution_count": 10,
   "metadata": {},
   "outputs": [
    {
     "data": {
      "text/plain": [
       "<Axes: xlabel='x'>"
      ]
     },
     "execution_count": 10,
     "metadata": {},
     "output_type": "execute_result"
    },
    {
     "data": {
      "image/png": "[encoded data removed]",
      "text/plain": [
       "<Figure size 640x480 with 1 Axes>"
      ]
     },
     "metadata": {},
     "output_type": "display_data"
    }
   ],
   "source": [
    "df.plot('x', 'y_col')"
   ]
  },
  {
   "cell_type": "markdown",
   "metadata": {},
   "source": [
    "6. A co z Seabornem? Utwórzmy ten sam wykres liniowy z Seabornem:"
   ]
  },
  {
   "cell_type": "code",
   "execution_count": 11,
   "metadata": {},
   "outputs": [
    {
     "ename": "TypeError",
     "evalue": "lineplot() takes from 0 to 1 positional arguments but 2 were given",
     "output_type": "error",
     "traceback": [
      "\u001b[0;31m---------------------------------------------------------------------------\u001b[0m",
      "\u001b[0;31mTypeError\u001b[0m                                 Traceback (most recent call last)",
      "Cell \u001b[0;32mIn[11], line 2\u001b[0m\n\u001b[1;32m      1\u001b[0m \u001b[38;5;28;01mimport\u001b[39;00m \u001b[38;5;21;01mseaborn\u001b[39;00m \u001b[38;5;28;01mas\u001b[39;00m \u001b[38;5;21;01msns\u001b[39;00m\n\u001b[0;32m----> 2\u001b[0m \u001b[43msns\u001b[49m\u001b[38;5;241;43m.\u001b[39;49m\u001b[43mlineplot\u001b[49m\u001b[43m(\u001b[49m\u001b[43mX\u001b[49m\u001b[43m,\u001b[49m\u001b[43m \u001b[49m\u001b[43mY\u001b[49m\u001b[43m)\u001b[49m\n\u001b[1;32m      3\u001b[0m sns\u001b[38;5;241m.\u001b[39mlineplot(\u001b[38;5;124m'\u001b[39m\u001b[38;5;124mx\u001b[39m\u001b[38;5;124m'\u001b[39m, \u001b[38;5;124m'\u001b[39m\u001b[38;5;124my_col\u001b[39m\u001b[38;5;124m'\u001b[39m, data\u001b[38;5;241m=\u001b[39mdf)\n",
      "\u001b[0;31mTypeError\u001b[0m: lineplot() takes from 0 to 1 positional arguments but 2 were given"
     ]
    }
   ],
   "source": [
    "import seaborn as sns\n",
    "\n",
    "sns.lineplot(X, Y)\n",
    "sns.lineplot('x', 'y_col', data=df)"
   ]
  },
  {
   "cell_type": "markdown",
   "metadata": {},
   "source": [
    "Widzimy, że w tym przypadku interfejs używany przez Matplotlib i Seaborn jest dość podobny."
   ]
  },
  {
   "cell_type": "markdown",
   "metadata": {},
   "source": [
    "# Ćwiczenie 12: Tworzenie histogramu rozkładu mocy"
   ]
  },
  {
   "cell_type": "markdown",
   "metadata": {},
   "source": [
    "1. Skorzystaj z już przetworzonego zbioru danych samochodów.data:"
   ]
  },
  {
   "cell_type": "code",
   "execution_count": 9,
   "metadata": {},
   "outputs": [],
   "source": [
    "import numpy as np\n",
    "import pandas as pd\n",
    "import matplotlib.pyplot as plt\n",
    "import seaborn as sns"
   ]
  },
  {
   "cell_type": "code",
   "execution_count": 3,
   "metadata": {},
   "outputs": [],
   "source": [
    "df = pd.read_csv('cars_headers.csv')"
   ]
  },
  {
   "cell_type": "markdown",
   "metadata": {},
   "source": [
    "2. Utwórz histogram:"
   ]
  },
  {
   "cell_type": "code",
   "execution_count": 5,
   "metadata": {},
   "outputs": [],
   "source": [
    "df.loc[df.horsepower=='?','horsepower'] = np.nan"
   ]
  },
  {
   "cell_type": "code",
   "execution_count": 6,
   "metadata": {},
   "outputs": [],
   "source": [
    "df['horsepower'] = pd.to_numeric(df['horsepower'])"
   ]
  },
  {
   "cell_type": "code",
   "execution_count": 7,
   "metadata": {},
   "outputs": [
    {
     "data": {
      "text/plain": [
       "<Axes: ylabel='Frequency'>"
      ]
     },
     "execution_count": 7,
     "metadata": {},
     "output_type": "execute_result"
    },
    {
     "data": {
      "image/png": "[encoded data removed]",
      "text/plain": [
       "<Figure size 640x480 with 1 Axes>"
      ]
     },
     "metadata": {},
     "output_type": "display_data"
    }
   ],
   "source": [
    "df.horsepower.plot(kind='hist')"
   ]
  },
  {
   "cell_type": "markdown",
   "metadata": {},
   "source": [
    "3. Zidentyfikuj koncentrację mocy:"
   ]
  },
  {
   "cell_type": "code",
   "execution_count": 10,
   "metadata": {},
   "outputs": [
    {
     "name": "stderr",
     "output_type": "stream",
     "text": [
      "/tmp/ipykernel_6178/1507422317.py:1: UserWarning: \n",
      "\n",
      "`distplot` is a deprecated function and will be removed in seaborn v0.14.0.\n",
      "\n",
      "Please adapt your code to use either `displot` (a figure-level function with\n",
      "similar flexibility) or `histplot` (an axes-level function for histograms).\n",
      "\n",
      "For a guide to updating your code to use the new functions, please see\n",
      "https://gist.github.com/mwaskom/de44147ed2974457ad6372750bbe5751\n",
      "\n",
      "  sns.distplot(df['horsepower'], bins=10)\n"
     ]
    },
    {
     "data": {
      "text/plain": [
       "<Axes: xlabel='horsepower', ylabel='Density'>"
      ]
     },
     "execution_count": 10,
     "metadata": {},
     "output_type": "execute_result"
    },
    {
     "data": {
      "image/png": "[encoded data removed]",
      "text/plain": [
       "<Figure size 640x480 with 1 Axes>"
      ]
     },
     "metadata": {},
     "output_type": "display_data"
    }
   ],
   "source": [
    "sns.distplot(df['horsepower'], bins=10)"
   ]
  },
  {
   "cell_type": "markdown",
   "metadata": {},
   "source": [
    "Na tym wykresie (ze stężeniem) widzimy, że rozkład wartości jest przesunięty w lewo\n",
    "na przykład więcej samochodów o mocy od 50 do 100 niż powyżej 200. To mogłoby być bardzo przydatne w zrozumieniu, jak niektóre dane zmieniają się w analizie"
   ]
  },
  {
   "cell_type": "markdown",
   "metadata": {},
   "source": [
    "4. Spróbuj z innymi kolumnami, np. \"przemieszczenie\"."
   ]
  },
  {
   "cell_type": "markdown",
   "metadata": {},
   "source": [
    "# Ćwiczenie 13: Analiza zachowania liczby cylindrów i Moc przy użyciu wykresu pudełkowego"
   ]
  },
  {
   "cell_type": "markdown",
   "metadata": {},
   "source": [
    "Czasami chcemy nie tylko zobaczyć rozkład każdej zmiennej, ale także zobaczyć jej zmienność\n",
    "interesująca zmienna w odniesieniu do innego atrybutu. Chcielibyśmy wiedzieć na przykład jak\n",
    "moc zmienia się w zależności od liczby cylindrów. Stwórzmy fabułę z Seabornem,\n",
    "porównanie rozkładu mocy z liczbą cylindrów."
   ]
  },
  {
   "cell_type": "markdown",
   "metadata": {},
   "source": [
    "1. Skorzystaj z już przetworzonego zbioru danych samochodów.data."
   ]
  },
  {
   "cell_type": "markdown",
   "metadata": {},
   "source": [
    "2. Utwórz wykres skrzynkowy za pomocą funkcji wykresu skrzynkowego Seaborn:"
   ]
  },
  {
   "cell_type": "code",
   "execution_count": 11,
   "metadata": {},
   "outputs": [
    {
     "data": {
      "text/plain": [
       "<Axes: xlabel='cylinders', ylabel='horsepower'>"
      ]
     },
     "execution_count": 11,
     "metadata": {},
     "output_type": "execute_result"
    },
    {
     "data": {
      "image/png": "[encoded data removed]",
      "text/plain": [
       "<Figure size 640x480 with 1 Axes>"
      ]
     },
     "metadata": {},
     "output_type": "display_data"
    }
   ],
   "source": [
    "sns.boxplot(data=df, x='cylinders', y='horsepower')"
   ]
  },
  {
   "cell_type": "markdown",
   "metadata": {},
   "source": [
    "3. Teraz, dla celów porównawczych, utwórz ten sam wykres pudełkowy, używając bezpośrednio pand:"
   ]
  },
  {
   "cell_type": "code",
   "execution_count": 12,
   "metadata": {},
   "outputs": [
    {
     "data": {
      "text/plain": [
       "<Axes: title={'center': 'horsepower'}, xlabel='cylinders'>"
      ]
     },
     "execution_count": 12,
     "metadata": {},
     "output_type": "execute_result"
    },
    {
     "data": {
      "image/png": "[encoded data removed]",
      "text/plain": [
       "<Figure size 640x480 with 1 Axes>"
      ]
     },
     "metadata": {},
     "output_type": "display_data"
    }
   ],
   "source": [
    "df.boxplot(column='horsepower', by='cylinders')"
   ]
  },
  {
   "cell_type": "markdown",
   "metadata": {},
   "source": [
    "Po stronie analizy widać, że zakres zmian od 3 cylindrów jest mniejszy niż dla 8\n",
    "cylindry na moc. Widzimy również, że w danych 6 i 8 cylindrów występują wartości odstające. Jeśli chodzi o\n",
    "podczas kreślenia funkcja Seaborn jest bardziej kompletna i automatycznie wyświetla różne kolory dla różnych\n",
    "liczby cylindrów oraz nazwy kolumn DataFrame jako etykiety na wykresie."
   ]
  },
  {
   "cell_type": "markdown",
   "metadata": {},
   "source": [
    "# Ćwiczenie 14: Konfigurowanie tytułu i etykiet dla obiektów osi"
   ]
  },
  {
   "cell_type": "markdown",
   "metadata": {},
   "source": [
    "1. Ustaw tytuł, etykietę osi X i etykietę osi Y, wywołując metodę set:"
   ]
  },
  {
   "cell_type": "code",
   "execution_count": 13,
   "metadata": {},
   "outputs": [
    {
     "data": {
      "text/plain": [
       "[]"
      ]
     },
     "execution_count": 13,
     "metadata": {},
     "output_type": "execute_result"
    },
    {
     "data": {
      "image/png": "[encoded data removed]",
      "text/plain": [
       "<Figure size 640x480 with 1 Axes>"
      ]
     },
     "metadata": {},
     "output_type": "display_data"
    }
   ],
   "source": [
    "import matplotlib.pyplot as plt\n",
    "fig, ax = plt.subplots()\n",
    "ax.set(title=\"Graph title\", xlabel=\"Label of x axis (units)\",\n",
    "ylabel=\"Label of y axis (units)\")\n",
    "ax.plot()"
   ]
  },
  {
   "cell_type": "markdown",
   "metadata": {},
   "source": [
    "2. Legendy wykresu można albo przekazać zewnętrznie, gdy używasz tylko Matplotlib, albo można je ustawić\n",
    "na wykresie Pandy i nakreślono za pomocą osi. Aby wydrukować legendy, użyj następującego polecenia:"
   ]
  },
  {
   "cell_type": "code",
   "execution_count": 14,
   "metadata": {},
   "outputs": [
    {
     "data": {
      "text/plain": [
       "<matplotlib.legend.Legend at 0x75a2001c3400>"
      ]
     },
     "execution_count": 14,
     "metadata": {},
     "output_type": "execute_result"
    },
    {
     "data": {
      "image/png": "[encoded data removed]",
      "text/plain": [
       "<Figure size 640x480 with 1 Axes>"
      ]
     },
     "metadata": {},
     "output_type": "display_data"
    }
   ],
   "source": [
    "fig, ax = plt.subplots()\n",
    "df.groupby('year')['horsepower'].mean().plot(ax=ax,\n",
    "label='horsepower')\n",
    "ax.legend()"
   ]
  },
  {
   "cell_type": "markdown",
   "metadata": {},
   "source": [
    "3. W przypadku wykresów liniowych można skonfigurować kolor, wagę, znaczniki i styl linii\n",
    "parametry ls, lw, marker i color:"
   ]
  },
  {
   "cell_type": "code",
   "execution_count": 15,
   "metadata": {},
   "outputs": [
    {
     "data": {
      "text/plain": [
       "<Axes: xlabel='year'>"
      ]
     },
     "execution_count": 15,
     "metadata": {},
     "output_type": "execute_result"
    },
    {
     "data": {
      "image/png": "[encoded data removed]",
      "text/plain": [
       "<Figure size 640x480 with 1 Axes>"
      ]
     },
     "metadata": {},
     "output_type": "display_data"
    }
   ],
   "source": [
    "df.groupby('year')['horsepower'].mean().plot(ls='-.', color='r', lw=3)"
   ]
  },
  {
   "cell_type": "markdown",
   "metadata": {},
   "source": [
    "4. Możemy także skonfigurować wielkość figury. Parametr figsize można przekazać do wszystkich wykresów\n",
    "działa jako krotka (oś x, oś y) o rozmiarze w calach:"
   ]
  },
  {
   "cell_type": "code",
   "execution_count": 17,
   "metadata": {},
   "outputs": [
    {
     "data": {
      "image/png": "[encoded data removed]",
      "text/plain": [
       "<Figure size 640x480 with 1 Axes>"
      ]
     },
     "metadata": {},
     "output_type": "display_data"
    }
   ],
   "source": [
    "df.plot(kind='scatter', x='weight', y='horsepower')\n",
    "figsize=(20,10)"
   ]
  },
  {
   "cell_type": "markdown",
   "metadata": {},
   "source": [
    "# Ćwiczenie 15: Praca z arkuszami stylów Matplotlib"
   ]
  },
  {
   "cell_type": "markdown",
   "metadata": {},
   "source": [
    "1. Najpierw wydrukujmy listę dostępnych stylów za pomocą następującego polecenia:"
   ]
  },
  {
   "cell_type": "code",
   "execution_count": 18,
   "metadata": {},
   "outputs": [
    {
     "name": "stdout",
     "output_type": "stream",
     "text": [
      "['Solarize_Light2', '_classic_test_patch', '_mpl-gallery', '_mpl-gallery-nogrid', 'bmh', 'classic', 'dark_background', 'fast', 'fivethirtyeight', 'ggplot', 'grayscale', 'seaborn-v0_8', 'seaborn-v0_8-bright', 'seaborn-v0_8-colorblind', 'seaborn-v0_8-dark', 'seaborn-v0_8-dark-palette', 'seaborn-v0_8-darkgrid', 'seaborn-v0_8-deep', 'seaborn-v0_8-muted', 'seaborn-v0_8-notebook', 'seaborn-v0_8-paper', 'seaborn-v0_8-pastel', 'seaborn-v0_8-poster', 'seaborn-v0_8-talk', 'seaborn-v0_8-ticks', 'seaborn-v0_8-white', 'seaborn-v0_8-whitegrid', 'tableau-colorblind10']\n"
     ]
    }
   ],
   "source": [
    "import matplotlib.pyplot as plt\n",
    "print(plt.style.available)"
   ]
  },
  {
   "cell_type": "markdown",
   "metadata": {},
   "source": [
    "2. Teraz utwórzmy wykres punktowy w stylu klasycznym."
   ]
  },
  {
   "cell_type": "code",
   "execution_count": 19,
   "metadata": {},
   "outputs": [
    {
     "data": {
      "text/plain": [
       "<Axes: xlabel='weight', ylabel='horsepower'>"
      ]
     },
     "execution_count": 19,
     "metadata": {},
     "output_type": "execute_result"
    },
    {
     "data": {
      "image/png": "[encoded data removed]",
      "text/plain": [
       "<Figure size 640x480 with 1 Axes>"
      ]
     },
     "metadata": {},
     "output_type": "display_data"
    }
   ],
   "source": [
    "plt.style.use(['classic'])\n",
    "df.plot(kind='scatter', x='weight', y='horsepower')"
   ]
  },
  {
   "cell_type": "markdown",
   "metadata": {},
   "source": [
    "# Ćwiczenie 17: Wykonywanie operacji na ramkach danych w Spark"
   ]
  },
  {
   "cell_type": "markdown",
   "metadata": {},
   "source": [
    "Zacznijmy używać Sparka do wykonywania operacji wejścia/wyjścia i prostych operacji agregacji. Chcemy czytać plik CSV, tak jak to zrobiliśmy wcześniej, aby przeprowadzić na nim analizę:"
   ]
  },
  {
   "cell_type": "code",
   "execution_count": null,
   "metadata": {},
   "outputs": [],
   "source": [
    "from pyspark.sql import SparkSession\n",
    "spark = SparkSession.builder.appName('Python Spark Session').getOrCreate()"
   ]
  },
  {
   "cell_type": "code",
   "execution_count": null,
   "metadata": {},
   "outputs": [],
   "source": [
    "df = spark.read.csv('people.csv', header=True)"
   ]
  },
  {
   "cell_type": "code",
   "execution_count": null,
   "metadata": {},
   "outputs": [],
   "source": [
    "df.show()"
   ]
  },
  {
   "cell_type": "markdown",
   "metadata": {},
   "source": [
    "# Ćwiczenie 18: Dostęp do danych za pomocą platformy Spark"
   ]
  },
  {
   "cell_type": "markdown",
   "metadata": {},
   "source": [
    "Po przeczytaniu naszej DataFrame i pokazaniu jej zawartości chcemy przystąpić do manipulacji danymi tzw\n",
    "że możemy przeprowadzić analizę. Możemy uzyskać dostęp do danych przy użyciu tej samej składni wyboru NumPy, zapewniając nazwę kolumny jako dane wejściowe. Należy pamiętać, że zwracany obiekt jest typu Column:"
   ]
  },
  {
   "cell_type": "code",
   "execution_count": null,
   "metadata": {},
   "outputs": [],
   "source": [
    "df['age'].column['age']\n",
    "df.select(df['age'])\n",
    "df.select(df['age'].show())"
   ]
  },
  {
   "cell_type": "markdown",
   "metadata": {},
   "source": [
    "# Ćwiczenie 20: Zapisywanie danych zwrotnych"
   ]
  },
  {
   "cell_type": "markdown",
   "metadata": {},
   "source": [
    "Jak widzieliśmy w przypadku pand, po wykonaniu pewnych operacji i przekształceń powiedzmy, że my\n",
    "chcesz zapisać wyniki z powrotem do lokalnego systemu plików. Może to być bardzo przydatne, gdy kończymy\n",
    "analizę i chcemy podzielić się wynikami z innymi zespołami lub chcemy pokazać nasze dane i wyniki\n",
    "przy użyciu innych narzędzi:"
   ]
  },
  {
   "cell_type": "code",
   "execution_count": null,
   "metadata": {},
   "outputs": [],
   "source": [
    "df.write.csv('results.csv', header=True)\n",
    "df = spark.read.csv('results12.csv', header=True)\n",
    "df.show()\n",
    "df.write.json('json_results.json')"
   ]
  },
  {
   "cell_type": "markdown",
   "metadata": {},
   "source": [
    "# Ćwiczenie 21: Zapisywanie plików do parkietu"
   ]
  },
  {
   "cell_type": "markdown",
   "metadata": {},
   "source": [
    "Załóżmy, że otrzymaliśmy wiele plików CSV i musimy przeprowadzić ich analizę. Potrzebujemy także\n",
    "aby zmniejszyć rozmiar woluminu danych. Możemy to zrobić za pomocą Spark i Parquet. Użyj pliku carPARK.json z poprzedniej działalności."
   ]
  },
  {
   "cell_type": "code",
   "execution_count": null,
   "metadata": {},
   "outputs": [],
   "source": [
    "dfs = spark.read.json('carsSPARK.json')\n",
    "dfs.show()\n",
    "dfs1=spark.read.parquet('dataFile')\n",
    "dfs1.show()"
   ]
  },
  {
   "cell_type": "markdown",
   "metadata": {},
   "source": [
    "Metoda write.parquet tworzy folder o nazwie plik_danych zawierający plik o długiej nazwie, np. część-\n",
    "00000-1932c1b2-e776-48c8-9c96-2875bf76769b-c000.snappy.parkiet"
   ]
  },
  {
   "cell_type": "markdown",
   "metadata": {},
   "source": [
    "# Ćwiczenie 22: Tworzenie podzielonego na partycje zbioru danych"
   ]
  },
  {
   "cell_type": "code",
   "execution_count": null,
   "metadata": {},
   "outputs": [],
   "source": [
    "dfs1=spark.read.parquet('dataFile')\n",
    "dfs1.write.parquet('dataFilePartitioned1', partitionBy=['year', 'cylinders'], compression='snappy')\n",
    "dfs2=spark.read.parquet('dataFilePartitioned1')"
   ]
  }
 ],
 "metadata": {
  "kernelspec": {
   "display_name": "Python 3",
   "language": "python",
   "name": "python3"
  },
  "language_info": {
   "codemirror_mode": {
    "name": "ipython",
    "version": 3
   },
   "file_extension": ".py",
   "mimetype": "text/x-python",
   "name": "python",
   "nbconvert_exporter": "python",
   "pygments_lexer": "ipython3",
   "version": "3.10.13"
  }
 },
 "nbformat": 4,
 "nbformat_minor": 2
}
