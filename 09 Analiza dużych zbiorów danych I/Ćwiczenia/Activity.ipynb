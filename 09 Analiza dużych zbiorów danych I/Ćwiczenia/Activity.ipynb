{
 "cells": [
  {
   "cell_type": "markdown",
   "metadata": {},
   "source": [
    "# Activity 1: IPython i Jupyter"
   ]
  },
  {
   "cell_type": "markdown",
   "metadata": {},
   "source": [
    "Zademonstrujmy powszechny rozwój języka Python w IPython i Jupyter. Zaimportujemy NumPy,\n",
    "zdefiniuj funkcję i iteruj wyniki."
   ]
  },
  {
   "cell_type": "markdown",
   "metadata": {},
   "source": [
    "1. Aby zaimportować NumPy, użyj:"
   ]
  },
  {
   "cell_type": "code",
   "execution_count": 2,
   "metadata": {},
   "outputs": [],
   "source": [
    "import numpy as np"
   ]
  },
  {
   "cell_type": "markdown",
   "metadata": {},
   "source": [
    "2. Utwórz funkcję kwadratPlus(x,c), która obliczy wartość: y=x^2+c"
   ]
  },
  {
   "cell_type": "code",
   "execution_count": 3,
   "metadata": {},
   "outputs": [],
   "source": [
    "def squarePlus(x,c):\n",
    "    y = x^2 + c\n",
    "    return y"
   ]
  },
  {
   "cell_type": "markdown",
   "metadata": {},
   "source": [
    "3. Uruchom swój kod w IPythonie i Jupyterze"
   ]
  },
  {
   "cell_type": "code",
   "execution_count": 4,
   "metadata": {},
   "outputs": [
    {
     "data": {
      "text/plain": [
       "1"
      ]
     },
     "execution_count": 4,
     "metadata": {},
     "output_type": "execute_result"
    }
   ],
   "source": [
    "squarePlus(2,1)"
   ]
  },
  {
   "cell_type": "markdown",
   "metadata": {},
   "source": [
    "# Activity 2: Praca z problemami z danymi"
   ]
  },
  {
   "cell_type": "markdown",
   "metadata": {},
   "source": [
    "Przed rozpoczęciem analizy musimy sprawdzić, czy nie występują problemy z danymi, a kiedy je znajdziemy (co jest bardzo powszechne!), musimy rozwiązać problemy, przekształcając ramkę DataFrame. Można to zrobić w jeden sposób oznacza to na przykład zastosowanie funkcji do kolumny lub całej ramki DataFrame. Jest to powszechne niektóre liczby w ramce danych po jej odczytaniu nie są poprawnie konwertowane na liczby zmiennoprzecinkowe liczby. Rozwiążmy ten problem, stosując funkcje:"
   ]
  },
  {
   "cell_type": "markdown",
   "metadata": {},
   "source": [
    "1. Zaimportuj Pandas i bibliotekę numpy."
   ]
  },
  {
   "cell_type": "code",
   "execution_count": 5,
   "metadata": {},
   "outputs": [],
   "source": [
    "import pandas as pd\n",
    "import numpy as np"
   ]
  },
  {
   "cell_type": "markdown",
   "metadata": {},
   "source": [
    "2. Przeczytaj zbiór danych RadNet udostępniony przez Agencję Ochrony Środowiska Stanów Zjednoczonych."
   ]
  },
  {
   "cell_type": "code",
   "execution_count": 6,
   "metadata": {},
   "outputs": [
    {
     "data": {
      "text/html": [
       "<div>\n",
       "<style scoped>\n",
       "    .dataframe tbody tr th:only-of-type {\n",
       "        vertical-align: middle;\n",
       "    }\n",
       "\n",
       "    .dataframe tbody tr th {\n",
       "        vertical-align: top;\n",
       "    }\n",
       "\n",
       "    .dataframe thead th {\n",
       "        text-align: right;\n",
       "    }\n",
       "</style>\n",
       "<table border=\"1\" class=\"dataframe\">\n",
       "  <thead>\n",
       "    <tr style=\"text-align: right;\">\n",
       "      <th></th>\n",
       "      <th>State</th>\n",
       "      <th>Location</th>\n",
       "      <th>Date Posted</th>\n",
       "      <th>Date Collected</th>\n",
       "      <th>Sample Type</th>\n",
       "      <th>Unit</th>\n",
       "      <th>Ba-140</th>\n",
       "      <th>Co-60</th>\n",
       "      <th>Cs-134</th>\n",
       "      <th>Cs-136</th>\n",
       "      <th>Cs-137</th>\n",
       "      <th>I-131</th>\n",
       "      <th>I-132</th>\n",
       "      <th>I-133</th>\n",
       "      <th>Te-129</th>\n",
       "      <th>Te-129m</th>\n",
       "      <th>Te-132</th>\n",
       "    </tr>\n",
       "  </thead>\n",
       "  <tbody>\n",
       "    <tr>\n",
       "      <th>0</th>\n",
       "      <td>ID</td>\n",
       "      <td>Boise</td>\n",
       "      <td>03/30/2011</td>\n",
       "      <td>03/23/2011</td>\n",
       "      <td>Air Filter</td>\n",
       "      <td>pCi/m3</td>\n",
       "      <td>Non-detect</td>\n",
       "      <td>Non-detect</td>\n",
       "      <td>Non-detect</td>\n",
       "      <td>NaN</td>\n",
       "      <td>Non-detect</td>\n",
       "      <td>0.088</td>\n",
       "      <td>Non-detect</td>\n",
       "      <td>Non-detect</td>\n",
       "      <td>NaN</td>\n",
       "      <td>NaN</td>\n",
       "      <td>Non-detect</td>\n",
       "    </tr>\n",
       "    <tr>\n",
       "      <th>1</th>\n",
       "      <td>ID</td>\n",
       "      <td>Boise</td>\n",
       "      <td>03/30/2011</td>\n",
       "      <td>03/23/2011</td>\n",
       "      <td>Air Filter</td>\n",
       "      <td>pCi/m3</td>\n",
       "      <td>Non-detect</td>\n",
       "      <td>Non-detect</td>\n",
       "      <td>Non-detect</td>\n",
       "      <td>NaN</td>\n",
       "      <td>Non-detect</td>\n",
       "      <td>0.055</td>\n",
       "      <td>Non-detect</td>\n",
       "      <td>Non-detect</td>\n",
       "      <td>NaN</td>\n",
       "      <td>NaN</td>\n",
       "      <td>Non-detect</td>\n",
       "    </tr>\n",
       "    <tr>\n",
       "      <th>2</th>\n",
       "      <td>AK</td>\n",
       "      <td>Juneau</td>\n",
       "      <td>03/30/2011</td>\n",
       "      <td>03/23/2011</td>\n",
       "      <td>Air Filter</td>\n",
       "      <td>pCi/m3</td>\n",
       "      <td>Non-detect</td>\n",
       "      <td>Non-detect</td>\n",
       "      <td>0.0057</td>\n",
       "      <td>NaN</td>\n",
       "      <td>0.0074</td>\n",
       "      <td>0.067</td>\n",
       "      <td>Non-detect</td>\n",
       "      <td>Non-detect</td>\n",
       "      <td>NaN</td>\n",
       "      <td>NaN</td>\n",
       "      <td>0.0043</td>\n",
       "    </tr>\n",
       "    <tr>\n",
       "      <th>3</th>\n",
       "      <td>AK</td>\n",
       "      <td>Nome</td>\n",
       "      <td>03/30/2011</td>\n",
       "      <td>03/22/2011</td>\n",
       "      <td>Air Filter</td>\n",
       "      <td>pCi/m3</td>\n",
       "      <td>Non-detect</td>\n",
       "      <td>Non-detect</td>\n",
       "      <td>Non-detect</td>\n",
       "      <td>NaN</td>\n",
       "      <td>Non-detect</td>\n",
       "      <td>0.096</td>\n",
       "      <td>Non-detect</td>\n",
       "      <td>Non-detect</td>\n",
       "      <td>NaN</td>\n",
       "      <td>NaN</td>\n",
       "      <td>Non-detect</td>\n",
       "    </tr>\n",
       "    <tr>\n",
       "      <th>4</th>\n",
       "      <td>AK</td>\n",
       "      <td>Nome</td>\n",
       "      <td>03/30/2011</td>\n",
       "      <td>03/23/2011</td>\n",
       "      <td>Air Filter</td>\n",
       "      <td>pCi/m3</td>\n",
       "      <td>Non-detect</td>\n",
       "      <td>Non-detect</td>\n",
       "      <td>Non-detect</td>\n",
       "      <td>NaN</td>\n",
       "      <td>Non-detect</td>\n",
       "      <td>0.22</td>\n",
       "      <td>Non-detect</td>\n",
       "      <td>Non-detect</td>\n",
       "      <td>NaN</td>\n",
       "      <td>NaN</td>\n",
       "      <td>Non-detect</td>\n",
       "    </tr>\n",
       "  </tbody>\n",
       "</table>\n",
       "</div>"
      ],
      "text/plain": [
       "  State Location Date Posted Date Collected Sample Type    Unit      Ba-140  \\\n",
       "0    ID    Boise  03/30/2011     03/23/2011  Air Filter  pCi/m3  Non-detect   \n",
       "1    ID    Boise  03/30/2011     03/23/2011  Air Filter  pCi/m3  Non-detect   \n",
       "2    AK   Juneau  03/30/2011     03/23/2011  Air Filter  pCi/m3  Non-detect   \n",
       "3    AK     Nome  03/30/2011     03/22/2011  Air Filter  pCi/m3  Non-detect   \n",
       "4    AK     Nome  03/30/2011     03/23/2011  Air Filter  pCi/m3  Non-detect   \n",
       "\n",
       "        Co-60      Cs-134 Cs-136      Cs-137  I-131       I-132       I-133  \\\n",
       "0  Non-detect  Non-detect    NaN  Non-detect  0.088  Non-detect  Non-detect   \n",
       "1  Non-detect  Non-detect    NaN  Non-detect  0.055  Non-detect  Non-detect   \n",
       "2  Non-detect      0.0057    NaN      0.0074  0.067  Non-detect  Non-detect   \n",
       "3  Non-detect  Non-detect    NaN  Non-detect  0.096  Non-detect  Non-detect   \n",
       "4  Non-detect  Non-detect    NaN  Non-detect   0.22  Non-detect  Non-detect   \n",
       "\n",
       "  Te-129 Te-129m      Te-132  \n",
       "0    NaN     NaN  Non-detect  \n",
       "1    NaN     NaN  Non-detect  \n",
       "2    NaN     NaN      0.0043  \n",
       "3    NaN     NaN  Non-detect  \n",
       "4    NaN     NaN  Non-detect  "
      ]
     },
     "execution_count": 6,
     "metadata": {},
     "output_type": "execute_result"
    }
   ],
   "source": [
    "df = pd.read_csv('RadNet_Laboratory_Analysis.csv')\n",
    "df.head()"
   ]
  },
  {
   "cell_type": "markdown",
   "metadata": {},
   "source": [
    "3. Utwórz listę z kolumnami numerycznymi dla radionuklidów w zbiorze danych RadNet."
   ]
  },
  {
   "cell_type": "code",
   "execution_count": 7,
   "metadata": {},
   "outputs": [
    {
     "data": {
      "text/plain": [
       "State             object\n",
       "Location          object\n",
       "Date Posted       object\n",
       "Date Collected    object\n",
       "Sample Type       object\n",
       "Unit              object\n",
       "Ba-140            object\n",
       "Co-60             object\n",
       "Cs-134            object\n",
       "Cs-136            object\n",
       "Cs-137            object\n",
       "I-131             object\n",
       "I-132             object\n",
       "I-133             object\n",
       "Te-129            object\n",
       "Te-129m           object\n",
       "Te-132            object\n",
       "dtype: object"
      ]
     },
     "execution_count": 7,
     "metadata": {},
     "output_type": "execute_result"
    }
   ],
   "source": [
    "df.dtypes"
   ]
  },
  {
   "cell_type": "code",
   "execution_count": 8,
   "metadata": {},
   "outputs": [
    {
     "data": {
      "text/plain": [
       "['I-132',\n",
       " 'Cs-136',\n",
       " 'Co-60',\n",
       " 'Te-132',\n",
       " 'Ba-140',\n",
       " 'Cs-137',\n",
       " 'I-131',\n",
       " 'I-133',\n",
       " 'Cs-134',\n",
       " 'Te-129m',\n",
       " 'Te-129']"
      ]
     },
     "execution_count": 8,
     "metadata": {},
     "output_type": "execute_result"
    }
   ],
   "source": [
    "columns = df.columns\n",
    "id_cols = ['State', 'Location', 'Date Posted', 'Date Collected', 'Sample Type', 'Unit']\n",
    "columns = list(set(columns)-set(id_cols))\n",
    "columns"
   ]
  },
  {
   "cell_type": "markdown",
   "metadata": {},
   "source": [
    "4. Użyj metody Apply w jednej kolumnie z funkcją lambda, która porównuje wartość Brak wykrycia\n",
    "strunowy"
   ]
  },
  {
   "cell_type": "code",
   "execution_count": 9,
   "metadata": {},
   "outputs": [
    {
     "data": {
      "text/plain": [
       "841"
      ]
     },
     "execution_count": 9,
     "metadata": {},
     "output_type": "execute_result"
    }
   ],
   "source": [
    "# lambda\n",
    "func = lambda x: x**2 if x>10 else x\n",
    "func(29)"
   ]
  },
  {
   "cell_type": "code",
   "execution_count": 10,
   "metadata": {},
   "outputs": [
    {
     "data": {
      "text/plain": [
       "0       NaN\n",
       "1       NaN\n",
       "2    0.0057\n",
       "3       NaN\n",
       "4       NaN\n",
       "Name: Cs-134, dtype: object"
      ]
     },
     "execution_count": 10,
     "metadata": {},
     "output_type": "execute_result"
    }
   ],
   "source": [
    "df['Cs-134'] = df['Cs-134'].apply(lambda x: np.nan if ((x=='Non-detect') | (x=='ND')) else x)\n",
    "df['Cs-134'].head()"
   ]
  },
  {
   "cell_type": "markdown",
   "metadata": {},
   "source": [
    "5. Użyj metody Applymap, aby zamienić wartości tekstowe „Non-detect” na .np.nan we wszystkich numerach\n",
    "kolumn na raz, zrób to samo z wartością „ND”."
   ]
  },
  {
   "cell_type": "code",
   "execution_count": 11,
   "metadata": {},
   "outputs": [
    {
     "name": "stderr",
     "output_type": "stream",
     "text": [
      "/tmp/ipykernel_1317/1917651076.py:1: FutureWarning: DataFrame.applymap has been deprecated. Use DataFrame.map instead.\n",
      "  df.loc[:,columns] = df.loc[:,columns].applymap(lambda x: np.nan if ((x=='Non-detect') | (x=='ND')) else x)\n"
     ]
    },
    {
     "data": {
      "text/html": [
       "<div>\n",
       "<style scoped>\n",
       "    .dataframe tbody tr th:only-of-type {\n",
       "        vertical-align: middle;\n",
       "    }\n",
       "\n",
       "    .dataframe tbody tr th {\n",
       "        vertical-align: top;\n",
       "    }\n",
       "\n",
       "    .dataframe thead th {\n",
       "        text-align: right;\n",
       "    }\n",
       "</style>\n",
       "<table border=\"1\" class=\"dataframe\">\n",
       "  <thead>\n",
       "    <tr style=\"text-align: right;\">\n",
       "      <th></th>\n",
       "      <th>I-132</th>\n",
       "      <th>Cs-136</th>\n",
       "      <th>Co-60</th>\n",
       "      <th>Te-132</th>\n",
       "      <th>Ba-140</th>\n",
       "      <th>Cs-137</th>\n",
       "      <th>I-131</th>\n",
       "      <th>I-133</th>\n",
       "      <th>Cs-134</th>\n",
       "      <th>Te-129m</th>\n",
       "      <th>Te-129</th>\n",
       "    </tr>\n",
       "  </thead>\n",
       "  <tbody>\n",
       "    <tr>\n",
       "      <th>0</th>\n",
       "      <td>NaN</td>\n",
       "      <td>NaN</td>\n",
       "      <td>NaN</td>\n",
       "      <td>NaN</td>\n",
       "      <td>NaN</td>\n",
       "      <td>NaN</td>\n",
       "      <td>0.088</td>\n",
       "      <td>NaN</td>\n",
       "      <td>NaN</td>\n",
       "      <td>NaN</td>\n",
       "      <td>NaN</td>\n",
       "    </tr>\n",
       "    <tr>\n",
       "      <th>1</th>\n",
       "      <td>NaN</td>\n",
       "      <td>NaN</td>\n",
       "      <td>NaN</td>\n",
       "      <td>NaN</td>\n",
       "      <td>NaN</td>\n",
       "      <td>NaN</td>\n",
       "      <td>0.055</td>\n",
       "      <td>NaN</td>\n",
       "      <td>NaN</td>\n",
       "      <td>NaN</td>\n",
       "      <td>NaN</td>\n",
       "    </tr>\n",
       "    <tr>\n",
       "      <th>2</th>\n",
       "      <td>NaN</td>\n",
       "      <td>NaN</td>\n",
       "      <td>NaN</td>\n",
       "      <td>0.0043</td>\n",
       "      <td>NaN</td>\n",
       "      <td>0.0074</td>\n",
       "      <td>0.067</td>\n",
       "      <td>NaN</td>\n",
       "      <td>0.0057</td>\n",
       "      <td>NaN</td>\n",
       "      <td>NaN</td>\n",
       "    </tr>\n",
       "    <tr>\n",
       "      <th>3</th>\n",
       "      <td>NaN</td>\n",
       "      <td>NaN</td>\n",
       "      <td>NaN</td>\n",
       "      <td>NaN</td>\n",
       "      <td>NaN</td>\n",
       "      <td>NaN</td>\n",
       "      <td>0.096</td>\n",
       "      <td>NaN</td>\n",
       "      <td>NaN</td>\n",
       "      <td>NaN</td>\n",
       "      <td>NaN</td>\n",
       "    </tr>\n",
       "    <tr>\n",
       "      <th>4</th>\n",
       "      <td>NaN</td>\n",
       "      <td>NaN</td>\n",
       "      <td>NaN</td>\n",
       "      <td>NaN</td>\n",
       "      <td>NaN</td>\n",
       "      <td>NaN</td>\n",
       "      <td>0.22</td>\n",
       "      <td>NaN</td>\n",
       "      <td>NaN</td>\n",
       "      <td>NaN</td>\n",
       "      <td>NaN</td>\n",
       "    </tr>\n",
       "  </tbody>\n",
       "</table>\n",
       "</div>"
      ],
      "text/plain": [
       "  I-132 Cs-136 Co-60  Te-132 Ba-140  Cs-137  I-131 I-133  Cs-134 Te-129m  \\\n",
       "0   NaN    NaN   NaN     NaN    NaN     NaN  0.088   NaN     NaN     NaN   \n",
       "1   NaN    NaN   NaN     NaN    NaN     NaN  0.055   NaN     NaN     NaN   \n",
       "2   NaN    NaN   NaN  0.0043    NaN  0.0074  0.067   NaN  0.0057     NaN   \n",
       "3   NaN    NaN   NaN     NaN    NaN     NaN  0.096   NaN     NaN     NaN   \n",
       "4   NaN    NaN   NaN     NaN    NaN     NaN   0.22   NaN     NaN     NaN   \n",
       "\n",
       "  Te-129  \n",
       "0    NaN  \n",
       "1    NaN  \n",
       "2    NaN  \n",
       "3    NaN  \n",
       "4    NaN  "
      ]
     },
     "execution_count": 11,
     "metadata": {},
     "output_type": "execute_result"
    }
   ],
   "source": [
    "df.loc[:,columns] = df.loc[:,columns].applymap(lambda x: np.nan if ((x=='Non-detect') | (x=='ND')) else x)\n",
    "df.loc[:,columns].head()"
   ]
  },
  {
   "cell_type": "markdown",
   "metadata": {},
   "source": [
    "6. Użyj tej samej metody Applymap, aby usunąć wszystkie spacje (od początku i końca) we wszystkich pozostałych\n",
    "kolumny (nienumeryczne). Użyj metody strip(), aby usunąć spacje."
   ]
  },
  {
   "cell_type": "code",
   "execution_count": 12,
   "metadata": {},
   "outputs": [
    {
     "name": "stderr",
     "output_type": "stream",
     "text": [
      "/tmp/ipykernel_1317/2596169239.py:1: FutureWarning: DataFrame.applymap has been deprecated. Use DataFrame.map instead.\n",
      "  df.loc[:,id_cols] = df.loc[:,id_cols].applymap(lambda x: x.strip())\n"
     ]
    },
    {
     "data": {
      "text/html": [
       "<div>\n",
       "<style scoped>\n",
       "    .dataframe tbody tr th:only-of-type {\n",
       "        vertical-align: middle;\n",
       "    }\n",
       "\n",
       "    .dataframe tbody tr th {\n",
       "        vertical-align: top;\n",
       "    }\n",
       "\n",
       "    .dataframe thead th {\n",
       "        text-align: right;\n",
       "    }\n",
       "</style>\n",
       "<table border=\"1\" class=\"dataframe\">\n",
       "  <thead>\n",
       "    <tr style=\"text-align: right;\">\n",
       "      <th></th>\n",
       "      <th>State</th>\n",
       "      <th>Location</th>\n",
       "      <th>Date Posted</th>\n",
       "      <th>Date Collected</th>\n",
       "      <th>Sample Type</th>\n",
       "      <th>Unit</th>\n",
       "    </tr>\n",
       "  </thead>\n",
       "  <tbody>\n",
       "    <tr>\n",
       "      <th>0</th>\n",
       "      <td>ID</td>\n",
       "      <td>Boise</td>\n",
       "      <td>03/30/2011</td>\n",
       "      <td>03/23/2011</td>\n",
       "      <td>Air Filter</td>\n",
       "      <td>pCi/m3</td>\n",
       "    </tr>\n",
       "    <tr>\n",
       "      <th>1</th>\n",
       "      <td>ID</td>\n",
       "      <td>Boise</td>\n",
       "      <td>03/30/2011</td>\n",
       "      <td>03/23/2011</td>\n",
       "      <td>Air Filter</td>\n",
       "      <td>pCi/m3</td>\n",
       "    </tr>\n",
       "    <tr>\n",
       "      <th>2</th>\n",
       "      <td>AK</td>\n",
       "      <td>Juneau</td>\n",
       "      <td>03/30/2011</td>\n",
       "      <td>03/23/2011</td>\n",
       "      <td>Air Filter</td>\n",
       "      <td>pCi/m3</td>\n",
       "    </tr>\n",
       "    <tr>\n",
       "      <th>3</th>\n",
       "      <td>AK</td>\n",
       "      <td>Nome</td>\n",
       "      <td>03/30/2011</td>\n",
       "      <td>03/22/2011</td>\n",
       "      <td>Air Filter</td>\n",
       "      <td>pCi/m3</td>\n",
       "    </tr>\n",
       "    <tr>\n",
       "      <th>4</th>\n",
       "      <td>AK</td>\n",
       "      <td>Nome</td>\n",
       "      <td>03/30/2011</td>\n",
       "      <td>03/23/2011</td>\n",
       "      <td>Air Filter</td>\n",
       "      <td>pCi/m3</td>\n",
       "    </tr>\n",
       "  </tbody>\n",
       "</table>\n",
       "</div>"
      ],
      "text/plain": [
       "  State Location Date Posted Date Collected Sample Type    Unit\n",
       "0    ID    Boise  03/30/2011     03/23/2011  Air Filter  pCi/m3\n",
       "1    ID    Boise  03/30/2011     03/23/2011  Air Filter  pCi/m3\n",
       "2    AK   Juneau  03/30/2011     03/23/2011  Air Filter  pCi/m3\n",
       "3    AK     Nome  03/30/2011     03/22/2011  Air Filter  pCi/m3\n",
       "4    AK     Nome  03/30/2011     03/23/2011  Air Filter  pCi/m3"
      ]
     },
     "execution_count": 12,
     "metadata": {},
     "output_type": "execute_result"
    }
   ],
   "source": [
    "df.loc[:,id_cols] = df.loc[:,id_cols].applymap(lambda x: x.strip())\n",
    "df.loc[:,id_cols].head()"
   ]
  },
  {
   "cell_type": "markdown",
   "metadata": {},
   "source": [
    "Dodatkowo:\n",
    "7. Zmień typy danych kolumn za pomocą metod (użyj df.dtypes() do sprawdzenia typów danych):\n",
    "\n",
    "pd.to_datetime()\n",
    "pd.to_numeric()"
   ]
  },
  {
   "cell_type": "code",
   "execution_count": 13,
   "metadata": {},
   "outputs": [
    {
     "data": {
      "text/plain": [
       "State                     object\n",
       "Location                  object\n",
       "Date Posted       datetime64[ns]\n",
       "Date Collected    datetime64[ns]\n",
       "Sample Type               object\n",
       "Unit                      object\n",
       "Ba-140                   float64\n",
       "Co-60                    float64\n",
       "Cs-134                   float64\n",
       "Cs-136                   float64\n",
       "Cs-137                   float64\n",
       "I-131                    float64\n",
       "I-132                    float64\n",
       "I-133                    float64\n",
       "Te-129                   float64\n",
       "Te-129m                  float64\n",
       "Te-132                   float64\n",
       "dtype: object"
      ]
     },
     "execution_count": 13,
     "metadata": {},
     "output_type": "execute_result"
    }
   ],
   "source": [
    "df['Date Posted'] = pd.to_datetime(df['Date Posted'])\n",
    "df['Date Collected'] = pd.to_datetime(df['Date Collected'])\n",
    "for col in columns:\n",
    "    df[col] = pd.to_numeric(df[col])\n",
    "df.dtypes"
   ]
  },
  {
   "cell_type": "code",
   "execution_count": 14,
   "metadata": {},
   "outputs": [
    {
     "data": {
      "text/html": [
       "<div>\n",
       "<style scoped>\n",
       "    .dataframe tbody tr th:only-of-type {\n",
       "        vertical-align: middle;\n",
       "    }\n",
       "\n",
       "    .dataframe tbody tr th {\n",
       "        vertical-align: top;\n",
       "    }\n",
       "\n",
       "    .dataframe thead th {\n",
       "        text-align: right;\n",
       "    }\n",
       "</style>\n",
       "<table border=\"1\" class=\"dataframe\">\n",
       "  <thead>\n",
       "    <tr style=\"text-align: right;\">\n",
       "      <th></th>\n",
       "      <th>State</th>\n",
       "      <th>Location</th>\n",
       "      <th>Date Posted</th>\n",
       "      <th>Date Collected</th>\n",
       "      <th>Sample Type</th>\n",
       "      <th>Unit</th>\n",
       "      <th>Ba-140</th>\n",
       "      <th>Co-60</th>\n",
       "      <th>Cs-134</th>\n",
       "      <th>Cs-136</th>\n",
       "      <th>Cs-137</th>\n",
       "      <th>I-131</th>\n",
       "      <th>I-132</th>\n",
       "      <th>I-133</th>\n",
       "      <th>Te-129</th>\n",
       "      <th>Te-129m</th>\n",
       "      <th>Te-132</th>\n",
       "    </tr>\n",
       "  </thead>\n",
       "  <tbody>\n",
       "    <tr>\n",
       "      <th>0</th>\n",
       "      <td>ID</td>\n",
       "      <td>Boise</td>\n",
       "      <td>2011-03-30</td>\n",
       "      <td>2011-03-23</td>\n",
       "      <td>Air Filter</td>\n",
       "      <td>pCi/m3</td>\n",
       "      <td>NaN</td>\n",
       "      <td>NaN</td>\n",
       "      <td>NaN</td>\n",
       "      <td>NaN</td>\n",
       "      <td>NaN</td>\n",
       "      <td>0.088</td>\n",
       "      <td>NaN</td>\n",
       "      <td>NaN</td>\n",
       "      <td>NaN</td>\n",
       "      <td>NaN</td>\n",
       "      <td>NaN</td>\n",
       "    </tr>\n",
       "    <tr>\n",
       "      <th>1</th>\n",
       "      <td>ID</td>\n",
       "      <td>Boise</td>\n",
       "      <td>2011-03-30</td>\n",
       "      <td>2011-03-23</td>\n",
       "      <td>Air Filter</td>\n",
       "      <td>pCi/m3</td>\n",
       "      <td>NaN</td>\n",
       "      <td>NaN</td>\n",
       "      <td>NaN</td>\n",
       "      <td>NaN</td>\n",
       "      <td>NaN</td>\n",
       "      <td>0.055</td>\n",
       "      <td>NaN</td>\n",
       "      <td>NaN</td>\n",
       "      <td>NaN</td>\n",
       "      <td>NaN</td>\n",
       "      <td>NaN</td>\n",
       "    </tr>\n",
       "    <tr>\n",
       "      <th>2</th>\n",
       "      <td>AK</td>\n",
       "      <td>Juneau</td>\n",
       "      <td>2011-03-30</td>\n",
       "      <td>2011-03-23</td>\n",
       "      <td>Air Filter</td>\n",
       "      <td>pCi/m3</td>\n",
       "      <td>NaN</td>\n",
       "      <td>NaN</td>\n",
       "      <td>0.0057</td>\n",
       "      <td>NaN</td>\n",
       "      <td>0.0074</td>\n",
       "      <td>0.067</td>\n",
       "      <td>NaN</td>\n",
       "      <td>NaN</td>\n",
       "      <td>NaN</td>\n",
       "      <td>NaN</td>\n",
       "      <td>0.0043</td>\n",
       "    </tr>\n",
       "    <tr>\n",
       "      <th>3</th>\n",
       "      <td>AK</td>\n",
       "      <td>Nome</td>\n",
       "      <td>2011-03-30</td>\n",
       "      <td>2011-03-22</td>\n",
       "      <td>Air Filter</td>\n",
       "      <td>pCi/m3</td>\n",
       "      <td>NaN</td>\n",
       "      <td>NaN</td>\n",
       "      <td>NaN</td>\n",
       "      <td>NaN</td>\n",
       "      <td>NaN</td>\n",
       "      <td>0.096</td>\n",
       "      <td>NaN</td>\n",
       "      <td>NaN</td>\n",
       "      <td>NaN</td>\n",
       "      <td>NaN</td>\n",
       "      <td>NaN</td>\n",
       "    </tr>\n",
       "    <tr>\n",
       "      <th>4</th>\n",
       "      <td>AK</td>\n",
       "      <td>Nome</td>\n",
       "      <td>2011-03-30</td>\n",
       "      <td>2011-03-23</td>\n",
       "      <td>Air Filter</td>\n",
       "      <td>pCi/m3</td>\n",
       "      <td>NaN</td>\n",
       "      <td>NaN</td>\n",
       "      <td>NaN</td>\n",
       "      <td>NaN</td>\n",
       "      <td>NaN</td>\n",
       "      <td>0.220</td>\n",
       "      <td>NaN</td>\n",
       "      <td>NaN</td>\n",
       "      <td>NaN</td>\n",
       "      <td>NaN</td>\n",
       "      <td>NaN</td>\n",
       "    </tr>\n",
       "    <tr>\n",
       "      <th>...</th>\n",
       "      <td>...</td>\n",
       "      <td>...</td>\n",
       "      <td>...</td>\n",
       "      <td>...</td>\n",
       "      <td>...</td>\n",
       "      <td>...</td>\n",
       "      <td>...</td>\n",
       "      <td>...</td>\n",
       "      <td>...</td>\n",
       "      <td>...</td>\n",
       "      <td>...</td>\n",
       "      <td>...</td>\n",
       "      <td>...</td>\n",
       "      <td>...</td>\n",
       "      <td>...</td>\n",
       "      <td>...</td>\n",
       "      <td>...</td>\n",
       "    </tr>\n",
       "    <tr>\n",
       "      <th>601</th>\n",
       "      <td>CA</td>\n",
       "      <td>Richmond</td>\n",
       "      <td>2011-04-25</td>\n",
       "      <td>2011-04-14</td>\n",
       "      <td>Precipitation</td>\n",
       "      <td>pCi/l</td>\n",
       "      <td>NaN</td>\n",
       "      <td>NaN</td>\n",
       "      <td>8.9000</td>\n",
       "      <td>NaN</td>\n",
       "      <td>7.9000</td>\n",
       "      <td>5.900</td>\n",
       "      <td>NaN</td>\n",
       "      <td>NaN</td>\n",
       "      <td>NaN</td>\n",
       "      <td>NaN</td>\n",
       "      <td>NaN</td>\n",
       "    </tr>\n",
       "    <tr>\n",
       "      <th>602</th>\n",
       "      <td>CA</td>\n",
       "      <td>Richmond</td>\n",
       "      <td>2011-05-24</td>\n",
       "      <td>2011-04-28</td>\n",
       "      <td>Precipitation</td>\n",
       "      <td>pCi/l</td>\n",
       "      <td>NaN</td>\n",
       "      <td>NaN</td>\n",
       "      <td>6.6000</td>\n",
       "      <td>NaN</td>\n",
       "      <td>5.8000</td>\n",
       "      <td>NaN</td>\n",
       "      <td>NaN</td>\n",
       "      <td>NaN</td>\n",
       "      <td>NaN</td>\n",
       "      <td>NaN</td>\n",
       "      <td>NaN</td>\n",
       "    </tr>\n",
       "    <tr>\n",
       "      <th>603</th>\n",
       "      <td>UT</td>\n",
       "      <td>Salt Lake City</td>\n",
       "      <td>2011-05-24</td>\n",
       "      <td>2011-04-14</td>\n",
       "      <td>Precipitation</td>\n",
       "      <td>pCi/l</td>\n",
       "      <td>NaN</td>\n",
       "      <td>NaN</td>\n",
       "      <td>NaN</td>\n",
       "      <td>NaN</td>\n",
       "      <td>NaN</td>\n",
       "      <td>NaN</td>\n",
       "      <td>NaN</td>\n",
       "      <td>NaN</td>\n",
       "      <td>NaN</td>\n",
       "      <td>NaN</td>\n",
       "      <td>NaN</td>\n",
       "    </tr>\n",
       "    <tr>\n",
       "      <th>604</th>\n",
       "      <td>UT</td>\n",
       "      <td>Salt Lake City</td>\n",
       "      <td>2011-05-24</td>\n",
       "      <td>2011-04-28</td>\n",
       "      <td>Precipitation</td>\n",
       "      <td>pCi/l</td>\n",
       "      <td>NaN</td>\n",
       "      <td>NaN</td>\n",
       "      <td>NaN</td>\n",
       "      <td>NaN</td>\n",
       "      <td>NaN</td>\n",
       "      <td>NaN</td>\n",
       "      <td>NaN</td>\n",
       "      <td>NaN</td>\n",
       "      <td>NaN</td>\n",
       "      <td>NaN</td>\n",
       "      <td>NaN</td>\n",
       "    </tr>\n",
       "    <tr>\n",
       "      <th>605</th>\n",
       "      <td>NY</td>\n",
       "      <td>Yaphank</td>\n",
       "      <td>2011-05-24</td>\n",
       "      <td>2011-04-28</td>\n",
       "      <td>Precipitation</td>\n",
       "      <td>pCi/l</td>\n",
       "      <td>NaN</td>\n",
       "      <td>NaN</td>\n",
       "      <td>NaN</td>\n",
       "      <td>NaN</td>\n",
       "      <td>NaN</td>\n",
       "      <td>NaN</td>\n",
       "      <td>NaN</td>\n",
       "      <td>NaN</td>\n",
       "      <td>NaN</td>\n",
       "      <td>NaN</td>\n",
       "      <td>NaN</td>\n",
       "    </tr>\n",
       "  </tbody>\n",
       "</table>\n",
       "<p>606 rows × 17 columns</p>\n",
       "</div>"
      ],
      "text/plain": [
       "    State        Location Date Posted Date Collected    Sample Type    Unit  \\\n",
       "0      ID           Boise  2011-03-30     2011-03-23     Air Filter  pCi/m3   \n",
       "1      ID           Boise  2011-03-30     2011-03-23     Air Filter  pCi/m3   \n",
       "2      AK          Juneau  2011-03-30     2011-03-23     Air Filter  pCi/m3   \n",
       "3      AK            Nome  2011-03-30     2011-03-22     Air Filter  pCi/m3   \n",
       "4      AK            Nome  2011-03-30     2011-03-23     Air Filter  pCi/m3   \n",
       "..    ...             ...         ...            ...            ...     ...   \n",
       "601    CA        Richmond  2011-04-25     2011-04-14  Precipitation   pCi/l   \n",
       "602    CA        Richmond  2011-05-24     2011-04-28  Precipitation   pCi/l   \n",
       "603    UT  Salt Lake City  2011-05-24     2011-04-14  Precipitation   pCi/l   \n",
       "604    UT  Salt Lake City  2011-05-24     2011-04-28  Precipitation   pCi/l   \n",
       "605    NY         Yaphank  2011-05-24     2011-04-28  Precipitation   pCi/l   \n",
       "\n",
       "     Ba-140  Co-60  Cs-134  Cs-136  Cs-137  I-131  I-132  I-133  Te-129  \\\n",
       "0       NaN    NaN     NaN     NaN     NaN  0.088    NaN    NaN     NaN   \n",
       "1       NaN    NaN     NaN     NaN     NaN  0.055    NaN    NaN     NaN   \n",
       "2       NaN    NaN  0.0057     NaN  0.0074  0.067    NaN    NaN     NaN   \n",
       "3       NaN    NaN     NaN     NaN     NaN  0.096    NaN    NaN     NaN   \n",
       "4       NaN    NaN     NaN     NaN     NaN  0.220    NaN    NaN     NaN   \n",
       "..      ...    ...     ...     ...     ...    ...    ...    ...     ...   \n",
       "601     NaN    NaN  8.9000     NaN  7.9000  5.900    NaN    NaN     NaN   \n",
       "602     NaN    NaN  6.6000     NaN  5.8000    NaN    NaN    NaN     NaN   \n",
       "603     NaN    NaN     NaN     NaN     NaN    NaN    NaN    NaN     NaN   \n",
       "604     NaN    NaN     NaN     NaN     NaN    NaN    NaN    NaN     NaN   \n",
       "605     NaN    NaN     NaN     NaN     NaN    NaN    NaN    NaN     NaN   \n",
       "\n",
       "     Te-129m  Te-132  \n",
       "0        NaN     NaN  \n",
       "1        NaN     NaN  \n",
       "2        NaN  0.0043  \n",
       "3        NaN     NaN  \n",
       "4        NaN     NaN  \n",
       "..       ...     ...  \n",
       "601      NaN     NaN  \n",
       "602      NaN     NaN  \n",
       "603      NaN     NaN  \n",
       "604      NaN     NaN  \n",
       "605      NaN     NaN  \n",
       "\n",
       "[606 rows x 17 columns]"
      ]
     },
     "execution_count": 14,
     "metadata": {},
     "output_type": "execute_result"
    }
   ],
   "source": [
    "df"
   ]
  },
  {
   "cell_type": "markdown",
   "metadata": {},
   "source": [
    "# Ćwiczenie 3. Wykreślanie danych za pomocą Pandas"
   ]
  },
  {
   "cell_type": "markdown",
   "metadata": {},
   "source": [
    "1. Skorzystaj z RadNet DataFrame, z którym pracowaliśmy."
   ]
  },
  {
   "cell_type": "markdown",
   "metadata": {},
   "source": [
    "2. Jak widzieliśmy wcześniej, napraw wszystkie problemy z typami danych."
   ]
  },
  {
   "cell_type": "markdown",
   "metadata": {},
   "source": [
    "3. Utwórz wykres z filtrem według lokalizacji, wybierając miasto San Bernardino i jedno radionuklid, z osią x ustawioną na datę i osią y z radionuklidem I-131."
   ]
  },
  {
   "cell_type": "code",
   "execution_count": 15,
   "metadata": {},
   "outputs": [
    {
     "data": {
      "text/plain": [
       "<Axes: xlabel='Date Collected'>"
      ]
     },
     "execution_count": 15,
     "metadata": {},
     "output_type": "execute_result"
    },
    {
     "data": {
      "image/png": "[encoded data removed]",
      "text/plain": [
       "<Figure size 640x480 with 1 Axes>"
      ]
     },
     "metadata": {},
     "output_type": "display_data"
    }
   ],
   "source": [
    "df.loc[df.Location == 'San Bernardino'].plot(x='Date Collected', y='I-131', marker='o')"
   ]
  },
  {
   "cell_type": "markdown",
   "metadata": {},
   "source": [
    "4. Utwórz wykres za pomocą pliku matplotlib.plt - w stylu Matlab - z koncentracją dwóch powiązanych radionuklidy I-131 i I-132."
   ]
  },
  {
   "cell_type": "code",
   "execution_count": 18,
   "metadata": {},
   "outputs": [
    {
     "data": {
      "text/plain": [
       "[<matplotlib.lines.Line2D at 0x78b3550c05e0>]"
      ]
     },
     "execution_count": 18,
     "metadata": {},
     "output_type": "execute_result"
    },
    {
     "data": {
      "image/png": "[encoded data removed]",
      "text/plain": [
       "<Figure size 640x480 with 1 Axes>"
      ]
     },
     "metadata": {},
     "output_type": "display_data"
    }
   ],
   "source": [
    "import matplotlib.pyplot as plt\n",
    "\n",
    "plt.plot(df['I-131'], df['I-132'], 'ro')\n",
    "plt.plot(df['I-132'],df['Cs-134'],'b*')"
   ]
  },
  {
   "cell_type": "markdown",
   "metadata": {},
   "source": [
    "5. Utwórz wykres punktowy ze stężeniami dwóch powiązanych radionuklidów, I-131 i I-132:"
   ]
  },
  {
   "cell_type": "code",
   "execution_count": 19,
   "metadata": {},
   "outputs": [
    {
     "data": {
      "image/png": "[encoded data removed]",
      "text/plain": [
       "<Figure size 640x480 with 1 Axes>"
      ]
     },
     "metadata": {},
     "output_type": "display_data"
    }
   ],
   "source": [
    "ig, ax = plt.subplots()\n",
    "ax.scatter(x=df['I-131'], y=df['I-132'])\n",
    "_ = ax.set(\n",
    "    xlabel='I-131',\n",
    "    ylabel='I132',\n",
    "    title='Comparisn between concetrations of I-131 and I-132'\n",
    ")"
   ]
  },
  {
   "cell_type": "markdown",
   "metadata": {},
   "source": [
    "# Ćwiczenie 4: Wykresy liniowe z obiektowym API i Pandas Ramki danych"
   ]
  },
  {
   "cell_type": "markdown",
   "metadata": {},
   "source": [
    "W tym ćwiczeniu najpierw utworzymy wykres liniowy szeregów czasowych na podstawie zbioru danych pliku „cars.data”. Przykład kreślenia przy użyciu pand i obiektowego API. Ten rodzaj wykresu jest powszechny w\n",
    "analizy i pomaga odpowiedzieć na pytania takie jak „czy średnia moc wzrasta, czy maleje\n",
    "z czasem?\""
   ]
  },
  {
   "cell_type": "markdown",
   "metadata": {},
   "source": [
    "Teraz postępuj zgodnie z poniższymi procedurami, aby wykreślić wykres średniej mocy rocznej za pomocą Pandas i podczas korzystania z obiektowego API.\n",
    "\n",
    "1. Zaimportuj wymagane biblioteki do notatnika Jupyter i odczytaj zbiór danych z pliku cars.data\n",
    "repozytorium zbiorów danych: matplotlib, numpy, pandas. Załaduj dane do ramki danych pandy z pliku: samochody.data"
   ]
  },
  {
   "cell_type": "code",
   "execution_count": 7,
   "metadata": {},
   "outputs": [],
   "source": [
    "import matplotlib as mpl\n",
    "import matplotlib.pyplot as plt\n",
    "import numpy as np\n",
    "import pandas as pd\n",
    "\n",
    "url = 'cars_headers.csv'\n",
    "df = pd.read_csv(url)"
   ]
  },
  {
   "cell_type": "code",
   "execution_count": 8,
   "metadata": {},
   "outputs": [
    {
     "data": {
      "text/html": [
       "<div>\n",
       "<style scoped>\n",
       "    .dataframe tbody tr th:only-of-type {\n",
       "        vertical-align: middle;\n",
       "    }\n",
       "\n",
       "    .dataframe tbody tr th {\n",
       "        vertical-align: top;\n",
       "    }\n",
       "\n",
       "    .dataframe thead th {\n",
       "        text-align: right;\n",
       "    }\n",
       "</style>\n",
       "<table border=\"1\" class=\"dataframe\">\n",
       "  <thead>\n",
       "    <tr style=\"text-align: right;\">\n",
       "      <th></th>\n",
       "      <th>Unnamed: 0</th>\n",
       "      <th>mpg</th>\n",
       "      <th>cylinders</th>\n",
       "      <th>displacement</th>\n",
       "      <th>horsepower</th>\n",
       "      <th>weight</th>\n",
       "      <th>acceleration</th>\n",
       "      <th>year</th>\n",
       "      <th>origin</th>\n",
       "      <th>name</th>\n",
       "    </tr>\n",
       "  </thead>\n",
       "  <tbody>\n",
       "    <tr>\n",
       "      <th>0</th>\n",
       "      <td>0</td>\n",
       "      <td>18.0</td>\n",
       "      <td>8</td>\n",
       "      <td>307.0</td>\n",
       "      <td>130.0</td>\n",
       "      <td>3504.0</td>\n",
       "      <td>12.0</td>\n",
       "      <td>70</td>\n",
       "      <td>1</td>\n",
       "      <td>chevrolet chevelle malibu</td>\n",
       "    </tr>\n",
       "    <tr>\n",
       "      <th>1</th>\n",
       "      <td>1</td>\n",
       "      <td>15.0</td>\n",
       "      <td>8</td>\n",
       "      <td>350.0</td>\n",
       "      <td>165.0</td>\n",
       "      <td>3693.0</td>\n",
       "      <td>11.5</td>\n",
       "      <td>70</td>\n",
       "      <td>1</td>\n",
       "      <td>buick skylark 320</td>\n",
       "    </tr>\n",
       "    <tr>\n",
       "      <th>2</th>\n",
       "      <td>2</td>\n",
       "      <td>18.0</td>\n",
       "      <td>8</td>\n",
       "      <td>318.0</td>\n",
       "      <td>150.0</td>\n",
       "      <td>3436.0</td>\n",
       "      <td>11.0</td>\n",
       "      <td>70</td>\n",
       "      <td>1</td>\n",
       "      <td>plymouth satellite</td>\n",
       "    </tr>\n",
       "    <tr>\n",
       "      <th>3</th>\n",
       "      <td>3</td>\n",
       "      <td>16.0</td>\n",
       "      <td>8</td>\n",
       "      <td>304.0</td>\n",
       "      <td>150.0</td>\n",
       "      <td>3433.0</td>\n",
       "      <td>12.0</td>\n",
       "      <td>70</td>\n",
       "      <td>1</td>\n",
       "      <td>amc rebel sst</td>\n",
       "    </tr>\n",
       "    <tr>\n",
       "      <th>4</th>\n",
       "      <td>4</td>\n",
       "      <td>17.0</td>\n",
       "      <td>8</td>\n",
       "      <td>302.0</td>\n",
       "      <td>140.0</td>\n",
       "      <td>3449.0</td>\n",
       "      <td>10.5</td>\n",
       "      <td>70</td>\n",
       "      <td>1</td>\n",
       "      <td>ford torino</td>\n",
       "    </tr>\n",
       "  </tbody>\n",
       "</table>\n",
       "</div>"
      ],
      "text/plain": [
       "   Unnamed: 0   mpg  cylinders  displacement horsepower  weight  acceleration  \\\n",
       "0           0  18.0          8         307.0      130.0  3504.0          12.0   \n",
       "1           1  15.0          8         350.0      165.0  3693.0          11.5   \n",
       "2           2  18.0          8         318.0      150.0  3436.0          11.0   \n",
       "3           3  16.0          8         304.0      150.0  3433.0          12.0   \n",
       "4           4  17.0          8         302.0      140.0  3449.0          10.5   \n",
       "\n",
       "   year  origin                       name  \n",
       "0    70       1  chevrolet chevelle malibu  \n",
       "1    70       1          buick skylark 320  \n",
       "2    70       1         plymouth satellite  \n",
       "3    70       1              amc rebel sst  \n",
       "4    70       1                ford torino  "
      ]
     },
     "execution_count": 8,
     "metadata": {},
     "output_type": "execute_result"
    }
   ],
   "source": [
    "df.head()"
   ]
  },
  {
   "cell_type": "markdown",
   "metadata": {},
   "source": [
    "2. Podaj nazwy kolumn, aby uprościć zbiór danych, jak pokazano poniżej:"
   ]
  },
  {
   "cell_type": "code",
   "execution_count": 5,
   "metadata": {},
   "outputs": [],
   "source": [
    "column_names = ['mpg', 'cylinders', 'displacement [cu]', 'horsepower', 'weight', 'acceleration', 'year', 'origin', 'name']"
   ]
  },
  {
   "cell_type": "markdown",
   "metadata": {},
   "source": [
    "3. Teraz ponownie przeczytaj nowy zbiór danych z nazwami kolumn i wyświetl go."
   ]
  },
  {
   "cell_type": "code",
   "execution_count": 11,
   "metadata": {},
   "outputs": [
    {
     "data": {
      "text/html": [
       "<div>\n",
       "<style scoped>\n",
       "    .dataframe tbody tr th:only-of-type {\n",
       "        vertical-align: middle;\n",
       "    }\n",
       "\n",
       "    .dataframe tbody tr th {\n",
       "        vertical-align: top;\n",
       "    }\n",
       "\n",
       "    .dataframe thead th {\n",
       "        text-align: right;\n",
       "    }\n",
       "</style>\n",
       "<table border=\"1\" class=\"dataframe\">\n",
       "  <thead>\n",
       "    <tr style=\"text-align: right;\">\n",
       "      <th></th>\n",
       "      <th>Unnamed: 0</th>\n",
       "      <th>mpg</th>\n",
       "      <th>cylinders</th>\n",
       "      <th>displacement</th>\n",
       "      <th>horsepower</th>\n",
       "      <th>weight</th>\n",
       "      <th>acceleration</th>\n",
       "      <th>year</th>\n",
       "      <th>origin</th>\n",
       "      <th>name</th>\n",
       "    </tr>\n",
       "  </thead>\n",
       "  <tbody>\n",
       "    <tr>\n",
       "      <th>0</th>\n",
       "      <td>0</td>\n",
       "      <td>18.0</td>\n",
       "      <td>8</td>\n",
       "      <td>307.0</td>\n",
       "      <td>130.0</td>\n",
       "      <td>3504.0</td>\n",
       "      <td>12.0</td>\n",
       "      <td>70</td>\n",
       "      <td>1</td>\n",
       "      <td>chevrolet chevelle malibu</td>\n",
       "    </tr>\n",
       "    <tr>\n",
       "      <th>1</th>\n",
       "      <td>1</td>\n",
       "      <td>15.0</td>\n",
       "      <td>8</td>\n",
       "      <td>350.0</td>\n",
       "      <td>165.0</td>\n",
       "      <td>3693.0</td>\n",
       "      <td>11.5</td>\n",
       "      <td>70</td>\n",
       "      <td>1</td>\n",
       "      <td>buick skylark 320</td>\n",
       "    </tr>\n",
       "    <tr>\n",
       "      <th>2</th>\n",
       "      <td>2</td>\n",
       "      <td>18.0</td>\n",
       "      <td>8</td>\n",
       "      <td>318.0</td>\n",
       "      <td>150.0</td>\n",
       "      <td>3436.0</td>\n",
       "      <td>11.0</td>\n",
       "      <td>70</td>\n",
       "      <td>1</td>\n",
       "      <td>plymouth satellite</td>\n",
       "    </tr>\n",
       "    <tr>\n",
       "      <th>3</th>\n",
       "      <td>3</td>\n",
       "      <td>16.0</td>\n",
       "      <td>8</td>\n",
       "      <td>304.0</td>\n",
       "      <td>150.0</td>\n",
       "      <td>3433.0</td>\n",
       "      <td>12.0</td>\n",
       "      <td>70</td>\n",
       "      <td>1</td>\n",
       "      <td>amc rebel sst</td>\n",
       "    </tr>\n",
       "    <tr>\n",
       "      <th>4</th>\n",
       "      <td>4</td>\n",
       "      <td>17.0</td>\n",
       "      <td>8</td>\n",
       "      <td>302.0</td>\n",
       "      <td>140.0</td>\n",
       "      <td>3449.0</td>\n",
       "      <td>10.5</td>\n",
       "      <td>70</td>\n",
       "      <td>1</td>\n",
       "      <td>ford torino</td>\n",
       "    </tr>\n",
       "  </tbody>\n",
       "</table>\n",
       "</div>"
      ],
      "text/plain": [
       "   Unnamed: 0   mpg  cylinders  displacement horsepower  weight  acceleration  \\\n",
       "0           0  18.0          8         307.0      130.0  3504.0          12.0   \n",
       "1           1  15.0          8         350.0      165.0  3693.0          11.5   \n",
       "2           2  18.0          8         318.0      150.0  3436.0          11.0   \n",
       "3           3  16.0          8         304.0      150.0  3433.0          12.0   \n",
       "4           4  17.0          8         302.0      140.0  3449.0          10.5   \n",
       "\n",
       "   year  origin                       name  \n",
       "0    70       1  chevrolet chevelle malibu  \n",
       "1    70       1          buick skylark 320  \n",
       "2    70       1         plymouth satellite  \n",
       "3    70       1              amc rebel sst  \n",
       "4    70       1                ford torino  "
      ]
     },
     "execution_count": 11,
     "metadata": {},
     "output_type": "execute_result"
    }
   ],
   "source": [
    "df = pd.read_csv(url)\n",
    "df.head()"
   ]
  },
  {
   "cell_type": "code",
   "execution_count": 12,
   "metadata": {},
   "outputs": [
    {
     "data": {
      "text/plain": [
       "Unnamed: 0        int64\n",
       "mpg             float64\n",
       "cylinders         int64\n",
       "displacement    float64\n",
       "horsepower       object\n",
       "weight          float64\n",
       "acceleration    float64\n",
       "year              int64\n",
       "origin            int64\n",
       "name             object\n",
       "dtype: object"
      ]
     },
     "execution_count": 12,
     "metadata": {},
     "output_type": "execute_result"
    }
   ],
   "source": [
    "df.dtypes()"
   ]
  },
  {
   "cell_type": "code",
   "execution_count": 16,
   "metadata": {},
   "outputs": [
    {
     "data": {
      "text/plain": [
       "False"
      ]
     },
     "execution_count": 16,
     "metadata": {},
     "output_type": "execute_result"
    }
   ],
   "source": [
    "'12.0'.isdigit()"
   ]
  },
  {
   "cell_type": "code",
   "execution_count": 18,
   "metadata": {},
   "outputs": [
    {
     "data": {
      "text/plain": [
       "True"
      ]
     },
     "execution_count": 18,
     "metadata": {},
     "output_type": "execute_result"
    }
   ],
   "source": [
    "'12.0'.replace('.','').isdigit()"
   ]
  },
  {
   "cell_type": "code",
   "execution_count": null,
   "metadata": {},
   "outputs": [],
   "source": [
    "df.horsepower.apply(lambda x:x.replace('.','').isdigit()==False)"
   ]
  },
  {
   "cell_type": "code",
   "execution_count": null,
   "metadata": {},
   "outputs": [],
   "source": [
    "nondigits = df.horsepower.apply(lambda x:x.replace('.','').isdigit()==False)\n",
    "df[nondigits]"
   ]
  },
  {
   "cell_type": "markdown",
   "metadata": {},
   "source": [
    "4. Istnieją pewne wartości mocy ustawione na „?”. Zmień je na NaN."
   ]
  },
  {
   "cell_type": "code",
   "execution_count": 23,
   "metadata": {},
   "outputs": [],
   "source": [
    "df.loc[df.horsepower=='?','horsepower'] = np.nan"
   ]
  },
  {
   "cell_type": "code",
   "execution_count": 24,
   "metadata": {},
   "outputs": [
    {
     "data": {
      "text/html": [
       "<div>\n",
       "<style scoped>\n",
       "    .dataframe tbody tr th:only-of-type {\n",
       "        vertical-align: middle;\n",
       "    }\n",
       "\n",
       "    .dataframe tbody tr th {\n",
       "        vertical-align: top;\n",
       "    }\n",
       "\n",
       "    .dataframe thead th {\n",
       "        text-align: right;\n",
       "    }\n",
       "</style>\n",
       "<table border=\"1\" class=\"dataframe\">\n",
       "  <thead>\n",
       "    <tr style=\"text-align: right;\">\n",
       "      <th></th>\n",
       "      <th>Unnamed: 0</th>\n",
       "      <th>mpg</th>\n",
       "      <th>cylinders</th>\n",
       "      <th>displacement</th>\n",
       "      <th>horsepower</th>\n",
       "      <th>weight</th>\n",
       "      <th>acceleration</th>\n",
       "      <th>year</th>\n",
       "      <th>origin</th>\n",
       "      <th>name</th>\n",
       "    </tr>\n",
       "  </thead>\n",
       "  <tbody>\n",
       "  </tbody>\n",
       "</table>\n",
       "</div>"
      ],
      "text/plain": [
       "Empty DataFrame\n",
       "Columns: [Unnamed: 0, mpg, cylinders, displacement, horsepower, weight, acceleration, year, origin, name]\n",
       "Index: []"
      ]
     },
     "execution_count": 24,
     "metadata": {},
     "output_type": "execute_result"
    }
   ],
   "source": [
    "df.loc[df.horsepower=='?']"
   ]
  },
  {
   "cell_type": "markdown",
   "metadata": {},
   "source": [
    "5. Konwertuj wartości mocy na numeryczne"
   ]
  },
  {
   "cell_type": "code",
   "execution_count": null,
   "metadata": {},
   "outputs": [],
   "source": [
    "df['horsepower'] = pd.to_numeric(df['horsepower'])"
   ]
  },
  {
   "cell_type": "markdown",
   "metadata": {},
   "source": [
    "6. Spójrz na wartość roku. jest podany częściowo bez tysięcy i setek. Zamień je na cały rok np.: 70 do 1970, 82 do 1982 itd. Utwórz nową kolumnę „full_date” i wypełnij ją na podstawie wartości kolumny „rok”:"
   ]
  },
  {
   "cell_type": "code",
   "execution_count": null,
   "metadata": {},
   "outputs": [],
   "source": [
    "df['full_date'] = pd.to_datetime(df.year, format='%y')"
   ]
  },
  {
   "cell_type": "markdown",
   "metadata": {},
   "source": [
    "Wypełnij kolumnę „rok” rokiem od pełnej daty utworzonej wcześniej:"
   ]
  },
  {
   "cell_type": "code",
   "execution_count": null,
   "metadata": {},
   "outputs": [],
   "source": [
    "df['year'] = df['full_date'].dt.year"
   ]
  },
  {
   "cell_type": "markdown",
   "metadata": {},
   "source": [
    "7. Sprawdź swoje zmiany."
   ]
  },
  {
   "cell_type": "code",
   "execution_count": 36,
   "metadata": {},
   "outputs": [
    {
     "data": {
      "text/html": [
       "<div>\n",
       "<style scoped>\n",
       "    .dataframe tbody tr th:only-of-type {\n",
       "        vertical-align: middle;\n",
       "    }\n",
       "\n",
       "    .dataframe tbody tr th {\n",
       "        vertical-align: top;\n",
       "    }\n",
       "\n",
       "    .dataframe thead th {\n",
       "        text-align: right;\n",
       "    }\n",
       "</style>\n",
       "<table border=\"1\" class=\"dataframe\">\n",
       "  <thead>\n",
       "    <tr style=\"text-align: right;\">\n",
       "      <th></th>\n",
       "      <th>Unnamed: 0</th>\n",
       "      <th>mpg</th>\n",
       "      <th>cylinders</th>\n",
       "      <th>displacement</th>\n",
       "      <th>horsepower</th>\n",
       "      <th>weight</th>\n",
       "      <th>acceleration</th>\n",
       "      <th>year</th>\n",
       "      <th>origin</th>\n",
       "      <th>name</th>\n",
       "      <th>full_date</th>\n",
       "    </tr>\n",
       "  </thead>\n",
       "  <tbody>\n",
       "    <tr>\n",
       "      <th>0</th>\n",
       "      <td>0</td>\n",
       "      <td>18.0</td>\n",
       "      <td>8</td>\n",
       "      <td>307.0</td>\n",
       "      <td>130.0</td>\n",
       "      <td>3504.0</td>\n",
       "      <td>12.0</td>\n",
       "      <td>1970</td>\n",
       "      <td>1</td>\n",
       "      <td>chevrolet chevelle malibu</td>\n",
       "      <td>1970-01-01</td>\n",
       "    </tr>\n",
       "    <tr>\n",
       "      <th>1</th>\n",
       "      <td>1</td>\n",
       "      <td>15.0</td>\n",
       "      <td>8</td>\n",
       "      <td>350.0</td>\n",
       "      <td>165.0</td>\n",
       "      <td>3693.0</td>\n",
       "      <td>11.5</td>\n",
       "      <td>1970</td>\n",
       "      <td>1</td>\n",
       "      <td>buick skylark 320</td>\n",
       "      <td>1970-01-01</td>\n",
       "    </tr>\n",
       "    <tr>\n",
       "      <th>2</th>\n",
       "      <td>2</td>\n",
       "      <td>18.0</td>\n",
       "      <td>8</td>\n",
       "      <td>318.0</td>\n",
       "      <td>150.0</td>\n",
       "      <td>3436.0</td>\n",
       "      <td>11.0</td>\n",
       "      <td>1970</td>\n",
       "      <td>1</td>\n",
       "      <td>plymouth satellite</td>\n",
       "      <td>1970-01-01</td>\n",
       "    </tr>\n",
       "    <tr>\n",
       "      <th>3</th>\n",
       "      <td>3</td>\n",
       "      <td>16.0</td>\n",
       "      <td>8</td>\n",
       "      <td>304.0</td>\n",
       "      <td>150.0</td>\n",
       "      <td>3433.0</td>\n",
       "      <td>12.0</td>\n",
       "      <td>1970</td>\n",
       "      <td>1</td>\n",
       "      <td>amc rebel sst</td>\n",
       "      <td>1970-01-01</td>\n",
       "    </tr>\n",
       "    <tr>\n",
       "      <th>4</th>\n",
       "      <td>4</td>\n",
       "      <td>17.0</td>\n",
       "      <td>8</td>\n",
       "      <td>302.0</td>\n",
       "      <td>140.0</td>\n",
       "      <td>3449.0</td>\n",
       "      <td>10.5</td>\n",
       "      <td>1970</td>\n",
       "      <td>1</td>\n",
       "      <td>ford torino</td>\n",
       "      <td>1970-01-01</td>\n",
       "    </tr>\n",
       "    <tr>\n",
       "      <th>...</th>\n",
       "      <td>...</td>\n",
       "      <td>...</td>\n",
       "      <td>...</td>\n",
       "      <td>...</td>\n",
       "      <td>...</td>\n",
       "      <td>...</td>\n",
       "      <td>...</td>\n",
       "      <td>...</td>\n",
       "      <td>...</td>\n",
       "      <td>...</td>\n",
       "      <td>...</td>\n",
       "    </tr>\n",
       "    <tr>\n",
       "      <th>393</th>\n",
       "      <td>393</td>\n",
       "      <td>27.0</td>\n",
       "      <td>4</td>\n",
       "      <td>140.0</td>\n",
       "      <td>86.0</td>\n",
       "      <td>2790.0</td>\n",
       "      <td>15.6</td>\n",
       "      <td>1982</td>\n",
       "      <td>1</td>\n",
       "      <td>ford mustang gl</td>\n",
       "      <td>1982-01-01</td>\n",
       "    </tr>\n",
       "    <tr>\n",
       "      <th>394</th>\n",
       "      <td>394</td>\n",
       "      <td>44.0</td>\n",
       "      <td>4</td>\n",
       "      <td>97.0</td>\n",
       "      <td>52.0</td>\n",
       "      <td>2130.0</td>\n",
       "      <td>24.6</td>\n",
       "      <td>1982</td>\n",
       "      <td>2</td>\n",
       "      <td>vw pickup</td>\n",
       "      <td>1982-01-01</td>\n",
       "    </tr>\n",
       "    <tr>\n",
       "      <th>395</th>\n",
       "      <td>395</td>\n",
       "      <td>32.0</td>\n",
       "      <td>4</td>\n",
       "      <td>135.0</td>\n",
       "      <td>84.0</td>\n",
       "      <td>2295.0</td>\n",
       "      <td>11.6</td>\n",
       "      <td>1982</td>\n",
       "      <td>1</td>\n",
       "      <td>dodge rampage</td>\n",
       "      <td>1982-01-01</td>\n",
       "    </tr>\n",
       "    <tr>\n",
       "      <th>396</th>\n",
       "      <td>396</td>\n",
       "      <td>28.0</td>\n",
       "      <td>4</td>\n",
       "      <td>120.0</td>\n",
       "      <td>79.0</td>\n",
       "      <td>2625.0</td>\n",
       "      <td>18.6</td>\n",
       "      <td>1982</td>\n",
       "      <td>1</td>\n",
       "      <td>ford ranger</td>\n",
       "      <td>1982-01-01</td>\n",
       "    </tr>\n",
       "    <tr>\n",
       "      <th>397</th>\n",
       "      <td>397</td>\n",
       "      <td>31.0</td>\n",
       "      <td>4</td>\n",
       "      <td>119.0</td>\n",
       "      <td>82.0</td>\n",
       "      <td>2720.0</td>\n",
       "      <td>19.4</td>\n",
       "      <td>1982</td>\n",
       "      <td>1</td>\n",
       "      <td>chevy s-10</td>\n",
       "      <td>1982-01-01</td>\n",
       "    </tr>\n",
       "  </tbody>\n",
       "</table>\n",
       "<p>398 rows × 11 columns</p>\n",
       "</div>"
      ],
      "text/plain": [
       "     Unnamed: 0   mpg  cylinders  displacement  horsepower  weight  \\\n",
       "0             0  18.0          8         307.0       130.0  3504.0   \n",
       "1             1  15.0          8         350.0       165.0  3693.0   \n",
       "2             2  18.0          8         318.0       150.0  3436.0   \n",
       "3             3  16.0          8         304.0       150.0  3433.0   \n",
       "4             4  17.0          8         302.0       140.0  3449.0   \n",
       "..          ...   ...        ...           ...         ...     ...   \n",
       "393         393  27.0          4         140.0        86.0  2790.0   \n",
       "394         394  44.0          4          97.0        52.0  2130.0   \n",
       "395         395  32.0          4         135.0        84.0  2295.0   \n",
       "396         396  28.0          4         120.0        79.0  2625.0   \n",
       "397         397  31.0          4         119.0        82.0  2720.0   \n",
       "\n",
       "     acceleration  year  origin                       name  full_date  \n",
       "0            12.0  1970       1  chevrolet chevelle malibu 1970-01-01  \n",
       "1            11.5  1970       1          buick skylark 320 1970-01-01  \n",
       "2            11.0  1970       1         plymouth satellite 1970-01-01  \n",
       "3            12.0  1970       1              amc rebel sst 1970-01-01  \n",
       "4            10.5  1970       1                ford torino 1970-01-01  \n",
       "..            ...   ...     ...                        ...        ...  \n",
       "393          15.6  1982       1            ford mustang gl 1982-01-01  \n",
       "394          24.6  1982       2                  vw pickup 1982-01-01  \n",
       "395          11.6  1982       1              dodge rampage 1982-01-01  \n",
       "396          18.6  1982       1                ford ranger 1982-01-01  \n",
       "397          19.4  1982       1                 chevy s-10 1982-01-01  \n",
       "\n",
       "[398 rows x 11 columns]"
      ]
     },
     "execution_count": 36,
     "metadata": {},
     "output_type": "execute_result"
    }
   ],
   "source": [
    "df"
   ]
  },
  {
   "cell_type": "markdown",
   "metadata": {},
   "source": [
    "8. Teraz zbiór danych jest gotowy do tworzenia wykresów. Wykreśl średnią moc roczną, korzystając z poniższego wzoru Komendy:"
   ]
  },
  {
   "cell_type": "code",
   "execution_count": 30,
   "metadata": {},
   "outputs": [
    {
     "data": {
      "text/plain": [
       "<Axes: xlabel='year'>"
      ]
     },
     "execution_count": 30,
     "metadata": {},
     "output_type": "execute_result"
    },
    {
     "data": {
      "image/png": "[encoded data removed]",
      "text/plain": [
       "<Figure size 640x480 with 1 Axes>"
      ]
     },
     "metadata": {},
     "output_type": "display_data"
    }
   ],
   "source": [
    "df.groupby('year')['horsepower'].mean().plot()"
   ]
  },
  {
   "cell_type": "markdown",
   "metadata": {},
   "source": [
    "9. Spróbuj wykreślić średnią moc, przyspieszenie i mpg rocznie. Pokaż to na jednej działce. Skorzystaj z groupby. To powinna być tylko jedna linia kodu"
   ]
  },
  {
   "cell_type": "code",
   "execution_count": 38,
   "metadata": {},
   "outputs": [
    {
     "data": {
      "text/plain": [
       "<Axes: xlabel='year'>"
      ]
     },
     "execution_count": 38,
     "metadata": {},
     "output_type": "execute_result"
    },
    {
     "data": {
      "image/png": "[encoded data removed]",
      "text/plain": [
       "<Figure size 640x480 with 1 Axes>"
      ]
     },
     "metadata": {},
     "output_type": "display_data"
    }
   ],
   "source": [
    "df.groupby('year').agg({'horsepower':['mean'], 'acceleration':['mean'], 'mpg':['mean']}).plot()"
   ]
  },
  {
   "cell_type": "code",
   "execution_count": 39,
   "metadata": {},
   "outputs": [
    {
     "data": {
      "text/html": [
       "<div>\n",
       "<style scoped>\n",
       "    .dataframe tbody tr th:only-of-type {\n",
       "        vertical-align: middle;\n",
       "    }\n",
       "\n",
       "    .dataframe tbody tr th {\n",
       "        vertical-align: top;\n",
       "    }\n",
       "\n",
       "    .dataframe thead tr th {\n",
       "        text-align: left;\n",
       "    }\n",
       "\n",
       "    .dataframe thead tr:last-of-type th {\n",
       "        text-align: right;\n",
       "    }\n",
       "</style>\n",
       "<table border=\"1\" class=\"dataframe\">\n",
       "  <thead>\n",
       "    <tr>\n",
       "      <th></th>\n",
       "      <th>horsepower</th>\n",
       "      <th>acceleration</th>\n",
       "      <th>mpg</th>\n",
       "    </tr>\n",
       "    <tr>\n",
       "      <th></th>\n",
       "      <th>std</th>\n",
       "      <th>std</th>\n",
       "      <th>std</th>\n",
       "    </tr>\n",
       "    <tr>\n",
       "      <th>year</th>\n",
       "      <th></th>\n",
       "      <th></th>\n",
       "      <th></th>\n",
       "    </tr>\n",
       "  </thead>\n",
       "  <tbody>\n",
       "    <tr>\n",
       "      <th>1970</th>\n",
       "      <td>53.734844</td>\n",
       "      <td>3.330982</td>\n",
       "      <td>5.339231</td>\n",
       "    </tr>\n",
       "    <tr>\n",
       "      <th>1971</th>\n",
       "      <td>38.566109</td>\n",
       "      <td>2.666171</td>\n",
       "      <td>6.591942</td>\n",
       "    </tr>\n",
       "    <tr>\n",
       "      <th>1972</th>\n",
       "      <td>41.121368</td>\n",
       "      <td>2.850032</td>\n",
       "      <td>5.435529</td>\n",
       "    </tr>\n",
       "    <tr>\n",
       "      <th>1973</th>\n",
       "      <td>46.412304</td>\n",
       "      <td>2.754222</td>\n",
       "      <td>4.700245</td>\n",
       "    </tr>\n",
       "    <tr>\n",
       "      <th>1974</th>\n",
       "      <td>29.686775</td>\n",
       "      <td>1.688532</td>\n",
       "      <td>6.420010</td>\n",
       "    </tr>\n",
       "    <tr>\n",
       "      <th>1975</th>\n",
       "      <td>26.577062</td>\n",
       "      <td>2.471737</td>\n",
       "      <td>4.940566</td>\n",
       "    </tr>\n",
       "    <tr>\n",
       "      <th>1976</th>\n",
       "      <td>32.430592</td>\n",
       "      <td>2.801419</td>\n",
       "      <td>5.889297</td>\n",
       "    </tr>\n",
       "    <tr>\n",
       "      <th>1977</th>\n",
       "      <td>36.095479</td>\n",
       "      <td>2.273391</td>\n",
       "      <td>6.675862</td>\n",
       "    </tr>\n",
       "    <tr>\n",
       "      <th>1978</th>\n",
       "      <td>28.436214</td>\n",
       "      <td>2.129915</td>\n",
       "      <td>6.898044</td>\n",
       "    </tr>\n",
       "    <tr>\n",
       "      <th>1979</th>\n",
       "      <td>28.455955</td>\n",
       "      <td>2.952931</td>\n",
       "      <td>6.794217</td>\n",
       "    </tr>\n",
       "    <tr>\n",
       "      <th>1980</th>\n",
       "      <td>18.173037</td>\n",
       "      <td>2.826694</td>\n",
       "      <td>7.037983</td>\n",
       "    </tr>\n",
       "    <tr>\n",
       "      <th>1981</th>\n",
       "      <td>18.105620</td>\n",
       "      <td>2.192509</td>\n",
       "      <td>5.591465</td>\n",
       "    </tr>\n",
       "    <tr>\n",
       "      <th>1982</th>\n",
       "      <td>13.296962</td>\n",
       "      <td>2.484844</td>\n",
       "      <td>5.392548</td>\n",
       "    </tr>\n",
       "  </tbody>\n",
       "</table>\n",
       "</div>"
      ],
      "text/plain": [
       "     horsepower acceleration       mpg\n",
       "            std          std       std\n",
       "year                                  \n",
       "1970  53.734844     3.330982  5.339231\n",
       "1971  38.566109     2.666171  6.591942\n",
       "1972  41.121368     2.850032  5.435529\n",
       "1973  46.412304     2.754222  4.700245\n",
       "1974  29.686775     1.688532  6.420010\n",
       "1975  26.577062     2.471737  4.940566\n",
       "1976  32.430592     2.801419  5.889297\n",
       "1977  36.095479     2.273391  6.675862\n",
       "1978  28.436214     2.129915  6.898044\n",
       "1979  28.455955     2.952931  6.794217\n",
       "1980  18.173037     2.826694  7.037983\n",
       "1981  18.105620     2.192509  5.591465\n",
       "1982  13.296962     2.484844  5.392548"
      ]
     },
     "execution_count": 39,
     "metadata": {},
     "output_type": "execute_result"
    }
   ],
   "source": [
    "df.groupby('year').agg({'horsepower':['std'], 'acceleration':['std'], 'mpg':['std']}).head(50)"
   ]
  },
  {
   "cell_type": "markdown",
   "metadata": {},
   "source": [
    "Scatter plots"
   ]
  },
  {
   "cell_type": "markdown",
   "metadata": {},
   "source": [
    "Wykresy punktowe pomagają nam zrozumieć korelację między dwiema zmiennymi. Umożliwiają dystrybucję\n",
    "punktów, które trzeba zobaczyć. Przykłady tworzenia wykresów punktowych przy użyciu różnych bibliotek:\n",
    "1. Matplotlib"
   ]
  },
  {
   "cell_type": "code",
   "execution_count": 42,
   "metadata": {},
   "outputs": [
    {
     "data": {
      "text/plain": [
       "<matplotlib.collections.PathCollection at 0x7d658b9d98d0>"
      ]
     },
     "execution_count": 42,
     "metadata": {},
     "output_type": "execute_result"
    },
    {
     "data": {
      "image/png": "[encoded data removed]",
      "text/plain": [
       "<Figure size 640x480 with 1 Axes>"
      ]
     },
     "metadata": {},
     "output_type": "display_data"
    }
   ],
   "source": [
    "fig, ax = plt.subplots()\n",
    "ax.scatter(x = df['mpg'], y=df['displacement'])"
   ]
  },
  {
   "cell_type": "markdown",
   "metadata": {},
   "source": [
    "2. Ramka danych Pandy"
   ]
  }
 ],
 "metadata": {
  "kernelspec": {
   "display_name": "Python 3",
   "language": "python",
   "name": "python3"
  },
  "language_info": {
   "codemirror_mode": {
    "name": "ipython",
    "version": 3
   },
   "file_extension": ".py",
   "mimetype": "text/x-python",
   "name": "python",
   "nbconvert_exporter": "python",
   "pygments_lexer": "ipython3",
   "version": "3.10.13"
  }
 },
 "nbformat": 4,
 "nbformat_minor": 2
}
