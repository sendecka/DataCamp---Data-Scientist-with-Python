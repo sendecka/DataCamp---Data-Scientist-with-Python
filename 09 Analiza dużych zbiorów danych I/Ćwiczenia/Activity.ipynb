{
 "cells": [
  {
   "cell_type": "markdown",
   "metadata": {},
   "source": [
    "# Activity 1: IPython i Jupyter"
   ]
  },
  {
   "cell_type": "markdown",
   "metadata": {},
   "source": [
    "Zademonstrujmy powszechny rozwój języka Python w IPython i Jupyter. Zaimportujemy NumPy,\n",
    "zdefiniuj funkcję i iteruj wyniki."
   ]
  },
  {
   "cell_type": "markdown",
   "metadata": {},
   "source": [
    "1. Aby zaimportować NumPy, użyj:"
   ]
  },
  {
   "cell_type": "code",
   "execution_count": 5,
   "metadata": {},
   "outputs": [],
   "source": [
    "import numpy as np"
   ]
  },
  {
   "cell_type": "markdown",
   "metadata": {},
   "source": [
    "2. Utwórz funkcję kwadratPlus(x,c), która obliczy wartość: y=x^2+c"
   ]
  },
  {
   "cell_type": "code",
   "execution_count": 15,
   "metadata": {},
   "outputs": [],
   "source": [
    "def squarePlus(x,c):\n",
    "    y = x^2 + c\n",
    "    return y"
   ]
  },
  {
   "cell_type": "markdown",
   "metadata": {},
   "source": [
    "3. Uruchom swój kod w IPythonie i Jupyterze"
   ]
  },
  {
   "cell_type": "code",
   "execution_count": 18,
   "metadata": {},
   "outputs": [
    {
     "data": {
      "text/plain": [
       "1"
      ]
     },
     "execution_count": 18,
     "metadata": {},
     "output_type": "execute_result"
    }
   ],
   "source": [
    "squarePlus(2,1)"
   ]
  },
  {
   "cell_type": "markdown",
   "metadata": {},
   "source": [
    "# Activity 2: Praca z problemami z danymi"
   ]
  },
  {
   "cell_type": "markdown",
   "metadata": {},
   "source": [
    "Przed rozpoczęciem analizy musimy sprawdzić, czy nie występują problemy z danymi, a kiedy je znajdziemy (co jest bardzo powszechne!), musimy rozwiązać problemy, przekształcając ramkę DataFrame. Można to zrobić w jeden sposób oznacza to na przykład zastosowanie funkcji do kolumny lub całej ramki DataFrame. Jest to powszechne niektóre liczby w ramce danych po jej odczytaniu nie są poprawnie konwertowane na liczby zmiennoprzecinkowe liczby. Rozwiążmy ten problem, stosując funkcje:"
   ]
  },
  {
   "cell_type": "markdown",
   "metadata": {},
   "source": [
    "1. Zaimportuj Pandas i bibliotekę numpy."
   ]
  },
  {
   "cell_type": "code",
   "execution_count": 1,
   "metadata": {},
   "outputs": [],
   "source": [
    "import pandas as pd\n",
    "import numpy as np"
   ]
  },
  {
   "cell_type": "markdown",
   "metadata": {},
   "source": [
    "2. Przeczytaj zbiór danych RadNet udostępniony przez Agencję Ochrony Środowiska Stanów Zjednoczonych."
   ]
  },
  {
   "cell_type": "code",
   "execution_count": 3,
   "metadata": {},
   "outputs": [
    {
     "data": {
      "text/html": [
       "<div>\n",
       "<style scoped>\n",
       "    .dataframe tbody tr th:only-of-type {\n",
       "        vertical-align: middle;\n",
       "    }\n",
       "\n",
       "    .dataframe tbody tr th {\n",
       "        vertical-align: top;\n",
       "    }\n",
       "\n",
       "    .dataframe thead th {\n",
       "        text-align: right;\n",
       "    }\n",
       "</style>\n",
       "<table border=\"1\" class=\"dataframe\">\n",
       "  <thead>\n",
       "    <tr style=\"text-align: right;\">\n",
       "      <th></th>\n",
       "      <th>State</th>\n",
       "      <th>Location</th>\n",
       "      <th>Date Posted</th>\n",
       "      <th>Date Collected</th>\n",
       "      <th>Sample Type</th>\n",
       "      <th>Unit</th>\n",
       "      <th>Ba-140</th>\n",
       "      <th>Co-60</th>\n",
       "      <th>Cs-134</th>\n",
       "      <th>Cs-136</th>\n",
       "      <th>Cs-137</th>\n",
       "      <th>I-131</th>\n",
       "      <th>I-132</th>\n",
       "      <th>I-133</th>\n",
       "      <th>Te-129</th>\n",
       "      <th>Te-129m</th>\n",
       "      <th>Te-132</th>\n",
       "    </tr>\n",
       "  </thead>\n",
       "  <tbody>\n",
       "    <tr>\n",
       "      <th>0</th>\n",
       "      <td>ID</td>\n",
       "      <td>Boise</td>\n",
       "      <td>03/30/2011</td>\n",
       "      <td>03/23/2011</td>\n",
       "      <td>Air Filter</td>\n",
       "      <td>pCi/m3</td>\n",
       "      <td>Non-detect</td>\n",
       "      <td>Non-detect</td>\n",
       "      <td>Non-detect</td>\n",
       "      <td>NaN</td>\n",
       "      <td>Non-detect</td>\n",
       "      <td>0.088</td>\n",
       "      <td>Non-detect</td>\n",
       "      <td>Non-detect</td>\n",
       "      <td>NaN</td>\n",
       "      <td>NaN</td>\n",
       "      <td>Non-detect</td>\n",
       "    </tr>\n",
       "    <tr>\n",
       "      <th>1</th>\n",
       "      <td>ID</td>\n",
       "      <td>Boise</td>\n",
       "      <td>03/30/2011</td>\n",
       "      <td>03/23/2011</td>\n",
       "      <td>Air Filter</td>\n",
       "      <td>pCi/m3</td>\n",
       "      <td>Non-detect</td>\n",
       "      <td>Non-detect</td>\n",
       "      <td>Non-detect</td>\n",
       "      <td>NaN</td>\n",
       "      <td>Non-detect</td>\n",
       "      <td>0.055</td>\n",
       "      <td>Non-detect</td>\n",
       "      <td>Non-detect</td>\n",
       "      <td>NaN</td>\n",
       "      <td>NaN</td>\n",
       "      <td>Non-detect</td>\n",
       "    </tr>\n",
       "    <tr>\n",
       "      <th>2</th>\n",
       "      <td>AK</td>\n",
       "      <td>Juneau</td>\n",
       "      <td>03/30/2011</td>\n",
       "      <td>03/23/2011</td>\n",
       "      <td>Air Filter</td>\n",
       "      <td>pCi/m3</td>\n",
       "      <td>Non-detect</td>\n",
       "      <td>Non-detect</td>\n",
       "      <td>0.0057</td>\n",
       "      <td>NaN</td>\n",
       "      <td>0.0074</td>\n",
       "      <td>0.067</td>\n",
       "      <td>Non-detect</td>\n",
       "      <td>Non-detect</td>\n",
       "      <td>NaN</td>\n",
       "      <td>NaN</td>\n",
       "      <td>0.0043</td>\n",
       "    </tr>\n",
       "    <tr>\n",
       "      <th>3</th>\n",
       "      <td>AK</td>\n",
       "      <td>Nome</td>\n",
       "      <td>03/30/2011</td>\n",
       "      <td>03/22/2011</td>\n",
       "      <td>Air Filter</td>\n",
       "      <td>pCi/m3</td>\n",
       "      <td>Non-detect</td>\n",
       "      <td>Non-detect</td>\n",
       "      <td>Non-detect</td>\n",
       "      <td>NaN</td>\n",
       "      <td>Non-detect</td>\n",
       "      <td>0.096</td>\n",
       "      <td>Non-detect</td>\n",
       "      <td>Non-detect</td>\n",
       "      <td>NaN</td>\n",
       "      <td>NaN</td>\n",
       "      <td>Non-detect</td>\n",
       "    </tr>\n",
       "    <tr>\n",
       "      <th>4</th>\n",
       "      <td>AK</td>\n",
       "      <td>Nome</td>\n",
       "      <td>03/30/2011</td>\n",
       "      <td>03/23/2011</td>\n",
       "      <td>Air Filter</td>\n",
       "      <td>pCi/m3</td>\n",
       "      <td>Non-detect</td>\n",
       "      <td>Non-detect</td>\n",
       "      <td>Non-detect</td>\n",
       "      <td>NaN</td>\n",
       "      <td>Non-detect</td>\n",
       "      <td>0.22</td>\n",
       "      <td>Non-detect</td>\n",
       "      <td>Non-detect</td>\n",
       "      <td>NaN</td>\n",
       "      <td>NaN</td>\n",
       "      <td>Non-detect</td>\n",
       "    </tr>\n",
       "  </tbody>\n",
       "</table>\n",
       "</div>"
      ],
      "text/plain": [
       "  State Location Date Posted Date Collected Sample Type    Unit      Ba-140  \\\n",
       "0    ID    Boise  03/30/2011     03/23/2011  Air Filter  pCi/m3  Non-detect   \n",
       "1    ID    Boise  03/30/2011     03/23/2011  Air Filter  pCi/m3  Non-detect   \n",
       "2    AK   Juneau  03/30/2011     03/23/2011  Air Filter  pCi/m3  Non-detect   \n",
       "3    AK     Nome  03/30/2011     03/22/2011  Air Filter  pCi/m3  Non-detect   \n",
       "4    AK     Nome  03/30/2011     03/23/2011  Air Filter  pCi/m3  Non-detect   \n",
       "\n",
       "        Co-60      Cs-134 Cs-136      Cs-137  I-131       I-132       I-133  \\\n",
       "0  Non-detect  Non-detect    NaN  Non-detect  0.088  Non-detect  Non-detect   \n",
       "1  Non-detect  Non-detect    NaN  Non-detect  0.055  Non-detect  Non-detect   \n",
       "2  Non-detect      0.0057    NaN      0.0074  0.067  Non-detect  Non-detect   \n",
       "3  Non-detect  Non-detect    NaN  Non-detect  0.096  Non-detect  Non-detect   \n",
       "4  Non-detect  Non-detect    NaN  Non-detect   0.22  Non-detect  Non-detect   \n",
       "\n",
       "  Te-129 Te-129m      Te-132  \n",
       "0    NaN     NaN  Non-detect  \n",
       "1    NaN     NaN  Non-detect  \n",
       "2    NaN     NaN      0.0043  \n",
       "3    NaN     NaN  Non-detect  \n",
       "4    NaN     NaN  Non-detect  "
      ]
     },
     "execution_count": 3,
     "metadata": {},
     "output_type": "execute_result"
    }
   ],
   "source": [
    "df = pd.read_csv('RadNet_Laboratory_Analysis.csv')\n",
    "df.head()"
   ]
  },
  {
   "cell_type": "markdown",
   "metadata": {},
   "source": [
    "3. Utwórz listę z kolumnami numerycznymi dla radionuklidów w zbiorze danych RadNet."
   ]
  },
  {
   "cell_type": "markdown",
   "metadata": {},
   "source": [
    "4. Użyj metody Apply w jednej kolumnie z funkcją lambda, która porównuje wartość Brak wykrycia\n",
    "strunowy"
   ]
  },
  {
   "cell_type": "markdown",
   "metadata": {},
   "source": [
    "5. Użyj metody Applymap, aby zamienić wartości tekstowe „Non-detect” na .np.nan we wszystkich numerach\n",
    "kolumn na raz, zrób to samo z wartością „ND”."
   ]
  },
  {
   "cell_type": "markdown",
   "metadata": {},
   "source": [
    "6. Użyj tej samej metody Applymap, aby usunąć wszystkie spacje (od początku i końca) we wszystkich pozostałych\n",
    "kolumny (nienumeryczne). Użyj metody strip(), aby usunąć spacje."
   ]
  },
  {
   "cell_type": "markdown",
   "metadata": {},
   "source": [
    "Dodatkowo:\n",
    "7. Zmień typy danych kolumn za pomocą metod (użyj df.dtypes() do sprawdzenia typów danych):\n",
    "pd.to_datetime()\n",
    "pd.to_numeric()"
   ]
  }
 ],
 "metadata": {
  "kernelspec": {
   "display_name": "Python 3",
   "language": "python",
   "name": "python3"
  },
  "language_info": {
   "codemirror_mode": {
    "name": "ipython",
    "version": 3
   },
   "file_extension": ".py",
   "mimetype": "text/x-python",
   "name": "python",
   "nbconvert_exporter": "python",
   "pygments_lexer": "ipython3",
   "version": "3.10.13"
  }
 },
 "nbformat": 4,
 "nbformat_minor": 2
}
