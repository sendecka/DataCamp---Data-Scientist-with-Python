{
 "cells": [
  {
   "cell_type": "markdown",
   "metadata": {},
   "source": [
    "# Ćwiczenie 1: Interakcja z powłoką Pythona przy użyciu IPythona"
   ]
  },
  {
   "cell_type": "markdown",
   "metadata": {},
   "source": [
    "Polecenia\n",
    "Rozpoczęcie pracy z powłoką Pythona jest proste. Wykonajmy następujące kroki, aby wejść w interakcję\n",
    "powłoka IPythona:\n",
    "1. Aby uruchomić powłokę Pythona, wpisz w konsoli polecenie ipython:\n",
    "> ipythona"
   ]
  },
  {
   "cell_type": "code",
   "execution_count": 2,
   "metadata": {},
   "outputs": [
    {
     "ename": "SyntaxError",
     "evalue": "invalid syntax (2541842817.py, line 1)",
     "output_type": "error",
     "traceback": [
      "\u001b[0;36m  Cell \u001b[0;32mIn[2], line 1\u001b[0;36m\u001b[0m\n\u001b[0;31m    > ipythona\u001b[0m\n\u001b[0m    ^\u001b[0m\n\u001b[0;31mSyntaxError\u001b[0m\u001b[0;31m:\u001b[0m invalid syntax\n"
     ]
    }
   ],
   "source": [
    "> ipythona"
   ]
  },
  {
   "cell_type": "markdown",
   "metadata": {},
   "source": [
    "Wskazówka: Możesz użyć „ctrl-o”, aby dodać dodatkowe linie w pojedynczej komórce Ipythona.\n",
    "Powłoka IPython jest teraz gotowa i czeka na dalsze polecenia. Najpierw wykonajmy proste ćwiczenie\n",
    "rozwiązać problem sortowania za pomocą jednej z podstawowych metod sortowania, zwanej prostym wstawianiem."
   ]
  },
  {
   "cell_type": "markdown",
   "metadata": {},
   "source": [
    "2. W powłoce IPython skopiuj i wklej następujący kod:"
   ]
  },
  {
   "cell_type": "code",
   "execution_count": 4,
   "metadata": {},
   "outputs": [
    {
     "name": "stdout",
     "output_type": "stream",
     "text": [
      "[ 5 66 62 30 53]\n"
     ]
    }
   ],
   "source": [
    "import numpy as np\n",
    "vec = np.random.randint(0, 100, size=5)\n",
    "print(vec)"
   ]
  },
  {
   "cell_type": "markdown",
   "metadata": {},
   "source": [
    "Teraz wynik losowo wygenerowanych liczb będzie podobny do następującego:\n",
    "[23, 66, 12, 54, 98, 3]"
   ]
  },
  {
   "cell_type": "markdown",
   "metadata": {},
   "source": [
    "3. Użyj poniższej logiki, aby wydrukować elementy tablicy vec w kolejności rosnącej:\n",
    "dla j w np.arange(1, vec.size):\n",
    "\n",
    "\n",
    "[3, 12, 23, 54, 66, 98]\n",
    "\n"
   ]
  },
  {
   "cell_type": "code",
   "execution_count": 9,
   "metadata": {},
   "outputs": [
    {
     "ename": "IndentationError",
     "evalue": "expected an indented block after 'for' statement on line 1 (3637368492.py, line 2)",
     "output_type": "error",
     "traceback": [
      "\u001b[0;36m  Cell \u001b[0;32mIn[9], line 2\u001b[0;36m\u001b[0m\n\u001b[0;31m    v = vec[i]\u001b[0m\n\u001b[0m    ^\u001b[0m\n\u001b[0;31mIndentationError\u001b[0m\u001b[0;31m:\u001b[0m expected an indented block after 'for' statement on line 1\n"
     ]
    }
   ],
   "source": [
    "for j in np.arange(1, vec.size):\n",
    "v = vec[j]\n",
    "i = j\n",
    "while i > 0 and vec[i-1] > v:\n",
    "vec[i] = vec[i-1]\n",
    "i = i - 1\n",
    "vec[i] = v"
   ]
  },
  {
   "cell_type": "markdown",
   "metadata": {},
   "source": [
    "Użyj polecenia print(vec), aby wydrukować dane wyjściowe na konsoli:"
   ]
  },
  {
   "cell_type": "code",
   "execution_count": null,
   "metadata": {},
   "outputs": [],
   "source": [
    "print(vec)"
   ]
  },
  {
   "cell_type": "markdown",
   "metadata": {},
   "source": [
    "4. Teraz zmodyfikuj kod. Zamiast tworzyć tablicę składającą się z 5 elementów, zmień jej parametry tak, aby była\n",
    "tworzy tablicę z 20 elementami, używając strzałki w górę do edycji wklejonego kodu. Po zmianie\n",
    "odpowiedniej sekcji, użyj strzałki w dół, aby przejść na koniec kodu i naciśnij Enter, aby go wykonać."
   ]
  },
  {
   "cell_type": "markdown",
   "metadata": {},
   "source": [
    "# Activity 1: IPython i Jupyter"
   ]
  },
  {
   "cell_type": "markdown",
   "metadata": {},
   "source": [
    "Zademonstrujmy powszechny rozwój języka Python w IPython i Jupyter. Zaimportujemy NumPy,\n",
    "zdefiniuj funkcję i iteruj wyniki."
   ]
  },
  {
   "cell_type": "markdown",
   "metadata": {},
   "source": [
    "1. Aby zaimportować NumPy, użyj:"
   ]
  },
  {
   "cell_type": "code",
   "execution_count": null,
   "metadata": {},
   "outputs": [],
   "source": [
    "import numpy as np"
   ]
  },
  {
   "cell_type": "markdown",
   "metadata": {},
   "source": [
    "2. Utwórz funkcję kwadratPlus(x,c), która obliczy wartość: y=x^2+c"
   ]
  },
  {
   "cell_type": "code",
   "execution_count": 11,
   "metadata": {},
   "outputs": [],
   "source": [
    "def squarePlus(x,c):\n",
    "    y=x**x+c\n",
    "    return y"
   ]
  },
  {
   "cell_type": "markdown",
   "metadata": {},
   "source": [
    "3. Uruchom swój kod w IPythonie i Jupyterze"
   ]
  },
  {
   "cell_type": "code",
   "execution_count": 12,
   "metadata": {},
   "outputs": [
    {
     "data": {
      "text/plain": [
       "5"
      ]
     },
     "execution_count": 12,
     "metadata": {},
     "output_type": "execute_result"
    }
   ],
   "source": [
    "squarePlus(2,1)"
   ]
  }
 ],
 "metadata": {
  "kernelspec": {
   "display_name": "Python 3",
   "language": "python",
   "name": "python3"
  },
  "language_info": {
   "codemirror_mode": {
    "name": "ipython",
    "version": 3
   },
   "file_extension": ".py",
   "mimetype": "text/x-python",
   "name": "python",
   "nbconvert_exporter": "python",
   "pygments_lexer": "ipython3",
   "version": "3.10.13"
  }
 },
 "nbformat": 4,
 "nbformat_minor": 2
}
