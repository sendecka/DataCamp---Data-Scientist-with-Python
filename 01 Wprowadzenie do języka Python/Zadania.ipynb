{
 "cells": [
  {
   "cell_type": "markdown",
   "metadata": {},
   "source": [
    "# Python Zadania"
   ]
  },
  {
   "cell_type": "markdown",
   "metadata": {},
   "source": [
    "## Zadanie 1\n",
    "\n",
    "Do zmiennej zdanie zapisz dowolne zdanie (w kodzie lub pobrane za pomocą input()), a następnie wyświetl na konsoli tekst postaci: „W tekście jest {liczba_liter1} liter {litera_1} oraz {liczba_liter2} liter {litera_2}” . W miejsca {liczba_liter1} oraz {liczba_liter2} podstaw zmienne, które będą przechowywały liczbę wystąpień danych liter (poszukaj odpowiedniej metody dla typu str). Litery, które mają być wyszukane to 4 litera nazwiska oraz 3 litera imienia osoby wykonującej ćwiczenie, np. imie = Antoni, nazwisko = Kowalski, litera_1 = imie[2], litera_2 = nazwisko[3]."
   ]
  },
  {
   "cell_type": "code",
   "execution_count": 1,
   "metadata": {},
   "outputs": [
    {
     "name": "stdout",
     "output_type": "stream",
     "text": [
      "t\n",
      "a\n",
      "W tekście jest 3 liter t oraz 7 liter a\n"
     ]
    }
   ],
   "source": [
    "zdanie = 'Ania ma kota. Kot ma na imię Dorota'\n",
    "\n",
    "imie = 'Natalia'\n",
    "nazwisko = 'Kowalska'\n",
    "\n",
    "litera_1 = imie[2]\n",
    "litera_2 = nazwisko[3]\n",
    "liczba_liter1 = zdanie.lower().count(litera_1)\n",
    "liczba_liter2 = zdanie.lower().count(litera_2)\n",
    "print(litera_1)\n",
    "print(litera_2)\n",
    "\n",
    "print(f\"W tekście jest {liczba_liter1} liter {litera_1} oraz {liczba_liter2} liter {litera_2}\")"
   ]
  },
  {
   "cell_type": "markdown",
   "metadata": {},
   "source": [
    "## Zadanie 2\n",
    "\n",
    "Przejdź na stronę https://pyformat.info/ a następnie zapisz w oddzielnym pliku .py i wykonaj 5 wybranych przykładów formatowania ciągów oznaczonego jako „New”, których nie było w przykładach z tego podrozdziału (np. z wyrównaniem, ilością pozycji liczby, znakiem itp.)."
   ]
  },
  {
   "cell_type": "code",
   "execution_count": 8,
   "metadata": {},
   "outputs": [
    {
     "name": "stdout",
     "output_type": "stream",
     "text": [
      "Witaj jestem Ania\n",
      "      Ania\n",
      "dziś jest +5\n",
      "dzisiejsza data to 2001-02-03 04:05\n",
      "dziś jest                                             słoneczny                                              dzień\n",
      "15________\n"
     ]
    }
   ],
   "source": [
    "a = \"Witaj jestem Ania\"\n",
    "print(a)\n",
    "print(\"{:>10}\".format(\"Ania\"))\n",
    "\n",
    "ba = (\"{:+d}\".format(5))\n",
    "b = \"dziś jest \" + ba\n",
    "print(b)\n",
    "\n",
    "from datetime import datetime\n",
    "data = ('{:%Y-%m-%d %H:%M}'.format(datetime(2001, 2, 3, 4, 5)))\n",
    "c = \"dzisiejsza data to \" + data\n",
    "print(c)\n",
    "\n",
    "da = ('{:{align}{width}}'.format('słoneczny', align='^', width='100'))\n",
    "print('dziś jest' + da +'dzień')\n",
    "\n",
    "\n",
    "e = 'Jest godzina 15'\n",
    "print('{:_<10}'.format('15'))"
   ]
  },
  {
   "cell_type": "markdown",
   "metadata": {},
   "source": [
    "## Zadanie 3\n",
    "\n",
    "Stwórz listę z wartościami od 1 do 10. Następnie podziel listę tak, aby pierwsze 5 liczb zostało w oryginalnej liście a pozostałe 5 znalazło się w nowej liście."
   ]
  },
  {
   "cell_type": "code",
   "execution_count": 3,
   "metadata": {},
   "outputs": [
    {
     "name": "stdout",
     "output_type": "stream",
     "text": [
      "[1, 2, 3, 4, 5, 6, 7, 8, 9, 10]\n",
      "[6, 7, 8, 9, 10]\n"
     ]
    }
   ],
   "source": [
    "lista = [1, 2, 3, 4, 5, 6, 7, 8, 9, 10]\n",
    "lista2 = list()\n",
    "lista2.extend(lista[5:])\n",
    "print(lista)\n",
    "print(lista2)"
   ]
  },
  {
   "cell_type": "markdown",
   "metadata": {},
   "source": [
    "## Zadanie 4\n",
    "\n",
    "Połącz te listy ponownie. Dodaj do listy wartość „0” na początku. Utwórz kopię połączonej listy i wyświetl listę posortowaną malejąco.\n",
    "\n"
   ]
  },
  {
   "cell_type": "code",
   "execution_count": 4,
   "metadata": {},
   "outputs": [
    {
     "name": "stdout",
     "output_type": "stream",
     "text": [
      "[10, 10, 9, 9, 8, 8, 7, 7, 6, 6, 5, 4, 3, 2, 1, 0]\n"
     ]
    }
   ],
   "source": [
    "lista3 = lista + lista2\n",
    "lista3.insert(0, 0)\n",
    "lista4 =list()\n",
    "lista4 = lista3.copy()\n",
    "lista3.sort(reverse=True)\n",
    "print(lista3)"
   ]
  },
  {
   "cell_type": "markdown",
   "metadata": {},
   "source": [
    "## Zadanie 5\n",
    "\n",
    "Napisz skrypt, który pobierze dowolny tekst ze standardowego wejścia poprzez funkcję input(). Następnie wyświetl ciąg unikalnych znaków z wczytanego zdania, zapisanych alfabetycznie małymi literami.*\n",
    "\n",
    "* wykorzystaj rzutowanie typu str na set oraz set na list i użyj funkcji sortującej listę\n",
    "\n"
   ]
  },
  {
   "cell_type": "code",
   "execution_count": 1,
   "metadata": {},
   "outputs": [
    {
     "name": "stdout",
     "output_type": "stream",
     "text": [
      "[' ', ',', 'a', 'd', 'i', 'k', 'l', 'm', 'n', 'o', 'r', 't', 'ę']\n"
     ]
    }
   ],
   "source": [
    "import string\n",
    "tekst = \"Ala ma kota, kot ma na imię Dorota\"\n",
    "tekst2 = set(tekst.lower())\n",
    "print(sorted(tekst2))"
   ]
  },
  {
   "cell_type": "markdown",
   "metadata": {},
   "source": [
    "## Zadanie 6\n",
    "\n",
    "Stwórz słownik gdzie kluczami będą numery miesięcy (rozpoczynając od 1) a wartościami nazwy polskich miesięcy."
   ]
  },
  {
   "cell_type": "code",
   "execution_count": 2,
   "metadata": {},
   "outputs": [
    {
     "name": "stdout",
     "output_type": "stream",
     "text": [
      "{1: 'styczeń', 2: 'luty', 3: 'marzec', 4: 'kwiecień', 5: 'maj', 6: 'czerwiec', 7: 'lipiec', 8: 'sierpień', 9: 'wrzesień', 10: 'październik', 11: 'lisopad', 12: 'Grudzień'}\n"
     ]
    }
   ],
   "source": [
    "slownik = {\n",
    "    1: 'styczeń',\n",
    "    2:'luty',\n",
    "    3:'marzec',\n",
    "    4:'kwiecień',\n",
    "    5:'maj',\n",
    "    6:'czerwiec',\n",
    "    7:'lipiec',\n",
    "    8:'sierpień',\n",
    "    9:'wrzesień',\n",
    "    10:'październik',\n",
    "    11:'lisopad',\n",
    "    12:'Grudzień',\n",
    "}\n",
    "print(slownik)"
   ]
  },
  {
   "cell_type": "markdown",
   "metadata": {},
   "source": [
    "## Zadanie 7\n",
    "\n",
    "Stwórz podobny słownik jak w zadaniu 4, ale z angielskimi nazwami miesięcy. Połącz teraz słowniki tak, żeby przykładowo dla kwietnia, dostać się poprzez wyrażenie: months['pl'][4] a dla wersji angielskiej poprzez months['en'][4]."
   ]
  },
  {
   "cell_type": "code",
   "execution_count": 1,
   "metadata": {},
   "outputs": [
    {
     "name": "stdout",
     "output_type": "stream",
     "text": [
      "Polskie nazwy miesięcy:\n",
      "styczeń\n",
      "luty\n",
      "marzec\n",
      "kwiecień\n",
      "maj\n",
      "czerwiec\n",
      "lipiec\n",
      "sierpień\n",
      "wrzesień\n",
      "październik\n",
      "listopad\n",
      "grudzień\n",
      "\n",
      "Angielskie nazwy miesięcy:\n",
      "January\n",
      "February\n",
      "March\n",
      "April\n",
      "May\n",
      "June\n",
      "July\n",
      "August\n",
      "September\n",
      "October\n",
      "November\n",
      "December\n"
     ]
    }
   ],
   "source": [
    "miesiace_pl = {\n",
    "    1: \"styczeń\",\n",
    "    2: \"luty\",\n",
    "    3: \"marzec\",\n",
    "    4: \"kwiecień\",\n",
    "    5: \"maj\",\n",
    "    6: \"czerwiec\",\n",
    "    7: \"lipiec\",\n",
    "    8: \"sierpień\",\n",
    "    9: \"wrzesień\",\n",
    "    10: \"październik\",\n",
    "    11: \"listopad\",\n",
    "    12: \"grudzień\"\n",
    "}\n",
    "\n",
    "months = {\n",
    "    'pl': miesiace_pl,\n",
    "    'en': {\n",
    "        1: \"January\",\n",
    "        2: \"February\",\n",
    "        3: \"March\",\n",
    "        4: \"April\",\n",
    "        5: \"May\",\n",
    "        6: \"June\",\n",
    "        7: \"July\",\n",
    "        8: \"August\",\n",
    "        9: \"September\",\n",
    "        10: \"October\",\n",
    "        11: \"November\",\n",
    "        12: \"December\"\n",
    "    }\n",
    "}\n",
    "\n",
    "# Test dostępu do miesięcy po kluczu języka i numerze miesiąca\n",
    "print(\"Polskie nazwy miesięcy:\")\n",
    "for numer in range(1, 13):\n",
    "    print(months['pl'][numer])\n",
    "\n",
    "print(\"\\nAngielskie nazwy miesięcy:\")\n",
    "for numer in range(1, 13):\n",
    "    print(months['en'][numer])"
   ]
  },
  {
   "cell_type": "markdown",
   "metadata": {},
   "source": [
    "## Zadanie 8\n",
    "\n",
    "Wykorzystując ciąg tekstowy 'Marianna' oraz metodę fromkeys() dla słowników stwórz słownik, który będzie zawierał jako klucze unikalne litery w/w imienia a jako wartość każdy klucz będzie miał przypisaną wartość 1. Poprawne wyjście: {'M': 1, 'a': 1, 'r': 1, 'i': 1, 'n': 1}"
   ]
  },
  {
   "cell_type": "code",
   "execution_count": 2,
   "metadata": {},
   "outputs": [
    {
     "name": "stdout",
     "output_type": "stream",
     "text": [
      "{'M': 1, 'a': 1, 'r': 1, 'i': 1, 'n': 1}\n"
     ]
    }
   ],
   "source": [
    "tekst = 'Marianna'\n",
    "slownik = dict.fromkeys(tekst,1)\n",
    "print(slownik)"
   ]
  },
  {
   "cell_type": "markdown",
   "metadata": {},
   "source": [
    "## Zadanie 9\n",
    "\n",
    "Wykorzystaj moduł string (dodaje się go poprzez instrukcję import string zapisaną na początku skryptu) i następnie:\n",
    "\n",
    "wczytaj ze standardowego wejścia dowolny łańcuch znaków,\n",
    "używając formatowania znaków wyświetl ile znaków oraz jaki procent (zamienionych na małe litery) z nich pokrywa się ze zbiorem znaków z: string.ascii_lowercase, string.digits.\n",
    "Przykład:\n",
    "Wejście (input):\n",
    "Ala ma kota.\n",
    "\n",
    "Wyjście (output):\n",
    "W zdaniu 'Ala ma kota.' występuje 6 znaków wspólnych ze zbiorem string.ascii_lowercase, co stanowi 23.00 % tego zbioru.\n",
    "W zdaniu 'Ala ma kota.' występuje 0 znaków wspólnych ze zbiorem string.digits, co stanowi 0.00 % tego zbioru."
   ]
  },
  {
   "cell_type": "code",
   "execution_count": 1,
   "metadata": {},
   "outputs": [
    {
     "name": "stdout",
     "output_type": "stream",
     "text": [
      "W zdaniu {'t', 'D', 'l', 'k', 'm', ' ', 'o', 'n', 'A', ',', 'ę', 'i', 'r', 'a'} występuje 9 znaków wspłólnych ze zbiorem string, co stanowi 53.84615384615385 % tego zbioru.\n",
      "W zdaniu {'t', 'D', 'l', 'k', 'm', ' ', 'o', 'n', 'A', ',', 'ę', 'i', 'r', 'a'} występuje 0 znaków wspólnych ze zbiorem string.ascii_lowercase, co stanowi 140.0 % tego zbioru.\n"
     ]
    }
   ],
   "source": [
    "import string\n",
    "\n",
    "tekst = \"Ala ma kota, kot ma na imię Dorota\"\n",
    "# input Ala ma kota, kot ma na imię Dorota\n",
    "\n",
    "tekst1 = set(tekst)\n",
    "tekst2 = set(string.ascii_lowercase)\n",
    "tekst3 = set(string.digits)\n",
    "\n",
    "wspolne1 = len(set(tekst1 & tekst2))\n",
    "jaki_procent1 = (len(tekst1) / len(tekst2)) * 100\n",
    "\n",
    "wspolne2 = len(set(tekst1 & tekst3))\n",
    "jaki_procent2 = (len(tekst1) / len(tekst3)) * 100\n",
    "\n",
    "print(f'W zdaniu {tekst1} występuje {wspolne1} znaków wspłólnych ze zbiorem string, co stanowi {jaki_procent1} % tego zbioru.')\n",
    "print(f'W zdaniu {tekst1} występuje {wspolne2} znaków wspólnych ze zbiorem string.ascii_lowercase, co stanowi {jaki_procent2} % tego zbioru.')"
   ]
  },
  {
   "cell_type": "markdown",
   "metadata": {},
   "source": [
    "## Zadanie 10\n",
    "\n",
    "Napisz kod, w którym pobierzesz za pomocą funkcji input() 3 wartości przypisując je do zmiennych: start, stop oraz step. Następnie użyj ich jako parametrów funkcji range i wykorzystując przykłady z listingu 10 wypisz wszystkie wartości ciągu wygenerowane przez tę funkcję. Zwróć uwagę na typ danych, który zwraca funkcja input() - będzie konieczna konwersja (rzutowanie)."
   ]
  },
  {
   "cell_type": "code",
   "execution_count": null,
   "metadata": {},
   "outputs": [],
   "source": [
    "params = input('Podaj start stop step:\\n')\n",
    "param_list = params.split(' ')\n",
    "start = int(param_list[0])\n",
    "stop = int(param_list[1])\n",
    "step = int(param_list[2])\n",
    "\n",
    "for i in range(start,stop,step):\n",
    "    print(i)"
   ]
  },
  {
   "cell_type": "markdown",
   "metadata": {},
   "source": [
    "## Zadanie 11\n",
    "\n",
    "Napisz skrypt, który pobiera od użytkownika zdanie i liczy w nim spacje. Wynik wyświetla na ekranie (użyj instrukcji input)."
   ]
  },
  {
   "cell_type": "code",
   "execution_count": null,
   "metadata": {},
   "outputs": [],
   "source": [
    "import sys\n",
    "print(\"Podaj pierwszą wartość:\")\n",
    "liczba1 = int(sys.stdin.readline())\n",
    "print(\"Podaj drugą wartość:\")\n",
    "liczba2 = int(sys.stdin.readline())\n",
    "wynik = str(liczba1 * liczba2)\n",
    "sys.stdout.write(wynik)"
   ]
  },
  {
   "cell_type": "markdown",
   "metadata": {},
   "source": [
    "## Zadanie 12\n",
    "\n",
    "Napisz skrypt, który pobiera od użytkownika dwie wartości i mnoży je przez siebie. Wynik wyświetla na ekranie (ale użyj instrukcji readline() i write())."
   ]
  },
  {
   "cell_type": "code",
   "execution_count": null,
   "metadata": {},
   "outputs": [],
   "source": [
    "import sys\n",
    "print(\"Podaj pierwszą wartość:\")\n",
    "liczba1 = int(sys.stdin.readline())\n",
    "print(\"Podaj drugą wartość:\")\n",
    "liczba2 = int(sys.stdin.readline())\n",
    "wynik = str(liczba1 * liczba2)\n",
    "sys.stdout.write(wynik)"
   ]
  },
  {
   "cell_type": "markdown",
   "metadata": {},
   "source": [
    "## Zadanie 13\n",
    "\n",
    "Napisz skrypt, który pobiera od użytkownika trzy liczby a, b i c. Sprawdza następujące warunki:\n",
    "\n",
    "czy a zawiera się w przedziale (0,10]\n",
    "oraz czy jednocześnie a>b lub b>c.\n",
    "Jeśli warunki są spełnione lub nie to ma się wyświetlić odpowiedni komunikat na ekranie."
   ]
  },
  {
   "cell_type": "code",
   "execution_count": null,
   "metadata": {},
   "outputs": [],
   "source": [
    "liczba1 = int(input(\"Podaj liczbę a: \"))\n",
    "liczba2 = int(input(\"Podaj liczbę b: \"))\n",
    "liczba3 = int(input(\"Podaj liczbę c: \"))\n",
    "\n",
    "print(f' \\n {liczba1}, {liczba2}, {liczba3}')\n",
    "\n",
    "if 0 < liczba1 <= 10 and (liczba1 > liczba2 or liczba2 > liczba3):\n",
    "    print(\"Warunki zostały spełnione\")\n",
    "else:\n",
    "    print(\"warunki nie zostały spełnione\")"
   ]
  },
  {
   "cell_type": "markdown",
   "metadata": {},
   "source": [
    "## Zadanie 14\n",
    "\n",
    "Napisz pętlę, która wyświetla liczby podzielne przez 5 z zakresu [0,50]"
   ]
  },
  {
   "cell_type": "code",
   "execution_count": null,
   "metadata": {},
   "outputs": [],
   "source": [
    "lista = []\n",
    "print('Wpisz dowolną liczbę')\n",
    "print('Wpisz \\'quit\\' aby zakończyć')\n",
    "while True:\n",
    "    wejście = input()\n",
    "    if wejście == 'stop':\n",
    "        break\n",
    "    lista.append(int(wejście))"
   ]
  },
  {
   "cell_type": "markdown",
   "metadata": {},
   "source": [
    "## Zadanie 15\n",
    "\n",
    "Napisz pętle (while), która pobiera liczby od użytkownika i wyświetla ich kwadraty na ekranie. Liczby pobierane są w postaci oddzielonej spacjami. Pętla kończy działanie po wpisaniu słowa quit."
   ]
  },
  {
   "cell_type": "code",
   "execution_count": null,
   "metadata": {},
   "outputs": [],
   "source": [
    "lista = []\n",
    "print('Wpisz dowolną liczbę wielocyfrową:')\n",
    "while True:\n",
    "    wejscie = input()\n",
    "    if wejscie != 'stop':\n",
    "       lista.append(int(wejscie))\n",
    "    else:\n",
    "        break\n",
    "print(f'Suma cyfr to:{suma}')"
   ]
  },
  {
   "cell_type": "markdown",
   "metadata": {},
   "source": [
    "## Zadanie 16\n",
    "\n",
    "Napisz skrypt, który odczytuje liczby od użytkownika i umieszcza je na liście. Liczby dodajemy do momentu wpisania słowa 'stop' zamiast liczby. Wykorzystaj pętle while. Po wpisaniu stop wyświetl listę liczb."
   ]
  },
  {
   "cell_type": "code",
   "execution_count": null,
   "metadata": {},
   "outputs": [],
   "source": [
    "lista = []\n",
    "print('Wpisz dowolną liczbę:')\n",
    "print('Wpisz \\'stop\\' aby zakończyć.')\n",
    "while True:\n",
    "    wejscie = input()\n",
    "    if wejscie != 'stop':\n",
    "       lista.append(int(wejscie))\n",
    "    else:\n",
    "        break\n",
    "print(f'Wartości z listy to:{lista}')"
   ]
  },
  {
   "cell_type": "markdown",
   "metadata": {},
   "source": [
    "## Zadanie 17\n",
    "\n",
    "Napisz skrypt, który odczytuje od użytkownika liczbę wielocyfrową i sumuje jej cyfry. Wynik wyświetla na ekranie. Napisz dwa rozwiązania: jedno z uzyciem pętli for a drugie z użyciem pętli while."
   ]
  },
  {
   "cell_type": "code",
   "execution_count": null,
   "metadata": {},
   "outputs": [],
   "source": [
    "liczba1 = list(input('podaj liczbę wielocyfrową:'))\n",
    "suma = 0\n",
    "x = 0\n",
    "while x < len(liczba1):\n",
    "    suma = suma + int(liczba1[x])\n",
    "    x += 1\n",
    "    print('Suma tych liczbto:', suma)\n",
    "\n",
    "# z pętlą for\n",
    "liczba1 = list(input('Podaj liczbę wielocyfrową:'))\n",
    "suma = 0\n",
    "for i in liczba1:\n",
    "    suma = suma + int(i)\n",
    "print ('Suma tych liczb to:', suma)"
   ]
  },
  {
   "cell_type": "markdown",
   "metadata": {},
   "source": [
    "## Zadanie 18\n",
    "\n",
    "Napisz skrypt, który rysuje wieżę z literek. Użytkownik podaje wysokość wieży, ale nie więcej jak 10.\n",
    "\n",
    "A\n",
    "AA\n",
    "AAA\n",
    "AAAA\n",
    "AAAAA\n",
    "AAAAAA"
   ]
  },
  {
   "cell_type": "code",
   "execution_count": null,
   "metadata": {},
   "outputs": [],
   "source": [
    "wys = int(input('Podaj wysokość wieży, ale nie więcej niż 10 pięter: '))\n",
    "if 0 < wys <= 10:\n",
    "    for x in range(1, wys + 1):\n",
    "        print('A' * x)\n",
    "else:\n",
    "    print('Liczba pięter większa niż 10')\n"
   ]
  },
  {
   "cell_type": "markdown",
   "metadata": {},
   "source": [
    "## Zadanie 19\n",
    "\n",
    "Napisz skrypt, który wyświetla i oblicza tabliczkę mnożenia od 1 do 100 w formie znanej z lekcji matematyki w szkole podstawowej."
   ]
  },
  {
   "cell_type": "code",
   "execution_count": null,
   "metadata": {},
   "outputs": [],
   "source": [
    "print('  ', end='')\n",
    "for column_index in range(1, 11):\n",
    "    print(f'{column_index:>4}', end='')\n",
    "print()\n",
    "\n",
    "for row_index in range(1, 11):\n",
    "    print(f'{row_index:>2}', end='')\n",
    "    for column_index in range(1, 11):\n",
    "        print(f'{row_index * column_index:>4}', end='')\n",
    "    print()"
   ]
  },
  {
   "cell_type": "markdown",
   "metadata": {},
   "source": [
    "## Zadanie 20\n",
    "Napisz skrypt, który rysuje diament. Użytkownik podaje wysokość nie mniej jak 3 i nie więcej jak 9, ale tylko nieparzysta wysokość.\n",
    "\n",
    "Przykład wyjścia dla wysokosc = 3\n",
    "\n",
    " o\n",
    "ooo\n",
    " o\n",
    "oraz wysokosc = 5\n",
    "\n",
    "  o\n",
    " ooo\n",
    "ooooo\n",
    " ooo\n",
    "  o\n",
    "itd."
   ]
  },
  {
   "cell_type": "code",
   "execution_count": null,
   "metadata": {},
   "outputs": [],
   "source": [
    "wysokosc_str = 5\n",
    "\n",
    "wysokosc = 0\n",
    "if wysokosc_str.isdigit():\n",
    "    wysokosc = int(wysokosc_str)\n",
    "\n",
    "# if wysokosc in [3, 5, 7, 9]\n",
    "if wysokosc in range(3, 10, 2):\n",
    "    for line in range(1, wysokosc+1, 2):\n",
    "        print(f'{\"o\" * line:^{wysokosc}}')\n",
    "    for line in range(wysokosc - 2, 0, -2):\n",
    "        print(f'{'o' * line:^{wysokosc}}')"
   ]
  },
  {
   "cell_type": "markdown",
   "metadata": {},
   "source": [
    "## Zadanie 21\n",
    "\n",
    "Zdefiniuj następujące zbiory, wykorzystując Python comprehension:\n",
    "A={1/x: x∈<1,10>}\n",
    "B={1, 2, 4, 8,…, $2^{10}$}\n",
    "C={x: x∈ B i x jest liczbą podzielną przez 4}"
   ]
  },
  {
   "cell_type": "code",
   "execution_count": null,
   "metadata": {},
   "outputs": [],
   "source": [
    "A = {1/x for x in range(1,11)}\n",
    "B = {2**i for i in range(11)}\n",
    "C = {x for x in B if x % 4 == 0}"
   ]
  },
  {
   "cell_type": "markdown",
   "metadata": {},
   "source": [
    "## Zadanie 22\n",
    "\n",
    "Wygeneruj macierz (lista dwupoziomowa) losowych wartości (sprawdź pakiet random) 4x4 i wykorzystując Python Comprehension zdefiniuj listę, która będzie zawierała tylko elementy znajdujące się na przekątnej."
   ]
  },
  {
   "cell_type": "code",
   "execution_count": null,
   "metadata": {},
   "outputs": [],
   "source": [
    "import random\n",
    "macierz = [[random.randint(1, 10) for i in range(4)] for i in range(4)]\n",
    "for i in macierz:\n",
    "    print(i)\n",
    "przekatna = [macierz[i][i] for i in range(4)]\n",
    "print(f\"Elementy na przekątnej: {przekatna}\")"
   ]
  },
  {
   "cell_type": "markdown",
   "metadata": {},
   "source": [
    "## Zadanie 23\n",
    "\n",
    "Utwórz słownik z produktami spożywczymi do kupienia. Klucz to niech będzie nazwa produktu a wartość - jednostka w jakiej się je kupuje (np. sztuki, kg itd.). Wykorzystaj Python Comprehension do zdefiniowania nowej listy, gdzie będą tylko te produkty, których wartość to sztuki.\n",
    "\n",
    "Mechanizm przedstawiony w tym podrozdziale jest bardzo przydatny, chociaż skomplikowane polecenia mogą być wyzwaniem do zinterpretowania względem „tradycyjnego” podejścia. Więcej przykładów można znaleźć w dokumentacji Pythona pod adresem https://docs.python.org/3.11/tutorial/datastructures.html#nested-list-comprehensions"
   ]
  },
  {
   "cell_type": "code",
   "execution_count": null,
   "metadata": {},
   "outputs": [],
   "source": [
    "produkty = {\n",
    "    'jabłka': 'kg',\n",
    "    'chleb': 'sztuki',\n",
    "    'mleko': 'litr',\n",
    "    'jajka': 'sztuki',\n",
    "    'masło': 'opakowanie',\n",
    "    'banany': 'kg',\n",
    "    'woda': 'butelka',\n",
    "    'ser': 'gramy',\n",
    "    'pomidory': 'kg',\n",
    "    'sok pomarańczowy': 'butelka'\n",
    "}\n",
    "\n",
    "produkty_sztuki = {produkt: jednostka for produkt, jednostka in produkty.items() if jednostka == 'sztuki'}\n",
    "\n",
    "print(\"Produkty spożywcze do kupienia w sztukach:\")\n",
    "for produkt, jednostka in produkty_sztuki.items():\n",
    "    print(f\"{produkt}: {jednostka}\")"
   ]
  },
  {
   "cell_type": "markdown",
   "metadata": {},
   "source": [
    "## Zadanie 24\n",
    "\n",
    "Zdefiniuj funkcję, która \"pyta\" użytkownika o jego imię i po jego podaniu wyświetla komunikat 'Witaj {imie}!'."
   ]
  },
  {
   "cell_type": "code",
   "execution_count": null,
   "metadata": {},
   "outputs": [],
   "source": [
    "def powitanie():\n",
    "    imie = input(\"Podaj swoje imię: \")\n",
    "    print(f\"Witaj {imie}!\")\n",
    "\n",
    "# Wywołanie funkcji\n",
    "powitanie()"
   ]
  },
  {
   "cell_type": "markdown",
   "metadata": {},
   "source": [
    "## Zadanie 25\n",
    "\n",
    "Napisz funkcję, która przyjmuje jeden argument pozycyjny, o domyślnej wartości 4, i na podstawie tego argumentu wypisuje na wyjściu (konsola) n*n tych wartości, np.: dla liczby 3:\n",
    "\n",
    "333\n",
    "333\n",
    "333"
   ]
  },
  {
   "cell_type": "code",
   "execution_count": null,
   "metadata": {},
   "outputs": [],
   "source": [
    "def wypisz_kwadrat(n=4):\n",
    "    for _ in range(n):\n",
    "        print(str(n) * n)\n",
    "\n",
    "# Przykładowe wywołania funkcji\n",
    "wypisz_kwadrat(3)\n",
    "wypisz_kwadrat() "
   ]
  },
  {
   "cell_type": "markdown",
   "metadata": {},
   "source": [
    "## Zadanie 26\n",
    "\n",
    "Wykorzystując poprzedni przykład zdefiniuj funkcję, która będzie liczyć iloczyn elementów ciągu."
   ]
  },
  {
   "cell_type": "markdown",
   "metadata": {},
   "source": [
    "## Zadanie 27\n",
    "\n",
    "Napisz funkcję, która wykorzystuje symbol **. Funkcja przyjmuje argumenty w postaci: klucz to nazwa drużyny a wartość to ilość punktów, które drużyna zdobyła. Funkcja zlicza ile jest wszystkich punktów razem i zwraca tę wartość."
   ]
  },
  {
   "cell_type": "markdown",
   "metadata": {},
   "source": [
    "## Zadanie 28\n",
    "\n",
    "Wczytaj plik zamowienia.csv i dokonaj w nim kilku przekształceń:\n",
    "\n",
    "pozbądź się znaku z (właściwie zł) z kolumny Utarg\n",
    "zamień separator wartości dziesiętnej w tej samej kolumnie na '.'\n",
    "pozbądź się spacji jako separatora tysięcy w kolumnie Utarg\n",
    "zamień format daty w pliku na RRRR-MM-DD\n",
    "Podziel plik na dwie części i zapisz je tak, aby dane dla każdego kraju (Polska, Niemcy) znajdowały się w oddzielnych plikach o nazwach zamowienia_polska.csv i zamowienia_niemcy.csv."
   ]
  },
  {
   "cell_type": "markdown",
   "metadata": {},
   "source": [
    "## Zadanie 29\n",
    "\n",
    "Napisz funkcję, która przyjmuje listę plików oraz nazwę nowego pliku jako argumenty wejściowe. Funkcja scala zawartość plików w jeden plik wynikowy o podanej wcześniej nazwie."
   ]
  },
  {
   "cell_type": "markdown",
   "metadata": {},
   "source": [
    "\n",
    "\n",
    "Zadania powtórzeniowe\n",
    "Zadanie 3\n",
    "\n",
    "Napisz funkcję, która będzie zwracała 3 największe wartości z listy numerycznej. Lista jest parametrem wejściowym funkcji.\n",
    "\n",
    "Zadanie 4\n",
    "\n",
    "Mając listę mieszana = [1, 2.3, ‘Zbyszek’, 5, ‘Marian’, 3.0] napisz funkcję, która zapisze wartości dla każdego typu do słownika gdzie pod kluczem równym nazwie typu zmiennej (int, float, str, itp.) wartością będzie lista elementów z listy 'mieszana' danego typu. Przykład: {'int': [1,5], 'str': ['Zbyszek','Marian']} itd.\n",
    "\n",
    "Zadanie 5\n",
    "\n",
    "Napisz funkcję:\n",
    "\n",
    "parametr wejściowy to lista stringów z nazwiskami\n",
    "funkcja zapisuje do dwóch oddzielnych plików o nazwach ‘A-M_nazwiska.txt’ oraz ‘N-Ż_nazwiska.txt’ odpowiednie nazwiska z podanej listy\n",
    "Zadanie 6\n",
    "\n",
    "Napisz funkcję, która wyświetla podany tekst odwracając kolejność liter w wyrazach. Np. „Ala ma kota” wyświetli „alA am atok”\n",
    "\n",
    "Zadanie 7\n",
    "\n",
    "Napisz funkcję, która:\n",
    "\n",
    "jako parametr wejściowy pobiera zdanie wpisywane z klawiatury,\n",
    "ponownie z klawiatury pobiera nazwę pliku, w którym zapisany zostanie wynik działania funkcji,\n",
    "do pliku zapisywane są unikalne wyrazy ze zdania pisane małymi literami po jednym w linii,\n",
    "ze zdania zostaną usunięte ewentualne przecinki i kropki.\n",
    "Zadanie 8\n",
    "\n",
    "Napisz funkcję, która losuje 5 liczb całkowitych z przedziału <1, 20> dopóki w jednym losowaniu nie wystąpi 1 i 20. Wyświetl ilość wykonanych losowań po spełnieniu warunku.\n",
    "\n",
    "Zadanie 9\n",
    "\n",
    "Napisz funkcję, która posiada zaszytą listę 3 nagród ['samochód', '10000 PLN', 'PS 4 Pro']. Przygotuj plik z 10 imionami i nazwiskami zapisanymi po 1 w wierszu. Następnie funkcja wczytuje plik, losuje zwycięzcę dla każdej z trzech nagród i zapisuje wyniki w pliku o nazwie zwycięzcy.txt wpis postaci: Imię nazwisko, nagroda.\n",
    "\n",
    "Zadanie 10\n",
    "\n",
    "Napisz funkcję, która:\n",
    "\n",
    "„rozdaje” karty z talii 52 kart (np. As pik, Dama karo, itd.) dla 4 graczy\n",
    "karty rozdawane są bez powtórzeń po 5 dla każdego gracza\n",
    "wyświetlana jest informacja jak wygląda „ręka” każdego z graczy, np. Alan [As pik, 9 karo, itd.]\n",
    "Zadanie 11\n",
    "\n",
    "Napisz funkcję, która wczytuje z pliku zawierającego imiona i nazwiska osób zapisane po jednym w linii, np.\n",
    "\n",
    "Marek Markowski\n",
    "Paweł Budzikowski\n",
    "\n",
    "Funkcja generuje dla podanej listy adresy e-mail postaci: imie.nazwisko@imgw.pl i zapisuje dane do nowego pliku dopisując przy wcześniejszym nazwisku wygenerowany adres, np.\n",
    "\n",
    "Marek Markowski, marek.markowski@imgw.pl itd.\n",
    "\n",
    "W nazwach e-mail powinny być zastępowane ewentualne polskie znaki (ż,ź na z, ą na a itd.).\n",
    "\n",
    "Zadanie 12\n",
    "\n",
    "Przygotuj plik z kilkoma hasłami, które nadają się do gry 'Koło fortuny'. Wczytaj te hasła do listy i losuj jedno z nich. Na ekranie wyświetlaj hasło bez ujawniania poszczególnych liter, np.:___ _____ ___ __ _______ dla hasła 'Bez pracy nie ma kołaczy'. Nastepnie w pętli pozwalaj uzytkownikowi na podawanie jednej litery, która będzie podstawiana w miejscach gdzie występuje lub wyświetlaj komunikat, że takiej litery nie ma w haśle. Dodaj też funkcjonalność, która pozwala na odgadnięcie (wpisanie) całego hasła.\n",
    "\n",
    "Zadanie 13\n",
    "\n",
    "Napisz funkcję, która będzie pobierała dwa parametry wejściowe:\n",
    "\n",
    "łańcuch znaków\n",
    "liczbę całkowitą\n",
    "Funkcja ma skracać podany łańcuch znaków tak, żeby po dodaniu ... na końcu jego długość nie była większa niż max (podany jako drugi parametr) i aby tekst nie był urwany w połowie wyrazu. Funkcja zwraca skrócony tekst."
   ]
  }
 ],
 "metadata": {
  "kernelspec": {
   "display_name": "Python 3",
   "language": "python",
   "name": "python3"
  },
  "language_info": {
   "codemirror_mode": {
    "name": "ipython",
    "version": 3
   },
   "file_extension": ".py",
   "mimetype": "text/x-python",
   "name": "python",
   "nbconvert_exporter": "python",
   "pygments_lexer": "ipython3",
   "version": "3.10.13"
  }
 },
 "nbformat": 4,
 "nbformat_minor": 2
}
