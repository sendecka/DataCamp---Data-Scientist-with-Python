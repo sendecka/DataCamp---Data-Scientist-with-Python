{
 "cells": [
  {
   "cell_type": "markdown",
   "metadata": {},
   "source": [
    "# Moduł 5 - Python comprehensions. Pisanie własnych funkcji."
   ]
  },
  {
   "cell_type": "markdown",
   "metadata": {},
   "source": [
    "## 1.Python comprehensions.\n",
    "\n",
    "Jest to mechanizm służący do generowania kolekcji (lista, słownik, zbiór, krotka) na podstawie jednowierszowej definicji. Równoważne definicje zawsze można podać za pomocą pętli. Czasami zaś wystarczy przepisać na język Python definicję matematyczną zbioru.\n"
   ]
  },
  {
   "cell_type": "markdown",
   "metadata": {},
   "source": [
    "#### Listing 1"
   ]
  },
  {
   "cell_type": "code",
   "execution_count": null,
   "metadata": {},
   "outputs": [],
   "source": [
    "# zamiast pisać w pętli\n",
    "lista = []\n",
    "for element in range(5):\n",
    "    if element > 0:\n",
    "        lista.append(element * element)\n",
    "\n",
    "# możemy zapisać w jednej linijce\n",
    "lista = [element * element for element in range(5) if element > 0]\n",
    "Mamy zdefiniowane zbiory:\n",
    "A={x^2: x∈<0,9>}\n",
    "B={1, 3, 9, 27,…, 3^5}\n",
    "C={x: x∈A i x jest liczbą nieparzystą}\n"
   ]
  },
  {
   "cell_type": "markdown",
   "metadata": {},
   "source": [
    "W Python zapiszemy to:"
   ]
  },
  {
   "cell_type": "markdown",
   "metadata": {},
   "source": [
    "#### Listing 2"
   ]
  },
  {
   "cell_type": "code",
   "execution_count": null,
   "metadata": {},
   "outputs": [],
   "source": [
    "A=[x ** 2 for x in range(10)]\n",
    "B=[3 ** i for i in range(6)]\n",
    "C=[x for x in A if x % 2 != 0]\n",
    "\n",
    "print(A)\n",
    "print(B)\n",
    "print(C)\n"
   ]
  },
  {
   "cell_type": "markdown",
   "metadata": {},
   "source": [
    "#### Listing 3"
   ]
  },
  {
   "cell_type": "code",
   "execution_count": null,
   "metadata": {},
   "outputs": [],
   "source": [
    "# chcemy uzyskać liczby parzyste z podanego zakresu\n",
    "# wersja z pętlą\n",
    "liczby = [1, 2, 3, 4, 5, 6, 7, 8, 9, 10]\n",
    "lista = []\n",
    "\n",
    "for i in liczby:\n",
    "    if i % 2 == 0:\n",
    "        lista.append(i)\n",
    "\n",
    "print(\"Liczby parzyste uzyskane z wykorystaniem pętli\")\n",
    "print(lista)\n",
    "\n",
    "# wersja z Python comprehension\n",
    "lista2 = [i for i in liczby if i % 2 == 0]\n",
    "print(lista2)\n"
   ]
  },
  {
   "cell_type": "markdown",
   "metadata": {},
   "source": [
    "#### Listing 4"
   ]
  },
  {
   "cell_type": "code",
   "execution_count": null,
   "metadata": {},
   "outputs": [],
   "source": [
    "# zagnieżdżanie\n",
    "# zamiast pisać tak:\n",
    "lista = []\n",
    "for i in [1, 2, 3]:\n",
    "   for j in [4, 5, 6]:\n",
    "      if i != j:\n",
    "          lista.append((i,j))\n",
    "print(lista)\n",
    "\n",
    "# można to zrobić krócej\n",
    "lista2 = [(i,j) for i in [1, 2, 3] for j in [4, 5, 6] if i != j]\n",
    "print(lista2)\n"
   ]
  },
  {
   "cell_type": "markdown",
   "metadata": {},
   "source": [
    "#### Listing 5"
   ]
  },
  {
   "cell_type": "code",
   "execution_count": null,
   "metadata": {},
   "outputs": [],
   "source": [
    "# słowniki i zamiana klucza z wartością\n",
    "skroty = {\"PZU\": \"Państwowy zakład Ubezpieczeń\",\n",
    "\"ZUS\": \"Zakład Ubezpieczeń Społecznych\",\n",
    "\"PKO\": \"Powszechna Kasa Oszczędności\"}\n",
    "odwrocone = {value: key for key, value in skroty.items()}\n",
    "\n",
    "print(\"Oryginalny słownik\")\n",
    "print(skroty)\n",
    "print(\"Słownik odwrócony\")\n",
    "print(odwrocone)\n"
   ]
  },
  {
   "cell_type": "markdown",
   "metadata": {},
   "source": [
    "## 2. Definiowanie własnych funkcji."
   ]
  },
  {
   "cell_type": "markdown",
   "metadata": {},
   "source": [
    "Ogólna definicja funkcji mówi, że jest to wydzielony blok kodu, który ma robić możliwie jak najmniej rzeczy na raz, ale ma to robić dobrze. Jest to też niezbędny element metodologii DRY (Don’t Repeat Yourself), czyli tam, gdzie jakaś funkcjonalność będzie wykorzystywana wielokrotnie, możemy zastosować funkcję."
   ]
  },
  {
   "cell_type": "markdown",
   "metadata": {},
   "source": [
    "#### Listing 6"
   ]
  },
  {
   "cell_type": "code",
   "execution_count": null,
   "metadata": {},
   "outputs": [],
   "source": [
    "def nazwa_funkcji(arg_pozycyjny, arg_domyslny=wartosc, *arg_4, **arg_5):\n",
    "    instrukcje\n",
    "    ...\n",
    "    [ return wartość ] # opcjonalne\n"
   ]
  },
  {
   "cell_type": "markdown",
   "metadata": {},
   "source": [
    "Funkcję możemy wywoływać z argumentami lub bez, ale zawsze musimy używać nawiasów (nawet jak nie ma argumentów, wtedy nazywamy ją funkcją bezargumentową). Funkcja może nie zwracać żadnej wartości, może zwracać jedną lub wiele wartości, a w tym ostatnim przypadku wartości będą zwrócone jako krotka (ang. tuple)."
   ]
  },
  {
   "cell_type": "markdown",
   "metadata": {},
   "source": [
    "#### Listing 7"
   ]
  },
  {
   "cell_type": "markdown",
   "metadata": {},
   "source": [
    "Chcemy zdefiniować funkcję, która będzie obliczać pierwiastki równania kwadratowego:"
   ]
  },
  {
   "cell_type": "code",
   "execution_count": null,
   "metadata": {},
   "outputs": [],
   "source": [
    "import math\n",
    "\n",
    "\n",
    "def row_kwadratowe(a, b, c):\n",
    "    delta = b**2 - 4 * a * c\n",
    "    if (delta < 0):\n",
    "        print(\"Brak pierwiastków\")\n",
    "        return -1\n",
    "    elif (delta == 0):\n",
    "        print(\"Jeden pierwiastek\")\n",
    "        x = (-b) / (2 * a)\n",
    "        return x\n",
    "    else:\n",
    "        print(\"Równanie ma dwa pierwiastki\")\n",
    "        x1 = (- b - math.sqrt(delta)) / (2 * a)\n",
    "        x2 = (- b + math.sqrt(delta)) / (2 * a)\n",
    "        return x1, x2\n",
    "\n",
    "print(row_kwadratowe(6,1,3))\n",
    "print(row_kwadratowe(1,2,1))\n",
    "print(row_kwadratowe(1,4,1))\n"
   ]
  },
  {
   "cell_type": "markdown",
   "metadata": {},
   "source": [
    "#### Listing 8"
   ]
  },
  {
   "cell_type": "code",
   "execution_count": null,
   "metadata": {},
   "outputs": [],
   "source": [
    "# definiujemy funkcje z wartościami domyślnymi\n",
    "import math\n",
    "\n",
    "\n",
    "def dlugosc_odcinka(x1 = 0, y1 = 0, x2 = 0, y2 = 0):\n",
    "    return math.sqrt((x2 - x1)**2 + (y2 - y1)**2)\n",
    "\n",
    "\n",
    "# wywołujemy dla wartości domyślnych\n",
    "print(dlugosc_odcinka())\n",
    "\n",
    "# wywołujemy dla własnych podanych wartości\n",
    "# są to argumenty pozycjne czyli ważna jest kolejnosć podania wartości\n",
    "print(dlugosc_odcinka(1, 2, 3, 4))\n",
    "\n",
    "# wywołujemy funkcje podając mieszane wartości\n",
    "# dwie pierwsze są interpretowane jako x1 i y1 jak podano w definicji funkcji\n",
    "print(dlugosc_odcinka(2, 2, y2 = 2, x2 = 1))\n",
    "\n",
    "# wywołujemy funkcje pdoając wartości nie w kolejności\n",
    "print(dlugosc_odcinka(y2 = 5, x1 = 2, y1 = 2, x2 = 6))\n",
    "\n",
    "# wywołujemy funkcję podając tylko dwa argumenty a reszta domyślne\n",
    "print(dlugosc_odcinka(x2 = 5, y2 = 5))\n"
   ]
  },
  {
   "cell_type": "markdown",
   "metadata": {},
   "source": [
    "#### Listing 9"
   ]
  },
  {
   "cell_type": "code",
   "execution_count": null,
   "metadata": {},
   "outputs": [],
   "source": [
    "# symbol * oznacza dowolną ilość argumentów przechowywanych w krotce\n",
    "def ciag(* liczby):\n",
    "    # jeżeli nie ma argumentów to\n",
    "    if len(liczby) == 0:\n",
    "        return 0.0\n",
    "    else:\n",
    "        suma = 0.0\n",
    "    # sumujemy elementy ciągu\n",
    "    for i in liczby:\n",
    "        suma += i\n",
    "    # zwracamy wartość sumy\n",
    "    return suma\n",
    "\n",
    "# wywołanie gdy brak argumentów\n",
    "print(ciag())\n",
    "# podajemy argumenty\n",
    "print(ciag(1,2,3,4,5,6,7,8))\n"
   ]
  },
  {
   "cell_type": "markdown",
   "metadata": {},
   "source": [
    "#### Listing 10"
   ]
  },
  {
   "cell_type": "code",
   "execution_count": null,
   "metadata": {},
   "outputs": [],
   "source": [
    "# symbol ** czyli oznacza, że możemy przekazać do funkcji\n",
    "# dowolną ilość argumentów z kluczem\n",
    "def to_lubie(** rzeczy):\n",
    "    for cos in rzeczy:\n",
    "        print(f'Lubię {cos}', end='')\n",
    "        if len(rzeczy[cos]) > 0:\n",
    "            print(f', takie jak {rzeczy[cos]}.')\n",
    "\n",
    "to_lubie(slodycze=\"czekolada\", rozrywka=[\"disco-polo\", \"moda na sukces\"])\n"
   ]
  },
  {
   "cell_type": "markdown",
   "metadata": {},
   "source": [
    "## 3. Moduły i pakiety."
   ]
  },
  {
   "cell_type": "markdown",
   "metadata": {},
   "source": [
    "W środowisku Python moduł to po prostu pojedynczy plik z kodem Pythona, który możemy stworzyć i zapisać. Pakiet to zbiór takich modułów a najczęściej oznacza folder, w którym znajdują się pliki (moduły). Oba te elementy można importować na różne sposoby (przykłady poniżej). Zawartość modułu może być zbiorem funkcji lub klas i metod. Taki moduł możemy następnie po zaimportowaniu wykorzystywać w innych naszych programach, modułach lub pakietach. Poniżej prosty przykład modułu i jego wykorzystania w innym skrypcie."
   ]
  },
  {
   "cell_type": "markdown",
   "metadata": {},
   "source": [
    "#### Listing 11"
   ]
  },
  {
   "cell_type": "code",
   "execution_count": null,
   "metadata": {},
   "outputs": [],
   "source": [
    "# plik matma.py\n",
    "\"\"\"deklaracja funkcji w prostym module\"\"\"\n",
    "\n",
    "\n",
    "def dodaj(a, b):\n",
    "    return a + b\n",
    "\n",
    "\n",
    "def odejmij(a, b):\n",
    "    return a - b\n",
    "\n",
    "\n",
    "def podziel(a, b):\n",
    "    return a / b\n",
    "\n",
    "\n",
    "def pomnoz(a, b):\n",
    "    return a * b\n"
   ]
  },
  {
   "cell_type": "markdown",
   "metadata": {},
   "source": [
    "Teraz możemy z poziomu innego pliku w tym samym folderze zaimportować ten moduł."
   ]
  },
  {
   "cell_type": "markdown",
   "metadata": {},
   "source": [
    "#### Listing 12"
   ]
  },
  {
   "cell_type": "code",
   "execution_count": null,
   "metadata": {},
   "outputs": [],
   "source": [
    "import matma\n",
    "\n",
    "\n",
    "print(matma.dodaj(1, 2))\n",
    "print(dir(mojpakiet))\n",
    "print(dir(mojpakiet.matma))\n"
   ]
  },
  {
   "cell_type": "markdown",
   "metadata": {},
   "source": [
    "Moduły najczęściej importują inne moduły a te importują kolejne. Jeżeli w trakcie tego procesu zostanie napotkany zduplikowany import to zostanie on zignorowany. Polecenie dir(modul|pakiet) wyświetla wszystkie zmienne oraz nazwy modułów, które się w nich znajdują.\n",
    "\n",
    "\n",
    "Aby stworzyć pakiet trzeba jeszcze dodać specjalny plik do folderu (pakietu) o nazwie __init__.py. Jeżeli korzystamy z zalecanego sposobu importu modułów czyli import pakiet.moduł to możemy jego zawartość pozostawić pustą chociaż może się tam również znajdować kod inicjalizujący dla pakietu. Natomiast jeżeli chcemy umożliwić import z tego pakietu za pomocą from pakiet import * to plik __init__.py powinien zawierać zmienną __all__ zawierającą listę modułów, które będą zaimportowane:\n",
    "__all__ = ['matma', 'jingle']\n",
    "\n",
    "Aby sprawdzić sposób działania poniższych listingów przedstawię najpierw strukturę katalogów i plików, które zostały wykorzystane w poniższych przykładach.\n"
   ]
  },
  {
   "cell_type": "markdown",
   "metadata": {},
   "source": [
    "Reasumując, został utworzony folder mojpakiet a w nim znajduje się plik matma.py przedstawiony na listingu w tym rozdziale.\n",
    "Zawartość pliku jingle.py:\n"
   ]
  },
  {
   "cell_type": "markdown",
   "metadata": {},
   "source": [
    "#### Listing 13"
   ]
  },
  {
   "cell_type": "code",
   "execution_count": null,
   "metadata": {},
   "outputs": [],
   "source": [
    "def sing(): \n",
    "    return 'Jingle bells, jingle bells...' \n",
    "\n",
    "\n",
    "def snow(): \n",
    "    return 'It's snowing...'\n"
   ]
  },
  {
   "cell_type": "markdown",
   "metadata": {},
   "source": [
    "Plik, który wykonuje same importy na tym pakiecie znajduje się w tym samym folderze co pakiet. A jego zawartość to:"
   ]
  },
  {
   "cell_type": "markdown",
   "metadata": {},
   "source": [
    "#### Listing 14"
   ]
  },
  {
   "cell_type": "code",
   "execution_count": null,
   "metadata": {},
   "outputs": [],
   "source": [
    "from mojpakiet import * \n",
    "\n",
    "\n",
    "print(matma.dodaj(1, 2)) \n",
    "print(jingle.sing())\n"
   ]
  },
  {
   "cell_type": "markdown",
   "metadata": {},
   "source": [
    "Zmienna __all__ służy również do określania listy funkcji w module. Zmienna jest wtedy umieszczana w pliku z definicją klas/funkcji a jej postać jest taka sama jak w przypadku pakietu z taką różnicą, że po zaimportowaniu takiego modułu (pliku) wszystkie jego funkcje i tak będą widoczne bez względu na to czy znalazły się w zmiennej __all__ czy też nie. Określanie __all__ w module najczęściej wykorzystywane jest po to, aby mieć dostęp do listy klas, metod danego modułu np. po to, aby sprawdzić jakie funkcje możemy wywołać.\n",
    "\n",
    "\n",
    "Więcej informacji można znaleźć pod adresem https://docs.python.org/3/tutorial/modules.html\n",
    "Podsumowując, zalecanym sposobem wykonywania importów jest from pakiet import moduł, import moduł lub import moduł as alias.\n",
    "\n",
    "\n",
    "Jako ciekawostkę polecam umieszczenie polecenia import this w swoim pliku lub wykonanie w konsoli\n"
   ]
  }
 ],
 "metadata": {
  "language_info": {
   "name": "python"
  }
 },
 "nbformat": 4,
 "nbformat_minor": 2
}
