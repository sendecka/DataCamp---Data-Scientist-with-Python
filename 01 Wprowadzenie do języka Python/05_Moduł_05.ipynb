{
 "cells": [
  {
   "cell_type": "markdown",
   "metadata": {},
   "source": [
    "# Moduł 5 - Podstawowe struktury danych."
   ]
  },
  {
   "cell_type": "markdown",
   "metadata": {},
   "source": [
    "## 1. Typ list.\n",
    "\n",
    "Dokumentacja: https://docs.python.org/3.11/tutorial/datastructures.html#more-on-lists\n",
    "\n",
    "Lista w języku Python to kolekcja, którą można porównać do tablic w innych językach programowania. Ważną cechą list jest to, że mogą przechowywać różne typy danych (są więc heterogeniczne). Rozmiar tablicy ograniczony jest możliwościami sprzętu. Listę możemy zainicjalizować w poniższy sposób:\n"
   ]
  },
  {
   "cell_type": "markdown",
   "metadata": {},
   "source": [
    "#### Listing 1"
   ]
  },
  {
   "cell_type": "code",
   "execution_count": null,
   "metadata": {},
   "outputs": [],
   "source": [
    "lista = []\n",
    "lista2 = list()\n",
    "lista3 = [1, 2, 3]\n",
    "lista4 = ['a', 5, 'Python', 7.8]"
   ]
  },
  {
   "cell_type": "markdown",
   "metadata": {},
   "source": [
    "Do elementów listy odwołujemy się tak samo jak do elementów ciągu tekstowego, czyli poprzez odwołanie do indeksu elementu listy. Obiekty typu list w odróżnieniu od tablic znaków (typ str) są mutowalne, co oznacza, że możemy zamieniać wartość danego elementu."
   ]
  },
  {
   "cell_type": "markdown",
   "metadata": {},
   "source": [
    "#### Listing 2"
   ]
  },
  {
   "cell_type": "markdown",
   "metadata": {},
   "source": [
    "lista = []\n",
    "lista.append([1, 2, 3])\n",
    "lista.append(['a', 5, 'Python', 7.8])\n",
    "# efektem będzie dodanie list jako elementów listy (lista dwupoziomowa)\n",
    "\n",
    "print(lista)\n",
    "\n",
    "# wyjście\n",
    "# [[1, 2, 3], ['a', 5, 'Python', 7.8]]\n",
    "\n",
    "\n",
    "lista[0][0] = 0\n",
    "# nowa postać listy\n",
    "# [[0, 2, 3], ['a', 5, 'Python', 7.8]]\n"
   ]
  },
  {
   "cell_type": "markdown",
   "metadata": {},
   "source": [
    "W Pythonie można też w łatwy sposób łączyć ze sobą listy:"
   ]
  },
  {
   "cell_type": "markdown",
   "metadata": {},
   "source": [
    "#### Listing 3"
   ]
  },
  {
   "cell_type": "code",
   "execution_count": null,
   "metadata": {},
   "outputs": [],
   "source": [
    "# rozszerzanie listy o elementy innej listy (taki append() w pętli), zachowując kolejność\n",
    "lista3.extend(lista4)\n",
    "print(lista3)\n",
    "\n",
    "# wyjście\n",
    "# [1, 2, 3, 'a', 5, 'Python', 7.8]\n",
    "\n",
    "# lub w inny sposób\n",
    "lista6 = lista3 + lista4\n",
    "print(lista6)\n",
    "\n",
    "# wyjście\n",
    "# [1, 2, 3, 'a', 5, 'Python', 7.8]\n"
   ]
  },
  {
   "cell_type": "markdown",
   "metadata": {},
   "source": [
    "Obie metody różnią się od siebie tym, że pierwsza modyfikuje już istniejącą listę, a druga wymaga podstawienia połączonej listy pod zmienną, gdyż sama arytmetyczna operacja „+” nie spowoduje zmiany pierwotnej listy, a zawróci nowy obiekt typu list z elementami z obu list.\n",
    "Niektóre metody, które można wykonać na obiekcie listy, wykonywane są jako operacje in-place co oznacza, że operacja wykonywana jest bez zwracania nowej wartości (co przy próbie przypisania wartości zwracanej przypisze zmienną typu NoneType), nadpisując zawartość oryginalnej zmiennej. Poniżej przykład z sortowaniem."
   ]
  },
  {
   "cell_type": "markdown",
   "metadata": {},
   "source": [
    "#### Listing 4"
   ]
  },
  {
   "cell_type": "code",
   "execution_count": null,
   "metadata": {},
   "outputs": [],
   "source": [
    "lista7 = [7, 9, 3, 1]\n",
    "\n",
    "# operacja sort działa w trybie in-place\n",
    "posortowana = lista7.sort()\n",
    "print(lista7)\n",
    "print(posortowana)\n",
    "\n",
    "# wyjście\n",
    "# [1, 3, 7, 9]\n",
    "# None\n"
   ]
  },
  {
   "cell_type": "markdown",
   "metadata": {},
   "source": [
    "Wartość None (typ NoneType) w Pythonie odpowiada wartości Null w innych językach programowania i oznacza nic, specjalny typ danych. Nie możemy też posortować tablicy, w której znajdują się niejednorodne wartości np. liczby oraz ciągi tekstowe.\n",
    "Listy mogą być „cięte” (ang. sliced) tak jak ciągi tekstowe przedstawione w poprzednim rozdziale. Dodawanie, usuwanie i zmiana wartości elementów listy może być wykonywana na wiele sposobów. Poniżej listing z niektórymi z nich.\n"
   ]
  },
  {
   "cell_type": "markdown",
   "metadata": {},
   "source": [
    "#### Listing 5"
   ]
  },
  {
   "cell_type": "code",
   "execution_count": null,
   "metadata": {},
   "outputs": [],
   "source": [
    "# wstawianie i usuwanie elementów listy\n",
    "skala = [1, 2, 3, 4, 5]\n",
    "# dodajemy element na końcu listy\n",
    "skala.append(6)\n",
    "print(skala)\n",
    "\n",
    "# znamy już sposób odwoływania się do elementu listy poprzez indeks więc można\n",
    "# wartości listy ustawiać w ten sposób, ale nie możemy odwołać się'\n",
    "# do indeksu, który nie istnieje\n",
    "skala[6] = 7 \n",
    "# zostanie zwrócony błąd: IndexError: list assignment index out of range\n",
    "# ale można zrobić to np. tak\n",
    "skala[6:] = [7]\n",
    "# lub tak - z dynamicznym sprawdzaniem aktualnego rozmiaru listy\n",
    "skala[len(skala):] = [7]\n",
    "\n",
    "# alternatywnym sposobem jest wywołanie metody insert\n",
    "skala.insert(6, 7)\n",
    "print(skala)\n",
    "\n",
    "# usuwamy element z końca listy co powoduje, że z wykorzystaniem\n",
    "# tych metod osiągamy funkcję stosu\n",
    "skala.pop()\n",
    "print(skala)\n",
    "\n",
    "# pop może również przyjmować indeks elementu do usunięcia. \n",
    "# Metoda pop zwraca również wartość elementu usuwanego\n",
    "skala.pop(2)\n",
    "print(skala)\n"
   ]
  },
  {
   "cell_type": "markdown",
   "metadata": {},
   "source": [
    "Wartości listy można rozpakować (bardziej popularne jest to dla krotek) do zmiennych, gdzie możemy się wspomóc poprzez użycie symbolu *. Przykład poniżej."
   ]
  },
  {
   "cell_type": "markdown",
   "metadata": {},
   "source": [
    "#### Listing 6"
   ]
  },
  {
   "cell_type": "code",
   "execution_count": null,
   "metadata": {},
   "outputs": [],
   "source": [
    "order = [1, 2, 3]\n",
    "\n",
    "first, second, third = order\n",
    "\n",
    "# jeżeli liczba elementów i zmiennych nie jest zgodna\n",
    "# możemy elementy, które \"zostają\" przypisać do jednej zmiennej\n",
    "first, *second = order\n",
    "\n",
    "# o ile first przyjmie wartość, która w liście na danej pozycji występuje\n",
    "# o tyle pozostałe wartości wciąż pozostaną w postaci obiektu typu list\n",
    "\n",
    "# ten mechanizm zostanie jeszcze omówiony przy okazji zagadnienia związanego\n",
    "# z funkcjami z nieokreśloną ilością atrybutów pozycyjnych\n"
   ]
  },
  {
   "cell_type": "markdown",
   "metadata": {},
   "source": [
    "Do usuwania elementów listy można wykorzystać również wbudowaną funkcję del(). Za jej pomocą można również usuwać zmienne.\n",
    "W tym rozdziale zostały zaprezentowane podstawowe operacje na listach. Python oferuje wiele bardziej rozbudowanych możliwości generowania, wybierania, sortowania list jednak zostaną one zaprezentowane razem z przykładami pętli oraz instrukcji warunkowej.\n"
   ]
  },
  {
   "cell_type": "markdown",
   "metadata": {},
   "source": [
    "# 2. Słowniki, czyli typ dict."
   ]
  },
  {
   "cell_type": "markdown",
   "metadata": {},
   "source": [
    "Dokumentacja: https://docs.python.org/3.11/tutorial/datastructures.html#dictionaries\n",
    "\n",
    "Słownik to tablica mieszająca lub inaczej tablica z haszowaniem, którą można porównać do tablic asocjacyjnych znanych z innych języków programowania. Słowniki przechowują pary klucz: wartość i właśnie poprzez odwołanie do klucza odbywa się dostęp do elementu.\n",
    "\n",
    "Do wersji 3.6 języka Python słowniki nie gwarantowały porządku elementów zgodnie z kolejnością ich dodawania. Od wspomnianej wersji słowniki są uporządkowane zgodnie z kolejnością dodawania elementów.\n",
    "Kluczem w słowniku może być każdy niezmienny typ (niemutowalny, ang. immutable type) danych np., string lub liczba. Kluczem może być również krotka (jeden z typów danych języka Python), jeżeli zawiera typy niezmienne (string, liczba, krotka).\n",
    "\n",
    "Poniżej fragmenty kodu tworzące słownik oraz pokazujące jak uzyskać dostęp do jego danych.\n"
   ]
  },
  {
   "cell_type": "markdown",
   "metadata": {},
   "source": [
    "#### Listing 7"
   ]
  },
  {
   "cell_type": "code",
   "execution_count": null,
   "metadata": {},
   "outputs": [],
   "source": [
    "# tworzenie słownika\n",
    "slownik = {}\n",
    "slownik = dict([('jeden', 1), ('dwa', 2), ('trzy', 3)])\n",
    "slownik = dict(jeden=1, dwa=2, trzy=3)\n",
    "slownik = dict({'jeden': 1, 'dwa': 2, 'trzy': 3})\n",
    "slownik = {'jeden': 1, 'dwa': 2, 'trzy': 3}\n",
    "\n",
    "print(slownik['jeden'])\n",
    "\n",
    "# sprawdzenie, czy klucz jest w słowniku czy nie\n",
    "print('jeden' in slownik)\n",
    "\n",
    "# wypisanie wszystkich kluczy\n",
    "print(slownik.keys())\n",
    "\n",
    "# wypisanie wszystkich wartości\n",
    "print(slownik.values())\n",
    "\n",
    "# można również sprawdzić, czy klucz występuje w słowniku\n",
    "# w przedstawiony poniżej sposób, ale jest on wolniejszy\n",
    "print('jeden' in slownik.keys())\n",
    "\n",
    "# dodanie elementu do słownika\n",
    "slownik['cztery'] = 4\n",
    "print(slownik.keys())\n"
   ]
  },
  {
   "cell_type": "markdown",
   "metadata": {},
   "source": [
    "# 3. Krotki, czyli typ tuple."
   ]
  },
  {
   "cell_type": "markdown",
   "metadata": {},
   "source": [
    "Dokumentacja: https://docs.python.org/3.11/tutorial/datastructures.html#tuples-and-sequences\n",
    "Krotki (ang. tuples) są bardzo podobne do list z tą różnicą, że są typem niezmiennym i deklaracja zmiennych zapisywana jest w nawiasach zwykłych, a nie kwadratowych. Również mogą przechowywać wiele typów danych jednocześnie.\n"
   ]
  },
  {
   "cell_type": "markdown",
   "metadata": {},
   "source": [
    "#### Listing 8"
   ]
  },
  {
   "cell_type": "code",
   "execution_count": null,
   "metadata": {},
   "outputs": [],
   "source": [
    "# tworzymy krotkę\n",
    "krotka = (1, 2, 'Jacek', 'ma')\n",
    "krotka_liczb = krotka[:2]\n",
    "print(krotka_liczb)\n",
    "krotka_stringow = krotka[2:]\n",
    "print(krotka_stringow)\n",
    "\n",
    "nowa_krotka = tuple()\n",
    "najnowsza_krotka = tuple([1, 2, 3])\n",
    "\n",
    "# możemy również rzutować typy krotka - lista\n",
    "lista = [1, 2, 'Ala', 'też', 'ma']\n",
    "krotka_z_listy = tuple(lista)\n",
    "nowa_lista = list(krotka_z_listy)\n",
    "\n",
    "# krotki mogą być zagnieżdżane\n",
    "duza_krotka = krotka_stringow, krotka_liczb, tuple(nowa_lista)\n",
    "print(duza_krotka)\n",
    "\n",
    "# a jeżeli zagnieździmy listę w krotce ?\n",
    "listokrotka = krotka_z_listy, lista\n",
    "# to nadal możemy modyfikować elementy listy\n",
    "listokrotka[1][0] = 0\n",
    "print(listokrotka)\n",
    "\n",
    "# pakowanie krotki (tuple packing)\n",
    "t = 5, 6, 7\n",
    "print(t)\n",
    "x, y, z = t\n",
    "# i rozpakowywanie krotki (tuple unpacking)\n",
    "# inny sposób łączenia zmiennych różnego typu w string\n",
    "print('x = ' + str(x))\n",
    "print('y = ' + repr(y))\n",
    "print('z = ' + str(z))\n",
    "\n",
    "# na wyjściu\n",
    "(1, 2)\n",
    "('Jacek', 'ma')\n",
    "(('Jacek', 'ma'), (1, 2), (1, 2, 'Ala', 'też', 'ma'))\n",
    "((1, 2, 'Ala', 'też', 'ma'), [0, 2, 'Ala', 'też', 'ma'])\n",
    "(5, 6, 7)\n",
    "x = 5\n",
    "y = 6\n",
    "z = 7\n"
   ]
  },
  {
   "cell_type": "markdown",
   "metadata": {},
   "source": [
    "# 4. Zbiory, czyli typ set."
   ]
  },
  {
   "cell_type": "markdown",
   "metadata": {},
   "source": [
    "Dokumentacja: https://docs.python.org/3.11/tutorial/datastructures.html#sets\n",
    "Zbiór (ang. set) to nieuporządkowana kolekcja, której ważną cechą jest to, że znajdują się w niej unikalne elementy (czyli bez powtórzeń). Zbiory obsługują również matematyczne operacje, które znane są z teorii zbiorów: suma, przecięcie, różnica oraz różnica symetryczna.\n"
   ]
  },
  {
   "cell_type": "markdown",
   "metadata": {},
   "source": [
    "#### Listing 9"
   ]
  },
  {
   "cell_type": "code",
   "execution_count": null,
   "metadata": {},
   "outputs": [],
   "source": [
    "# inicjalizacja zbiorów\n",
    "klasa = {'Marek', 'Janek', 'Ania', 'Ewa', 'Marek', 'Ania'}\n",
    "print(klasa) # duplikatów już nie ma\n",
    "\n",
    "# a teraz zbiór znaków ze stringa\n",
    "czar = set('czabunagunga')\n",
    "print(czar)\n",
    "inny_czar = set('abrakadabra')\n",
    "print(inny_czar)\n",
    "print(czar - inny_czar) # są w czar, ale nie ma w inny_czar\n",
    "print(czar.difference(inny_czar)) # to samo, ale inaczej\n",
    "print(inny_czar - czar) # to nie to samo, jak wiadomo z teorii\n",
    "\n",
    "print(czar | inny_czar) # znaki w czar lub inny_czar lub obu\n",
    "print(czar & inny_czar) # przecięcie zbiorów, czyli część wspólna\n",
    "print(czar.intersection(inny_czar)) # można tak\n",
    "print(czar ^ inny_czar) # różnica symetryczna\n"
   ]
  },
  {
   "cell_type": "markdown",
   "metadata": {},
   "source": [
    "Bardzo przydatna staje się własność unikalnych elementów zbioru jeżeli chcemy wyeliminować duplikaty z listy, gdyż wystarczy rzutować listę na zbiór. Rzutowanie to konwersja jednego typu danych na inny. Nie zawsze jest ona możliwa. Następnie, jeżeli na wyjściu potrzebujemy znowu listy, to rzutujemy w odwrotną stronę."
   ]
  },
  {
   "cell_type": "markdown",
   "metadata": {},
   "source": [
    "# 5. Funkcja range."
   ]
  },
  {
   "cell_type": "markdown",
   "metadata": {},
   "source": [
    "Dokumentacja: https://docs.python.org/3.11/library/functions.html#func-range\n",
    "Funkcja (chociaż nazywając precyzyjniej to niezmienna sekwencja) range służy do generowania ciągu liczb według zadanych parametrów. Często przydaje się w pętlach lub podczas tworzenia list lub zbiorów liczb. Funkcja range() i sposób jej użycia zmieniał się w trakcie rozwoju języka i jej zastosowanie w wersji Python 2.x różni się od tego, co będzie zaprezentowane tutaj. Zapoznanie się ze szczegółami dotyczącymi tych różnic pozostawiam czytelnikowi.\n",
    "Poniższe fragmenty kodu zaprezentują sposób działania funkcji range.\n"
   ]
  },
  {
   "cell_type": "markdown",
   "metadata": {},
   "source": [
    "#### Listing 10"
   ]
  },
  {
   "cell_type": "code",
   "execution_count": null,
   "metadata": {},
   "outputs": [],
   "source": [
    "# jakim typem jest range ?\n",
    "liczby = range(5)\n",
    "print(type(liczby)) # range jest obiektem typu range (w Python 2.x była to lista)\n",
    "\n",
    "# range może przyjmować 1 parametr, wtedy jest to parametr stop\n",
    "for i in range(10):\n",
    "    print(i)\n",
    "\n",
    "# range może też przyjmować 2 parametry (start, stop)\n",
    "for i in range(4, 10):\n",
    "    print(i)\n",
    "\n",
    "# lub 3 parametry (start, stop, step)\n",
    "for i in range(4, 10, 2):\n",
    "    print(i)\n",
    "\n",
    "# możemy również generować wartości ujemne\n",
    "for i in range(-5, -1):\n",
    "    print(i)\n",
    "\n",
    "for i in range(-5, -10, -2):\n",
    "    print(i)\n",
    "\n",
    "# lista z elementów funkcji range\n",
    "lista = list(range(10))\n",
    "print(lista)\n",
    "\n",
    "# funkcja range nie generuje wartości zmiennoprzecinkowych, ale można\n",
    "# dość łatwo taką funkcję stworzyć - poniżej funkcja generująca (yield)\n",
    "def frange(start, stop, step):\n",
    "    i = start\n",
    "    while i < stop:\n",
    "        yield i\n",
    "        i += step\n",
    "\n",
    "for i in frange(0.1, 0.5, 0.1):\n",
    "    print(i)\n"
   ]
  },
  {
   "cell_type": "markdown",
   "metadata": {},
   "source": [
    "Dla osób chcących przenieść swoją wiedzę na temat list i krotek na nieco wyższy poziom, zachęcam do przeczytania artykułu na temat mechanizmu alokacji pamięci dla tych dwóch typów w implementacji CPython: https://www.opensourceforu.com/2021/05/memory-management-in-lists-and-tuples/ Można tam znaleźć również informacje o złożoności obliczeniowej wybranych metod dla klasy list co może pomóc w procesie optymalizacji kodu wykorzystującego te kolekcje."
   ]
  }
 ],
 "metadata": {
  "language_info": {
   "name": "python"
  }
 },
 "nbformat": 4,
 "nbformat_minor": 2
}
