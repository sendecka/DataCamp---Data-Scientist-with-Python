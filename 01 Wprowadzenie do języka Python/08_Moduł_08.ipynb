{
 "cells": [
  {
   "cell_type": "markdown",
   "metadata": {},
   "source": [
    "# Moduł 8 - Obsługa plików."
   ]
  },
  {
   "cell_type": "markdown",
   "metadata": {},
   "source": [
    "## 1. Obsługa plików.\n",
    "Dokumentacja : https://docs.python.org/3.11/tutorial/inputoutput.html#reading-and-writing-files\n",
    "Przejdźmy od razu do omówienia kilku przykładów.\n"
   ]
  },
  {
   "cell_type": "markdown",
   "metadata": {},
   "source": [
    "#### Listing 1"
   ]
  },
  {
   "cell_type": "code",
   "execution_count": null,
   "metadata": {},
   "outputs": [],
   "source": [
    "# plik znajduje się w tej samej lokalizacji co uruchamiany skrypt\n",
    "# lub jest to np. w PyCharm ustawiony folder roboczy, w którym ten plik się znajduje\n",
    "uchwyt = open('plik.txt')\n",
    "# podana pełna ścieżka do pliku\n",
    "uchwyt = open(r'C:\\plik.txt', 'r')\n"
   ]
  },
  {
   "cell_type": "markdown",
   "metadata": {},
   "source": [
    "Pierwsze polecenie otwiera plik, który znajduje się w folderze, w którym jest uruchamiany plik. Domyślnie plik otwierany jest tylko do odczytu. Drugie polecenie przyjmuje ścieżkę bezwzględną i dodatkowo kolejny parametr przekazuje tryb odczytu pliku, który tutaj również jest tylko do odczytu. Litera r poprzedzająca ścieżkę powoduje potraktowanie tego ciągu tekstowego jako ciągu surowego (ang. raw), czyli nie będą brane pod uwagę ewentualne wystąpienia znaków specjalnych, które trzeba by poprzedzać znakiem „\\” bez użycia litery r.\n",
    "Podstawowy odczyt danych z pliku można wykonać tak:\n"
   ]
  },
  {
   "cell_type": "markdown",
   "metadata": {},
   "source": [
    "#### Listing 2"
   ]
  },
  {
   "cell_type": "code",
   "execution_count": null,
   "metadata": {},
   "outputs": [],
   "source": [
    "uchwyt = open('plik.txt') \n",
    "uchwyt = open(r'C:\\plik.txt', 'r') \n",
    "dane = uchwyt.read() \n",
    "print(dane) \n",
    "uchwyt.close()\n"
   ]
  },
  {
   "cell_type": "markdown",
   "metadata": {},
   "source": [
    "I tutaj możemy zauważyć pierwszy problem, jeżeli w pliku tekstowym znajdowały się polskie ogonki. Możemy temu zaradzić dodając dodatkowy parametr określający jak powinny być kodowane odczytywane znaki. Pamiętajmy również o zamykaniu uchwytu do pliku po odczytaniu danych."
   ]
  },
  {
   "cell_type": "markdown",
   "metadata": {},
   "source": [
    "#### Listing 3"
   ]
  },
  {
   "cell_type": "code",
   "execution_count": null,
   "metadata": {},
   "outputs": [],
   "source": [
    "uchwyt = open(r'C:\\plik.txt', 'r', , encoding='utf-8'))"
   ]
  },
  {
   "cell_type": "markdown",
   "metadata": {},
   "source": [
    "Typy i nazwy kodowania można znaleźć pod adresem https://docs.python.org/3.11/library/codecs.html#standard-encodings. Tryby otwarcia pliku przedstawione są w tabelce poniżej."
   ]
  },
  {
   "cell_type": "markdown",
   "metadata": {},
   "source": [
    "Tryb - Opis\n",
    "r\t- Tylko do odczytu. Plik musi istnieć\n",
    "w\t- Tylko do zapisu. Jeżeli pliku nie ma to zostanie utworzony a jeżeli jest to jego zawartość zostanie zapisana nową\n",
    "a\t- Do dopisywania. Dane dopisuje się na koniec pliku. Jeśli plik nie istnieje to zostanie utworzony\n",
    "r+\t- Do odczytu i zapisu. Plik musi istnieć.\n",
    "w+\t- Do odczytu i zapisu. Jeśli plik nie istnieje zostanie utworzony\n",
    "a+\t- Do odczytu i zapisu. Jeżeli plik nie istnieje zostanie utworzony.\n",
    "\n",
    "Możemy również odczytywać plik linia po linii z pomocą pętli:\n"
   ]
  },
  {
   "cell_type": "markdown",
   "metadata": {},
   "source": [
    "#### Listing 4"
   ]
  },
  {
   "cell_type": "code",
   "execution_count": null,
   "metadata": {},
   "outputs": [],
   "source": [
    "uchwyt = open('plik.txt', 'r', encoding='utf-8') \n",
    "\n",
    "for linia in uchwyt: \n",
    "    print(linia) \n",
    "uchwyt.close()\n"
   ]
  },
  {
   "cell_type": "markdown",
   "metadata": {},
   "source": [
    "W tym przypadku może pojawić się sytuacja, gdzie po każdej wyświetlonej linii na wyjściu będzie wypisywana nowa linia. To dlatego, że funkcja print dodaje na końcu znak \\n, który oznacza nową linię, a jeżeli taki znak został również odczytany z pliku to mamy odpowiedź dlaczego tak się dzieje.\n",
    "Aby to zmienić można ustalić wartość parametru 'end' funkcji print na inną niż domyślna wartość.\n",
    "Możemy również określić jakiej wielkości fragmenty pliku wyrażone w bajtach. Tym razem z pomocą pętli while:\n"
   ]
  },
  {
   "cell_type": "markdown",
   "metadata": {},
   "source": [
    "#### Listing 5"
   ]
  },
  {
   "cell_type": "code",
   "execution_count": null,
   "metadata": {},
   "outputs": [],
   "source": [
    "uchwyt = open('plik.txt', 'r', encoding='utf-8') \n",
    "\n",
    "while True: \n",
    "    dane = uchwyt.read(1024) \n",
    "    print(dane, end='') \n",
    "    if not dane: \n",
    "        uchwyt.close() \n",
    "        break\n"
   ]
  },
  {
   "cell_type": "markdown",
   "metadata": {},
   "source": [
    "Teraz kolej na zapisywanie do pliku."
   ]
  },
  {
   "cell_type": "markdown",
   "metadata": {},
   "source": [
    "#### Listing 6"
   ]
  },
  {
   "cell_type": "code",
   "execution_count": null,
   "metadata": {},
   "outputs": [],
   "source": [
    "uchwyt = open('plik2.txt', 'w', encoding='utf-8') \n",
    "uchwyt.write('Zapisuję do pliku.') \n",
    "uchwyt.close()\n"
   ]
  },
  {
   "cell_type": "markdown",
   "metadata": {},
   "source": [
    "Istnieje bardziej nowoczesna metoda dostępu do plików, której wykorzystanie zwalnia nas z obowiązku pamiętania o zamknięciu uchwytu do pliku. Ta metoda gwarantuje również zamknięcie uchwytu przy wystąpieniu wyjątku. To zalecane rozwiązanie przy obsłudze plików w Python 3."
   ]
  },
  {
   "cell_type": "markdown",
   "metadata": {},
   "source": [
    "#### Listing 7"
   ]
  },
  {
   "cell_type": "code",
   "execution_count": null,
   "metadata": {},
   "outputs": [],
   "source": [
    "with open('plik.txt', 'r', encoding='utf-8') as file_reader: \n",
    "    for linia in file_reader:\n",
    "        print(linia, end='')\n"
   ]
  },
  {
   "cell_type": "markdown",
   "metadata": {},
   "source": [
    "Na koniec jeszcze przykład z obsługą wyjątków:"
   ]
  },
  {
   "cell_type": "markdown",
   "metadata": {},
   "source": [
    "#### Listing 8"
   ]
  },
  {
   "cell_type": "code",
   "execution_count": null,
   "metadata": {},
   "outputs": [],
   "source": [
    "try: \n",
    "    with open('plik.txt', 'r', encoding='utf-8') as file_reader: \n",
    "        for linia in file_reader: \n",
    "            print(linia, end='') \n",
    "except OSError as er: \n",
    "    print(f'Wystąpił wyjątek OSError: {er}')\n"
   ]
  },
  {
   "cell_type": "markdown",
   "metadata": {},
   "source": [
    "Więcej informacji o wyjątkach, również związanych z obsługą plików znajdziemy pod adresem https://docs.python.org/3.11/library/exceptions.html#exception-hierarchy."
   ]
  },
  {
   "cell_type": "markdown",
   "metadata": {},
   "source": [
    "## 2. Moduł json oraz csv."
   ]
  },
  {
   "cell_type": "markdown",
   "metadata": {},
   "source": [
    "Obsługa nieustrukturyzowanych plików nie jest najwygodniejszym sposobem utrwalania danych. Jednym z najbardziej popularnych formatów przechowywania struktur danych jest format json (ang. JavaScript Object Notation), który pozwala na przechowywanie informacji o całych hierarchieach oiektów. Proces zapisywania nazywa się serializacją a odtwarzania struktury z pliku deserializacją."
   ]
  },
  {
   "cell_type": "markdown",
   "metadata": {},
   "source": [
    "#### Listing 9"
   ]
  },
  {
   "cell_type": "code",
   "execution_count": null,
   "metadata": {},
   "outputs": [],
   "source": [
    "import json\n",
    "import random\n",
    "\n",
    "# lista\n",
    "lista = [[random.randint(1, 100) for n in range(10)] for k in range(10)]\n",
    "\n",
    "with open('dane_lista.json', 'w') as plik:\n",
    "    json.dump(lista, plik)\n",
    "\n",
    "with open('dane_lista.json', 'r') as plik:\n",
    "    x = json.load(plik)\n",
    "\n",
    "print(x)\n",
    "print(type(x))\n",
    "\n",
    "# słownik\n",
    "slownik = {f'student_{x}': x**2 for x in range(1,11)}\n",
    "\n",
    "with open('dane_slownik.json', 'w') as plik:\n",
    "    json.dump(slownik, plik)\n",
    "\n",
    "with open('dane_slownik.json', 'r') as plik:\n",
    "    x = json.load(plik)\n",
    "\n",
    "print(x)\n",
    "print(type(x))\n",
    "\n",
    "# typy inne niż list i dict nie działają out of the box\n",
    "# ale można poszukać metod, które pozwalają zapisać inne struktury w\n",
    "# postaci list lub słowników\n",
    "\n",
    "class Pracownik:\n",
    "    pass\n",
    "\n",
    "p = Pracownik()\n",
    "p.imie = 'Adam'\n",
    "p.nazwisko = 'Malinowski'\n",
    "\n",
    "# print(json.dumps(p)) # nie\n",
    "\n",
    "# tak !\n",
    "print(json.dumps(p.__dict__))\n"
   ]
  },
  {
   "cell_type": "markdown",
   "metadata": {},
   "source": [
    "Format csv jest również bardzo popularny i mimo, że można go bez większych problemów obsługiwać za pomocą wbudowanych metod operujących na plikach oraz dzięki metodom split() oraz join() klasy str w dość efektywnie tworzyć i odtwarzać takie pliki mamy do dyspozycji moduł csv.\n",
    "Dokumentacja: https://docs.python.org/3.11/library/csv.html\n"
   ]
  },
  {
   "cell_type": "markdown",
   "metadata": {},
   "source": [
    "#### Listing 10"
   ]
  },
  {
   "cell_type": "code",
   "execution_count": null,
   "metadata": {},
   "outputs": [],
   "source": [
    "import csv\n",
    "\n",
    "\n",
    "lista = [[random.randint(1, 100) for n in range(10)] for k in range(10)]\n",
    "\n",
    "\n",
    "# tworzymy plik csv korzystając z metody writerows, która przyjmuje iterowalny\n",
    "# obiekt jako argument\n",
    "with open('dane_lista.csv', 'w', newline='') as f:\n",
    "    writer = csv.writer(f)\n",
    "    writer.writerows(lista)\n",
    "\n",
    "# otwieramy zapisany wcześniej plik linia po linii\n",
    "with open('dane_lista.csv', newline='') as f:\n",
    "    reader = csv.reader(f)\n",
    "    for wiersz in reader:\n",
    "        print(wiersz)\n",
    "\n",
    "# parametry pliku csv można dostosować\n",
    "with open('dane_lista.csv', newline='') as f:\n",
    "    reader = csv.reader(f, delimiter=':', quoting=csv.QUOTE_NONE)\n",
    "    for wiersz in reader:\n",
    "        print(wiersz)\n",
    "\n",
    "# przykład wykorzystania DictReader oraz DictWriter\n",
    "\n",
    "# pierwszy wiersz w pliku traktowany jako lista kluczy słownika\n",
    "# którym jest każdy zwracany wiersz\n",
    "with open('dane.csv', newline='', encoding='utf-8') as csvfile:\n",
    "    reader = csv.DictReader(csvfile, delimiter=';')\n",
    "    for wiersz in reader:\n",
    "        print(wiersz['Kraj'], wiersz['2006'])\n",
    "    \n",
    "\n",
    "# zapis\n",
    "with open('dane_2.csv', 'w', newline='') as csvfile:\n",
    "    kolumny = ['Kraj', '2020']\n",
    "    writer = csv.DictWriter(csvfile, fieldnames=kolumny)\n",
    "\n",
    "    writer.writeheader()\n",
    "    writer.writerow({'Kraj': 'Polska', '2020': 37987654})\n",
    "    writer.writerow({'Kraj': 'USA', '2020': 331002651})\n"
   ]
  }
 ],
 "metadata": {
  "language_info": {
   "name": "python"
  }
 },
 "nbformat": 4,
 "nbformat_minor": 2
}
