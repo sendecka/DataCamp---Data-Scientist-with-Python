{
 "cells": [
  {
   "cell_type": "markdown",
   "metadata": {},
   "source": [
    "# Moduł 1 - przygotowanie środowiska pracy"
   ]
  },
  {
   "cell_type": "markdown",
   "metadata": {},
   "source": [
    "# Wprowadzenie do języka python"
   ]
  },
  {
   "cell_type": "markdown",
   "metadata": {},
   "source": [
    "## 1. Organizacja zajęć oraz zaliczenie przedmiotu"
   ]
  },
  {
   "cell_type": "markdown",
   "metadata": {},
   "source": [
    "### 1.1 Organizacja zajęć"
   ]
  },
  {
   "cell_type": "markdown",
   "metadata": {},
   "source": [
    "W trakcie zajęć prowadzący udostępnia skrypt z wprowadzeniem do danego tematu wraz z przykładami kodu oraz zadaniami do samodzielnego rozwiązania. Na kolejnych zajęciach odostępniane są również przykładowe rozwiązania do zadań z zajęć poprzednich.\n",
    "Na początku każdych zajęć prowadzący, bazując na skrypcie omawia zagadnienia i uzupełnia je o dodatkowe informacje, które mogą nie być ujęte w formie pisemnej w skrypcie."
   ]
  },
  {
   "cell_type": "markdown",
   "metadata": {},
   "source": [
    "### 1.2 Środowisko pracy"
   ]
  },
  {
   "cell_type": "markdown",
   "metadata": {},
   "source": [
    "W trakcie zajęć wykorzystywany będzie interpreter języka Python w wersji 3.11.6 dostępny pod adresem https://www.python.org/downloads/release/python-3116/. Podstawowym narzędziem pracy będzie PyCharm Community Edition, ale zaprezentowane zostanie również narzędzie Visual Studio Code (VSC) wraz z pluginem Python. Cały proces instalacji oraz konfiguracji środowiska zostanie przedstawiony na pierwszych zajęciach wraz z pisemną dokumentacją najważniejszych jej elementów. Możliwe jest również przedstawienie podstawowej koncepcji wykorzystania narzędzia Git.\n",
    "W trakcie zajęć poruszone zostaną zagadnienia z poniższej listy:\n",
    "\n",
    "•\tpodstawowe cechy języka Python,\n",
    "•\tkonfiguracja środowiska,\n",
    "•\twykorzystanie środowiska wirtualnego języka Python,\n",
    "•\tomówienie składni kodu języka Python,\n",
    "•\tdeklaracja zmiennych i podstawowe typy danych,\n",
    "•\tpodstawowe kolekcje,\n",
    "•\tinstrukcje warunkowe i pętle,\n",
    "•\tPython comprehensions,\n",
    "•\tomówienie wybranych wbudowanych funkcji języka Python,\n",
    "•\tinstalacja oraz import dodatkowych modułów i pakietów,\n",
    "•\ttworzenie własnych modułów i pakietów,\n",
    "•\toperacje na plikach,\n",
    "•\twprowadzenie do programowania obiektowego w języku Python,\n",
    "•\twstęp do narzędzie Jupyter Notebook.\n"
   ]
  },
  {
   "cell_type": "markdown",
   "metadata": {},
   "source": [
    "### 1.3 Warunki zaliczenia przedmiotu"
   ]
  },
  {
   "cell_type": "markdown",
   "metadata": {},
   "source": [
    "Na zaliczenie przedmiotu składają się:\n",
    "•\twykonanie niewielkiego projektu końcowego (szczegóły zostaną przedstawione w późniejszym czasie),\n",
    "•\tocena pracy studenta w trakcie zajęć oraz przydzielonych zadań do samodzielnego wykonania."
   ]
  },
  {
   "cell_type": "markdown",
   "metadata": {},
   "source": [
    "## 2. Literatura i materiały uzupełniające"
   ]
  },
  {
   "cell_type": "markdown",
   "metadata": {},
   "source": [
    "1.\t(POL) \"Python. Wprowadzenie. Wydanie IV, Mark Lutz\"\n",
    "\n",
    "2.\t(ENG) Oficjalna dokumentacja - https://www.python.org/doc/versions/\n",
    "\n",
    "3.\t(POL, ENG) Krótki kurs w sam raz na początek: https://www.learnpython.org/pl/\n",
    "\n",
    "4.\t(ENG) https://www.tutorialspoint.com/python3/index.htm\n",
    "\n",
    "5.\t(POL) http://python101.readthedocs.io/pl/latest/ - dość obszerne źródło wiedzy z zakresu języka Python z przykładomi rozwiązań kilku problemów. Duży przekrój zastosowań języka Python.\n",
    "\n",
    "6.\t(ENG) https://leanpub.com/python_101 - bardzo dobry e-book wprowadzający do Pythona, wersja angielska, ale można ją pobrać za darmo (tak było dla wersji 1.0, wersja 2.0 płatna). Wersję 1.0 można znaleźć pod adresem https://python101.pythonlibrary.org/\n",
    "\n",
    "7.\t(ENG) https://realpython.com/ - bardzo wysokiej jakości tutoriale, duża liczba darmowych, ale też część dostępna po wykupieniu dostępu.\n",
    "\n",
    "8.\t(ENG) http://www.packtpub.com – można tutaj przechodząc do sekcji free learning otrzymać dostęp do dość obszernego zestawu darmowych e-booków. Dodatkowo dość często, przez ograniczony czas, pojawiają się nowe darmowe e-booki do pobrania lub dodania do swojej biblioteki.\n",
    "\n",
    "9.\t(ENG) Link do dokumentacji VSC + Python - https://code.visualstudio.com/docs/python/python-tutorial\n",
    "\n",
    "10.\t(ENG) http://www.humblebundle.com (głównie https://www.humblebundle.com/books) – możliwość zakupu całych zbiorów (nie tylko e-booki), które pojawiają się raz na jakiś czas, najczęściej wokół określonego tematu.\n",
    "\n",
    "11.\t(ENG) https://www.codecademy.com/learn/learn-python-3 - darmowy kurs wprowadzający do języka Python w wersji 3. Dostępne również wyzwania programistyczne i inne kursy.\n",
    "\n",
    "12.\t(ENG) https://www.datacamp.com/ - serwis udostępniający kursy związane z przetwarzaniem danych (analiza danych, SQL, NoSQL, machine learning, statystyka) z wykorzystaniem nie tylko języka Python, ale również języka R, Excela czy języka SQL. Kursy są zosrganizowane również w ścieżki kariery (np. data scientist ( in Python, in R), machine learning engineer itp.).\n"
   ]
  }
 ],
 "metadata": {
  "language_info": {
   "name": "python"
  }
 },
 "nbformat": 4,
 "nbformat_minor": 2
}
