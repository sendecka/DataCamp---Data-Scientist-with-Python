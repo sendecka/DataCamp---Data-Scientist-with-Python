{
 "cells": [
  {
   "cell_type": "markdown",
   "metadata": {},
   "source": [
    "# Moduł 2 - Pierwszy skrypt. Podstawowe typy danych."
   ]
  },
  {
   "cell_type": "markdown",
   "metadata": {},
   "source": [
    "## 1. Operatory."
   ]
  },
  {
   "cell_type": "markdown",
   "metadata": {},
   "source": [
    "Zanim omówione zostaną typy danych, warto poznać kilka operatorów, które w powiązaniu ze zmiennymi są często używane."
   ]
  },
  {
   "cell_type": "markdown",
   "metadata": {},
   "source": [
    "- operatory arytmetyczne"
   ]
  },
  {
   "cell_type": "code",
   "execution_count": null,
   "metadata": {},
   "outputs": [],
   "source": [
    "# operator dodawania\n",
    "print(1 + 2)\n",
    "# operator odejmowania\n",
    "print(1 - 2)\n",
    "# operator mnożenia\n",
    "print(1 * 2)\n",
    "# operator dzielenia z resztą\n",
    "print(1 / 2)\n",
    "# operator dzielenia bez reszty (dzielenie całkowite)\n",
    "print(1 // 2)\n",
    "\n",
    "# pamiętajmy o kolejności operacji arytmetycznych\n",
    "wynik = 1 + 2 * 3 / 4.0\n"
   ]
  },
  {
   "cell_type": "markdown",
   "metadata": {},
   "source": [
    "- operatory przypisania"
   ]
  },
  {
   "cell_type": "code",
   "execution_count": null,
   "metadata": {},
   "outputs": [],
   "source": [
    "zmienna = \"wartość\" # przypisanie wartości do zmiennej\n",
    "# są też skrócone postacie operatorów przypisania w połączeniu z innymi operatorami\n",
    "suma = 10\n",
    "suma += 1 \n",
    "# to samo co\n",
    "suma = suma + 1\n",
    "# podobnie możemy używać operatorów -, *, /, //, **, % i operatorów bitowych (zachęcam do poczytania w dokumentacji)\n",
    "\n",
    "# modulo czyli reszta z dzielenia\n",
    "reszta = 12 % 5\n",
    "# operator potęgowania\n",
    "kwadrat = 5 ** 2\n",
    "szescian = 5 ** 3\n",
    "\n"
   ]
  },
  {
   "cell_type": "markdown",
   "metadata": {},
   "source": [
    "- operacje na zmiennych znakowych (string)"
   ]
  },
  {
   "cell_type": "code",
   "execution_count": null,
   "metadata": {},
   "outputs": [],
   "source": [
    "full_name = \"Kowalski\" + \" \" + \"Jan\"\n",
    "\n",
    "# tak też można\n",
    "spam = \"SPAM \" * 10\n",
    "print(spam)\n"
   ]
  },
  {
   "cell_type": "markdown",
   "metadata": {},
   "source": [
    "- operatory porównania"
   ]
  },
  {
   "cell_type": "code",
   "execution_count": null,
   "metadata": {},
   "outputs": [],
   "source": [
    "liczba1 = 1\n",
    "liczba2 = 2\n",
    "print(liczba1 > liczba2)\n",
    "print(liczba1 < liczba2)\n",
    "print(liczba1 <= liczba2)\n",
    "print(liczba1 >= liczba2)\n",
    "print(liczba1 == liczba2)\n",
    "print(liczba1 != liczba2)\n",
    "\n",
    "# powyższe porównania zwrócą wartości typu bool czyli True lub False\n",
    "\n",
    "prawda = True\n",
    "falsz = False\n"
   ]
  },
  {
   "cell_type": "markdown",
   "metadata": {},
   "source": [
    "- operatory logiczne"
   ]
  },
  {
   "cell_type": "code",
   "execution_count": null,
   "metadata": {},
   "outputs": [],
   "source": [
    "print(prawda and falsz) # koniunkcja logiczna\n",
    "print(prawda or falsz) # alternatywa logiczba\n",
    "print(not prawda) # negacja\n",
    "print(not not prawda) # podwójna negacja\n",
    "print(bool(prawda or falsz)) # użycie metody bool(), która jest tutaj wywołaniem konstruktora klasy bool (więcej w kolejnych labach)"
   ]
  },
  {
   "cell_type": "markdown",
   "metadata": {},
   "source": [
    "- operatory tożsamości (identity)"
   ]
  },
  {
   "cell_type": "code",
   "execution_count": null,
   "metadata": {},
   "outputs": [],
   "source": [
    "liczba = 1\n",
    "liczba2 = liczba\n",
    "\n",
    "print(liczba is liczba2)\n",
    "print(liczba is not liczba2)"
   ]
  },
  {
   "cell_type": "markdown",
   "metadata": {},
   "source": [
    "- operatory przynależności (membership)"
   ]
  },
  {
   "cell_type": "code",
   "execution_count": null,
   "metadata": {},
   "outputs": [],
   "source": [
    "lista = [1, 2, 3, 4]\n",
    "print(1 in lista)\n",
    "print(5 not in lista)"
   ]
  },
  {
   "cell_type": "markdown",
   "metadata": {},
   "source": [
    "- operatory bitowe "
   ]
  },
  {
   "cell_type": "code",
   "execution_count": null,
   "metadata": {},
   "outputs": [],
   "source": [
    "x | y # logiczna alternatywy (ang. or) na x i y\n",
    "x ^ y # logiczna alternatywa rozłączna na x i y\n",
    "x & y # logiczna koniunkcja of x and y\n",
    "x << n # x przesunięte w lewo o n bitów\n",
    "x >> n # x przesunięte w prawo o n bitów\n",
    "~x # przerzucanie bitów (negacja)"
   ]
  },
  {
   "cell_type": "markdown",
   "metadata": {},
   "source": [
    "- operator przypisania "
   ]
  },
  {
   "cell_type": "code",
   "execution_count": null,
   "metadata": {},
   "outputs": [],
   "source": [
    "# tutaj najpierw nowej zmiennej n przypisana zostaje wartość len(lista) a później\n",
    "# dokonana zostaje ewaluacja tej zmiennej czy n > 10. Może to oszczędzić w niektórych\n",
    "# przypadkach nieco miejsca na deklarację zmiennej, jeżeli potrzebna jest tylko w bardzo\n",
    "# ograniczonym zakresie (ang. scope)\n",
    "if (n := len(lista)) > 10:\n",
    "    print(f\"List is too long ({n} elements, expected <= 10)\")\n"
   ]
  },
  {
   "cell_type": "markdown",
   "metadata": {},
   "source": [
    "Python w bardziej złożonych wyrażeniach wykonuje działania w określonej kolejności:\n",
    "1.\tnajpierw **\n",
    "2.\tnastępnie *, / oraz %\n",
    "3.\ta dopiero na końcu + i -\n",
    "Informacje o epratorach, rozbite niestety w wielu podrodziałach, znajdują się w dokumencie opisującym wbudowane typy danych języka Python: https://docs.python.org/3.11/library/stdtypes.html. Do tego dokumentu będziemy jeszcze wracać.\n",
    "Bardziej szczegółowe informacje na temat priorytetów operatorów można znaleźć tu: https://docs.python.org/3.11/reference/expressions.html#operator-summary"
   ]
  },
  {
   "cell_type": "markdown",
   "metadata": {},
   "source": [
    "W Pythonie jako fałsz traktowane są:\n",
    "•\tliczba zero (0, 0.0, 0j itp.)\n",
    "•\tFalse\n",
    "•\tNone\n",
    "•\tpuste kolekcje ([], (), {}, set() itp.)\n",
    "•\tpuste łańcuchy znakowe\n",
    "•\tw Pythonie 2 – obiekty posiadające metodę __nonzero__(), jeśli zwraca ona False lub 0\n",
    "•\tw Pythonie 3 – obiekty posiadające metodę __bool__(), jeśli zwraca ona False\n"
   ]
  },
  {
   "cell_type": "markdown",
   "metadata": {},
   "source": [
    "## 2. Typy liczbowe."
   ]
  },
  {
   "cell_type": "markdown",
   "metadata": {},
   "source": [
    "Dwa główne typy liczbowe Pythona to liczba całkowita oraz rzeczywiste, czyli int i float. Jest jeszcze typ complex, który służy do przechowywania wartości liczb zespolonych, ale zapoznanie się z informacjami na jego temat pozostawiam czytelnikowi."
   ]
  },
  {
   "cell_type": "markdown",
   "metadata": {},
   "source": [
    "#### Listing 2"
   ]
  },
  {
   "cell_type": "code",
   "execution_count": null,
   "metadata": {},
   "outputs": [],
   "source": [
    "calkowita = 5\n",
    "rzeczywista = 5.6\n",
    "rzeczywista = float(56)\n",
    "# powyższy sposób to rzutowanie - konwersja jednego typu w inny o ile to możliwe\n",
    "# poniżej kolejny przykład\n",
    "liczba_str = '123'\n",
    "liczba = int(liczba_str)\n",
    "print(type(liczba))\n",
    "\n",
    "# zmienne można również zadeklarować w jednej linii\n",
    "a, b = 3, 4\n",
    "\n",
    "# typ int w Pythonie nie ma odgórnego ograniczenia jeżeli chodzi o\n",
    "# maksymalną wartość (32 czy 64 bity), a jedyne ograniczenie to ilość dostępnej pamięci\n",
    "\n",
    "# nieco inaczej jest w przypadku typu float\n",
    "# maksymalna precyzja zależy od wersji interpretera i systemu\n",
    "# operacyjnego, a szczegóły można znaleźć tu:\n",
    "# 1. https://note.nkmk.me/en/python-sys-float-info-max-min/\n",
    "# 2. https://docs.python.org/3/tutorial/floatingpoint.html\n"
   ]
  },
  {
   "cell_type": "markdown",
   "metadata": {},
   "source": [
    "W przypadku liczb rzeczywistych można również określić precyzję, z jaką zostaną wyświetlone (ale nie przechwywane w pamięci), ale stosowny przykład znajduje się w kolejnym podrozdziale.\n",
    "Ważnym aspektem pracy z dziesiętnymi liczbami zmiennoprzecinkowymi jest sposób ich zapisu w sytemie binarnym, który może powodować problemy pokazane na poniższym listingu."
   ]
  },
  {
   "cell_type": "markdown",
   "metadata": {},
   "source": [
    "#### Listing 3"
   ]
  },
  {
   "cell_type": "code",
   "execution_count": null,
   "metadata": {},
   "outputs": [],
   "source": [
    "from decimal import Decimal\n",
    "\n",
    "print((0.1 + 0.2) == 0.3)  # kto by się spodziewał ?\n",
    "print(round((0.1 + 0.2), 2) == round(0.3, 2))  # teraz lepiej\n",
    "print((Decimal(0.1) + Decimal(0.2)) == Decimal(0.3))\n",
    "print((Decimal('0.1') + Decimal('0.2')) == Decimal('0.3'))"
   ]
  },
  {
   "cell_type": "markdown",
   "metadata": {},
   "source": [
    "Wyjaśnienie niezgodności wyników dwóch ostatnich funkcji print() z kodu powyżej można znaleźć w dokumentacji modułu Decimal: https://docs.python.org/3/library/decimal.html\n",
    "Dla zainteresowanych problemem reprezentacji liczb zmiennoprzecinkowych w systemie dwójkowym odsyłam do dość obrazowo wyjaśnienia w artykule pod adresem http://www.samouczekprogramisty.pl/liczby-zmiennoprzecinkowe/."
   ]
  },
  {
   "cell_type": "markdown",
   "metadata": {},
   "source": [
    "## 3. Typ str. Wybrane właściwości."
   ]
  },
  {
   "cell_type": "markdown",
   "metadata": {},
   "source": [
    "Dokumentacja: https://docs.python.org/3.11/library/stdtypes.html#str\n",
    "Typ łańcuchowy jest chyba najbardziej powszechnym typem danych nie tylko w języku Python. Dane pobierane z plików, bez względu na ich postać są pierwotnie zapisane jako łańcuch znaków, a następnie mogą być skonwertowane na inny typ, np. numeryczny. Zapisanie danych do pliku wyjściowego również wymaga często ich rzutowania (zamiany typu) na typ str.\n",
    "W etapie przygotowania i oczyszczania danych (ang. data cleaning, data mangling) bardzo często praca polega na wykorzystaniu metod i technik pracy z łańcuchami znaków.\n",
    "Poniżej przykłady deklaracji zmiennej typu str.\n"
   ]
  },
  {
   "cell_type": "markdown",
   "metadata": {},
   "source": [
    "#### Listing 4"
   ]
  },
  {
   "cell_type": "code",
   "execution_count": null,
   "metadata": {},
   "outputs": [],
   "source": [
    "artykul = \"\"\"Recenzja \"Władcy Pierścieni\".\"\"\"\n",
    "imie = 'Jan'\n",
    "hobby = \"piłka nożna\"\n",
    "\n",
    "# lub poprzez rzutowanie innego typu na typ str\n",
    "liczba = 1000\n",
    "# wykorzystanie konstruktora obiektu do stworzenia obiektu typu str z\n",
    "# obiektu typu int\n",
    "liczba_str = str(liczba)\n"
   ]
  },
  {
   "cell_type": "markdown",
   "metadata": {},
   "source": [
    "Powyższy fragment to tylko przykład różnych metod deklaracji, w trakcie zajęć będą stosowane apostrofy.\n",
    "Ciąg tekstowy w Pythonie to tablica znaków, co daje z miejsca wiele możliwości manipulacji i dostępu do składowych tego ciągu. Inna ważna cecha stringów to fakt, że po ich zadeklarowaniu nie możemy zmienić zadeklarowanych znaków ciągu, gdyż zmienne typu string są niemutowalne (ang. immutable). Oczywiście możemy nadpisać zmienną nową wartością, czyli zmienić wartość przez ponowne przypisanie.\n"
   ]
  },
  {
   "cell_type": "markdown",
   "metadata": {},
   "source": [
    "#### Listing 5"
   ]
  },
  {
   "cell_type": "code",
   "execution_count": null,
   "metadata": {},
   "outputs": [],
   "source": [
    "imie = 'Kowalski'\n",
    "nazwisko = 'Jan'\n",
    "\n",
    "# string to tablica znaków więc możemy odwołać się do jej elementów\n",
    "print(imie[0])\n",
    "\n",
    "# indeks elementu możemy również określać jako pozycja od końca ciągu\n",
    "print(imie[-1])\n",
    "\n",
    "# można również pobrać fragment ciągu (slice) określając jako indeks\n",
    "# element początkowy i końcowy. Zwróć uwagę na wartość tych indeksów.\n",
    "print(imie[0] + imie[-2] + imie[4:6])\n",
    "# można również określic tylko jeden z dwóch indeksów\n",
    "# co oznacza od elementu o indeksie 3 do końca łańcucha\n",
    "print(imie + nazwisko[3:])\n",
    "\n",
    "# ogólna postać slice\n",
    "# [start:stop:step]\n",
    "# wartości poszczególnych parametrów slice'a są pomijalne, ale\n",
    "# musimy zapisywać drukropki, które informują mechanizm o tym\n",
    "# które parametry zostaną uzyte z ich domyślnymi wartościami\n",
    "# sprawdź działanie poniższych przykładów\n",
    "print(imie[::2])\n",
    "print(imie[-2])\n",
    "print(imie[:-4:-1])\n",
    "print(imie[::-1])\n",
    "\n",
    "# inny sposób złączania ciągów\n",
    "print(imie + ' ' + nazwisko)\n",
    "\n",
    "# Elementów ciągu nie można zmieniać więc poniższa instrukcja zwróci błąd.\n",
    "# nazwisko[0] = \"P\"\n",
    "\n",
    "# Potwierdzeniem tego, że ciąg tekstowy jej również obiektem jest możliwość\n",
    "# wykonania na nim metod dla tego typu zdefiniowanych. Metoda count() zlicza\n",
    "# ilość wystąpień danego ciągu w wartości przechowywanej przez zmienną.\n",
    "print(imie.count('z'))\n",
    "# Co ciekawe w Pythonie możemy wywoływać funkcje dla danego obiektu już podczas deklaracji\n",
    "# co na pierwszy rzut oka może wyglądać dość egzotycznie.\n",
    "print('Jesteś szalona!'.count('a'))\n",
    "\n",
    "# Potwierdzeniem niezmienności zadeklarowanego stringa może być również poniższy kod\n",
    "print(imie.lower())\n",
    "print(imie)\n",
    "\n",
    "# Aby zwrócić długość ciągu tekstowego należy posłużyć się wbudowaną funkcją len()\n",
    "print(len(nazwisko))\n"
   ]
  },
  {
   "cell_type": "markdown",
   "metadata": {},
   "source": [
    "## Wybrane własności klasy str.\n",
    "\n",
    "Klasa str zapewnia konstruktor, który zwraca postać łańcuchową przekazanego obiektu. Każdy obiekt w Pythonie posiada taką postać, chociaż czasem to co uzyskamy na wyjściu nie zawsze jest pomocne. Dzieje się to z powodu dziedziczenia innych obiektów po klasie object, która dostarcza między innymi magicznej metody __str__().\n",
    "Osoby zainteresowane zgłębianiem kodu źródłowego implementacji CPython odsyłam do: https://github.com/python/cpython\n",
    "Technicznie przy wywołaniu str(obiekt) wywoływana jest metoda __str__() dla danego typu obiektu, a jeżeli tam nie została ona zaimplementowana to poprzez mechanizm dziedziczenia będzie kaskadowo poszukiwana metoda __str__() obiektu rodzica, aż do abstrakcyjnej ogólnej klasy object.\n"
   ]
  },
  {
   "cell_type": "markdown",
   "metadata": {},
   "source": [
    "#### Listing 6"
   ]
  },
  {
   "cell_type": "code",
   "execution_count": null,
   "metadata": {},
   "outputs": [],
   "source": [
    "# czy będzie jakaś różnica w oknie konsoli ?\n",
    "print(str(5))\n",
    "print(5)\n",
    "print(int(5).__str__())\n"
   ]
  },
  {
   "cell_type": "markdown",
   "metadata": {},
   "source": [
    "Poniżej przedstawiony zostanie fragment kodu, a którym wykorzystane zostanie kilka wybranych metod dla klasy str. Dla pełnej listy odsyłam do oficjalnej dokumentacji."
   ]
  },
  {
   "cell_type": "markdown",
   "metadata": {},
   "source": [
    "#### Listing 7"
   ]
  },
  {
   "cell_type": "code",
   "execution_count": null,
   "metadata": {},
   "outputs": [],
   "source": [
    "# 1. wczytujemy dane ze standardowego wejścia (tu przechwytujemy wejście z klawiatury w oknie konsoli)\n",
    "sentence = input('Wpisz dowolne zdanie:\\n')\n",
    "# dane przechowywane są w postaci zmiennej typu str\n",
    "\n",
    "# 2 - możemy usunąć ewentualne białe znaki na początku i końcu łańcucha.\n",
    "sentence = sentence.strip()\n",
    "# można ograniczyć się tylko do początku lub końca łańcucha używając odpowiednio metod\n",
    "# lstrip() i rstrip()\n",
    "\n",
    "# 3 - Jedną z metod jest metoda split, która dzieli łańcuch na części, a każda z nich jest\n",
    "# zapisywana do listy w postaci łańcucha znaków bez uwzględnienia znaku separatora.\n",
    "# Łańcuch zostanie podzielony i zliczone zostaną słowa (zakładają, że spacje jest separatorem)\n",
    "words = sentence.split(' ')\n"
   ]
  },
  {
   "cell_type": "markdown",
   "metadata": {},
   "source": [
    "Można pominąć ' ' w tym przypadku i efekt będzie taki sam, ale to nie oznacza, że domyślnie\n",
    "jest to po prostu spacja. \n",
    "Za dokumentacją:\n",
    "If sep is not specified or is None, a different splitting algorithm is applied: runs of consecutive whitespace are regarded as a single separator, and the result will contain no empty strings at the start or end if the string has leading or trailing whitespace. Consequently, splitting an empty string or a string consisting of just whitespace with a None separator returns [].\n"
   ]
  },
  {
   "cell_type": "code",
   "execution_count": null,
   "metadata": {},
   "outputs": [],
   "source": [
    "print('W podanym zdaniu jest ', len(words), ' słów.')\n",
    "\n",
    "# 4 - możemy również sprawdzić, czy zdanie rozpoczyna się wielką literą\n",
    "print('Czy zdanie rozpoczyna się wielką literą? -> ', words[0].istitle())\n",
    "\n",
    "# 5 - lub czy zdanie rozpoczyna się znakiem alfabetycznym\n",
    "print('Czy zdanie rozpoczyna się od litery? -> ',sentence[0].isalpha())\n",
    "\n",
    "# 6 - teraz wczytamy inne wejście - oczekujemy podania liczby\n",
    "num = input('Wpisz dowolną liczbę:\\n')\n",
    "\n",
    "print('Czy liczba jest liczbą całkowitą? -> ', num.isdigit())\n",
    "\n",
    "# 7 - jak wprowadzone zostaną instrukcje warunkowe i pętle to będzie łatwiej :)\n",
    "# sprawdzimy, czy wartość była podana jako docelowy float (separator . )\n",
    "print('Czy liczba jest liczbą zmiennoprzecinkową? -> ', num.replace('.','',1).isdigit())\n",
    "\n",
    "# 8 - dopełnimy liczbę poprzedzającymi zerami do 5 pozycji\n",
    "# aktualnie zadziała tylko dla liczby całkowitej\n",
    "print(num.zfill(5))\n"
   ]
  },
  {
   "cell_type": "markdown",
   "metadata": {},
   "source": [
    "## 4. Formatowanie łańcuchów znaków."
   ]
  },
  {
   "cell_type": "markdown",
   "metadata": {},
   "source": [
    "Formatowanie łańcuchów znaków polega na łączeniu wzorców tekstowych z wartościami innych typów. Wiemy już, że możemy to zrobić poprzez uzycie funkcji print() np. print('Adam ma ', 23 ,' lata') i nie jest to najgorszy pomysł. Ma jednak pewne wady, a mianowicie nie mamy tutaj zbyt wielu możliwości określenia formatu, w jakim wartość niebędąca łańcuchem znaków zostanie wypisana, np. z dokładnością do n-znaków po przecinku, wyrównana do strony prawej lub lewej, itd. Z pomocą przychodzą techniki formatowania łańcuchów znaków przedstawione na listingu poniżej."
   ]
  },
  {
   "cell_type": "markdown",
   "metadata": {},
   "source": [
    "#### Listing 8"
   ]
  },
  {
   "cell_type": "code",
   "execution_count": null,
   "metadata": {},
   "outputs": [],
   "source": [
    "# formatowanie znane z Pythona 2.x\n",
    "wyznanie = 'Lubię %s' % 'Pythona'\n",
    "print(wyznanie)\n",
    "wonsz = 'Python'\n",
    "print('Lubię %sa' % wonsz)\n",
    "\n",
    "print('Lubię %s oraz %sa' % ('Pythona', wonsz))\n",
    "\n",
    "# %s oznacza, że w miejsce tego znacznika będzie podstawiany ciąg tekstowy\n",
    "# %i - to liczba całkowita\n",
    "# %f - liczba rzeczywista lub inaczej zmiennoprzecinkowa\n",
    "# %x lub %X - liczba całkowita zapisana w formie szesnastkowej\n",
    "\n",
    "print('Używamy wersji Python %i' % 3)\n",
    "print('A dokładniej Python %f' % 3.9)\n",
    "print('Chociaż lepiej to zapisać jako Python %.1f' % 3.9)\n",
    "print('A kolejną glówną wersją Pythona może być wersja %.4f' % 3.11111)\n",
    "print('A może będzie to wersja %.1f ?' % 3.111)\n",
    "print('A może jednak %.f ?' % 3.12)\n",
    "wersja = 4\n",
    "print('A %i w systemie szesnastkowym to %X' % (wersja, wersja))\n",
    "print('A %i * %i szesnastkowo daje %X' % (wersja, wersja, wersja*wersja))\n",
    "\n",
    "# Chociaż możliwości przy korzystaniu z mechanizmów powyżej są spore,\n",
    "# to i kilka wad się również znajdzie. Trzeba pilnować zarówno liczby argumentów, jak\n",
    "# i ich kolejności. Konieczne jest powielanie tej samej zmiennej, jeżeli kilka\n",
    "# razy jest wykorzystywana w formatowanym ciągu. Spójrzmy na inne możliwości.\n",
    "\n",
    "print('Lubię %(jezyk)s' % {'jezyk': 'Pythona'})\n",
    "print('Lubię %(jezyk)s a czy Ty lubisz %(jezyk)s ?' % {'jezyk': 'Pythona'})\n",
    "# wadą jest dość duża ilość dodatkowego kodu do napisania, ale nazwy zmiennych\n",
    "# w ciągu pozwalają na ich szybką identyfikację i wielokrotne wykorzystanie w\n",
    "# dowolnej kolejności\n",
    "\n",
    "# poniżej kolejny sposób\n",
    "print('Lubię język {1} oraz {0}'.format('Java', 'Python'))\n",
    "\n",
    "# w nowej wersji języka Python możliwe jest również odwoływanie się do elementów kolekcji\n",
    "# lub pól klasy\n",
    "class Osoba:\n",
    "\n",
    "    def __init__(self, imie, nazwisko):\n",
    "        self.imie = imie\n",
    "        self.nazwisko = nazwisko\n",
    "\n",
    "jan = Osoba('Jan', 'Kowalski')\n",
    "\n",
    "print('Tą osobą jest {0.imie} {0.nazwisko}'.format(jan))\n"
   ]
  },
  {
   "cell_type": "markdown",
   "metadata": {},
   "source": [
    "W wersji 3.6 wprowadzono do języka Python pojęcie „f-string”, które nieco upraszcza formatowanie ciągów tekstowych. Jest to obecnie zalecana i szeroko stosowana metoda. Przykład poniżej."
   ]
  },
  {
   "cell_type": "markdown",
   "metadata": {},
   "source": [
    "#### Listing 9"
   ]
  },
  {
   "cell_type": "code",
   "execution_count": null,
   "metadata": {},
   "outputs": [],
   "source": [
    "# zapis jest skróconą postacią użycia funkcji .format()\n",
    "imie = 'Marek'\n",
    "print(f'Witaj {imie}!')\n",
    "\n",
    "# zapis wewnątrz {} powoduje wykonanie działań, które tam zapisano\n",
    "# odwołanie do zmiennej, funkcji itp a następnie zastosowanie formatu\n",
    "# określonego opcjonalnie po symbolu : wewnątrz tego nawiasu.\n",
    "# poniższy przykład: najpierw wykonana zostanie operacja {33.33 + 66.67\n",
    "# a następnie zastosowany format .4f, który oznacza zapisanie liczby \n",
    "# zmiennoprzecinkowej (float - stąd litera f) z dokładnością do 4 liczb po przecinku\n",
    "print(f'Wynik dodawania 33.33 oraz 66.67 to {33.33 + 66.67: .4f}')\n",
    "print(f'Imię zapisane wielkimi literami to {imie.capitalize()}.')\n"
   ]
  },
  {
   "cell_type": "markdown",
   "metadata": {},
   "source": [
    "Po więcej przykładów związanych z formatowaniem łańcuchów można udać się pod poniższe adresy:\n",
    "1.\thttps://docs.python.org/3/library/string.html#format-string-syntax\n",
    "2.\thttps://pyformat.info/\n",
    "3.\thttps://realpython.com/python-f-strings/\n"
   ]
  }
 ],
 "metadata": {
  "kernelspec": {
   "display_name": "Python 3",
   "language": "python",
   "name": "python3"
  },
  "language_info": {
   "codemirror_mode": {
    "name": "ipython",
    "version": 3
   },
   "file_extension": ".py",
   "mimetype": "text/x-python",
   "name": "python",
   "nbconvert_exporter": "python",
   "pygments_lexer": "ipython3",
   "version": "3.10.13"
  }
 },
 "nbformat": 4,
 "nbformat_minor": 2
}
