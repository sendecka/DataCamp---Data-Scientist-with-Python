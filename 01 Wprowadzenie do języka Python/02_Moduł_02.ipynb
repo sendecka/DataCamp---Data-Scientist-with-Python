{
 "cells": [
  {
   "cell_type": "markdown",
   "metadata": {},
   "source": [
    "# Moduł 0 - przygotowanie środowiska pracy"
   ]
  },
  {
   "cell_type": "markdown",
   "metadata": {},
   "source": [
    "## 1. Niezbędne oprogramowanie"
   ]
  },
  {
   "cell_type": "markdown",
   "metadata": {},
   "source": [
    "### 1.1 IDE - zintegrowane środowisko developerskie"
   ]
  },
  {
   "cell_type": "markdown",
   "metadata": {},
   "source": [
    "Najbardziej popularnym rozwiązaniem do pracy z językiem Python jest obecnie oprogramowanie PyCharm IDE od firmy JetBrains. Dostępne jest w dwóch wariantach:\n",
    "•\tPyCharm Community - rozwiązanie darmowe.\n",
    "•\tPyCharm Professional - rozwiązanie płatne (dostępne również w ramach licencji akademickiej, przedłużanej co rok, bez zastosowań komercyjnych).\n",
    "Różnice między obiema wersjami można znaleźć tu: https://www.jetbrains.com/products/compare/?product=pycharm-ce&product=pycharm\n",
    "Innym bardzo popularnym rozwiązaniem jest Visual Studio Code (w skrócie VSC) firmy Microsoft, które jest narzędziem w pełni darmowym. Jest to uniwersalne narzędzie pozwalające na rozbudowywanie jego możliwości poprzez szereg pluginów. Jednym z najbardziej popularnych jest ten umożliwiający pracę z językiem Python.\n"
   ]
  },
  {
   "cell_type": "markdown",
   "metadata": {},
   "source": [
    "### 1.2 Interpreter języka Python"
   ]
  }
 ],
 "metadata": {
  "language_info": {
   "name": "python"
  }
 },
 "nbformat": 4,
 "nbformat_minor": 2
}
