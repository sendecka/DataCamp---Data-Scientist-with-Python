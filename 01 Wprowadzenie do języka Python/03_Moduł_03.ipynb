{
 "cells": [
  {
   "cell_type": "markdown",
   "metadata": {},
   "source": [
    "# Moduł 1. Krótka historia Pythona. PEP8."
   ]
  },
  {
   "cell_type": "markdown",
   "metadata": {},
   "source": [
    "## 1. Wstęp"
   ]
  },
  {
   "cell_type": "markdown",
   "metadata": {},
   "source": [
    "### 1.1 Historia języka Python"
   ]
  },
  {
   "cell_type": "markdown",
   "metadata": {},
   "source": [
    "Twórcą Pythona jest holender Guido van Rossum, a sama nazwa, co niektórych zapewne nie zdziwi, pochodzi od popularnego serialu BBC „Latający Cyrk Monty Pythona”. Prace nad pierwszym interpreterem Pythona rozpoczęły się w 1989 roku jako następcy języka ABC. Wszystkie wersje aż do wersji 1.2 powstawały w CWI (Centrum Matematyki i Informatyki) w Amsterdamie gdzie Guido wówczas pracował. Od wersji 2.1 Python był udostępniany jako projekt Open Source przez niedochodową organizację Python Software Foundation (PSF). Obecnie nad rozwojem Pythona pracuje wiele osób, ale Guido wciąż jest zaangażowany w ten proces. Update 2021: Po sporach ze społecznością co do dalszego kierunku rozwoju języka Python Guido angażuje się już znacznie mniej w ten proces.\n",
    "\n",
    "Sam twórca w 1995 roku wyemigrował do USA gdzie w latach 2005 – 2013 pracował dla Google a następnie dla Dropbox'a (do października 2019 roku). We wspólnocie Pythona van Rossum pełnił do lipca 2018 roku funkcję Benevolent Dictator for Life (BDFL), co oznacza, że nadzorował rozwój języka, podejmując w razie konieczności ostateczne decyzje. W 2019 roku był jeszcze członkiem Python Steering Council, ale wycofał swoją kandydaturę na rok 2020. Po odejściu z Dropboxa ogłosił przejście na emeryturę, ale już w listopadzie 2020 ogłosił, że dołącza do firmy Microsoft, aby dalej rozwijać Pythona.\n",
    "Ważnym momentem w historii Pythona było utworzenie drugiej głównej gałęzi – Pythona 3 w roku 2008. Od tego momentu wersja 2 oraz 3 były rozwijane oddzielnie, ale czas wersji 2 właściwie minął, o czym świadczy termin zakończenia wsparcia z dniem 12 kwietnia 2020 roku. Rozwój języka jest prowadzony przy wykorzystaniu PEP (Python Enhancement Proposal). Dokumenty te to propozycje rozszerzeń lub zmian w języku w postaci artykułu, który jest poddawany pod dyskusję wśród programistów Pythona. Każdy dokument zawiera opis proponowanego rozwiązania, uzasadnienie oraz aktualny status. Po osiągnięciu konsensusu propozycje są przyjmowane lub odrzucane.\n",
    "\n",
    "W dokumencie https://peps.python.org/pep-0020/ został przedstawiony The Zen of Python, który nakreśla idee organizacji składni języka, którymi posługiwali się jego twórcy, ale też jest zbiorem zaleceń dla innych programistów tego języka.\n"
   ]
  },
  {
   "cell_type": "markdown",
   "metadata": {},
   "source": [
    "### 1.2. Wybrane cechy języka Python"
   ]
  },
  {
   "cell_type": "markdown",
   "metadata": {},
   "source": [
    "Python jest językiem ogólnego przeznaczenia, którego ideą przewodnią jest czytelność i klarowność kodu źródłowego. Standardową implementacją języka jest CPython (napisany w C), ale istnieją też inne, np. Jython (napisany w Javie), CLPython napisany w Common Lisp, IronPython (na platformę .NET) i PyPy napisany w Pythonie.\n",
    "Python nie wymusza jednego stylu programowania, dając możliwość programowania obiektowego, programowania strukturalnego oraz programowania funkcyjnego.\n",
    "Inne cechy języka Python:\n",
    "\n",
    "•\tTypy sprawdzane są dynamicznie (w przeciwieństwie np. do Javy, C#),\n",
    "•\tDo zarządzania pamięcią używany jest garbage collector,\n",
    "•\tWszystkie wartości przekazywane są przez referencję,\n",
    "•\tJest czasem kwalifikowany jako język skryptowy,\n",
    "•\tNie ma enkapsulacji, jak to ma miejsce w C++ czy Javie, ale istnieją mechanizmy, które pozwalają na osiągnięcie podobnego efektu,\n",
    "•\tMożliwe jest tworzenie funkcji ze zmienną liczbą argumentów,\n",
    "•\tMożliwe jest tworzenie funkcji z argumentami o wartościach domyślnych.\n"
   ]
  },
  {
   "cell_type": "markdown",
   "metadata": {},
   "source": [
    "### 1.3. Python i data science"
   ]
  },
  {
   "cell_type": "markdown",
   "metadata": {},
   "source": [
    "Python nie jest jedynym ani też jednoznacznie najlepszym językiem dla data science. Jego największym konkurentem w tej dziedzinie jest R, który od samego początku był tworzony z myślą o statystyce, która jak wiadomo w dziedzinie data science ma szerokie zastosowanie. Trwają niezliczone spory i porównania próbujące udowodnić wyższość jednego rozwiązania nad drugim. Skoro jednak będziemy zajmować się Pythonem przytoczę kilka jego zalet pod kątem data science:\n",
    "\n",
    "•\tPython jest językiem ogólnego przeznaczenia co powoduje, że oprócz możliwości wykorzystania specjalistycznych bibliotek np. do budowy sztucznych sieci neuronowych, można bez konieczności integracji z innymi rozwiązaniami zbudować kompletną aplikację desktopową lub webową,\n",
    "\n",
    "•\tPython może być traktowany jako język skryptowy co dodatkowo w połączeniu z np. Jupyter Notebook (dawniej IPython), pozwala na bardzo szybkie testowanie i prototypowanie poprzez pisanie kodu „na bieżąco”, co powoduje brak konieczności zapisywania kodu w pliku i jego późniejszego uruchamiania co znacznie przyspiesza proces stworzenia działającego prototypu,\n",
    "\n",
    "•\tBogata paleta bardzo dobrej jakości bibliotek dla AI (Artificial Intelligence) i Data Science. Za przykład mogą tutaj posłużyć NumPy, Pandas, SciPy, matplotlib czy scikit-learn, które jednak wykraczają poza zakres niniejszego przedmiotu.\n",
    "\n",
    "•\tSpołeczność – jako język ogólnego zastosowania społeczność Pythona jest bardzo duża co przekłada się na łatwość uzyskania odpowiedzi na pytania, sporą ilość dobrej dokumentacji oraz rozbudowaną listę bibliotek i dodatków.\n"
   ]
  },
  {
   "cell_type": "markdown",
   "metadata": {},
   "source": [
    "## 2. Organizacja kodu według PEP8"
   ]
  },
  {
   "cell_type": "markdown",
   "metadata": {},
   "source": [
    "Jak zostało już wspomniane w punkcie 1 zmiany w specyfikacji języka odbywają się poprzez system PEP. Dokument o numerze PEP8 jest jedną (ale nie jedyną) propozycją organizacji kodu języka Python. Oryginalna treść dokumentu dostępna jest pod adresem https://www.python.org/dev/peps/pep-0008/.\n",
    "Pod adresem https://realpython.com/python-pep8/ można znaleźć więcej przykładów z wyjaśnieniami jak stosować zalecenia PEP8 w praktyce oraz jakie narzędzia mogą nam w tym pomóc.\n"
   ]
  },
  {
   "cell_type": "markdown",
   "metadata": {},
   "source": [
    "### 2.1. Wcięcia"
   ]
  },
  {
   "cell_type": "markdown",
   "metadata": {},
   "source": [
    "W kodzie języka Python nie znajdziemy znanych z PHP, Javy czy C# klamerek do separacji bloków kodu, określania ram ciała metody czy klasy lub zakresu operacji w pętli. Tutaj do tego celu służą odpowiednio umieszczone wcięcia i puste linie między w/w elementami. Dla osób, które nigdy wcześniej nie miały do czynienia z taką organizacją kodu może to być pewną nowością, ale dość szybko staje się zrozumiałe i intuicyjne."
   ]
  },
  {
   "cell_type": "markdown",
   "metadata": {},
   "source": [
    "#### Listing 1"
   ]
  },
  {
   "cell_type": "code",
   "execution_count": null,
   "metadata": {},
   "outputs": [],
   "source": [
    "if score >= 100:\n",
    "    print('Zwycięstwo !')"
   ]
  },
  {
   "cell_type": "markdown",
   "metadata": {},
   "source": [
    "Każdy kolejny poziom zagnieżdżenia w bloku kodu poprzedza odstęp w postaci wielokrotności 4 spacji (pojedyncza wartość wcięcia). Dopuszczalne jest również stosowanie tabulatorów jako wcięć, ale zalecane są spacje a dodatkowo w wersji Python 3 użycie jednocześnie spacji i tabulatorów jako wcięć nie jest dozwolone. Zazwyczaj nie musimy się jednak martwić ręcznym wstawianiem wcięć, chyba że korzystamy z narzędzia do edycji kodu, które nie posiada wsparcia dla danego języka programowania.\n",
    "Wcięcia używamy również w sytuacjach, w których linia kodu jest zbyt długa i powinna być złamana na większą ilość wierszy. Zalecana długość linii według PEP8 to 79 znaków."
   ]
  },
  {
   "cell_type": "markdown",
   "metadata": {},
   "source": [
    "#### Listing 2"
   ]
  },
  {
   "cell_type": "markdown",
   "metadata": {},
   "source": [
    "wyslane = wyslij_wiadomosc(e_mail_odbiorcy, temat,\n",
    "                           wiadomosc)\n",
    "                           \n",
    "W takim przypadku wcięcie sięga znaku otwarcia deklaracji listy atrybutów wywoływanej metody lub funkcji. Dopuszczalne są jednak odstępstwa od tej reguły pozwalające na zastosowanie mniejszego wcięcia dla kolejnych linii.\n"
   ]
  },
  {
   "cell_type": "markdown",
   "metadata": {},
   "source": [
    "#### Listing 3"
   ]
  },
  {
   "cell_type": "markdown",
   "metadata": {},
   "source": [
    "wyslane = wyslij_wiadomosc(e_mail_odbiorcy,\n",
    "    temat, wiadomosc)\n",
    "\n",
    "    \n",
    "Jednak sama dokumentacja mówi o tym, że jest to opcjonalne formatowanie, więc należy go używać tylko z konieczności a nie jako regułę.\n",
    "Deklaracja zmiennych takich jak lista, tablica, krotka czy słownik dzięki wcięciom często poprawia ich czytelność co jest główną przyczyną, którą kierowano się określając reguły formatowania kodu w Pythonie.\n"
   ]
  },
  {
   "cell_type": "markdown",
   "metadata": {},
   "source": [
    "#### Listing 4"
   ]
  },
  {
   "cell_type": "code",
   "execution_count": null,
   "metadata": {},
   "outputs": [],
   "source": [
    "lista = [\n",
    "    1, 2, 3,\n",
    "    4, 5, 6,\n",
    "]"
   ]
  },
  {
   "cell_type": "markdown",
   "metadata": {},
   "source": [
    "W przypadku łamania linii i operatorów (np. arytmetycznych) obowiązuje zasada przenoszenia operatora do nowej linii."
   ]
  },
  {
   "cell_type": "markdown",
   "metadata": {},
   "source": [
    "#### Listing 5"
   ]
  },
  {
   "cell_type": "code",
   "execution_count": null,
   "metadata": {},
   "outputs": [],
   "source": [
    "zysk = (przychod \n",
    "        - koszty \n",
    "        - podatki)"
   ]
  },
  {
   "cell_type": "markdown",
   "metadata": {},
   "source": [
    "### 2.2. Puste linie"
   ]
  },
  {
   "cell_type": "markdown",
   "metadata": {},
   "source": [
    "Funkcje najwyższego rzędu oraz definicje klas oddzielamy od pozostałych bloków kodu dwiema pustymi liniami."
   ]
  },
  {
   "cell_type": "markdown",
   "metadata": {},
   "source": [
    "#### Listing 6"
   ]
  },
  {
   "cell_type": "code",
   "execution_count": null,
   "metadata": {},
   "outputs": [],
   "source": [
    "def zrob_cos():\n",
    "    return 'zrobione'\n",
    "\n",
    "\n",
    "def tez_cos_zrob():\n",
    "    return 'też zrobione'"
   ]
  },
  {
   "cell_type": "markdown",
   "metadata": {},
   "source": [
    "Metody klas oraz funkcje lokalne oddzielone są natomiast pojedynczą pustą linią."
   ]
  },
  {
   "cell_type": "markdown",
   "metadata": {},
   "source": [
    "#### Listing 7"
   ]
  },
  {
   "cell_type": "code",
   "execution_count": null,
   "metadata": {},
   "outputs": [],
   "source": [
    "class Osoba:\n",
    "\n",
    "    def __init__(self, imie, nazwisko, plec):\n",
    "        self.imie = imie\n",
    "        self.nazwisko = nazwisko\n",
    "        self.plec = plec\n",
    "\n",
    "    def przedstaw_sie(self):\n",
    "        print('Nazywam się {0} {1}'.format(self.imie, self.nazwisko))\n",
    "\n",
    "    def moj_wiek(self):\n",
    "        print('Moja płeć to: {0}.'.format(self.plec))\n",
    "\n",
    "\n",
    "os = Osoba('Jan', 'Kowalski', 'mężczyzna')\n",
    "os.przedstaw_sie()\n",
    "os.moj_wiek()"
   ]
  },
  {
   "cell_type": "markdown",
   "metadata": {},
   "source": [
    "#### Listing 8"
   ]
  },
  {
   "cell_type": "code",
   "execution_count": null,
   "metadata": {},
   "outputs": [],
   "source": [
    "def funkcja_top_level():\n",
    "\n",
    "    def funkcja_lokalna():\n",
    "        pass\n",
    "\n",
    "    def kolejna_funkcja_lokalna():\n",
    "        pass"
   ]
  },
  {
   "cell_type": "markdown",
   "metadata": {},
   "source": [
    "Pojedyncze puste linie mogą być również stosowane wewnątrz funkcji aby odseparować od siebie logiczne sekcje funkcji."
   ]
  },
  {
   "cell_type": "markdown",
   "metadata": {},
   "source": [
    "### 2.3. Organizacja importów"
   ]
  },
  {
   "cell_type": "markdown",
   "metadata": {},
   "source": [
    "Poszczególne instrukcje importu powinny być rozdzielone na oddzielne linie. "
   ]
  },
  {
   "cell_type": "markdown",
   "metadata": {},
   "source": [
    "#### Listing 9"
   ]
  },
  {
   "cell_type": "code",
   "execution_count": null,
   "metadata": {},
   "outputs": [],
   "source": [
    "# Tak\n",
    "import os\n",
    "import sys\n",
    "\n",
    "# Nie\n",
    "import sys, os\n",
    "# Poprawny jest natomiast taki sposób definiowania importu:\n",
    "from subprocess import Popen, PIPE"
   ]
  },
  {
   "cell_type": "markdown",
   "metadata": {},
   "source": [
    "### Inne zasady dotyczące organizacji importów."
   ]
  },
  {
   "cell_type": "markdown",
   "metadata": {},
   "source": [
    "Importy powinny być umieszczane na początku pliku tuż za ewentualnymi komentarzami dla modułu i elementami docstring. Kolejnośc importów ma również znaczenie."
   ]
  },
  {
   "cell_type": "markdown",
   "metadata": {},
   "source": [
    "Oto zalecany porządek:\n",
    "•\timport bibliotek standardowych\n",
    "•\timport powiązanych bibliotek zewnętrznych (ang. third party imports)\n",
    "•\timport lokalnych aplikacji/bibliotek\n",
    "Zalecane jest również dodawanie pustej linii po każdej z w/w grup importów. Jako, że Python umożliwia zarówno import całej biblioteki lub tylko wybranych jej modułów często trzeba dobrać odpowiedni sposób do sytuacji, ale z reguły zaleca się wykonywanie importu i dodanie aliasu lub import modułu zamiast konkretnej klasy z tego modułu co zmniejsza ryzyko wystąpienia konfliktów w przestrzeni nazw. Więcej informacji oraz przykłady znajdują się w rozdziale poświęconym zarządzaniu i importowi pakietów. \n",
    "Dobrym pomysłem na zdobycie wiedzy na temat dobrej organizacji kodu w naszych modułach jest zaglądanie do kodu źródłowego publicznie dostępnych, dobrej jakości modułów i bibliotek Pythona."
   ]
  },
  {
   "cell_type": "markdown",
   "metadata": {},
   "source": [
    "### 2.4. Konwencje nazewnicze"
   ]
  },
  {
   "cell_type": "markdown",
   "metadata": {},
   "source": [
    "Jest to moim zdaniem jedna z ważniejszych zasad do przyswojenia i pilnowania aż do wyrobienia nawyku. Warto zatem mieć pod ręką krótkie zestawienie:\n",
    "•\thttps://peps.python.org/pep-0008/#naming-conventions\n",
    "•\thttps://realpython.com/python-pep8/#naming-styles\n",
    "Zasady co do zalecanego stylu są dość precyzyjne, ale dobranie odpowiedniej nazwy wymaga już nieco więcej wprawy i przemyślenia. Wykorzystanie jednoliterówych nazw dla zmiennych opisujących niewiadome w równaniu ma sens, ale użycie takiej samej zasady dla przechowania imienia, listy nazw produktów będzie znacznie utrudniało interpretację kodu i jego szybkie zrozumienie. Również autorowi i to po dość krótkiej przerwie w obcowaniu z tym kodem. Używanie zbyt długich nazw również ma swoje wady, które zamiast poprawienia czytelności zadziałają wręcz przeciwnie, lub zbyt często będą nas zmuszały do łamania pojedynczej linii kodu. Tu zalecany jest umiar. Warto również, mimo tego, że Python jest językiem typowanym dynamicznie, nawiązywać w jakiś stopniu do typu wartości, które zmienna przechowuje, np. names_list lub list_of_names (typ list), has_permission lub is_valid (typ bool), number_of_digits word_count (typ numeryczny). To jest proces i dlatego warto wracać do swojego kodu po pewnym czasie i wykonywać refaktoryzację samodzielnie lub wykorzystać inne osoby w zespole do przeprowadzenia procesu code review.\n"
   ]
  },
  {
   "cell_type": "markdown",
   "metadata": {},
   "source": [
    "### 2.5. Inne zalecenia"
   ]
  },
  {
   "cell_type": "markdown",
   "metadata": {},
   "source": [
    "Zmienne typu string można umieszczać zarówno w cudzysłowie lub w apostrofach, gdyż w przypadku Pythona nie ma to znaczenia. Natomiast PEP8 nie zaleca żonglowania tym zapisem i trzymania się jednej z opcji. Sytuacją, w której dozwolone jest użycie obu jednocześnie, jest ciąg tekstowy, który sam już zawiera cudzysłów lub apostrof – wtedy należy użyć innego niż w samym tekście, lub zastosować zapis, gdzie każdy specjalny znak będzie poprzedzony znakiem ucieczki (ang. escape sign) \\."
   ]
  },
  {
   "cell_type": "markdown",
   "metadata": {},
   "source": [
    "#### Listing 10"
   ]
  },
  {
   "cell_type": "code",
   "execution_count": null,
   "metadata": {},
   "outputs": [],
   "source": [
    "artykul = 'Recenzja \"Władcy Pierścieni\".'\n",
    "artykul = \"Recenzja 'Władcy Pierścieni'.\"\n",
    "\n",
    "# Ale można również tak:\n",
    "artykul = \"Recenzja \\\"Władcy Pierścieni\\\".\"\n",
    "\n",
    "# lub tak\n",
    "artykul = \"\"\"Recenzja \"Władcy Pierścieni\".\"\"\""
   ]
  },
  {
   "cell_type": "markdown",
   "metadata": {},
   "source": [
    "Spacje w wyrażeniach i definicjach są pożądane, ale nie należy ich nadużywać."
   ]
  },
  {
   "cell_type": "markdown",
   "metadata": {},
   "source": [
    "#### Listing 11"
   ]
  },
  {
   "cell_type": "markdown",
   "metadata": {},
   "source": [
    "dobrze:\tzakupy(szynka[1], {jajka: 2})\n",
    "\tx = 1\n",
    "\tlista[index]\n",
    "\tlista[1:4]\n",
    "\n",
    "źle: \tzakupy( szynka[ 1 ], { jajka: 2 } )\n",
    "\tx=1\n",
    "\tlista [index]\n",
    "\tlista[1: 4]\n"
   ]
  },
  {
   "cell_type": "markdown",
   "metadata": {},
   "source": [
    "Wszystkie operatory binarne powinny być otoczone pojedynczą spacją."
   ]
  }
 ],
 "metadata": {
  "language_info": {
   "name": "python"
  }
 },
 "nbformat": 4,
 "nbformat_minor": 2
}
