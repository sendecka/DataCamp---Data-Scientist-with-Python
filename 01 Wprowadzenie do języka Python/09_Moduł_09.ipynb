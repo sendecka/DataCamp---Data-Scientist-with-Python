{
 "cells": [
  {
   "cell_type": "markdown",
   "metadata": {},
   "source": [
    "# Moduł 10 - Zarządzanie pakietami. Środowiska wirtualne."
   ]
  },
  {
   "cell_type": "markdown",
   "metadata": {},
   "source": [
    "# 1. Zarządzanie pakietami.\n",
    "\n",
    "Właściwie każdy popularny język programowania posiada mechanizm pozwalający na zarządzanie dodatkowymi bibliotekami czy pakietami. Python również posiada swojego menadżera pakietów o nazwie pip. W wersji 3.x nie jest konieczne jego ręczne instalowanie, gdyż jest już domyślnie dołączany do tych dystrybucji.\n",
    "\n",
    "Aby korzystać z narzędzia pip w wierszu poleceń systemu Windows musimy się najpierw upewnić, że interpreter Pythona (oraz folder Scripts) znajduje się w zmiennej środowiskowej PATH. Możemy albo wyświetlić zmienną PATH, albo po prostu w terminalu wykonać polecenie python -V, które zwróci wersję Pythona, z której aktualnie korzystamy lub polecenie nie zostanie rozpoznane.\n",
    "Jeżeli powyższy warunek jest spełniony możemy uruchomić narzędzie pip i np. wyświetlić listę pakietów z aktualnego środowiska Pythona:\n"
   ]
  },
  {
   "cell_type": "code",
   "execution_count": null,
   "metadata": {},
   "outputs": [],
   "source": [
    "python –m pip list\n",
    "# lub\n",
    "py -m pip list\n",
    "# lub\n",
    "pip list\n"
   ]
  },
  {
   "cell_type": "markdown",
   "metadata": {},
   "source": [
    "Listę poleceń i skromny help uzyskamy po komendzie:\n",
    "python –m pip help\n",
    "Index pakietów, które można zainstalować z indexy PyPi znajdziemy pod adresem https://pypi.python.org/pypi, gdzie aktualnie znajduje się ponad 400 000 pakietów…\n",
    "Jak wynika z helpa komenda służąca do instalacji pakietu to install nazwa_pakietu. Zainstalujmy pakiet requests.\n",
    "python –m pip install requests\n",
    "Możliwe jest również wybranie konkretnej wersji pakietu, którą chcemy zainstalować. Jak nie trudno się domyślić opcja uninstall służy do odinstalowywania pakietów.\n",
    "Narzędzie pip umożliwia również instalowanie pakietów na podstawie pliku wymagań, którego przykładowa postać może wyglądać tak:\n"
   ]
  },
  {
   "cell_type": "code",
   "execution_count": null,
   "metadata": {},
   "outputs": [],
   "source": [
    "# ####### example-requirements.txt ####### \n",
    "# ###### wymagania bez określonej wersji ###### \n",
    "nose\n",
    "nose-cov\n",
    "beautifulsoup4 \n",
    "\n",
    "###### wymagania z okresloną wersją ###### \n",
    "# zobacz https://www.python.org/dev/peps/pep-0440/#version-specifiers \n",
    "docopt == 0.6.1 \n",
    "# dopasowanie wersji. Musi być 0.6.1 \n",
    "keyring >= 4.1.1 \n",
    "# minimalna wersja 4.1.1 \n",
    "coverage != 3.5 \n",
    "# wykluczenie wersji. Wszystko poza wersją 3.5 \n",
    "Mopidy-Dirble ~= 1.1 \n",
    "# Kompatybilna wersja. Rozumiane jako >= 1.1, == 1.* \n",
    "# ###### odwołuje się do innego pliku z wymaganiami ###### \n",
    "-r other-requirements.txt \n",
    "# \n",
    "# \n",
    "###### konkretny plik z pakietem np. wcześniej pobrany ###### \n",
    "./downloads/numpy-1.9.2-cp34-none-win32.whl http://wxpython.org/Phoenix/snapshot-builds/wxPython_Phoenix-3.0.3.dev1820+49a8884-cp34-none-win_amd64.whl \n",
    "# \n",
    "###### dodatkowe pakiety bez określania wersji ###### \n",
    "# Umieszczone tutaj tylko po to, aby pokazać, że kolejność nie ma znaczenia. \n",
    "rejected \n",
    "green \n",
    "#\n"
   ]
  },
  {
   "cell_type": "markdown",
   "metadata": {},
   "source": [
    "Komenda uruchamiająca instalację pakietów z pliku requirements.txt:\n",
    "python –m pip install –r requirements.txt\n",
    "Są to podstawowe i najczęściej wykorzystywane komendy narzędzia PIP. Po bardziej szczegółową dokumentację wraz z przykładami odsyłam pod adres: https://pip.pypa.io/en/stable/.\n"
   ]
  },
  {
   "cell_type": "markdown",
   "metadata": {},
   "source": [
    "# 2. Tworzenie wirtualnego środowiska pracy z pakietem virtualenv.\n",
    "\n",
    "Virtualenv jest skrótem od virtual environment co oznacza wirtualne środowisko. Narzędzie to pozwala na tworzenie odrębnych środowisk zawierających interpreter Pythona oraz zestaw pakietów, które chcemy wykorzystać w konkretnym projekcie lub przed aktualizacją pakietów w projekcie produkcyjnym chcemy sprawdzić jak aplikacja będzie się zachowywała z nowszymi wersjami pakietów czy interpretera Pythona.\n",
    "\n",
    "Virtualenv jest pakietem Pythona więc aby z niego skorzystać należy upewnić się, że stosowny pakiet jest zainstalowany i ewentualnie go zainstalować.\n",
    "Aby stworzyć nowe środowisko wirtualne należy wskazać folder, w którym takie środowisko chcemy stworzyć. Następnie wykonanie komendy:\n"
   ]
  },
  {
   "cell_type": "markdown",
   "metadata": {},
   "source": [
    "python -m virtualenv nazwa_srodowiska"
   ]
  },
  {
   "cell_type": "markdown",
   "metadata": {},
   "source": [
    "To polecenie spowoduje stworzenie nowego folderu o nazwie nazwa_srodowiska w bieżącym folderze i skopiuje interpreter Pythona, który jest aktualnie obowiązującym dla uruchomionego modułu virtualenv. Dołączone zostaną też skrypty pozwalające m.in. na aktywację i deaktywację środowiska wirtualnego.\n",
    "Kolejną czynnością, którą trzeba wykonać, aby rozpocząć pracę w tym środowisku, jest jego aktywacja, która polega na uruchomieniu skryptu z pliku Scripts\\activate znajdującego się w folderze nowego środowiska. Od teraz aktywnym interpreterem jest ten zawarty w nowym środowisku. Możemy teraz uruchamiać skrypty Pythona, instalować pakiety oraz korzystać z konsoli Python w odniesieniu do tego środowiska.\n",
    "Na zajęciach na podstawie dokumentacji ze strony https://virtualenv.pypa.io/en/stable/user_guide.html zostanie zaprezentowany sposób konfiguracji i korzystania ze środowiska wirtualnego.\n",
    "Instrukcja stworzenia środowiska wirtualnego z wykorzystaniem Visual Studio Code znajduje się pod adresem: https://code.visualstudio.com/docs/python/environments\n",
    "\n"
   ]
  }
 ],
 "metadata": {
  "language_info": {
   "name": "python"
  }
 },
 "nbformat": 4,
 "nbformat_minor": 2
}
