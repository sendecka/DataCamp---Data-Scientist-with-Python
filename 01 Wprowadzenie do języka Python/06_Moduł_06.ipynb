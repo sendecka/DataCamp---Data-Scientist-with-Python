{
 "cells": [
  {
   "cell_type": "markdown",
   "metadata": {},
   "source": [
    "# Moduł 4 - Instrukcja warunkowa. Pętle."
   ]
  },
  {
   "cell_type": "markdown",
   "metadata": {},
   "source": [
    "## 1. Instrukcje warunkowe.\n",
    "Do wersji 3.10 Python posiadał tylko jedną konstrukcję warunkową: if/elif/else. W wersji 3.10 wprowadzono również instrukcje match/case.\n",
    "\n",
    "## 1.1 Instrukcja if/elif/else\n",
    "Oto najprostsza postać instrukcji:\n"
   ]
  },
  {
   "cell_type": "markdown",
   "metadata": {},
   "source": [
    "#### Listing 1"
   ]
  },
  {
   "cell_type": "code",
   "execution_count": null,
   "metadata": {},
   "outputs": [],
   "source": [
    "liczba1 = 1\n",
    "liczba2 = 2\n",
    "\n",
    "if liczba1 > liczba2:\n",
    "    print(\"Pierwsza liczba jest większa\")\n"
   ]
  },
  {
   "cell_type": "markdown",
   "metadata": {},
   "source": [
    "Zobaczmy jak wygląda bardziej rozbudowana jej wersja wraz z obsługą danych wprowadzanych z klawiatury.\n"
   ]
  },
  {
   "cell_type": "markdown",
   "metadata": {},
   "source": [
    "#### Listing 2"
   ]
  },
  {
   "cell_type": "code",
   "execution_count": null,
   "metadata": {},
   "outputs": [],
   "source": [
    "liczba = input('Podaj liczbę całkowitą ')\n",
    "liczba = int(liczba)\n",
    "\n",
    "if liczba < 10:\n",
    "    print('To dość mała liczba')\n",
    "elif 9 < liczba < 100:  # to jest wersja skrócona warunku\n",
    "    print('To już całkiem duża liczba')\n",
    "else:\n",
    "    print('To musi być wielka liczba')\n"
   ]
  },
  {
   "cell_type": "markdown",
   "metadata": {},
   "source": [
    "Aby budować bardziej złożone warunki używamy operatorów boolowskich, które zostały przedstawione w podrozdziale pt. 'Kilka słów o operatorach'."
   ]
  },
  {
   "cell_type": "markdown",
   "metadata": {},
   "source": [
    "#### Listing 3"
   ]
  },
  {
   "cell_type": "code",
   "execution_count": null,
   "metadata": {},
   "outputs": [],
   "source": [
    "if liczba < 10 and liczba > 15:\n",
    "    print('Liczba nie jest z odpowiedniego przedziału')\n",
    "\n",
    "# powyższy warunek można zapisać również tak\n",
    "if 10 > liczba > 15:\n",
    "    print('Liczba nie jest z odpowiedniego przedziału')\n",
    "    \n",
    "# możemy również sprawdzić warunek zawierania się elementu w kolekcji\n",
    "zbior_dopuszczalny = [1, 3, 5, 7, 9]\n",
    "if liczba not in zbior_dopuszczalny:\n",
    "    print('Podana liczba nie znajduje się w zbiorze')\n"
   ]
  },
  {
   "cell_type": "markdown",
   "metadata": {},
   "source": [
    "Jak zostało już wspomniane wcześniej Python posiada typ None, który jest tym samym co typ Null w wielu innych językach programowania oraz bazach danych. Ponownie odsyłam do podrozdziału Kilka słów o operatorach gdzie znajduje się informacja co jest traktowane jako None w Pythonie."
   ]
  },
  {
   "cell_type": "markdown",
   "metadata": {},
   "source": [
    "#### listing 4"
   ]
  },
  {
   "cell_type": "code",
   "execution_count": null,
   "metadata": {},
   "outputs": [],
   "source": [
    "liczba1 = 1\n",
    "liczba2 = 2\n",
    "\n",
    "if liczba1 > liczba2:\n",
    "    print('Pierwsza liczba jest większa')\n",
    "\n",
    "liczba = input('Podaj liczbę całkowitą ')\n",
    "liczba = int(liczba)\n",
    "\n",
    "if liczba < 10:\n",
    "    print('To dość mała liczba')\n",
    "elif 9 < liczba < 100:  # to jest wersja skrócona warunku\n",
    "    print('To już całkiem duża liczba')\n",
    "else:\n",
    "    print('To musi być wielka liczba')\n",
    "\n",
    "if liczba < 10 or liczba > 15:\n",
    "    print('Liczba nie jest z odpowiedniego przedziału')\n",
    "\n",
    "# możemy również sprawdzić warunek zawierania sie elementu w kolekcji\n",
    "zbior_dopuszczalny = [1, 3, 5, 7, 9]\n",
    "if liczba not in zbior_dopuszczalny:\n",
    "    print('Podana liczba nie znajduje się w zbiorze')\n",
    "\n",
    "nic = None\n",
    "pusty_ciag = ''\n",
    "\n",
    "if not nic:\n",
    "    print('None to False')\n",
    "if not pusty_ciag:\n",
    "    print('Pusty ciąg to False')\n",
    "if nic == pusty_ciag:\n",
    "    print('None i pusty ciąg to boolowskie False, ale nie są sobie równe')\n",
    "# jeżeli chcemy sprawdzić, czy ciąg jest pusty\n",
    "if pusty_ciag == '':\n",
    "    print('To jest pusty ciąg')\n"
   ]
  },
  {
   "cell_type": "markdown",
   "metadata": {},
   "source": [
    "Instrukcję if można również znaleźć w wielu skryptach Pythona sprawdzającą dość tajemniczą własność if name == ‘main’. Poniżej wyjaśnienie stosownym przykładem."
   ]
  },
  {
   "cell_type": "markdown",
   "metadata": {},
   "source": [
    "#### Listing 5"
   ]
  },
  {
   "cell_type": "code",
   "execution_count": null,
   "metadata": {},
   "outputs": [],
   "source": [
    "# Jest również specjalne zastosowanie instrukcji if\n",
    "# poniższy zapis powoduje, że kod umieszczony wewnątrz tego bloku\n",
    "# zostanie uruchomiony tylko w przypadku, gdy plik zostanie\n",
    "# uruchomiony bezpośrednio, tak jak w tym przypadku.\n",
    "# Jeżeli plik zostanie zaimportowany, to kod nie zostanie uruchomiony\n",
    "\n",
    "if __name__ == '__main__':\n",
    "    pass\n",
    "\n",
    "# możemy też sprawdzić jaką wartość ma zmienna specjalna __name__\n",
    "print(__name__)\n",
    "# instrukcja pass nie robi nic, ale jeżeli wymagany jest tutaj kod, żeby\n",
    "# spełnić wymogi składniowe to możemy jej użyć\n"
   ]
  },
  {
   "cell_type": "markdown",
   "metadata": {},
   "source": [
    "### 1.2 Instrukcja match/case"
   ]
  },
  {
   "cell_type": "markdown",
   "metadata": {},
   "source": [
    "Instrukcja match/case (opisana w: https://peps.python.org/pep-0622/) pełni podobną funkcję jak if/elif/else jednak posiada znaczną przewagę nad nią jeżeli chodzi o określenie warunków. I tak wyciągająć fragment z dokumentacji wzorcem (czyli tym co możemy umieścić po słowie case) mogą być:\n",
    "•\tsekwencja, która może być rozpakowana (patrz rozpakowanie listy, krotki),\n",
    "•\tmapowanie z konkretnymi kluczami (np. słownik),\n",
    "•\tinstancja podanej klasy (opcjonalnie z konkretnymi atrybutami)\n",
    "•\twartość (to jak w if)\n",
    "•\tsymbol wieloznaczny (ang. wildcard)\n"
   ]
  },
  {
   "cell_type": "markdown",
   "metadata": {},
   "source": [
    "#### Listnig 6"
   ]
  },
  {
   "cell_type": "code",
   "execution_count": null,
   "metadata": {},
   "outputs": [],
   "source": [
    "user = input('Kto chce się zalogować? (admin|user)\\n')\n",
    "\n",
    "# przykład z dopasowaniem do wartości (można zastapić if/else)\n",
    "match user:\n",
    "    case 'admin':\n",
    "        print('Przekierowuję do panelu administratora ...')\n",
    "    case 'user':\n",
    "        print('Przekierowuję na stronę sklepu ...')\n",
    "    case _:\n",
    "        print('Błędna nazwa użytkownika!')\n",
    "\n",
    "# przykład z rozpakowaniem sekwencji (tu listy)\n",
    "command = 'remove plik.txt log.txt dane.csv'\n",
    "\n",
    "match command.split():\n",
    "    case ['show']:\n",
    "        print('Wylistuj wszystkie pliki i foldery: ')\n",
    "        # kod\n",
    "    case ['remove', *files]:\n",
    "        print('Usuwanie plików: {}'.format(files))\n",
    "        # kod\n",
    "    case _:\n",
    "        print('Nieznane polecenie')\n",
    "\n",
    "# output\n",
    "# Usuwanie plików: ['plik.txt', 'log.txt', 'dane.csv']\n"
   ]
  },
  {
   "cell_type": "markdown",
   "metadata": {},
   "source": [
    "## 2. Pętla for oraz while."
   ]
  },
  {
   "cell_type": "markdown",
   "metadata": {},
   "source": [
    "W Pythonie mamy do dyspozycji dwie pętle: for oraz while, przy czym ta pierwsza jest zdecydowanie bardziej „popularna”. Przykład zastosowania pętli for znalazł się już przy okazji prezentacji funkcji range. Dla przypomnienia w poniższych przykładach również pojawi się jej zastosowanie."
   ]
  },
  {
   "cell_type": "markdown",
   "metadata": {},
   "source": [
    "#### Listing 6"
   ]
  },
  {
   "cell_type": "code",
   "execution_count": null,
   "metadata": {},
   "outputs": [],
   "source": [
    "# for z funkcją range\n",
    "for i in range(3):\n",
    "    print(i)\n",
    "\n",
    "# for dla listy\n",
    "lista = [4, 5, 6]\n",
    "for i in lista:\n",
    "    print(i)\n",
    "\n",
    "# a gdybyśmy chcieli zwracać również index elementów listy ?\n",
    "for index, wartosc in enumerate(lista):\n",
    "    print(f'{index} -> {wartosc}')\n",
    "\n",
    "# a mozna jeszcze tak, gdyż funkcja enumerate wypakowuje każdy element listy\n",
    "# w postaci krotki (index, wartość_z_tablicy)\n",
    "for krotka in enumerate(lista):\n",
    "    print(f'{krotka[0]}-> {krotka[1]}')\n",
    "\n",
    "print(type(krotka[0]))\n",
    "print(type(krotka[1]))\n",
    "print(type(krotka))\n",
    "\n",
    "# pętla for i słowniki\n",
    "# jeżeli nie wskażemy pętli for czy chcemy iterować po kluczach czy wartościach\n",
    "# to domyślnie zostaną wybrane klucze\n",
    "slownik = {'imie': 'Marek', 'nazwisko': 'Kowalski', 'plec': 'mezczyzna'}\n",
    "for key in slownik:\n",
    "    print(key)\n",
    "\n",
    "for val in slownik.values():\n",
    "    print(val)\n",
    "\n",
    "for key, value in slownik.items():\n",
    "    print(f'{key} -> {value}')\n",
    "\n",
    "for key in slownik:\n",
    "    print(f'{key} -> {slownik[key]}')\n"
   ]
  },
  {
   "cell_type": "markdown",
   "metadata": {},
   "source": [
    "Postać Pythonowej pętli while nie różni się od jej sposobu działania w innych językach."
   ]
  },
  {
   "cell_type": "markdown",
   "metadata": {},
   "source": [
    "#### Listing 7"
   ]
  },
  {
   "cell_type": "code",
   "execution_count": null,
   "metadata": {},
   "outputs": [],
   "source": [
    "# pętla while\n",
    "counter = 0\n",
    "while True:\n",
    "    counter += 1\n",
    "    if counter > 10:\n",
    "        break\n",
    "\n",
    "counter = 0\n",
    "while counter < 5:\n",
    "    print(f'{counter} mniejsze od 5')\n",
    "    counter += 1\n",
    "\n",
    "# pętla while nadaje się dobrze w sytuacji, kiedy nie wiemy kiedy (nie\n",
    "# znamy liczby iteracji) się ona zakończy, np. przy pobieraniu danych\n",
    "# wejściowych w oczekiwaniu na podanie komendy równej warunkowi stopu pętli\n",
    "\n",
    "lista = []\n",
    "print('Podaj liczby całkowite, które chcesz umieścić w pętli.')\n",
    "print('Wpisz \"stop\" aby zakończyć')\n",
    "while True:\n",
    "    wejscie = input()\n",
    "    if wejscie == 'stop':\n",
    "        break\n",
    "    lista.append(int(wejscie))\n",
    "\n",
    "print('Twoja lista -> ' + repr(lista))\n"
   ]
  },
  {
   "cell_type": "markdown",
   "metadata": {},
   "source": [
    "W tym miejscu należy wspomnieć o instrukcji break oraz continue, które możemy umieszczać wewnątrz pętli. Break powoduje zakończenie pętli (tylko tej, w bloku której znalazła się instrukcja) natomiast continue kończy przebieg aktualnej iteracji pętli (czyli to, co jest za continue się nie wykona) i rozpoczyna kolejną iterację."
   ]
  },
  {
   "cell_type": "markdown",
   "metadata": {},
   "source": [
    "## 3. Wprowadzanie danych ze standardowego wejścia."
   ]
  },
  {
   "cell_type": "markdown",
   "metadata": {},
   "source": [
    "Do wprowadzania danych możemy użyć funkcji input()."
   ]
  },
  {
   "cell_type": "markdown",
   "metadata": {},
   "source": [
    "#### Listing 8"
   ]
  },
  {
   "cell_type": "code",
   "execution_count": null,
   "metadata": {},
   "outputs": [],
   "source": [
    "a = input(\"Tu jest jakiś komunikat np. Podaj liczbę\\n\")\n",
    "print(a)\n",
    "\n",
    "# Możemy użyć też komend readline() i write(s), które są w module sys\n",
    "import sys\n",
    "\n",
    "print(\"Podaj jakiś tekst\")\n",
    "s = sys.stdin.readline() #Wczytuje wiersz\n",
    "print(\"Twój tekst to: \" + s)\n",
    "# Do wydruku można użyć też komendy write np.\n",
    "sys.stdout.write(s)\n"
   ]
  }
 ],
 "metadata": {
  "language_info": {
   "name": "python"
  }
 },
 "nbformat": 4,
 "nbformat_minor": 2
}
