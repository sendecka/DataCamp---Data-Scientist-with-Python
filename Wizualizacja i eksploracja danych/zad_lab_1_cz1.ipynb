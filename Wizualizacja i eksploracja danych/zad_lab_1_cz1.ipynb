{
 "cells": [
  {
   "cell_type": "markdown",
   "metadata": {},
   "source": [
    "## Zadania"
   ]
  },
  {
   "cell_type": "markdown",
   "metadata": {},
   "source": [
    "1. Utworzyć tablicę zawierającą 50 piątek."
   ]
  },
  {
   "cell_type": "code",
   "execution_count": 1,
   "metadata": {},
   "outputs": [
    {
     "name": "stdout",
     "output_type": "stream",
     "text": [
      "[5 5 5 5 5 5 5 5 5 5 5 5 5 5 5 5 5 5 5 5 5 5 5 5 5 5 5 5 5 5 5 5 5 5 5 5 5\n",
      " 5 5 5 5 5 5 5 5 5 5 5 5 5]\n"
     ]
    }
   ],
   "source": [
    "import numpy as np\n",
    "\n",
    "fives_array = np.full(50, 5)\n",
    "\n",
    "print(fives_array)"
   ]
  },
  {
   "cell_type": "markdown",
   "metadata": {},
   "source": [
    "2. Utworzyć tablicę o rozmiarach 5x5 z wartościami od 1 do 25."
   ]
  },
  {
   "cell_type": "code",
   "execution_count": 2,
   "metadata": {},
   "outputs": [
    {
     "name": "stdout",
     "output_type": "stream",
     "text": [
      "[[ 1  2  3  4  5]\n",
      " [ 6  7  8  9 10]\n",
      " [11 12 13 14 15]\n",
      " [16 17 18 19 20]\n",
      " [21 22 23 24 25]]\n"
     ]
    }
   ],
   "source": [
    "import numpy as np\n",
    "\n",
    "array_5x5 = np.arange(1, 26).reshape(5, 5)\n",
    "\n",
    "print(array_5x5)"
   ]
  },
  {
   "cell_type": "markdown",
   "metadata": {},
   "source": [
    "3. Utworzyć tablicę tablicę liczb parzystych od 10 do 50."
   ]
  },
  {
   "cell_type": "code",
   "execution_count": 3,
   "metadata": {},
   "outputs": [
    {
     "name": "stdout",
     "output_type": "stream",
     "text": [
      "[10 12 14 16 18 20 22 24 26 28 30 32 34 36 38 40 42 44 46 48 50]\n"
     ]
    }
   ],
   "source": [
    "import numpy as np\n",
    "\n",
    "even_array = np.arange(10, 51, 2)\n",
    "\n",
    "print(even_array)"
   ]
  },
  {
   "cell_type": "markdown",
   "metadata": {},
   "source": [
    "4. Utworzyć macierz, w której na przekątnej znajdą się wartości równe 8, a pozostałe będą wynosiły 0."
   ]
  },
  {
   "cell_type": "code",
   "execution_count": 4,
   "metadata": {},
   "outputs": [
    {
     "name": "stdout",
     "output_type": "stream",
     "text": [
      "[[8. 0. 0. 0. 0.]\n",
      " [0. 8. 0. 0. 0.]\n",
      " [0. 0. 8. 0. 0.]\n",
      " [0. 0. 0. 8. 0.]\n",
      " [0. 0. 0. 0. 8.]]\n"
     ]
    }
   ],
   "source": [
    "import numpy as np\n",
    "\n",
    "# Utworzenie macierzy zerowej o wymiarach 5x5\n",
    "matrix = np.zeros((5, 5))\n",
    "\n",
    "# Zaktualizowanie wartości na przekątnej na 8\n",
    "np.fill_diagonal(matrix, 8)\n",
    "\n",
    "print(matrix)"
   ]
  },
  {
   "cell_type": "markdown",
   "metadata": {},
   "source": [
    "5. Utworzyć tablicę o rozmiarach 10x10 z wartościami zwiększającymi się o 0.01."
   ]
  },
  {
   "cell_type": "code",
   "execution_count": 5,
   "metadata": {},
   "outputs": [
    {
     "name": "stdout",
     "output_type": "stream",
     "text": [
      "[[0.   0.01 0.02 0.03 0.04 0.05 0.06 0.07 0.08 0.09]\n",
      " [0.1  0.11 0.12 0.13 0.14 0.15 0.16 0.17 0.18 0.19]\n",
      " [0.2  0.21 0.22 0.23 0.24 0.25 0.26 0.27 0.28 0.29]\n",
      " [0.3  0.31 0.32 0.33 0.34 0.35 0.36 0.37 0.38 0.39]\n",
      " [0.4  0.41 0.42 0.43 0.44 0.45 0.46 0.47 0.48 0.49]\n",
      " [0.5  0.51 0.52 0.53 0.54 0.55 0.56 0.57 0.58 0.59]\n",
      " [0.6  0.61 0.62 0.63 0.64 0.65 0.66 0.67 0.68 0.69]\n",
      " [0.7  0.71 0.72 0.73 0.74 0.75 0.76 0.77 0.78 0.79]\n",
      " [0.8  0.81 0.82 0.83 0.84 0.85 0.86 0.87 0.88 0.89]\n",
      " [0.9  0.91 0.92 0.93 0.94 0.95 0.96 0.97 0.98 0.99]]\n"
     ]
    }
   ],
   "source": [
    "import numpy as np\n",
    "\n",
    "# Utworzenie tablicy 10x10 z wartościami zwiększającymi się o 0.01\n",
    "array_10x10 = np.arange(0, 1, 0.01).reshape(10, 10)\n",
    "\n",
    "print(array_10x10)"
   ]
  },
  {
   "cell_type": "markdown",
   "metadata": {},
   "source": [
    "6. Utworzyć przestrzeń liniową 50 wartości z zakresu 0-1."
   ]
  },
  {
   "cell_type": "code",
   "execution_count": 6,
   "metadata": {},
   "outputs": [
    {
     "name": "stdout",
     "output_type": "stream",
     "text": [
      "[0.         0.02040816 0.04081633 0.06122449 0.08163265 0.10204082\n",
      " 0.12244898 0.14285714 0.16326531 0.18367347 0.20408163 0.2244898\n",
      " 0.24489796 0.26530612 0.28571429 0.30612245 0.32653061 0.34693878\n",
      " 0.36734694 0.3877551  0.40816327 0.42857143 0.44897959 0.46938776\n",
      " 0.48979592 0.51020408 0.53061224 0.55102041 0.57142857 0.59183673\n",
      " 0.6122449  0.63265306 0.65306122 0.67346939 0.69387755 0.71428571\n",
      " 0.73469388 0.75510204 0.7755102  0.79591837 0.81632653 0.83673469\n",
      " 0.85714286 0.87755102 0.89795918 0.91836735 0.93877551 0.95918367\n",
      " 0.97959184 1.        ]\n"
     ]
    }
   ],
   "source": [
    "import numpy as np\n",
    "\n",
    "# Utworzenie przestrzeni liniowej z 50 wartościami w zakresie od 0 do 1\n",
    "linear_space = np.linspace(0, 1, 50)\n",
    "\n",
    "print(linear_space)"
   ]
  },
  {
   "cell_type": "markdown",
   "metadata": {},
   "source": [
    "7. Wybrać podtablicę 12-elementową, z tablicy utworzonej w zadaniu 2, z wartościami w zakresie 12-25."
   ]
  },
  {
   "cell_type": "code",
   "execution_count": 7,
   "metadata": {},
   "outputs": [
    {
     "name": "stdout",
     "output_type": "stream",
     "text": [
      "[0.24489796 0.26530612 0.28571429 0.30612245 0.32653061 0.34693878\n",
      " 0.36734694 0.3877551  0.40816327 0.42857143 0.44897959 0.46938776\n",
      " 0.48979592 0.51020408]\n"
     ]
    }
   ],
   "source": [
    "import numpy as np\n",
    "\n",
    "linear_space = np.linspace(0, 1, 50)\n",
    "\n",
    "subarray = linear_space[12:26]\n",
    "\n",
    "print(subarray)"
   ]
  },
  {
   "cell_type": "markdown",
   "metadata": {},
   "source": [
    "8. Wybrać 3 pierwsze elementy z ostatniej kolumny tablicy utworzonej w zadaniu 2, a następnie ułożyć z nich kolumnę."
   ]
  },
  {
   "cell_type": "code",
   "execution_count": 9,
   "metadata": {},
   "outputs": [
    {
     "name": "stdout",
     "output_type": "stream",
     "text": [
      "[[ 5]\n",
      " [10]\n",
      " [15]]\n"
     ]
    }
   ],
   "source": [
    "last_column_elements = array_5x5[:3, -1]\n",
    "\n",
    "column = last_column_elements.reshape(-1, 1)\n",
    "\n",
    "print(column)"
   ]
  },
  {
   "cell_type": "markdown",
   "metadata": {},
   "source": [
    "9. Wyznaczyć sumę wartości elementów znajdujących się w dwóch ostatnich wierszach macierzy utworzonej w zadaniu 2."
   ]
  },
  {
   "cell_type": "code",
   "execution_count": 10,
   "metadata": {},
   "outputs": [
    {
     "name": "stdout",
     "output_type": "stream",
     "text": [
      "Suma wartości elementów w dwóch ostatnich wierszach:\n",
      "[37 39 41 43 45]\n"
     ]
    }
   ],
   "source": [
    "sum_last_two_rows = np.sum(array_5x5[-2:], axis=0)\n",
    "print(\"Suma wartości elementów w dwóch ostatnich wierszach:\")\n",
    "print(sum_last_two_rows)"
   ]
  },
  {
   "cell_type": "markdown",
   "metadata": {},
   "source": [
    "10. Przygotować skrypt, który stworzy tensor zawierający losowe wartości całkowite, losowym wymiarze i losowym rozmiarze każdego z wymiarów."
   ]
  },
  {
   "cell_type": "code",
   "execution_count": 19,
   "metadata": {},
   "outputs": [
    {
     "name": "stdout",
     "output_type": "stream",
     "text": [
      "Losowy wymiar: 1\n",
      "Losowe rozmiary dla każdego z wymiarów: [5]\n",
      "Tensor z losowymi wartościami całkowitymi:\n",
      "[54 81 99 78 64]\n"
     ]
    }
   ],
   "source": [
    "# Losowy wymiar od 1 do 4\n",
    "random_dimension = np.random.randint(1, 5) \n",
    "\n",
    "# Losowe rozmiary dla każdego z wymiarów\n",
    "random_sizes = np.random.randint(1, 10, size=random_dimension)\n",
    "\n",
    "# Generowanie tensora z losowymi wartościami całkowitymi\n",
    "random_tensor = np.random.randint(1, 100, size=random_sizes)\n",
    "\n",
    "# Wyświetlenie wyników\n",
    "print(\"Losowy wymiar:\", random_dimension)\n",
    "print(\"Losowe rozmiary dla każdego z wymiarów:\", random_sizes)\n",
    "print(\"Tensor z losowymi wartościami całkowitymi:\")\n",
    "print(random_tensor)"
   ]
  },
  {
   "cell_type": "markdown",
   "metadata": {},
   "source": [
    "11. Przygotować macierz, która w każdym wierszu będzie zawierała wartości od 1 do 5. Uwaga, nie używać w tym celu gotowych list do utworzenia macierzy."
   ]
  },
  {
   "cell_type": "code",
   "execution_count": 20,
   "metadata": {},
   "outputs": [
    {
     "name": "stdout",
     "output_type": "stream",
     "text": [
      "[[1. 2. 3. 4. 5.]\n",
      " [1. 2. 3. 4. 5.]\n",
      " [1. 2. 3. 4. 5.]\n",
      " [1. 2. 3. 4. 5.]\n",
      " [1. 2. 3. 4. 5.]]\n"
     ]
    }
   ],
   "source": [
    "rows = 5\n",
    "cols = 5\n",
    "\n",
    "matrix = np.empty((rows, cols))\n",
    "\n",
    "for i in range(rows):\n",
    "    matrix[i] = np.arange(1, cols + 1)\n",
    "\n",
    "print(matrix)"
   ]
  },
  {
   "cell_type": "markdown",
   "metadata": {},
   "source": [
    "12. Utworzyć wektor 10-elementowy składający się z wartości losowych, a następnie wstawić 0 w miejsce wartości najmniejszej."
   ]
  },
  {
   "cell_type": "code",
   "execution_count": 22,
   "metadata": {},
   "outputs": [
    {
     "name": "stdout",
     "output_type": "stream",
     "text": [
      "Wektor po wstawieniu 0 w miejsce najmniejszej wartości:\n",
      "[ 0 57 78 96 62 24 19 71 99 10]\n"
     ]
    }
   ],
   "source": [
    "vector = np.random.randint(1, 100, size=10)\n",
    "\n",
    "# Wstawienie 0 w miejsce najmniejszej wartości\n",
    "vector[np.argmin(vector)] = 0\n",
    "\n",
    "print(\"Wektor po wstawieniu 0 w miejsce najmniejszej wartości:\")\n",
    "print(vector)"
   ]
  },
  {
   "cell_type": "markdown",
   "metadata": {},
   "source": [
    "13. Napisać skrypt, który w losowym wektorze Z znajdzie najbliższą wartość losowego skalara v."
   ]
  },
  {
   "cell_type": "code",
   "execution_count": 23,
   "metadata": {},
   "outputs": [
    {
     "name": "stdout",
     "output_type": "stream",
     "text": [
      "Losowy wektor Z: [ 3 19 81 75  0 41 56 66 72 27]\n",
      "Losowy skalar v: 47\n",
      "Najbliższa wartość w wektorze Z do wartości skalara v: 41\n"
     ]
    }
   ],
   "source": [
    "Z = np.random.randint(0, 100, size=10)\n",
    "\n",
    "# Losowy skalar v\n",
    "v = np.random.randint(0, 100)\n",
    "\n",
    "# Znalezienie indeksu najbliższej wartości w wektorze Z do wartości skalara v\n",
    "nearest_index = np.abs(Z - v).argmin()\n",
    "\n",
    "# Najbliższa wartość w wektorze Z do wartości skalara v\n",
    "nearest_value = Z[nearest_index]\n",
    "\n",
    "print(\"Losowy wektor Z:\", Z)\n",
    "print(\"Losowy skalar v:\", v)\n",
    "print(\"Najbliższa wartość w wektorze Z do wartości skalara v:\", nearest_value)"
   ]
  },
  {
   "cell_type": "markdown",
   "metadata": {},
   "source": [
    "14. Wygenerować losową macierz M o rozmiarach 5x8, a następnie zamienić kolejnością 2 losowo wskazane wiersze."
   ]
  },
  {
   "cell_type": "code",
   "execution_count": 25,
   "metadata": {},
   "outputs": [
    {
     "name": "stdout",
     "output_type": "stream",
     "text": [
      "Macierz M po zamianie kolejności wierszy:\n",
      "[[92 49 30 93 10 30 74 71]\n",
      " [ 8 35  8 65 40 97 10 35]\n",
      " [99 29 61 27  1  4 95 89]\n",
      " [66 46  3 71  7 78 36 95]\n",
      " [60 10  7 53 79 44 91  8]]\n"
     ]
    }
   ],
   "source": [
    "# Utworzenie losowej macierzy o rozmiarach 5x8\n",
    "M = np.random.randint(1, 100, size=(5, 8))\n",
    "\n",
    "# Wybór dwóch losowo wskazanych wierszy\n",
    "rows_to_swap = np.random.choice(range(5), size=2, replace=False)\n",
    "\n",
    "# Zamiana kolejności wybranych wierszy\n",
    "M[rows_to_swap[0]], M[rows_to_swap[1]] = M[rows_to_swap[1]].copy(), M[rows_to_swap[0]].copy()\n",
    "\n",
    "print(\"Macierz M po zamianie kolejności wierszy:\")\n",
    "print(M)"
   ]
  },
  {
   "cell_type": "markdown",
   "metadata": {},
   "source": [
    "15. Wygenerować macierz o rozmiarach 5x5 wypełnioną dowolnymi kolejnymi wartościami, a następnie przetransformować macierz do postaci wektora kolumnowego zachowując wszystkie wartości."
   ]
  },
  {
   "cell_type": "code",
   "execution_count": 27,
   "metadata": {},
   "outputs": [
    {
     "name": "stdout",
     "output_type": "stream",
     "text": [
      "Macierz:\n",
      "[[ 1  2  3  4  5]\n",
      " [ 6  7  8  9 10]\n",
      " [11 12 13 14 15]\n",
      " [16 17 18 19 20]\n",
      " [21 22 23 24 25]]\n",
      "\n",
      "Wektor kolumnowy:\n",
      "[[ 1]\n",
      " [ 2]\n",
      " [ 3]\n",
      " [ 4]\n",
      " [ 5]\n",
      " [ 6]\n",
      " [ 7]\n",
      " [ 8]\n",
      " [ 9]\n",
      " [10]\n",
      " [11]\n",
      " [12]\n",
      " [13]\n",
      " [14]\n",
      " [15]\n",
      " [16]\n",
      " [17]\n",
      " [18]\n",
      " [19]\n",
      " [20]\n",
      " [21]\n",
      " [22]\n",
      " [23]\n",
      " [24]\n",
      " [25]]\n"
     ]
    }
   ],
   "source": [
    "# Utworzenie macierzy 5x5 wypełnionej kolejnymi wartościami\n",
    "matrix = np.arange(1, 26).reshape(5, 5)\n",
    "\n",
    "# Transpozycja macierzy do postaci wektora kolumnowego\n",
    "vector = matrix.reshape(-1, 1)\n",
    "\n",
    "print(\"Macierz:\")\n",
    "print(matrix)\n",
    "print(\"\\nWektor kolumnowy:\")\n",
    "print(vector)"
   ]
  }
 ],
 "metadata": {
  "kernelspec": {
   "display_name": "Python 3",
   "language": "python",
   "name": "python3"
  },
  "language_info": {
   "codemirror_mode": {
    "name": "ipython",
    "version": 3
   },
   "file_extension": ".py",
   "mimetype": "text/x-python",
   "name": "python",
   "nbconvert_exporter": "python",
   "pygments_lexer": "ipython3",
   "version": "3.0.0"
  }
 },

 "nbformat": 4,
 "nbformat_minor": 2
}
