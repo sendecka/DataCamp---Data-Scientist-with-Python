{
 "cells": [
  {
   "cell_type": "markdown",
   "metadata": {
    "collapsed": false
   },
   "source": [
    "# Lab1 część pierwsza"
   ]
  },
  {
   "cell_type": "markdown",
   "metadata": {
    "collapsed": false
   },
   "source": [
    "## Praca z biblioteką NumPy\n",
    "\n",
    "Pierwszym krokiem przy pracy z biblioteką NumPy jest jej import. Można tego dokonać za pomocą polecenia **import numpy**. Dodatkowo można dodać alias, który będzie stanowił skrót nazwy przy odwoływaniu w kodzie źródłowym do funkcjonalności oferowanych przez bibliotekę:"
   ]
  },
  {
   "cell_type": "code",
   "execution_count": 1,
   "metadata": {
    "ExecuteTime": {
     "end_time": "2024-02-17T07:25:59.740030200Z",
     "start_time": "2024-02-17T07:25:59.687172700Z"
    },
    "executionInfo": {
     "elapsed": 912,
     "status": "ok",
     "timestamp": 1617134117669,
     "user": {
      "displayName": "Tomasz",
      "photoUrl": "",
      "userId": "05358483110003930735"
     },
     "user_tz": -120
    },
    "id": "XH5PIe2xTzGk"
   },
   "outputs": [],
   "source": [
    "import numpy as np  # importujemy numpy pod nazwa np i wtedy do biblioteki zamiast pelna nazwa odwolujemy sie np (uruchomic shift + enter)"
   ]
  },
  {
   "cell_type": "markdown",
   "metadata": {
    "id": "FJvcDLYYqQNG"
   },
   "source": [
    "### Tworzenie nowych tablic na podstawie list\n",
    "\n",
    "Najprostszą metodą utworzenia tablicy NumPy jest przekazanie listy wartości do funkcji array z pakietu NumPy:"
   ]
  },
  {
   "cell_type": "code",
   "execution_count": 2,
   "metadata": {
    "ExecuteTime": {
     "end_time": "2024-01-20T10:37:29.221973Z",
     "start_time": "2024-01-20T10:37:29.218531Z"
    },
    "colab": {
     "base_uri": "https://localhost:8080/"
    },
    "executionInfo": {
     "elapsed": 1417,
     "status": "ok",
     "timestamp": 1617134118178,
     "user": {
      "displayName": "Tomasz",
      "photoUrl": "",
      "userId": "05358483110003930735"
     },
     "user_tz": -120
    },
    "id": "bTIhmLNPpogA",
    "outputId": "88073b7b-3e03-4348-ae79-4c0fac57785d"
   },
   "outputs": [
    {
     "name": "stdout",
     "output_type": "stream",
     "text": [
      "[1 2 3 4 5]\n",
      "<class 'numpy.ndarray'>\n"
     ]
    }
   ],
   "source": [
    "# tablica otypowana jako np.ndarray utworzona ze zwyklej listy pythonowej\n",
    "# w typie np.ndarray nie definiujemy typu zawartosci jak np List[int] tylko ogolnie ze jest to tablica numpy\n",
    "arr: np.ndarray = np.array([1, 2, 3, 4, 5])\n",
    "\n",
    "print(arr)  # wypisujemy tablice\n",
    "print(type(arr))  # wypisujemy typ tej zmiennej czyli jest to tablica numpy (np.ndarray)"
   ]
  },
  {
   "cell_type": "markdown",
   "metadata": {
    "id": "OyEA252vrRPS"
   },
   "source": [
    "W podobny sposób można tworzyć również tablice wielowymiarowe (tensory). W tym celu należy przekazać do funkcji array z pakietu NumPy listę wielowymiarową."
   ]
  },
  {
   "cell_type": "code",
   "execution_count": 3,
   "metadata": {
    "ExecuteTime": {
     "end_time": "2024-01-20T10:37:29.229320Z",
     "start_time": "2024-01-20T10:37:29.223705Z"
    },
    "colab": {
     "base_uri": "https://localhost:8080/"
    },
    "executionInfo": {
     "elapsed": 1402,
     "status": "ok",
     "timestamp": 1617134118178,
     "user": {
      "displayName": "Tomasz",
      "photoUrl": "",
      "userId": "05358483110003930735"
     },
     "user_tz": -120
    },
    "id": "l3oli5LfqaNk",
    "outputId": "eb9c1293-00eb-47df-cfe3-2b26934b95e3"
   },
   "outputs": [
    {
     "data": {
      "text/plain": [
       "array([[ 1,  2,  3,  4,  5],\n",
       "       [ 6,  7,  8,  9, 10],\n",
       "       [11, 12, 13, 14, 15]])"
      ]
     },
     "execution_count": 3,
     "metadata": {},
     "output_type": "execute_result"
    }
   ],
   "source": [
    "arr_2d: np.ndarray = np.array([  # tworzymy macierz z listy 2D pythonowej, czyli powstanie tablica numpy 2D czyli macierz\n",
    "    [1, 2, 3, 4, 5],\n",
    "    [6, 7, 8, 9, 10],\n",
    "    [11, 12, 13, 14, 15],\n",
    "])\n",
    "\n",
    "arr_2d  # tutaj jezeli to ostatnie wyrazenie w komorce to nie jest potrzebny print"
   ]
  },
  {
   "cell_type": "markdown",
   "metadata": {
    "id": "QAeyoo50svf1"
   },
   "source": [
    "### Typy danych w NumPy\n",
    "\n",
    "Typy danych w bibliotece NumPy definiują charakter wartości przechowywanych w tablicach. Typ może zostać ustalony automatycznie bądź wskazany manualnie (w celu optymalizacji pamięci) za pomocą parametru dtype."
   ]
  },
  {
   "cell_type": "code",
   "execution_count": 4,
   "metadata": {
    "ExecuteTime": {
     "end_time": "2024-01-20T10:37:29.238261Z",
     "start_time": "2024-01-20T10:37:29.230676Z"
    },
    "colab": {
     "base_uri": "https://localhost:8080/"
    },
    "executionInfo": {
     "elapsed": 1389,
     "status": "ok",
     "timestamp": 1617134118179,
     "user": {
      "displayName": "Tomasz",
      "photoUrl": "",
      "userId": "05358483110003930735"
     },
     "user_tz": -120
    },
    "id": "vTp-fj5ErU4H",
    "outputId": "821ca42f-fe24-4e24-d937-c30190010066"
   },
   "outputs": [
    {
     "data": {
      "text/plain": [
       "array([1, 2, 3, 4, 5], dtype=int32)"
      ]
     },
     "execution_count": 4,
     "metadata": {},
     "output_type": "execute_result"
    }
   ],
   "source": [
    "# tworzymy tablice gdzie wskazujemy ze zawartosc ma byc typu int, inaczej numpy sam dopasuje typ zawartosci nie zawsze optymalny\n",
    "arr_int: np.ndarray = np.array([1, 2, 3, 4, 5], dtype='i')\n",
    "\n",
    "arr_int"
   ]
  },
  {
   "cell_type": "markdown",
   "metadata": {
    "id": "UUuRyVWys3sT"
   },
   "source": [
    "Typ wartości w tablicy można sprawdzić za pomocą atrybutu dtype."
   ]
  },
  {
   "cell_type": "code",
   "execution_count": 5,
   "metadata": {
    "ExecuteTime": {
     "end_time": "2024-01-20T10:37:29.239139Z",
     "start_time": "2024-01-20T10:37:29.234016Z"
    },
    "colab": {
     "base_uri": "https://localhost:8080/"
    },
    "executionInfo": {
     "elapsed": 1376,
     "status": "ok",
     "timestamp": 1617134118180,
     "user": {
      "displayName": "Tomasz",
      "photoUrl": "",
      "userId": "05358483110003930735"
     },
     "user_tz": -120
    },
    "id": "GC6hE7Xrs2eA",
    "outputId": "de386ed4-a059-40dd-e380-c76388428020"
   },
   "outputs": [
    {
     "data": {
      "text/plain": [
       "dtype('int32')"
      ]
     },
     "execution_count": 5,
     "metadata": {},
     "output_type": "execute_result"
    }
   ],
   "source": [
    "arr_int.dtype  # tez bez printa bo to jupyter, typ wartosci ktore sa w tablicy"
   ]
  },
  {
   "cell_type": "markdown",
   "metadata": {
    "id": "M5TKsQxrs-AI"
   },
   "source": [
    "### Podstawowe typy danych w NumPy\n",
    "\n",
    "Wyróżniamy następujące podstawowe typy danych występujące w bibliotece NumPy\n",
    "- i - integer (wartośc całkowita)\n",
    "- b - boolean (wartość logiczna)\n",
    "- u - unsigned integer (wartość całkowita >= 0)\n",
    "- f - float (wartość rzeczywista)\n",
    "- c - complex float (wartość zespolona zmiennoprzecinkowa)\n",
    "- m - timedelta (wartość przesuniecia czasu)\n",
    "- M - datetime (wartość czasu)\n",
    "- O - object (dowolny obiekt)\n",
    "- S - string (tekst)\n",
    "- U - unicode string (tekst w formacie unicode)\n",
    "- V - fixed chunk of memory for other type (wartość bliżej nieokreślona)\n",
    "\n",
    "### Złożone typy danych w NumPy\n",
    "\n",
    "W typie danych można również wskazać ilość zarezerwowanego miejsca na wartość. Przykładowo, \"i4\" oznacza typ integer (całkowitoliczbowy) 4-bajtowy."
   ]
  },
  {
   "cell_type": "code",
   "execution_count": null,
   "metadata": {
    "ExecuteTime": {
     "end_time": "2024-01-20T10:37:29.314049Z",
     "start_time": "2024-01-20T10:37:29.238431Z"
    },
    "colab": {
     "base_uri": "https://localhost:8080/"
    },
    "executionInfo": {
     "elapsed": 1362,
     "status": "ok",
     "timestamp": 1617134118180,
     "user": {
      "displayName": "Tomasz",
      "photoUrl": "",
      "userId": "05358483110003930735"
     },
     "user_tz": -120
    },
    "id": "dD0TFXxQs8_X",
    "outputId": "48c33314-0184-494e-c1e7-e38c7c55a0bf"
   },
   "outputs": [
    {
     "name": "stdout",
     "output_type": "stream",
     "text": [
      "[1 2 3 4 5]\n",
      "int32\n"
     ]
    }
   ],
   "source": [
    "arr: np.ndarray = np.array([1, 2, 3, 4, 5], dtype='i4')  # tablica z listy pythonowej\n",
    "\n",
    "print(arr)  # wypisanie tablicy\n",
    "print(arr.dtype)  # wypisanie typu zawartosci w tablicy"
   ]
  },
  {
   "cell_type": "markdown",
   "metadata": {
    "id": "g7bfSvL3uLY4"
   },
   "source": [
    "### Tworzenie tablic przy użyciu funkcji numpy\n",
    "\n",
    "Pakiet NumPy umożliwia również tworzenie tablic wypełnionych wartościami.\n",
    "Funkcja zeros służy do tworzenia tablic o wskazanym rozmiarze, wypełnionych zerami:\n",
    "\n"
   ]
  },
  {
   "cell_type": "code",
   "execution_count": null,
   "metadata": {
    "ExecuteTime": {
     "end_time": "2024-01-20T10:37:29.327434Z",
     "start_time": "2024-01-20T10:37:29.242232Z"
    },
    "colab": {
     "base_uri": "https://localhost:8080/"
    },
    "executionInfo": {
     "elapsed": 1348,
     "status": "ok",
     "timestamp": 1617134118180,
     "user": {
      "displayName": "Tomasz",
      "photoUrl": "",
      "userId": "05358483110003930735"
     },
     "user_tz": -120
    },
    "id": "OsURSHPat8J7",
    "outputId": "97a9a896-f7ad-4f03-aca5-5277268daed2"
   },
   "outputs": [
    {
     "data": {
      "text/plain": [
       "array([0, 0, 0, 0, 0, 0, 0, 0, 0, 0], dtype=int32)"
      ]
     },
     "execution_count": 8,
     "metadata": {},
     "output_type": "execute_result"
    }
   ],
   "source": [
    "np.zeros(10, dtype='i')  # funkcja zwraca macierz wiec nie trzeba teraz podstawiac do zmiennej i od razu sie wypisze w Jupyter"
   ]
  },
  {
   "cell_type": "markdown",
   "metadata": {
    "id": "J9vhAkevuWbe"
   },
   "source": [
    "Funkcji zeros można również użyć do tworzenia tablic wielowymiarowych:"
   ]
  },
  {
   "cell_type": "code",
   "execution_count": null,
   "metadata": {
    "ExecuteTime": {
     "end_time": "2024-01-20T10:37:29.327787Z",
     "start_time": "2024-01-20T10:37:29.246009Z"
    },
    "colab": {
     "base_uri": "https://localhost:8080/"
    },
    "executionInfo": {
     "elapsed": 1335,
     "status": "ok",
     "timestamp": 1617134118181,
     "user": {
      "displayName": "Tomasz",
      "photoUrl": "",
      "userId": "05358483110003930735"
     },
     "user_tz": -120
    },
    "id": "3fa9Ao68uTSN",
    "outputId": "6eb65814-bbd7-4bdd-c961-f56a5ce28daf"
   },
   "outputs": [
    {
     "data": {
      "text/plain": [
       "array([[0., 0., 0., 0., 0.],\n",
       "       [0., 0., 0., 0., 0.],\n",
       "       [0., 0., 0., 0., 0.],\n",
       "       [0., 0., 0., 0., 0.],\n",
       "       [0., 0., 0., 0., 0.]])"
      ]
     },
     "execution_count": 9,
     "metadata": {},
     "output_type": "execute_result"
    }
   ],
   "source": [
    "np.zeros((5, 5))  # tutaj jezeli wiecej niz 1 wymiar to wymiary wskazujemy w krotce (5,5) lub (3,3,5) itd czyli podwojne nawiasy"
   ]
  },
  {
   "cell_type": "markdown",
   "metadata": {
    "id": "opJ443WOudzK"
   },
   "source": [
    "Bardzo podobne zastosowanie ma funkcja ones, która tworzy tablice wypełnione jedynkami:"
   ]
  },
  {
   "cell_type": "code",
   "execution_count": null,
   "metadata": {
    "ExecuteTime": {
     "end_time": "2024-01-20T10:37:29.339037Z",
     "start_time": "2024-01-20T10:37:29.249680Z"
    },
    "colab": {
     "base_uri": "https://localhost:8080/"
    },
    "executionInfo": {
     "elapsed": 1321,
     "status": "ok",
     "timestamp": 1617134118181,
     "user": {
      "displayName": "Tomasz",
      "photoUrl": "",
      "userId": "05358483110003930735"
     },
     "user_tz": -120
    },
    "id": "ndNPo-j1uZIs",
    "outputId": "fabba2aa-bc03-4041-cd85-e675760b590d"
   },
   "outputs": [
    {
     "data": {
      "text/plain": [
       "array([[1., 1., 1.],\n",
       "       [1., 1., 1.],\n",
       "       [1., 1., 1.]])"
      ]
     },
     "execution_count": 10,
     "metadata": {},
     "output_type": "execute_result"
    }
   ],
   "source": [
    "np.ones((3, 3))  # tu tak samo"
   ]
  },
  {
   "cell_type": "markdown",
   "metadata": {
    "id": "-536iM7fujPB"
   },
   "source": [
    "Do stworzenia przestrzeni liniowej o wskazanym zakresie i liczbie elementów należy użyć funkcji linspace"
   ]
  },
  {
   "cell_type": "code",
   "execution_count": null,
   "metadata": {
    "ExecuteTime": {
     "end_time": "2024-01-20T10:37:29.347082Z",
     "start_time": "2024-01-20T10:37:29.256433Z"
    },
    "colab": {
     "base_uri": "https://localhost:8080/"
    },
    "executionInfo": {
     "elapsed": 1306,
     "status": "ok",
     "timestamp": 1617134118181,
     "user": {
      "displayName": "Tomasz",
      "photoUrl": "",
      "userId": "05358483110003930735"
     },
     "user_tz": -120
    },
    "id": "vAWGCZpIugFH",
    "outputId": "0624da4f-e45b-4b28-925d-d7e077738fd6"
   },
   "outputs": [
    {
     "data": {
      "text/plain": [
       "array([ 0.,  2.,  4.,  6.,  8., 10.])"
      ]
     },
     "execution_count": 11,
     "metadata": {},
     "output_type": "execute_result"
    }
   ],
   "source": [
    "np.linspace(0, 10, 6)  # 6 elementow w zakresie 0-10 gdzie 10 tez wchodzi w gre"
   ]
  },
  {
   "cell_type": "markdown",
   "metadata": {
    "id": "_cg30tLMusOF"
   },
   "source": [
    "Funkcja eye utworzy macierz jednostkową (kwadratową) o wskazanym rozmiarze:"
   ]
  },
  {
   "cell_type": "code",
   "execution_count": null,
   "metadata": {
    "ExecuteTime": {
     "end_time": "2024-01-20T10:37:29.347374Z",
     "start_time": "2024-01-20T10:37:29.259885Z"
    },
    "colab": {
     "base_uri": "https://localhost:8080/"
    },
    "executionInfo": {
     "elapsed": 1293,
     "status": "ok",
     "timestamp": 1617134118182,
     "user": {
      "displayName": "Tomasz",
      "photoUrl": "",
      "userId": "05358483110003930735"
     },
     "user_tz": -120
    },
    "id": "yDI8B61PumyQ",
    "outputId": "a8cb7de9-230d-4c8f-9fd0-fed6623f0067"
   },
   "outputs": [
    {
     "data": {
      "text/plain": [
       "array([[1., 0., 0., 0., 0.],\n",
       "       [0., 1., 0., 0., 0.],\n",
       "       [0., 0., 1., 0., 0.],\n",
       "       [0., 0., 0., 1., 0.],\n",
       "       [0., 0., 0., 0., 1.]])"
      ]
     },
     "execution_count": 12,
     "metadata": {},
     "output_type": "execute_result"
    }
   ],
   "source": [
    "np.eye(5)  # to zwroci macierz kwadratowa wiec wskazujesz tylko 1 wymiar"
   ]
  },
  {
   "cell_type": "markdown",
   "metadata": {
    "id": "M1Qs5Heou0Qf"
   },
   "source": [
    "Za pomocą funkcji rand pochodzącej z modułu random w pakiecie NumPy można wygenerować tensor o wskazanym rozmiarze zawierający wartości losowe pochodzące z rozkładu normalnego jednorodnego, w przedziale [0-1):"
   ]
  },
  {
   "cell_type": "code",
   "execution_count": null,
   "metadata": {
    "ExecuteTime": {
     "end_time": "2024-01-20T10:37:29.347580Z",
     "start_time": "2024-01-20T10:37:29.264468Z"
    },
    "colab": {
     "base_uri": "https://localhost:8080/"
    },
    "executionInfo": {
     "elapsed": 1278,
     "status": "ok",
     "timestamp": 1617134118182,
     "user": {
      "displayName": "Tomasz",
      "photoUrl": "",
      "userId": "05358483110003930735"
     },
     "user_tz": -120
    },
    "id": "4w1KP6q0uudu",
    "outputId": "5f04538a-46f9-4085-c61f-5c6acaf2cddb"
   },
   "outputs": [
    {
     "data": {
      "text/plain": [
       "array([0.96189274, 0.73487489, 0.49444472, 0.57159979, 0.97587037])"
      ]
     },
     "execution_count": 13,
     "metadata": {},
     "output_type": "execute_result"
    }
   ],
   "source": [
    "np.random.rand(5)  # wektor liczb losowych w zakresie od 0 do 1 (nie dosiega samej 1)"
   ]
  },
  {
   "cell_type": "code",
   "execution_count": null,
   "metadata": {
    "ExecuteTime": {
     "end_time": "2024-01-20T10:37:29.347776Z",
     "start_time": "2024-01-20T10:37:29.268440Z"
    },
    "colab": {
     "base_uri": "https://localhost:8080/"
    },
    "executionInfo": {
     "elapsed": 1263,
     "status": "ok",
     "timestamp": 1617134118182,
     "user": {
      "displayName": "Tomasz",
      "photoUrl": "",
      "userId": "05358483110003930735"
     },
     "user_tz": -120
    },
    "id": "WmwiVogiu3Lu",
    "outputId": "3311ae52-d26d-4a28-b02e-f641efd94c1b"
   },
   "outputs": [
    {
     "data": {
      "text/plain": [
       "array([[0.15035923, 0.56635759],\n",
       "       [0.99309627, 0.84747083],\n",
       "       [0.54918642, 0.86910955]])"
      ]
     },
     "execution_count": 14,
     "metadata": {},
     "output_type": "execute_result"
    }
   ],
   "source": [
    "np.random.rand(3, 2)  # a tutaj to samo tylko macierz"
   ]
  },
  {
   "cell_type": "markdown",
   "metadata": {
    "id": "8YGS4dvmu-Yi"
   },
   "source": [
    "Funkcja randn pochodząca z modułu random w pakiecie NumPy ma podobne zastosowanie do funkcji rand. Różnica między nimi polega na generowaniu wartości losowych pochodzących z rozkładu normalnego:"
   ]
  },
  {
   "cell_type": "code",
   "execution_count": null,
   "metadata": {
    "ExecuteTime": {
     "end_time": "2024-01-20T10:37:29.348224Z",
     "start_time": "2024-01-20T10:37:29.272025Z"
    },
    "colab": {
     "base_uri": "https://localhost:8080/"
    },
    "executionInfo": {
     "elapsed": 1250,
     "status": "ok",
     "timestamp": 1617134118183,
     "user": {
      "displayName": "Tomasz",
      "photoUrl": "",
      "userId": "05358483110003930735"
     },
     "user_tz": -120
    },
    "id": "vlePsXBNu7Q1",
    "outputId": "8faee611-280d-486d-8041-d093609d2a4e"
   },
   "outputs": [
    {
     "data": {
      "text/plain": [
       "array([[ 1.09223132,  1.01134174, -0.204271  ,  0.05773278,  1.02402038],\n",
       "       [-0.18451507,  0.74529921, -1.23540266,  0.29378047,  0.54391971],\n",
       "       [ 0.3021809 ,  0.41627912,  0.00390165,  0.02613831,  0.02634542],\n",
       "       [-0.62427156, -1.70773967, -0.62768729,  0.20094255, -0.35074538],\n",
       "       [-0.68028963,  1.20120128, -0.16436656,  0.28659376, -2.08525135]])"
      ]
     },
     "execution_count": 15,
     "metadata": {},
     "output_type": "execute_result"
    }
   ],
   "source": [
    "np.random.randn(5, 5)  # tutaj to samo co wyzej tylko rozklad ma srednia 0 i odch std 1"
   ]
  },
  {
   "cell_type": "markdown",
   "metadata": {
    "id": "N5NsL6xlvEL4"
   },
   "source": [
    "Funkcja randint pochodząca z modułu random w pakiecie NumPy ma również podobne zastosowanie do swoich poprzedniczek. Różnica polega na generowaniu wartości losowych z wyznaczonych przedziałów:"
   ]
  },
  {
   "cell_type": "code",
   "execution_count": null,
   "metadata": {
    "ExecuteTime": {
     "end_time": "2024-01-20T10:37:29.348464Z",
     "start_time": "2024-01-20T10:37:29.277309Z"
    },
    "colab": {
     "base_uri": "https://localhost:8080/"
    },
    "executionInfo": {
     "elapsed": 1236,
     "status": "ok",
     "timestamp": 1617134118183,
     "user": {
      "displayName": "Tomasz",
      "photoUrl": "",
      "userId": "05358483110003930735"
     },
     "user_tz": -120
    },
    "id": "LJKKHMeJvAxa",
    "outputId": "1a31c138-1343-4851-f774-1926e48fb2a5"
   },
   "outputs": [
    {
     "data": {
      "text/plain": [
       "array([[33, 33,  2, 46, 31, 17],\n",
       "       [ 2,  4, 42, 26, 46,  7],\n",
       "       [48,  9, 10, 17, 38, 12]])"
      ]
     },
     "execution_count": 16,
     "metadata": {},
     "output_type": "execute_result"
    }
   ],
   "source": [
    "np.random.randint(1, 49, (3, 6))  # tutaj najpierw wskazujemy poczatek zakresu, koniec i ksztalt tensora w krotce (losowe liczby calkowite)"
   ]
  },
  {
   "cell_type": "markdown",
   "metadata": {
    "id": "rslrOtd9vKl_"
   },
   "source": [
    "### Indeksowanie danych w tablicach\n",
    "\n",
    "Biblioteka NumPy umożliwia wygodne wybieranie wartości znajdujących się w tablicach za pomocą wskazania ich pozycji."
   ]
  },
  {
   "cell_type": "code",
   "execution_count": null,
   "metadata": {
    "ExecuteTime": {
     "end_time": "2024-01-20T10:37:29.348852Z",
     "start_time": "2024-01-20T10:37:29.281948Z"
    },
    "colab": {
     "base_uri": "https://localhost:8080/"
    },
    "executionInfo": {
     "elapsed": 1792,
     "status": "ok",
     "timestamp": 1617134118753,
     "user": {
      "displayName": "Tomasz",
      "photoUrl": "",
      "userId": "05358483110003930735"
     },
     "user_tz": -120
    },
    "id": "i48oT18fvGrN",
    "outputId": "743f2ec2-bdda-4d42-856a-0dd0d00ba4fc"
   },
   "outputs": [
    {
     "data": {
      "text/plain": [
       "array([[ 5, 10, 15],\n",
       "       [20, 25, 30],\n",
       "       [35, 40, 45]])"
      ]
     },
     "execution_count": 17,
     "metadata": {},
     "output_type": "execute_result"
    }
   ],
   "source": [
    "arr_2d: np.ndarray = np.array([  # tworzymy jakas macierz z listy 2D\n",
    "                               [5, 10, 15],\n",
    "                               [20, 25, 30],\n",
    "                               [35, 40, 45]\n",
    "])\n",
    "\n",
    "arr_2d"
   ]
  },
  {
   "cell_type": "markdown",
   "metadata": {
    "id": "NmQea6pRvU8F"
   },
   "source": [
    "Wiersz z takiej tablicy można pobrać wskazując jego indeks:"
   ]
  },
  {
   "cell_type": "code",
   "execution_count": null,
   "metadata": {
    "ExecuteTime": {
     "end_time": "2024-01-20T10:37:29.349253Z",
     "start_time": "2024-01-20T10:37:29.285157Z"
    },
    "colab": {
     "base_uri": "https://localhost:8080/"
    },
    "executionInfo": {
     "elapsed": 1779,
     "status": "ok",
     "timestamp": 1617134118754,
     "user": {
      "displayName": "Tomasz",
      "photoUrl": "",
      "userId": "05358483110003930735"
     },
     "user_tz": -120
    },
    "id": "GaJLcHU3vP5E",
    "outputId": "5ba4593c-da68-4762-f07b-29018e5325ea"
   },
   "outputs": [
    {
     "data": {
      "text/plain": [
       "array([ 5, 10, 15])"
      ]
     },
     "execution_count": 18,
     "metadata": {},
     "output_type": "execute_result"
    }
   ],
   "source": [
    "arr_2d[0]  # wyswietlamy pierwszy wiersz pod indeksem 0"
   ]
  },
  {
   "cell_type": "markdown",
   "metadata": {
    "id": "BCDvPpxVvcNe"
   },
   "source": [
    "Wartośc skalarną można pobrać wskazując jej konkretną pozycję w formacie [wiersz, kolumna]:"
   ]
  },
  {
   "cell_type": "code",
   "execution_count": null,
   "metadata": {
    "ExecuteTime": {
     "end_time": "2024-01-20T10:37:29.350091Z",
     "start_time": "2024-01-20T10:37:29.288767Z"
    },
    "colab": {
     "base_uri": "https://localhost:8080/"
    },
    "executionInfo": {
     "elapsed": 1765,
     "status": "ok",
     "timestamp": 1617134118754,
     "user": {
      "displayName": "Tomasz",
      "photoUrl": "",
      "userId": "05358483110003930735"
     },
     "user_tz": -120
    },
    "id": "u72A4_WOvXN4",
    "outputId": "2af8898d-0f0d-4c37-e49c-186576e83889"
   },
   "outputs": [
    {
     "data": {
      "text/plain": [
       "30"
      ]
     },
     "execution_count": 19,
     "metadata": {},
     "output_type": "execute_result"
    }
   ],
   "source": [
    "arr_2d[1, 2]  # a tutaj wartosc w wierszu o id 1 i komorce o id 2 liczac od 0"
   ]
  },
  {
   "cell_type": "markdown",
   "metadata": {
    "id": "SC1dTlc_wZn4"
   },
   "source": [
    "Kolumnę z tablicy można pobrać wskazując wszystkie wiersze za pomocą znaku : oraz indeks kolumny w następującym formacie [:, col]:"
   ]
  },
  {
   "cell_type": "code",
   "execution_count": null,
   "metadata": {
    "ExecuteTime": {
     "end_time": "2024-01-20T10:37:29.350627Z",
     "start_time": "2024-01-20T10:37:29.292308Z"
    },
    "colab": {
     "base_uri": "https://localhost:8080/"
    },
    "executionInfo": {
     "elapsed": 1752,
     "status": "ok",
     "timestamp": 1617134118755,
     "user": {
      "displayName": "Tomasz",
      "photoUrl": "",
      "userId": "05358483110003930735"
     },
     "user_tz": -120
    },
    "id": "10PeDQsfvfqk",
    "outputId": "654a0657-02dc-4aa5-b855-741dca13afe2"
   },
   "outputs": [
    {
     "data": {
      "text/plain": [
       "array([10, 25, 40])"
      ]
     },
     "execution_count": 20,
     "metadata": {},
     "output_type": "execute_result"
    }
   ],
   "source": [
    "arr_2d[:, 1]  # to jest jak wybieranie pojedynczej wartosci z komorki ale : wskazuje wszystkie wartosci w danym wymiarze (tutaj w wierszach)"
   ]
  },
  {
   "cell_type": "markdown",
   "metadata": {
    "id": "Z6J0y_1zwetC"
   },
   "source": [
    "Za pomocą indeksu -1 można pobrać ostatnią wartość we wskazanym wymiarze:"
   ]
  },
  {
   "cell_type": "code",
   "execution_count": null,
   "metadata": {
    "ExecuteTime": {
     "end_time": "2024-01-20T10:37:29.351129Z",
     "start_time": "2024-01-20T10:37:29.296535Z"
    },
    "colab": {
     "base_uri": "https://localhost:8080/"
    },
    "executionInfo": {
     "elapsed": 1737,
     "status": "ok",
     "timestamp": 1617134118755,
     "user": {
      "displayName": "Tomasz",
      "photoUrl": "",
      "userId": "05358483110003930735"
     },
     "user_tz": -120
    },
    "id": "xJxtueixwcAa",
    "outputId": "170d854f-c3dc-4a62-cadb-c26755793b24"
   },
   "outputs": [
    {
     "data": {
      "text/plain": [
       "45"
      ]
     },
     "execution_count": 21,
     "metadata": {},
     "output_type": "execute_result"
    }
   ],
   "source": [
    "arr_2d[-1, -1]  # -1 to indeks ostatniej wartosci"
   ]
  },
  {
   "cell_type": "markdown",
   "metadata": {
    "id": "f5H35MX-wkWn"
   },
   "source": [
    "Biblioteka NumPy umożliwia również pobieranie podtablic za pomocą zakresów indeksów wskazanych w konkretnych wymiarach:"
   ]
  },
  {
   "cell_type": "code",
   "execution_count": null,
   "metadata": {
    "ExecuteTime": {
     "end_time": "2024-01-20T10:37:29.351409Z",
     "start_time": "2024-01-20T10:37:29.300093Z"
    },
    "colab": {
     "base_uri": "https://localhost:8080/"
    },
    "executionInfo": {
     "elapsed": 1724,
     "status": "ok",
     "timestamp": 1617134118756,
     "user": {
      "displayName": "Tomasz",
      "photoUrl": "",
      "userId": "05358483110003930735"
     },
     "user_tz": -120
    },
    "id": "DqjQUSsHwhYb",
    "outputId": "2e1da2b8-4944-499a-fec7-a8a119ed3ef3"
   },
   "outputs": [
    {
     "data": {
      "text/plain": [
       "array([[67, 23, 65, 72, 81],\n",
       "       [46, 53, 48, 83, 48],\n",
       "       [82, 26, 22, 86, 17],\n",
       "       [40, 39, 22, 53, 19],\n",
       "       [54, 69, 22, 93, 35]])"
      ]
     },
     "execution_count": 22,
     "metadata": {},
     "output_type": "execute_result"
    }
   ],
   "source": [
    "matrix: np.ndarray = np.random.randint(1, 100, (5, 5))  # generujemy na pozniej jakas macierz losowa 5 wierszy 5 kolumn\n",
    "\n",
    "matrix"
   ]
  },
  {
   "cell_type": "code",
   "execution_count": null,
   "metadata": {
    "ExecuteTime": {
     "end_time": "2024-01-20T10:37:29.351612Z",
     "start_time": "2024-01-20T10:37:29.304190Z"
    },
    "colab": {
     "base_uri": "https://localhost:8080/"
    },
    "executionInfo": {
     "elapsed": 1711,
     "status": "ok",
     "timestamp": 1617134118757,
     "user": {
      "displayName": "Tomasz",
      "photoUrl": "",
      "userId": "05358483110003930735"
     },
     "user_tz": -120
    },
    "id": "PvOkohTZwoHM",
    "outputId": "91b3005d-4a21-4b2a-f20b-1a006efaad82"
   },
   "outputs": [
    {
     "data": {
      "text/plain": [
       "array([[53, 48, 83],\n",
       "       [26, 22, 86],\n",
       "       [39, 22, 53]])"
      ]
     },
     "execution_count": 23,
     "metadata": {},
     "output_type": "execute_result"
    }
   ],
   "source": [
    "matrix[1:4, 1:4]  # wybieramy wszystkie wiersze o id od 1 do 4 (bez 4) i z tych wierszy kolumny o id od 1 do 4 (bez 4)"
   ]
  },
  {
   "cell_type": "markdown",
   "metadata": {
    "id": "aZiNZlfMwxOp"
   },
   "source": [
    "### Kształt tablicy i jego modyfikacja\n",
    "\n",
    "Kształt tablicy można sprawdzić za pomocą atrybutu shape:"
   ]
  },
  {
   "cell_type": "code",
   "execution_count": null,
   "metadata": {
    "ExecuteTime": {
     "end_time": "2024-01-20T10:37:29.357754Z",
     "start_time": "2024-01-20T10:37:29.307518Z"
    },
    "colab": {
     "base_uri": "https://localhost:8080/"
    },
    "executionInfo": {
     "elapsed": 1697,
     "status": "ok",
     "timestamp": 1617134118757,
     "user": {
      "displayName": "Tomasz",
      "photoUrl": "",
      "userId": "05358483110003930735"
     },
     "user_tz": -120
    },
    "id": "lXV54ifjwqne",
    "outputId": "e4c07f2a-d208-4ed7-a5e0-5e6708bddcbc"
   },
   "outputs": [
    {
     "name": "stdout",
     "output_type": "stream",
     "text": [
      "[[1. 1. 1. 1.]\n",
      " [1. 1. 1. 1.]\n",
      " [1. 1. 1. 1.]\n",
      " [1. 1. 1. 1.]\n",
      " [1. 1. 1. 1.]]\n",
      "(5, 4)\n"
     ]
    }
   ],
   "source": [
    "arr: np.ndarray = np.ones((5, 4))  # tablica jedynek 5 wierszy 4 kolumny\n",
    "\n",
    "print(arr)  # wyswietlenie tablicy\n",
    "print(arr.shape)  # wyswietlenie ksztaltu tej tablicy czyli ile wierszy i ile kolumn"
   ]
  },
  {
   "cell_type": "markdown",
   "metadata": {
    "id": "Pt-z2b3zw753"
   },
   "source": [
    "Wynik (5, 4) informuje nas o 5 wierszach i 4 kolumnach macierzy.\n",
    "\n",
    "Za pomocą metody reshape można zmodyfikować kształt tablicy."
   ]
  },
  {
   "cell_type": "code",
   "execution_count": null,
   "metadata": {
    "ExecuteTime": {
     "end_time": "2024-01-20T10:37:29.358322Z",
     "start_time": "2024-01-20T10:37:29.310692Z"
    },
    "colab": {
     "base_uri": "https://localhost:8080/"
    },
    "executionInfo": {
     "elapsed": 1684,
     "status": "ok",
     "timestamp": 1617134118758,
     "user": {
      "displayName": "Tomasz",
      "photoUrl": "",
      "userId": "05358483110003930735"
     },
     "user_tz": -120
    },
    "id": "hRJjgBufw4Vm",
    "outputId": "f35a641b-b260-4880-c061-59a4f45a435f"
   },
   "outputs": [
    {
     "data": {
      "text/plain": [
       "array([1., 1., 1., 1., 1., 1., 1., 1., 1., 1., 1., 1., 1., 1., 1., 1., 1.,\n",
       "       1., 1., 1., 1., 1., 1., 1., 1.])"
      ]
     },
     "execution_count": 25,
     "metadata": {},
     "output_type": "execute_result"
    }
   ],
   "source": [
    "arr: np.ndarray = np.ones(25)  # tablica (wektor) z 25 jedynkami (na pozniej)\n",
    "\n",
    "arr"
   ]
  },
  {
   "cell_type": "code",
   "execution_count": null,
   "metadata": {
    "ExecuteTime": {
     "end_time": "2024-01-20T10:37:29.360511Z",
     "start_time": "2024-01-20T10:37:29.313880Z"
    },
    "colab": {
     "base_uri": "https://localhost:8080/"
    },
    "executionInfo": {
     "elapsed": 1670,
     "status": "ok",
     "timestamp": 1617134118758,
     "user": {
      "displayName": "Tomasz",
      "photoUrl": "",
      "userId": "05358483110003930735"
     },
     "user_tz": -120
    },
    "id": "pGL_pnvWxFRU",
    "outputId": "1a331a8c-df49-4823-d133-fa89c0cd296b"
   },
   "outputs": [
    {
     "data": {
      "text/plain": [
       "array([[1., 1., 1., 1., 1.],\n",
       "       [1., 1., 1., 1., 1.],\n",
       "       [1., 1., 1., 1., 1.],\n",
       "       [1., 1., 1., 1., 1.],\n",
       "       [1., 1., 1., 1., 1.]])"
      ]
     },
     "execution_count": 26,
     "metadata": {},
     "output_type": "execute_result"
    }
   ],
   "source": [
    "arr.reshape((5, 5))  # zamiana wektora 25 elementowego na macierz 5 wierszy 5 kolumn (liczba elementow musi sie zgadzac)"
   ]
  },
  {
   "cell_type": "markdown",
   "metadata": {
    "id": "PeagmAzUxMq7"
   },
   "source": [
    "### Wyszukiwanie w tablicach wartości największych i najmniejszych"
   ]
  },
  {
   "cell_type": "code",
   "execution_count": null,
   "metadata": {
    "ExecuteTime": {
     "end_time": "2024-01-20T10:37:29.360752Z",
     "start_time": "2024-01-20T10:37:29.318443Z"
    },
    "colab": {
     "base_uri": "https://localhost:8080/"
    },
    "executionInfo": {
     "elapsed": 1657,
     "status": "ok",
     "timestamp": 1617134118759,
     "user": {
      "displayName": "Tomasz",
      "photoUrl": "",
      "userId": "05358483110003930735"
     },
     "user_tz": -120
    },
    "id": "RPFbzqL5xIr_",
    "outputId": "1b0a9311-a58b-4bb1-9f5a-d6bd86dae14c"
   },
   "outputs": [
    {
     "data": {
      "text/plain": [
       "array([50, 74, 13, 43, 87, 58, 14, 61, 82, 51])"
      ]
     },
     "execution_count": 27,
     "metadata": {},
     "output_type": "execute_result"
    }
   ],
   "source": [
    "arr: np.ndarray = np.random.randint(1, 100, 10)  # wektor (tablica) 10 liczb calkowitych losowych od 1 do 100\n",
    "\n",
    "arr"
   ]
  },
  {
   "cell_type": "markdown",
   "metadata": {
    "id": "VQNZjH6nxUFD"
   },
   "source": [
    "Za pomocą metody min można znaleźć wartość największą:"
   ]
  },
  {
   "cell_type": "code",
   "execution_count": null,
   "metadata": {
    "ExecuteTime": {
     "end_time": "2024-01-20T10:37:29.363010Z",
     "start_time": "2024-01-20T10:37:29.322422Z"
    },
    "colab": {
     "base_uri": "https://localhost:8080/"
    },
    "executionInfo": {
     "elapsed": 1643,
     "status": "ok",
     "timestamp": 1617134118759,
     "user": {
      "displayName": "Tomasz",
      "photoUrl": "",
      "userId": "05358483110003930735"
     },
     "user_tz": -120
    },
    "id": "URgVRmqSxRAQ",
    "outputId": "78b1aca7-f676-4be4-e253-d40406038d3f"
   },
   "outputs": [
    {
     "data": {
      "text/plain": [
       "13"
      ]
     },
     "execution_count": 28,
     "metadata": {},
     "output_type": "execute_result"
    }
   ],
   "source": [
    "arr.min()"
   ]
  },
  {
   "cell_type": "markdown",
   "metadata": {
    "id": "JaNI2JYVxYMy"
   },
   "source": [
    "Wartość największą można znaleźć za pomocą metody max:"
   ]
  },
  {
   "cell_type": "code",
   "execution_count": null,
   "metadata": {
    "ExecuteTime": {
     "end_time": "2024-01-20T10:37:29.378161Z",
     "start_time": "2024-01-20T10:37:29.331665Z"
    },
    "colab": {
     "base_uri": "https://localhost:8080/"
    },
    "executionInfo": {
     "elapsed": 1629,
     "status": "ok",
     "timestamp": 1617134118759,
     "user": {
      "displayName": "Tomasz",
      "photoUrl": "",
      "userId": "05358483110003930735"
     },
     "user_tz": -120
    },
    "id": "b8K9eCw2xXNz",
    "outputId": "0684ef91-865d-44a2-c9d5-dfd8ef81bde7"
   },
   "outputs": [
    {
     "data": {
      "text/plain": [
       "87"
      ]
     },
     "execution_count": 29,
     "metadata": {},
     "output_type": "execute_result"
    }
   ],
   "source": [
    "arr.max()"
   ]
  },
  {
   "cell_type": "markdown",
   "metadata": {
    "id": "1rheAmL3xfMd"
   },
   "source": [
    "Pozycję elementu o największej lub najmniejszej wartości można znaleźć za pomocą metod argmax i argmin:"
   ]
  },
  {
   "cell_type": "code",
   "execution_count": null,
   "metadata": {
    "ExecuteTime": {
     "end_time": "2024-01-20T10:37:29.511126Z",
     "start_time": "2024-01-20T10:37:29.334372Z"
    },
    "colab": {
     "base_uri": "https://localhost:8080/"
    },
    "executionInfo": {
     "elapsed": 1616,
     "status": "ok",
     "timestamp": 1617134118760,
     "user": {
      "displayName": "Tomasz",
      "photoUrl": "",
      "userId": "05358483110003930735"
     },
     "user_tz": -120
    },
    "id": "zyoYOmGMxcOP",
    "outputId": "9358166e-3c84-4f02-a7d3-6f209bfa76ee"
   },
   "outputs": [
    {
     "name": "stdout",
     "output_type": "stream",
     "text": [
      "wartosc najwieksza: 87, pozycja wartosci najwiekszej: 4\n",
      "wartosc najmniejsza: 13, pozycja wartosci najmniejszej: 2\n"
     ]
    }
   ],
   "source": [
    "print(f'wartosc najwieksza: {arr.max()}, pozycja wartosci najwiekszej: {arr.argmax()}')  # metoda argmin() zwraca id najmniejszego elementu\n",
    "print(f'wartosc najmniejsza: {arr.min()}, pozycja wartosci najmniejszej: {arr.argmin()}')  # argmax() analogicznie\n",
    "# te metody sa wywolane na obiekcie tablicy o nazwie arr: arr.argmin() itd"
   ]
  },
  {
   "cell_type": "markdown",
   "metadata": {
    "id": "mCegJ6TMxn-B"
   },
   "source": [
    "### Funkcje matematyczne w NumPy\n",
    "\n",
    "Pakiet NumPy dostarcza wiele funkcji matematycznych dokonujących operacji na wszystkich elementach tablic."
   ]
  },
  {
   "cell_type": "code",
   "execution_count": null,
   "metadata": {
    "ExecuteTime": {
     "end_time": "2024-01-20T10:37:29.512929Z",
     "start_time": "2024-01-20T10:37:29.337605Z"
    },
    "colab": {
     "base_uri": "https://localhost:8080/"
    },
    "executionInfo": {
     "elapsed": 1602,
     "status": "ok",
     "timestamp": 1617134118760,
     "user": {
      "displayName": "Tomasz",
      "photoUrl": "",
      "userId": "05358483110003930735"
     },
     "user_tz": -120
    },
    "id": "HYAirhvUxjWP",
    "outputId": "bf5c5e45-0b94-47c0-beff-cd76c70c7076"
   },
   "outputs": [
    {
     "data": {
      "text/plain": [
       "array([ 0,  1,  2,  3,  4,  5,  6,  7,  8,  9, 10])"
      ]
     },
     "execution_count": 31,
     "metadata": {},
     "output_type": "execute_result"
    }
   ],
   "source": [
    "arr: np.ndarray = np.arange(11)  # generujemy kolejne wartosci od 0 do 10\n",
    "\n",
    "arr"
   ]
  },
  {
   "cell_type": "markdown",
   "metadata": {
    "id": "yG1GMwC7xyrZ"
   },
   "source": [
    "Za pomocą funkcji sqrt można obliczyć pierwiastki kwadratowe wszystkich elementów znajdujących się w tablicy:"
   ]
  },
  {
   "cell_type": "code",
   "execution_count": null,
   "metadata": {
    "ExecuteTime": {
     "end_time": "2024-01-20T10:37:29.513148Z",
     "start_time": "2024-01-20T10:37:29.341005Z"
    },
    "colab": {
     "base_uri": "https://localhost:8080/"
    },
    "executionInfo": {
     "elapsed": 1589,
     "status": "ok",
     "timestamp": 1617134118761,
     "user": {
      "displayName": "Tomasz",
      "photoUrl": "",
      "userId": "05358483110003930735"
     },
     "user_tz": -120
    },
    "id": "uhW3hhX1xujh",
    "outputId": "77b14dec-d4ff-4ee0-fa96-e69d6d3a13be"
   },
   "outputs": [
    {
     "data": {
      "text/plain": [
       "array([0.        , 1.        , 1.41421356, 1.73205081, 2.        ,\n",
       "       2.23606798, 2.44948974, 2.64575131, 2.82842712, 3.        ,\n",
       "       3.16227766])"
      ]
     },
     "execution_count": 32,
     "metadata": {},
     "output_type": "execute_result"
    }
   ],
   "source": [
    "np.sqrt(arr)"
   ]
  },
  {
   "cell_type": "markdown",
   "metadata": {
    "id": "_NoM6YP3x460"
   },
   "source": [
    "Za pomocą funkcji exp można wyznaczyć wartość wyrażenia $$e ^ x$$ gdzie x to każdy kolejny element znajdujący się w tablicy:"
   ]
  },
  {
   "cell_type": "code",
   "execution_count": null,
   "metadata": {
    "ExecuteTime": {
     "end_time": "2024-01-20T10:37:29.560436Z",
     "start_time": "2024-01-20T10:37:29.344284Z"
    },
    "colab": {
     "base_uri": "https://localhost:8080/"
    },
    "executionInfo": {
     "elapsed": 1576,
     "status": "ok",
     "timestamp": 1617134118761,
     "user": {
      "displayName": "Tomasz",
      "photoUrl": "",
      "userId": "05358483110003930735"
     },
     "user_tz": -120
    },
    "id": "Z4nCBVYXx1Iv",
    "outputId": "8f606edc-71e5-41f5-8501-3b25373142e5"
   },
   "outputs": [
    {
     "data": {
      "text/plain": [
       "array([1.00000000e+00, 2.71828183e+00, 7.38905610e+00, 2.00855369e+01,\n",
       "       5.45981500e+01, 1.48413159e+02, 4.03428793e+02, 1.09663316e+03,\n",
       "       2.98095799e+03, 8.10308393e+03, 2.20264658e+04])"
      ]
     },
     "execution_count": 33,
     "metadata": {},
     "output_type": "execute_result"
    }
   ],
   "source": [
    "np.exp(arr)"
   ]
  },
  {
   "cell_type": "markdown",
   "metadata": {
    "id": "eiplv1JoyAlA"
   },
   "source": [
    "### Arytmetyka i algebra tensorów\n",
    "\n",
    "Pakiet NumPy umożliwia również wygodne dokonywanie działań arytmetycznych oraz algebraicznych na tablicach:"
   ]
  },
  {
   "cell_type": "code",
   "execution_count": null,
   "metadata": {
    "ExecuteTime": {
     "end_time": "2024-01-20T10:37:29.583115Z",
     "start_time": "2024-01-20T10:37:29.350251Z"
    },
    "colab": {
     "base_uri": "https://localhost:8080/"
    },
    "executionInfo": {
     "elapsed": 1563,
     "status": "ok",
     "timestamp": 1617134118762,
     "user": {
      "displayName": "Tomasz",
      "photoUrl": "",
      "userId": "05358483110003930735"
     },
     "user_tz": -120
    },
    "id": "aagDHhpDx8xV",
    "outputId": "0ff99c40-07cf-4fa9-9c50-7facd8a57752"
   },
   "outputs": [
    {
     "name": "stdout",
     "output_type": "stream",
     "text": [
      "[[2 9 5]\n",
      " [6 1 6]\n",
      " [5 1 8]]\n",
      "--------\n",
      "[[7 1 4]\n",
      " [7 5 8]\n",
      " [8 1 6]]\n"
     ]
    }
   ],
   "source": [
    "arr0: np.ndarray = np.random.randint(1, 10, (3, 3))  # losowa macierz 3x3 wartosci od 1 do 10\n",
    "arr1: np.ndarray = np.random.randint(1, 10, (3, 3))\n",
    "\n",
    "print(arr0)  # wysw pierwszej macierzy\n",
    "print('--------')  # separator\n",
    "print(arr1)  # wysw drugiej macierzy"
   ]
  },
  {
   "cell_type": "markdown",
   "metadata": {
    "id": "EIdAjhLDyS92"
   },
   "source": [
    "Działań arytmetycznych na tablicach można dokonać za pomocą klasycznych operatorów arytmetycznych:"
   ]
  },
  {
   "cell_type": "code",
   "execution_count": null,
   "metadata": {
    "ExecuteTime": {
     "end_time": "2024-01-20T10:37:29.586766Z",
     "start_time": "2024-01-20T10:37:29.353722Z"
    },
    "colab": {
     "base_uri": "https://localhost:8080/"
    },
    "executionInfo": {
     "elapsed": 1549,
     "status": "ok",
     "timestamp": 1617134118762,
     "user": {
      "displayName": "Tomasz",
      "photoUrl": "",
      "userId": "05358483110003930735"
     },
     "user_tz": -120
    },
    "id": "LBux-uEEyJdd",
    "outputId": "02a26eb6-579a-44aa-e0be-0e55af006473"
   },
   "outputs": [
    {
     "data": {
      "text/plain": [
       "array([[ 9, 10,  9],\n",
       "       [13,  6, 14],\n",
       "       [13,  2, 14]])"
      ]
     },
     "execution_count": 35,
     "metadata": {},
     "output_type": "execute_result"
    }
   ],
   "source": [
    "arr0 + arr1"
   ]
  },
  {
   "cell_type": "code",
   "execution_count": null,
   "metadata": {
    "ExecuteTime": {
     "end_time": "2024-01-20T10:37:29.597170Z",
     "start_time": "2024-01-20T10:37:29.357936Z"
    },
    "colab": {
     "base_uri": "https://localhost:8080/"
    },
    "executionInfo": {
     "elapsed": 1536,
     "status": "ok",
     "timestamp": 1617134118763,
     "user": {
      "displayName": "Tomasz",
      "photoUrl": "",
      "userId": "05358483110003930735"
     },
     "user_tz": -120
    },
    "id": "PUuXd3r7yWgw",
    "outputId": "25fe18e1-c593-4e34-c065-7a057be278d7"
   },
   "outputs": [
    {
     "data": {
      "text/plain": [
       "array([[-5,  8,  1],\n",
       "       [-1, -4, -2],\n",
       "       [-3,  0,  2]])"
      ]
     },
     "execution_count": 36,
     "metadata": {},
     "output_type": "execute_result"
    }
   ],
   "source": [
    "arr0 - arr1"
   ]
  },
  {
   "cell_type": "code",
   "execution_count": null,
   "metadata": {
    "ExecuteTime": {
     "end_time": "2024-01-20T10:37:29.604091Z",
     "start_time": "2024-01-20T10:37:29.362538Z"
    },
    "colab": {
     "base_uri": "https://localhost:8080/"
    },
    "executionInfo": {
     "elapsed": 1522,
     "status": "ok",
     "timestamp": 1617134118763,
     "user": {
      "displayName": "Tomasz",
      "photoUrl": "",
      "userId": "05358483110003930735"
     },
     "user_tz": -120
    },
    "id": "Nt87ff5zytLU",
    "outputId": "97b0d5ff-4a53-4eeb-eccc-1ce3b1897322"
   },
   "outputs": [
    {
     "data": {
      "text/plain": [
       "array([[14,  9, 20],\n",
       "       [42,  5, 48],\n",
       "       [40,  1, 48]])"
      ]
     },
     "execution_count": 37,
     "metadata": {},
     "output_type": "execute_result"
    }
   ],
   "source": [
    "arr0 * arr1"
   ]
  },
  {
   "cell_type": "code",
   "execution_count": null,
   "metadata": {
    "ExecuteTime": {
     "end_time": "2024-01-20T10:37:29.604770Z",
     "start_time": "2024-01-20T10:37:29.366648Z"
    },
    "colab": {
     "base_uri": "https://localhost:8080/"
    },
    "executionInfo": {
     "elapsed": 1509,
     "status": "ok",
     "timestamp": 1617134118764,
     "user": {
      "displayName": "Tomasz",
      "photoUrl": "",
      "userId": "05358483110003930735"
     },
     "user_tz": -120
    },
    "id": "157SRzM1yvGm",
    "outputId": "9272a22d-4acd-4fa3-daf5-fc7789de1b11"
   },
   "outputs": [
    {
     "data": {
      "text/plain": [
       "array([[ 4, 81, 25],\n",
       "       [36,  1, 36],\n",
       "       [25,  1, 64]])"
      ]
     },
     "execution_count": 38,
     "metadata": {},
     "output_type": "execute_result"
    }
   ],
   "source": [
    "arr0 ** 2"
   ]
  },
  {
   "cell_type": "markdown",
   "metadata": {
    "id": "NvwRS03ty0No"
   },
   "source": [
    "Pakiet NumPy udostępnia również interfejs do dokonywania operacji algebraicznych na tensorach.\n",
    "Do wyznaczenia iloczynu skalarnego dwóch tensorów służy metoda dot:"
   ]
  },
  {
   "cell_type": "code",
   "execution_count": null,
   "metadata": {
    "ExecuteTime": {
     "end_time": "2024-01-20T10:37:29.604980Z",
     "start_time": "2024-01-20T10:37:29.370172Z"
    },
    "colab": {
     "base_uri": "https://localhost:8080/"
    },
    "executionInfo": {
     "elapsed": 1495,
     "status": "ok",
     "timestamp": 1617134118764,
     "user": {
      "displayName": "Tomasz",
      "photoUrl": "",
      "userId": "05358483110003930735"
     },
     "user_tz": -120
    },
    "id": "wNR04d1TyxHj",
    "outputId": "08dc723d-8779-45de-dd45-0b9ba51dff28"
   },
   "outputs": [
    {
     "data": {
      "text/plain": [
       "array([[117,  52, 110],\n",
       "       [ 97,  17,  68],\n",
       "       [106,  18,  76]])"
      ]
     },
     "execution_count": 39,
     "metadata": {},
     "output_type": "execute_result"
    }
   ],
   "source": [
    "arr0.dot(arr1)  # iloczyn skalarny dwoch macierzy"
   ]
  },
  {
   "cell_type": "markdown",
   "metadata": {
    "id": "QgkJ_iYVy5xF"
   },
   "source": [
    "lub analogicznie:"
   ]
  },
  {
   "cell_type": "code",
   "execution_count": null,
   "metadata": {
    "ExecuteTime": {
     "end_time": "2024-01-20T10:37:29.605350Z",
     "start_time": "2024-01-20T10:37:29.373572Z"
    },
    "colab": {
     "base_uri": "https://localhost:8080/"
    },
    "executionInfo": {
     "elapsed": 1482,
     "status": "ok",
     "timestamp": 1617134118765,
     "user": {
      "displayName": "Tomasz",
      "photoUrl": "",
      "userId": "05358483110003930735"
     },
     "user_tz": -120
    },
    "id": "NmGveHn8y4mc",
    "outputId": "56a1a000-8d33-49b8-9029-17afd0f57898"
   },
   "outputs": [
    {
     "data": {
      "text/plain": [
       "99"
      ]
     },
     "execution_count": 40,
     "metadata": {},
     "output_type": "execute_result"
    }
   ],
   "source": [
    "arr0[0].dot(arr1[1])  # # iloczyn skalarny pierwszego wiersza macierzy 1 i drugiego wiersza macierzy 2"
   ]
  },
  {
   "cell_type": "markdown",
   "metadata": {
    "id": "XzhzwfYKzAS1"
   },
   "source": [
    "## Zadania\n",
    "\n",
    "1. Utworzyć tablicę zawierającą 50 piątek.\n",
    "2. Utworzyć tablicę o rozmiarach 5x5 z wartościami od 1 do 25.\n",
    "3. Utworzyć tablicę tablicę liczb parzystych od 10 do 50.\n",
    "4. Utworzyć macierz, w której na przekątnej znajdą się wartości równe 8, a pozostałe będą wynosiły 0.\n",
    "5. Utworzyć tablicę o rozmiarach 10x10 z wartościami zwiększającymi się o 0.01.\n",
    "6. Utworzyć przestrzeń liniową 50 wartości z zakresu 0-1.\n",
    "7. Wybrać podtablicę 12-elementową, z tablicy utworzonej w zadaniu 2, z wartościami w zakresie 12-25.\n",
    "8. Wybrać 3 pierwsze elementy z ostatniej kolumny tablicy utworzonej w zadaniu 2, a następnie ułożyć z nich kolumnę.\n",
    "9. Wyznaczyć sumę wartości elementów znajdujących się w dwóch ostatnich wierszach macierzy utworzonej w zadaniu 2.\n",
    "10. Przygotować skrypt, który stworzy tensor zawierający losowe wartości całkowite, losowym wymiarze i losowym rozmiarze każdego z wymiarów.\n",
    "11. Przygotować macierz, która w każdym wierszu będzie zawierała wartości od 1 do 5. Uwaga, nie używać w tym celu gotowych list do utworzenia macierzy.\n",
    "12. Utworzyć wektor 10-elementowy składający się z wartości losowych, a następnie wstawić 0 w miejsce wartości najmniejszej.\n",
    "13. Napisać skrypt, który w losowym wektorze Z znajdzie najbliższą wartość losowego skalara v.\n",
    "14. Wygenerować losową macierz M o rozmiarach 5x8, a następnie zamienić kolejnością 2 losowo wskazane wiersze.\n",
    "15. Wygenerować macierz o rozmiarach 5x5 wypełnioną dowolnymi kolejnymi wartościami, a następnie przetransformować macierz do postaci wektora kolumnowego zachowując wszystkie wartości."
   ]
  }
 ],
 "metadata": {
  "colab": {
   "authorship_tag": "ABX9TyPGuqgH1iL+a3IPZ8e+mU1V",
   "collapsed_sections": [],
   "name": "lab_6.ipynb",
   "provenance": []
  },
  "kernelspec": {
   "display_name": "Python 3 (ipykernel)",
   "language": "python",
   "name": "python3"
  },
  "language_info": {
   "codemirror_mode": {
    "name": "ipython",
    "version": 3
   },
   "file_extension": ".py",
   "mimetype": "text/x-python",
   "name": "python",
   "nbconvert_exporter": "python",
   "pygments_lexer": "ipython3",
   "version": "3.10.13"
  }
 },
 "nbformat": 4,
 "nbformat_minor": 0
}
