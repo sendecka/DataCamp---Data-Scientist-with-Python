{
 "cells": [
  {
   "cell_type": "markdown",
   "metadata": {},
   "source": [
    "## Zadanie 1."
   ]
  },
  {
   "cell_type": "markdown",
   "metadata": {},
   "source": [
    "Stwórz klasę Time zajmującą się obsługą czasu. Dodaj w niej dwa pola (zmienna)\n",
    "o nazwie hour i minute do przechowywania godzin i minut. W klasie dodaj następujące\n",
    "metody:\n",
    "\n",
    "• funkcja, która zwraca wartość logiczną sprawdzającą czy zawartość pól może być poprawną godziną w formacie 24-godzinnym\n",
    "\n",
    "• funkcja, która odpowiada za dodawanie dwóch obiektów typu Time. W środku należy\n",
    "dodać godziny do godzin, minuty do minuty. Jeśli minuty są większe lub równe niż 60,\n",
    "to należy odpowiednie zwiększyć pole godzin i pomniejszyć o 60 minuty. Jeśli godziny\n",
    "są większe lub równe niż 24, to należy od godzin odjąć 24. Funkcja ma zwrócić obiekt\n",
    "typu Time przechowujący “sumę”.\n",
    "\n",
    "• dodaj odpowiednią metodę, która odpowiada za sortowanie obiektów typu Time (wg\n",
    "dowolnego wybranego przez siebie klucza)\n",
    "\n",
    "Następnie stwórz co najmniej 3 obiekty i wywołaj na nich każdą z funkcji co najmniej 1 raz."
   ]
  },
  {
   "cell_type": "code",
   "execution_count": 3,
   "metadata": {},
   "outputs": [
    {
     "name": "stdout",
     "output_type": "stream",
     "text": [
      "Czy time1 to poprawna godzina? True\n",
      "Suma czasów time1 i time2 to: 1:15\n",
      "Sortowanie według godzin:\n",
      "10:30\n",
      "14:45\n",
      "23:15\n"
     ]
    }
   ],
   "source": [
    "class Time:\n",
    "    def __init__(self, hour, minute):\n",
    "        self.hour = hour\n",
    "        self.minute = minute\n",
    "\n",
    "    def is_valid_time(self):\n",
    "        return 0 <= self.hour < 24 and 0 <= self.minute < 60\n",
    "    \n",
    "    def add_time(self, other_time):\n",
    "        total_minutes = self.minute + other_time.minute\n",
    "        carry_over_hours = total_minutes // 60\n",
    "        new_minute = total_minutes % 60\n",
    "\n",
    "        new_hour = self.hour + other_time.hour + carry_over_hours\n",
    "        new_hour = new_hour % 24\n",
    "\n",
    "        return Time(new_hour, new_minute)\n",
    "    \n",
    "    def sort_by_hour(time_obj):\n",
    "        return time_obj.hour\n",
    "    \n",
    "# 3 obiekty\n",
    "time1 = Time(10, 30)\n",
    "time2 = Time(14, 45)\n",
    "time3 = Time(23, 15)\n",
    "\n",
    "print(f'Czy time1 to poprawna godzina? {time1.is_valid_time()}')\n",
    "\n",
    "# Wywołanie funkcji dodającej czasy\n",
    "sum_time = time1.add_time(time2)\n",
    "print(f'Suma czasów time1 i time2 to: {sum_time.hour}:{sum_time.minute}')\n",
    "\n",
    "# Lista obiektów Time do sortowania\n",
    "times = [time1, time2, time3]\n",
    "\n",
    "# Sortowanie obiektów Time według godzin (rosnąco)\n",
    "sorted_by_hour = sorted(times, key=lambda x: x.hour)\n",
    "print(\"Sortowanie według godzin:\")\n",
    "for t in sorted_by_hour:\n",
    "    print(f'{t.hour}:{t.minute}')"
   ]
  },
  {
   "cell_type": "markdown",
   "metadata": {},
   "source": [
    "## Zadanie 2"
   ]
  },
  {
   "cell_type": "markdown",
   "metadata": {},
   "source": [
    "Stwórz klasę Movie z polami przechowującymi tytuł, rok oraz ocenę filmu. Dodaj\n",
    "w klasie konstruktor (metodę __init__) ustawiającą wszystkie pola tej klasy.\n",
    "Następnie stwórz listę zawierającą co najmniej 10 obiektów tego typu. Posortuj listę wg różnych\n",
    "klucz na co najmniej 5 różnych sposobów. W komentarzach umieść informację o zasadach\n",
    "sortowania."
   ]
  },
  {
   "cell_type": "code",
   "execution_count": 6,
   "metadata": {},
   "outputs": [
    {
     "name": "stdout",
     "output_type": "stream",
     "text": [
      "Sortowanie według tytułu:\n",
      "Fight Club (1999) - Ocena: 8.8\n",
      "Forrest Gump (1994) - Ocena: 8.8\n",
      "Gladiator (2000) - Ocena: 8.5\n",
      "Inception (2010) - Ocena: 8.8\n",
      "Interstellar (2014) - Ocena: 8.6\n",
      "Pulp Fiction (1994) - Ocena: 8.9\n",
      "Schindler's List (1993) - Ocena: 8.9\n",
      "The Dark Knight (2008) - Ocena: 9.0\n",
      "The Matrix (1999) - Ocena: 8.7\n",
      "The Shawshank Redemption (1994) - Ocena: 9.3\n"
     ]
    }
   ],
   "source": [
    "class Movie:\n",
    "    def __init__(self, title, year, rating):\n",
    "        self.title = title\n",
    "        self.year = year\n",
    "        self.rating = rating\n",
    "\n",
    "# Tworzenie listy z co najmniej 10 obiektami typu Movie\n",
    "movies = [\n",
    "    Movie(\"Inception\", 2010, 8.8),\n",
    "    Movie(\"The Dark Knight\", 2008, 9.0),\n",
    "    Movie(\"Pulp Fiction\", 1994, 8.9),\n",
    "    Movie(\"Interstellar\", 2014, 8.6),\n",
    "    Movie(\"The Shawshank Redemption\", 1994, 9.3),\n",
    "    Movie(\"Fight Club\", 1999, 8.8),\n",
    "    Movie(\"Forrest Gump\", 1994, 8.8),\n",
    "    Movie(\"The Matrix\", 1999, 8.7),\n",
    "    Movie(\"Schindler's List\", 1993, 8.9),\n",
    "    Movie(\"Gladiator\", 2000, 8.5)\n",
    "]\n",
    "\n",
    "# Sortowanie wg tytułu filmu (rosnąco)\n",
    "sorted_by_title = sorted(movies, key=lambda x: x.title)\n",
    "print(\"Sortowanie według tytułu:\")\n",
    "for movie in sorted_by_title:\n",
    "    print(f'{movie.title} ({movie.year}) - Ocena: {movie.rating}')\n",
    "\n"
   ]
  },
  {
   "cell_type": "code",
   "execution_count": 7,
   "metadata": {},
   "outputs": [
    {
     "name": "stdout",
     "output_type": "stream",
     "text": [
      "\n",
      "Sortowanie według roku premiery:\n",
      "Schindler's List (1993) - Ocena: 8.9\n",
      "Pulp Fiction (1994) - Ocena: 8.9\n",
      "The Shawshank Redemption (1994) - Ocena: 9.3\n",
      "Forrest Gump (1994) - Ocena: 8.8\n",
      "Fight Club (1999) - Ocena: 8.8\n",
      "The Matrix (1999) - Ocena: 8.7\n",
      "Gladiator (2000) - Ocena: 8.5\n",
      "The Dark Knight (2008) - Ocena: 9.0\n",
      "Inception (2010) - Ocena: 8.8\n",
      "Interstellar (2014) - Ocena: 8.6\n"
     ]
    }
   ],
   "source": [
    "# Sortowanie wg roku premiery (rosnąco)\n",
    "sorted_by_year = sorted(movies, key=lambda x: x.year)\n",
    "print(\"\\nSortowanie według roku premiery:\")\n",
    "for movie in sorted_by_year:\n",
    "    print(f'{movie.title} ({movie.year}) - Ocena: {movie.rating}')"
   ]
  },
  {
   "cell_type": "code",
   "execution_count": 8,
   "metadata": {},
   "outputs": [
    {
     "name": "stdout",
     "output_type": "stream",
     "text": [
      "\n",
      "Sortowanie według oceny malejąco:\n",
      "The Shawshank Redemption (1994) - Ocena: 9.3\n",
      "The Dark Knight (2008) - Ocena: 9.0\n",
      "Pulp Fiction (1994) - Ocena: 8.9\n",
      "Schindler's List (1993) - Ocena: 8.9\n",
      "Inception (2010) - Ocena: 8.8\n",
      "Fight Club (1999) - Ocena: 8.8\n",
      "Forrest Gump (1994) - Ocena: 8.8\n",
      "The Matrix (1999) - Ocena: 8.7\n",
      "Interstellar (2014) - Ocena: 8.6\n",
      "Gladiator (2000) - Ocena: 8.5\n"
     ]
    }
   ],
   "source": [
    "# Sortowanie wg oceny filmu (malejąco)\n",
    "sorted_by_rating_desc = sorted(movies, key=lambda x: x.rating, reverse=True)\n",
    "print(\"\\nSortowanie według oceny malejąco:\")\n",
    "for movie in sorted_by_rating_desc:\n",
    "    print(f'{movie.title} ({movie.year}) - Ocena: {movie.rating}')"
   ]
  },
  {
   "cell_type": "code",
   "execution_count": 9,
   "metadata": {},
   "outputs": [
    {
     "name": "stdout",
     "output_type": "stream",
     "text": [
      "\n",
      "Sortowanie według roku premiery, a następnie oceny:\n",
      "Schindler's List (1993) - Ocena: 8.9\n",
      "Forrest Gump (1994) - Ocena: 8.8\n",
      "Pulp Fiction (1994) - Ocena: 8.9\n",
      "The Shawshank Redemption (1994) - Ocena: 9.3\n",
      "The Matrix (1999) - Ocena: 8.7\n",
      "Fight Club (1999) - Ocena: 8.8\n",
      "Gladiator (2000) - Ocena: 8.5\n",
      "The Dark Knight (2008) - Ocena: 9.0\n",
      "Inception (2010) - Ocena: 8.8\n",
      "Interstellar (2014) - Ocena: 8.6\n"
     ]
    }
   ],
   "source": [
    "# Sortowanie wg roku premiery, a następnie wg oceny (rosnąco)\n",
    "sorted_by_year_then_rating = sorted(movies, key=lambda x: (x.year, x.rating))\n",
    "print(\"\\nSortowanie według roku premiery, a następnie oceny:\")\n",
    "for movie in sorted_by_year_then_rating:\n",
    "    print(f'{movie.title} ({movie.year}) - Ocena: {movie.rating}')"
   ]
  },
  {
   "cell_type": "code",
   "execution_count": 10,
   "metadata": {},
   "outputs": [
    {
     "name": "stdout",
     "output_type": "stream",
     "text": [
      "\n",
      "Sortowanie według oceny malejąco, a następnie roku premiery malejąco:\n",
      "The Shawshank Redemption (1994) - Ocena: 9.3\n",
      "The Dark Knight (2008) - Ocena: 9.0\n",
      "Pulp Fiction (1994) - Ocena: 8.9\n",
      "Schindler's List (1993) - Ocena: 8.9\n",
      "Inception (2010) - Ocena: 8.8\n",
      "Fight Club (1999) - Ocena: 8.8\n",
      "Forrest Gump (1994) - Ocena: 8.8\n",
      "The Matrix (1999) - Ocena: 8.7\n",
      "Interstellar (2014) - Ocena: 8.6\n",
      "Gladiator (2000) - Ocena: 8.5\n"
     ]
    }
   ],
   "source": [
    "# Sortowanie wg oceny, a następnie wg roku premiery (malejąco)\n",
    "sorted_by_rating_then_year_desc = sorted(movies, key=lambda x: (x.rating, x.year), reverse=True)\n",
    "print(\"\\nSortowanie według oceny malejąco, a następnie roku premiery malejąco:\")\n",
    "for movie in sorted_by_rating_then_year_desc:\n",
    "    print(f'{movie.title} ({movie.year}) - Ocena: {movie.rating}')"
   ]
  },
  {
   "cell_type": "markdown",
   "metadata": {},
   "source": [
    "## Zadanie 3"
   ]
  },
  {
   "cell_type": "markdown",
   "metadata": {},
   "source": [
    "Napisz klasę Vector2D, która będzie reprezentować wektor dwuwymiarowy. Klasa\n",
    "powinna zawierać metody magiczne __add__ oraz __radd__, aby umożliwić dodawanie dwóch\n",
    "wektorów 2D oraz dodawanie krotek (x, y) do wektorów."
   ]
  },
  {
   "cell_type": "code",
   "execution_count": 25,
   "metadata": {},
   "outputs": [
    {
     "name": "stdout",
     "output_type": "stream",
     "text": [
      "v1 + v2 = Vector2D(4, 6)\n",
      "v1 + (5, 6) = Vector2D(6, 8)\n",
      "(7, 8) + v1 = Vector2D(8, 10)\n"
     ]
    }
   ],
   "source": [
    "class Vector2D:\n",
    "    def __init__(self, x, y):\n",
    "        self.x = x\n",
    "        self.y = y\n",
    "\n",
    "    def __repr__(self):\n",
    "        return f'Vector2D({self.x}, {self.y})'\n",
    "\n",
    "    def __add__(self, other):\n",
    "        if isinstance(other, Vector2D):\n",
    "            # Dodawanie dwóch wektorów 2D\n",
    "            return Vector2D(self.x + other.x, self.y + other.y)\n",
    "        elif isinstance(other, tuple) and len(other) == 2:\n",
    "            # Dodawanie krotki (x, y) do wektora\n",
    "            return Vector2D(self.x + other[0], self.y + other[1])\n",
    "        else:\n",
    "            raise TypeError(\"Unsupported operand type(s) for +: 'Vector2D' and '{}'\".format(type(other)))\n",
    "\n",
    "    def __radd__(self, other):\n",
    "        # Obsługa dodawania krotki (x, y) do wektora, gdy jest używany jako drugi\n",
    "        if isinstance(other, tuple) and len(other) == 2:\n",
    "            return Vector2D(self.x + other[0], self.y + other[1])\n",
    "        else:\n",
    "            raise TypeError(\"Unsupported operand type(s) for +: '{}' and 'Vector2D'\".format(type(other)))\n",
    "\n",
    "\n",
    "# Przykład\n",
    "v1 = Vector2D(1, 2)\n",
    "v2 = Vector2D(3, 4)\n",
    "\n",
    "# Dodawanie dwóch wektorów 2D\n",
    "v3 = v1 + v2\n",
    "print(f'v1 + v2 = {v3}')\n",
    "\n",
    "# Dodawanie krotki (x, y) do wektora\n",
    "v4 = v1 + (5, 6)\n",
    "print(f'v1 + (5, 6) = {v4}')\n",
    "\n",
    "# Dodawanie wektora do krotki (x, y) - wywołanie __radd__\n",
    "v5 = (7, 8) + v1\n",
    "print(f'(7, 8) + v1 = {v5}')"
   ]
  },
  {
   "cell_type": "markdown",
   "metadata": {},
   "source": [
    "## Zadanie 4"
   ]
  },
  {
   "cell_type": "markdown",
   "metadata": {},
   "source": [
    "Napisz klasę Polynomial, która będzie reprezentować wielomian jednej zmiennej. Klasa powinna zawierać metody magiczne __add__, __radd__, __getitem__ oraz __setitem__, aby umożliwić dodawanie dwóch wielomianów, dodawanie liczby rzeczywistej do wielomianu, uzyskiwanie współczynników wielomianu oraz ustawianie wartości współczynników."
   ]
  },
  {
   "cell_type": "markdown",
   "metadata": {},
   "source": [
    "## Zadanie 5"
   ]
  },
  {
   "cell_type": "markdown",
   "metadata": {},
   "source": [
    "Napisz klasę Playlist, która będzie reprezentować listę odtwarzania utworów muzycznych. Klasa powinna zawierać metody magiczne __add__, __radd__, __getitem__ oraz __setitem__, aby umożliwić łączenie dwóch list odtwarzania, dodawanie utworu do listy\n",
    "odtwarzania, uzyskiwanie utworów z listy odtwarzania oraz ustawianie wartości utworów na liście odtwarzania."
   ]
  },
  {
   "cell_type": "markdown",
   "metadata": {},
   "source": [
    "## Zadanie 6"
   ]
  },
  {
   "cell_type": "markdown",
   "metadata": {},
   "source": [
    "Napisz klasę Car, która będzie reprezentować samochód. Klasa powinna zawierać atrybuty instancyjne make, model, year, mileage oraz price, inicjalizator, właściwości dla mileage oraz price (umożliwiające odczyt i zapis z walidacją wartości) oraz metody magiczne __str__ i __repr__. Dodatkowo, klasa powinna posiadać metody drive (aktualizującą przebieg samochodu) oraz calculate_depreciation (obliczającą spadek wartości samochodu na podstawie jego przebiegu i wieku)."
   ]
  },
  {
   "cell_type": "code",
   "execution_count": 19,
   "metadata": {},
   "outputs": [
    {
     "name": "stdout",
     "output_type": "stream",
     "text": [
      "2018 Toyota Camry\n",
      "Car(make='Toyota', model='Camry', year=2018, mileage=30000, price=20000)\n",
      "Przebieg samochodu po przejechaniu: 35000 mil\n",
      "Wartość samochodu po uwzględnieniu spadku: $10500.0\n"
     ]
    }
   ],
   "source": [
    "class Car:\n",
    "    def __init__(self, make, model, year, mileage, price):\n",
    "        self.make = make\n",
    "        self.model = model\n",
    "        self.year = year\n",
    "        self._mileage = mileage\n",
    "        self._price = price\n",
    "\n",
    "    @property\n",
    "    def mileage(self):\n",
    "        return self._mileage\n",
    "\n",
    "    @mileage.setter\n",
    "    def mileage(self, value):\n",
    "        if value >= 0:\n",
    "            self._mileage = value\n",
    "        else:\n",
    "            raise ValueError(\"Przebieg nie może być ujemny.\")\n",
    "\n",
    "    @property\n",
    "    def price(self):\n",
    "        return self._price\n",
    "\n",
    "    @price.setter\n",
    "    def price(self, value):\n",
    "        if value >= 0:\n",
    "            self._price = value\n",
    "        else:\n",
    "            raise ValueError(\"Cena nie może być ujemna.\")\n",
    "\n",
    "    def __str__(self):\n",
    "        return f'{self.year} {self.make} {self.model}'\n",
    "\n",
    "    def __repr__(self):\n",
    "        return f\"Car(make='{self.make}', model='{self.model}', year={self.year}, mileage={self.mileage}, price={self.price})\"\n",
    "\n",
    "    def drive(self, miles):\n",
    "        if miles >= 0:\n",
    "            self._mileage += miles\n",
    "        else:\n",
    "            raise ValueError(\"Liczba przejechanych mil nie może być ujemna.\")\n",
    "\n",
    "    def calculate_depreciation(self):\n",
    "        # Obliczanie spadku wartości samochodu na podstawie przebiegu i wieku\n",
    "        depreciation_per_mile = 0.1  # Przykładowa stała stawka spadku wartości za każdą milę\n",
    "        age_in_years = 2024 - self.year  # Obliczanie wieku samochodu w latach\n",
    "        depreciation = age_in_years * 1000 + self.mileage * depreciation_per_mile\n",
    "        return max(0, self.price - depreciation)  # Zwracanie wartości po odjęciu spadku\n",
    "\n",
    "# Przykład\n",
    "my_car = Car(\"Toyota\", \"Camry\", 2018, 30000, 20000)\n",
    "\n",
    "print(my_car)  # Wyświetlenie samochodu za pomocą __str__\n",
    "\n",
    "print(repr(my_car))  # Wyświetlenie reprezentacji samochodu za pomocą __repr__\n",
    "\n",
    "my_car.drive(5000)  # Aktualizacja przebiegu samochodu o 5000 mil\n",
    "print(f\"Przebieg samochodu po przejechaniu: {my_car.mileage} mil\")\n",
    "\n",
    "print(f\"Wartość samochodu po uwzględnieniu spadku: ${my_car.calculate_depreciation()}\")"
   ]
  },
  {
   "cell_type": "markdown",
   "metadata": {},
   "source": [
    "## Zadanie 7"
   ]
  },
  {
   "cell_type": "markdown",
   "metadata": {},
   "source": [
    "Napisz klasę Samochod, która będzie mieć następujące atrybuty instancyjne:\n",
    "\n",
    "• marka - marka samochodu\n",
    "• model - model samochodu\n",
    "• rok_produkcji - rok produkcji samochodu\n",
    "• przebieg - przebieg samochodu\n",
    "\n",
    "Klasa powinna mieć następujące metody:\n",
    "\n",
    "• __init__(self, marka, model, rok_produkcji, przebieg) - konstruktor, który będzie inicjalizował atrybuty marka, model, rok_produkcji i przebieg\n",
    "• __str__(self) - metoda magiczna, która będzie zwracać reprezentację napisową obiektu\n",
    "klasy Samochod\n",
    "• __lt__(self, other) - metoda magiczna, która będzie porównywać dwa samochody po\n",
    "ich przebiegu. Metoda ma zwracać True, jeśli przebieg samochodu self jest mniejszy\n",
    "niż przebieg samochodu other, a w przeciwnym wypadku False.\n"
   ]
  },
  {
   "cell_type": "code",
   "execution_count": 23,
   "metadata": {},
   "outputs": [
    {
     "name": "stdout",
     "output_type": "stream",
     "text": [
      "Samochód: Toyota Corolla (2015), przebieg: 80000 km\n",
      "Samochód: Ford Focus (2018), przebieg: 60000 km\n",
      "Samochód Ford Focus ma mniejszy przebieg.\n"
     ]
    }
   ],
   "source": [
    "class Samochod:\n",
    "    def __init__(self, marka, model, rok_produkcji, przebieg):\n",
    "        self.marka = marka\n",
    "        self.model = model\n",
    "        self.rok_produkcji = rok_produkcji\n",
    "        self.przebieg = przebieg\n",
    "\n",
    "    def __str__(self):\n",
    "        return f\"Samochód: {self.marka} {self.model} ({self.rok_produkcji}), przebieg: {self.przebieg} km\"\n",
    "\n",
    "    def __lt__(self, other):\n",
    "        return self.przebieg < other.przebieg\n",
    "\n",
    "# Przykład\n",
    "samochod1 = Samochod(\"Toyota\", \"Corolla\", 2015, 80000)\n",
    "samochod2 = Samochod(\"Ford\", \"Focus\", 2018, 60000)\n",
    "\n",
    "print(samochod1)  # Wyświetlenie informacji o samochodzie za pomocą __str__\n",
    "\n",
    "print(samochod2)  # Wyświetlenie informacji o samochodzie za pomocą __str__\n",
    "\n",
    "if samochod1 < samochod2:\n",
    "    print(f\"Samochód {samochod1.marka} {samochod1.model} ma mniejszy przebieg.\")\n",
    "else:\n",
    "    print(f\"Samochód {samochod2.marka} {samochod2.model} ma mniejszy przebieg.\")"
   ]
  }
 ],
 "metadata": {
  "kernelspec": {
   "display_name": "Python 3",
   "language": "python",
   "name": "python3"
  },
  "language_info": {
   "codemirror_mode": {
    "name": "ipython",
    "version": 3
   },
   "file_extension": ".py",
   "mimetype": "text/x-python",
   "name": "python",
   "nbconvert_exporter": "python",
   "pygments_lexer": "ipython3",
   "version": "3.10.13"
  }
 },
 "nbformat": 4,
 "nbformat_minor": 2
}
