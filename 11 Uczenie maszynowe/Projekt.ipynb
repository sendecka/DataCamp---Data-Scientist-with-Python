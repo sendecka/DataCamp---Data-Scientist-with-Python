{
 "cells": [
  {
   "cell_type": "markdown",
   "metadata": {},
   "source": [
    "# Projekt"
   ]
  },
  {
   "cell_type": "markdown",
   "metadata": {},
   "source": [
    "Udało mi się znaleźć archiwalne dane wypożyczalni filmów na DVD. Firma wypożyczająca płyty chce przewidzieć na ile dni klient będzie wypożyczać filmy. "
   ]
  },
  {
   "cell_type": "code",
   "execution_count": 41,
   "metadata": {},
   "outputs": [],
   "source": [
    "import pandas as pd\n",
    "import numpy as np\n",
    "\n",
    "from sklearn.model_selection import train_test_split\n",
    "from sklearn.metrics import mean_squared_error"
   ]
  },
  {
   "cell_type": "code",
   "execution_count": 42,
   "metadata": {},
   "outputs": [],
   "source": [
    "# Lasso\n",
    "from sklearn.linear_model import Lasso\n",
    "from sklearn.model_selection import train_test_split\n",
    "from sklearn.preprocessing import StandardScaler"
   ]
  },
  {
   "cell_type": "code",
   "execution_count": 43,
   "metadata": {},
   "outputs": [],
   "source": [
    "# OLS\n",
    "from sklearn.linear_model import LinearRegression\n",
    "from sklearn.metrics import mean_squared_error"
   ]
  },
  {
   "cell_type": "code",
   "execution_count": 44,
   "metadata": {},
   "outputs": [],
   "source": [
    "# Random forest\n",
    "from sklearn.ensemble import RandomForestRegressor\n",
    "from sklearn.model_selection import RandomizedSearchCV"
   ]
  },
  {
   "cell_type": "markdown",
   "metadata": {},
   "source": [
    "## 1. Wczytanie danych"
   ]
  },
  {
   "cell_type": "code",
   "execution_count": 45,
   "metadata": {},
   "outputs": [
    {
     "name": "stdout",
     "output_type": "stream",
     "text": [
      "<class 'pandas.core.frame.DataFrame'>\n",
      "RangeIndex: 15861 entries, 0 to 15860\n",
      "Data columns (total 15 columns):\n",
      " #   Column            Non-Null Count  Dtype  \n",
      "---  ------            --------------  -----  \n",
      " 0   rental_date       15861 non-null  object \n",
      " 1   return_date       15861 non-null  object \n",
      " 2   amount            15861 non-null  float64\n",
      " 3   release_year      15861 non-null  float64\n",
      " 4   rental_rate       15861 non-null  float64\n",
      " 5   length            15861 non-null  float64\n",
      " 6   replacement_cost  15861 non-null  float64\n",
      " 7   special_features  15861 non-null  object \n",
      " 8   NC-17             15861 non-null  int64  \n",
      " 9   PG                15861 non-null  int64  \n",
      " 10  PG-13             15861 non-null  int64  \n",
      " 11  R                 15861 non-null  int64  \n",
      " 12  amount_2          15861 non-null  float64\n",
      " 13  length_2          15861 non-null  float64\n",
      " 14  rental_rate_2     15861 non-null  float64\n",
      "dtypes: float64(8), int64(4), object(3)\n",
      "memory usage: 1.8+ MB\n"
     ]
    }
   ],
   "source": [
    "df_rental = pd.read_csv(\"rental_info.csv\")\n",
    "df_rental.info()"
   ]
  },
  {
   "cell_type": "code",
   "execution_count": 46,
   "metadata": {},
   "outputs": [
    {
     "data": {
      "text/html": [
       "<div>\n",
       "<style scoped>\n",
       "    .dataframe tbody tr th:only-of-type {\n",
       "        vertical-align: middle;\n",
       "    }\n",
       "\n",
       "    .dataframe tbody tr th {\n",
       "        vertical-align: top;\n",
       "    }\n",
       "\n",
       "    .dataframe thead th {\n",
       "        text-align: right;\n",
       "    }\n",
       "</style>\n",
       "<table border=\"1\" class=\"dataframe\">\n",
       "  <thead>\n",
       "    <tr style=\"text-align: right;\">\n",
       "      <th></th>\n",
       "      <th>rental_date</th>\n",
       "      <th>return_date</th>\n",
       "      <th>amount</th>\n",
       "      <th>release_year</th>\n",
       "      <th>rental_rate</th>\n",
       "      <th>length</th>\n",
       "      <th>replacement_cost</th>\n",
       "      <th>special_features</th>\n",
       "      <th>NC-17</th>\n",
       "      <th>PG</th>\n",
       "      <th>PG-13</th>\n",
       "      <th>R</th>\n",
       "      <th>amount_2</th>\n",
       "      <th>length_2</th>\n",
       "      <th>rental_rate_2</th>\n",
       "    </tr>\n",
       "  </thead>\n",
       "  <tbody>\n",
       "    <tr>\n",
       "      <th>0</th>\n",
       "      <td>2005-05-25 02:54:33+00:00</td>\n",
       "      <td>2005-05-28 23:40:33+00:00</td>\n",
       "      <td>2.99</td>\n",
       "      <td>2005.0</td>\n",
       "      <td>2.99</td>\n",
       "      <td>126.0</td>\n",
       "      <td>16.99</td>\n",
       "      <td>{Trailers,\"Behind the Scenes\"}</td>\n",
       "      <td>0</td>\n",
       "      <td>0</td>\n",
       "      <td>0</td>\n",
       "      <td>1</td>\n",
       "      <td>8.9401</td>\n",
       "      <td>15876.0</td>\n",
       "      <td>8.9401</td>\n",
       "    </tr>\n",
       "    <tr>\n",
       "      <th>1</th>\n",
       "      <td>2005-06-15 23:19:16+00:00</td>\n",
       "      <td>2005-06-18 19:24:16+00:00</td>\n",
       "      <td>2.99</td>\n",
       "      <td>2005.0</td>\n",
       "      <td>2.99</td>\n",
       "      <td>126.0</td>\n",
       "      <td>16.99</td>\n",
       "      <td>{Trailers,\"Behind the Scenes\"}</td>\n",
       "      <td>0</td>\n",
       "      <td>0</td>\n",
       "      <td>0</td>\n",
       "      <td>1</td>\n",
       "      <td>8.9401</td>\n",
       "      <td>15876.0</td>\n",
       "      <td>8.9401</td>\n",
       "    </tr>\n",
       "    <tr>\n",
       "      <th>2</th>\n",
       "      <td>2005-07-10 04:27:45+00:00</td>\n",
       "      <td>2005-07-17 10:11:45+00:00</td>\n",
       "      <td>2.99</td>\n",
       "      <td>2005.0</td>\n",
       "      <td>2.99</td>\n",
       "      <td>126.0</td>\n",
       "      <td>16.99</td>\n",
       "      <td>{Trailers,\"Behind the Scenes\"}</td>\n",
       "      <td>0</td>\n",
       "      <td>0</td>\n",
       "      <td>0</td>\n",
       "      <td>1</td>\n",
       "      <td>8.9401</td>\n",
       "      <td>15876.0</td>\n",
       "      <td>8.9401</td>\n",
       "    </tr>\n",
       "    <tr>\n",
       "      <th>3</th>\n",
       "      <td>2005-07-31 12:06:41+00:00</td>\n",
       "      <td>2005-08-02 14:30:41+00:00</td>\n",
       "      <td>2.99</td>\n",
       "      <td>2005.0</td>\n",
       "      <td>2.99</td>\n",
       "      <td>126.0</td>\n",
       "      <td>16.99</td>\n",
       "      <td>{Trailers,\"Behind the Scenes\"}</td>\n",
       "      <td>0</td>\n",
       "      <td>0</td>\n",
       "      <td>0</td>\n",
       "      <td>1</td>\n",
       "      <td>8.9401</td>\n",
       "      <td>15876.0</td>\n",
       "      <td>8.9401</td>\n",
       "    </tr>\n",
       "    <tr>\n",
       "      <th>4</th>\n",
       "      <td>2005-08-19 12:30:04+00:00</td>\n",
       "      <td>2005-08-23 13:35:04+00:00</td>\n",
       "      <td>2.99</td>\n",
       "      <td>2005.0</td>\n",
       "      <td>2.99</td>\n",
       "      <td>126.0</td>\n",
       "      <td>16.99</td>\n",
       "      <td>{Trailers,\"Behind the Scenes\"}</td>\n",
       "      <td>0</td>\n",
       "      <td>0</td>\n",
       "      <td>0</td>\n",
       "      <td>1</td>\n",
       "      <td>8.9401</td>\n",
       "      <td>15876.0</td>\n",
       "      <td>8.9401</td>\n",
       "    </tr>\n",
       "  </tbody>\n",
       "</table>\n",
       "</div>"
      ],
      "text/plain": [
       "                 rental_date                return_date  amount  release_year  \\\n",
       "0  2005-05-25 02:54:33+00:00  2005-05-28 23:40:33+00:00    2.99        2005.0   \n",
       "1  2005-06-15 23:19:16+00:00  2005-06-18 19:24:16+00:00    2.99        2005.0   \n",
       "2  2005-07-10 04:27:45+00:00  2005-07-17 10:11:45+00:00    2.99        2005.0   \n",
       "3  2005-07-31 12:06:41+00:00  2005-08-02 14:30:41+00:00    2.99        2005.0   \n",
       "4  2005-08-19 12:30:04+00:00  2005-08-23 13:35:04+00:00    2.99        2005.0   \n",
       "\n",
       "   rental_rate  length  replacement_cost                special_features  \\\n",
       "0         2.99   126.0             16.99  {Trailers,\"Behind the Scenes\"}   \n",
       "1         2.99   126.0             16.99  {Trailers,\"Behind the Scenes\"}   \n",
       "2         2.99   126.0             16.99  {Trailers,\"Behind the Scenes\"}   \n",
       "3         2.99   126.0             16.99  {Trailers,\"Behind the Scenes\"}   \n",
       "4         2.99   126.0             16.99  {Trailers,\"Behind the Scenes\"}   \n",
       "\n",
       "   NC-17  PG  PG-13  R  amount_2  length_2  rental_rate_2  \n",
       "0      0   0      0  1    8.9401   15876.0         8.9401  \n",
       "1      0   0      0  1    8.9401   15876.0         8.9401  \n",
       "2      0   0      0  1    8.9401   15876.0         8.9401  \n",
       "3      0   0      0  1    8.9401   15876.0         8.9401  \n",
       "4      0   0      0  1    8.9401   15876.0         8.9401  "
      ]
     },
     "execution_count": 46,
     "metadata": {},
     "output_type": "execute_result"
    }
   ],
   "source": [
    "df_rental.head()"
   ]
  },
  {
   "cell_type": "markdown",
   "metadata": {},
   "source": [
    "## 2. Przetwarzanie danych"
   ]
  },
  {
   "cell_type": "markdown",
   "metadata": {},
   "source": [
    "Kolumny 'rental_date' oznaczająca dzień wynajmu, oraz 'return_date' oznaczająca datę zwrotu obie mają dtype object. Przekonwertuję je do formatu datetime. Następnię stworzę nową kolumnę 'rental_length' w której zapiszę różnicę daty. Zaaokrąglę róznicę do pełnych dni, aby uzyskać ilość dni wynajmu płyty DVD."
   ]
  },
  {
   "cell_type": "code",
   "execution_count": 47,
   "metadata": {},
   "outputs": [
    {
     "data": {
      "text/html": [
       "<div>\n",
       "<style scoped>\n",
       "    .dataframe tbody tr th:only-of-type {\n",
       "        vertical-align: middle;\n",
       "    }\n",
       "\n",
       "    .dataframe tbody tr th {\n",
       "        vertical-align: top;\n",
       "    }\n",
       "\n",
       "    .dataframe thead th {\n",
       "        text-align: right;\n",
       "    }\n",
       "</style>\n",
       "<table border=\"1\" class=\"dataframe\">\n",
       "  <thead>\n",
       "    <tr style=\"text-align: right;\">\n",
       "      <th></th>\n",
       "      <th>rental_date</th>\n",
       "      <th>return_date</th>\n",
       "      <th>amount</th>\n",
       "      <th>release_year</th>\n",
       "      <th>rental_rate</th>\n",
       "      <th>length</th>\n",
       "      <th>replacement_cost</th>\n",
       "      <th>special_features</th>\n",
       "      <th>NC-17</th>\n",
       "      <th>PG</th>\n",
       "      <th>PG-13</th>\n",
       "      <th>R</th>\n",
       "      <th>amount_2</th>\n",
       "      <th>length_2</th>\n",
       "      <th>rental_rate_2</th>\n",
       "      <th>rental_length</th>\n",
       "      <th>rental_length_days</th>\n",
       "    </tr>\n",
       "  </thead>\n",
       "  <tbody>\n",
       "    <tr>\n",
       "      <th>0</th>\n",
       "      <td>2005-05-25 02:54:33+00:00</td>\n",
       "      <td>2005-05-28 23:40:33+00:00</td>\n",
       "      <td>2.99</td>\n",
       "      <td>2005.0</td>\n",
       "      <td>2.99</td>\n",
       "      <td>126.0</td>\n",
       "      <td>16.99</td>\n",
       "      <td>{Trailers,\"Behind the Scenes\"}</td>\n",
       "      <td>0</td>\n",
       "      <td>0</td>\n",
       "      <td>0</td>\n",
       "      <td>1</td>\n",
       "      <td>8.9401</td>\n",
       "      <td>15876.0</td>\n",
       "      <td>8.9401</td>\n",
       "      <td>3 days 20:46:00</td>\n",
       "      <td>3</td>\n",
       "    </tr>\n",
       "    <tr>\n",
       "      <th>1</th>\n",
       "      <td>2005-06-15 23:19:16+00:00</td>\n",
       "      <td>2005-06-18 19:24:16+00:00</td>\n",
       "      <td>2.99</td>\n",
       "      <td>2005.0</td>\n",
       "      <td>2.99</td>\n",
       "      <td>126.0</td>\n",
       "      <td>16.99</td>\n",
       "      <td>{Trailers,\"Behind the Scenes\"}</td>\n",
       "      <td>0</td>\n",
       "      <td>0</td>\n",
       "      <td>0</td>\n",
       "      <td>1</td>\n",
       "      <td>8.9401</td>\n",
       "      <td>15876.0</td>\n",
       "      <td>8.9401</td>\n",
       "      <td>2 days 20:05:00</td>\n",
       "      <td>2</td>\n",
       "    </tr>\n",
       "    <tr>\n",
       "      <th>2</th>\n",
       "      <td>2005-07-10 04:27:45+00:00</td>\n",
       "      <td>2005-07-17 10:11:45+00:00</td>\n",
       "      <td>2.99</td>\n",
       "      <td>2005.0</td>\n",
       "      <td>2.99</td>\n",
       "      <td>126.0</td>\n",
       "      <td>16.99</td>\n",
       "      <td>{Trailers,\"Behind the Scenes\"}</td>\n",
       "      <td>0</td>\n",
       "      <td>0</td>\n",
       "      <td>0</td>\n",
       "      <td>1</td>\n",
       "      <td>8.9401</td>\n",
       "      <td>15876.0</td>\n",
       "      <td>8.9401</td>\n",
       "      <td>7 days 05:44:00</td>\n",
       "      <td>7</td>\n",
       "    </tr>\n",
       "    <tr>\n",
       "      <th>3</th>\n",
       "      <td>2005-07-31 12:06:41+00:00</td>\n",
       "      <td>2005-08-02 14:30:41+00:00</td>\n",
       "      <td>2.99</td>\n",
       "      <td>2005.0</td>\n",
       "      <td>2.99</td>\n",
       "      <td>126.0</td>\n",
       "      <td>16.99</td>\n",
       "      <td>{Trailers,\"Behind the Scenes\"}</td>\n",
       "      <td>0</td>\n",
       "      <td>0</td>\n",
       "      <td>0</td>\n",
       "      <td>1</td>\n",
       "      <td>8.9401</td>\n",
       "      <td>15876.0</td>\n",
       "      <td>8.9401</td>\n",
       "      <td>2 days 02:24:00</td>\n",
       "      <td>2</td>\n",
       "    </tr>\n",
       "    <tr>\n",
       "      <th>4</th>\n",
       "      <td>2005-08-19 12:30:04+00:00</td>\n",
       "      <td>2005-08-23 13:35:04+00:00</td>\n",
       "      <td>2.99</td>\n",
       "      <td>2005.0</td>\n",
       "      <td>2.99</td>\n",
       "      <td>126.0</td>\n",
       "      <td>16.99</td>\n",
       "      <td>{Trailers,\"Behind the Scenes\"}</td>\n",
       "      <td>0</td>\n",
       "      <td>0</td>\n",
       "      <td>0</td>\n",
       "      <td>1</td>\n",
       "      <td>8.9401</td>\n",
       "      <td>15876.0</td>\n",
       "      <td>8.9401</td>\n",
       "      <td>4 days 01:05:00</td>\n",
       "      <td>4</td>\n",
       "    </tr>\n",
       "  </tbody>\n",
       "</table>\n",
       "</div>"
      ],
      "text/plain": [
       "                 rental_date                return_date  amount  release_year  \\\n",
       "0  2005-05-25 02:54:33+00:00  2005-05-28 23:40:33+00:00    2.99        2005.0   \n",
       "1  2005-06-15 23:19:16+00:00  2005-06-18 19:24:16+00:00    2.99        2005.0   \n",
       "2  2005-07-10 04:27:45+00:00  2005-07-17 10:11:45+00:00    2.99        2005.0   \n",
       "3  2005-07-31 12:06:41+00:00  2005-08-02 14:30:41+00:00    2.99        2005.0   \n",
       "4  2005-08-19 12:30:04+00:00  2005-08-23 13:35:04+00:00    2.99        2005.0   \n",
       "\n",
       "   rental_rate  length  replacement_cost                special_features  \\\n",
       "0         2.99   126.0             16.99  {Trailers,\"Behind the Scenes\"}   \n",
       "1         2.99   126.0             16.99  {Trailers,\"Behind the Scenes\"}   \n",
       "2         2.99   126.0             16.99  {Trailers,\"Behind the Scenes\"}   \n",
       "3         2.99   126.0             16.99  {Trailers,\"Behind the Scenes\"}   \n",
       "4         2.99   126.0             16.99  {Trailers,\"Behind the Scenes\"}   \n",
       "\n",
       "   NC-17  PG  PG-13  R  amount_2  length_2  rental_rate_2   rental_length  \\\n",
       "0      0   0      0  1    8.9401   15876.0         8.9401 3 days 20:46:00   \n",
       "1      0   0      0  1    8.9401   15876.0         8.9401 2 days 20:05:00   \n",
       "2      0   0      0  1    8.9401   15876.0         8.9401 7 days 05:44:00   \n",
       "3      0   0      0  1    8.9401   15876.0         8.9401 2 days 02:24:00   \n",
       "4      0   0      0  1    8.9401   15876.0         8.9401 4 days 01:05:00   \n",
       "\n",
       "   rental_length_days  \n",
       "0                   3  \n",
       "1                   2  \n",
       "2                   7  \n",
       "3                   2  \n",
       "4                   4  "
      ]
     },
     "execution_count": 47,
     "metadata": {},
     "output_type": "execute_result"
    }
   ],
   "source": [
    "# 2.1. Obliczanie długości wypożyczenia\n",
    "df_rental[\"rental_length\"] = pd.to_datetime(df_rental[\"return_date\"]) - pd.to_datetime(df_rental[\"rental_date\"])\n",
    "df_rental[\"rental_length_days\"] = df_rental[\"rental_length\"].dt.days\n",
    "df_rental.head()"
   ]
  },
  {
   "cell_type": "code",
   "execution_count": 48,
   "metadata": {},
   "outputs": [
    {
     "data": {
      "text/html": [
       "<div>\n",
       "<style scoped>\n",
       "    .dataframe tbody tr th:only-of-type {\n",
       "        vertical-align: middle;\n",
       "    }\n",
       "\n",
       "    .dataframe tbody tr th {\n",
       "        vertical-align: top;\n",
       "    }\n",
       "\n",
       "    .dataframe thead th {\n",
       "        text-align: right;\n",
       "    }\n",
       "</style>\n",
       "<table border=\"1\" class=\"dataframe\">\n",
       "  <thead>\n",
       "    <tr style=\"text-align: right;\">\n",
       "      <th></th>\n",
       "      <th>rental_date</th>\n",
       "      <th>return_date</th>\n",
       "      <th>amount</th>\n",
       "      <th>release_year</th>\n",
       "      <th>rental_rate</th>\n",
       "      <th>length</th>\n",
       "      <th>replacement_cost</th>\n",
       "      <th>special_features</th>\n",
       "      <th>NC-17</th>\n",
       "      <th>PG</th>\n",
       "      <th>PG-13</th>\n",
       "      <th>R</th>\n",
       "      <th>amount_2</th>\n",
       "      <th>length_2</th>\n",
       "      <th>rental_rate_2</th>\n",
       "      <th>rental_length</th>\n",
       "      <th>rental_length_days</th>\n",
       "      <th>deleted_scenes</th>\n",
       "      <th>behind_the_scenes</th>\n",
       "    </tr>\n",
       "  </thead>\n",
       "  <tbody>\n",
       "    <tr>\n",
       "      <th>0</th>\n",
       "      <td>2005-05-25 02:54:33+00:00</td>\n",
       "      <td>2005-05-28 23:40:33+00:00</td>\n",
       "      <td>2.99</td>\n",
       "      <td>2005.0</td>\n",
       "      <td>2.99</td>\n",
       "      <td>126.0</td>\n",
       "      <td>16.99</td>\n",
       "      <td>{Trailers,\"Behind the Scenes\"}</td>\n",
       "      <td>0</td>\n",
       "      <td>0</td>\n",
       "      <td>0</td>\n",
       "      <td>1</td>\n",
       "      <td>8.9401</td>\n",
       "      <td>15876.0</td>\n",
       "      <td>8.9401</td>\n",
       "      <td>3 days 20:46:00</td>\n",
       "      <td>3</td>\n",
       "      <td>0</td>\n",
       "      <td>1</td>\n",
       "    </tr>\n",
       "    <tr>\n",
       "      <th>1</th>\n",
       "      <td>2005-06-15 23:19:16+00:00</td>\n",
       "      <td>2005-06-18 19:24:16+00:00</td>\n",
       "      <td>2.99</td>\n",
       "      <td>2005.0</td>\n",
       "      <td>2.99</td>\n",
       "      <td>126.0</td>\n",
       "      <td>16.99</td>\n",
       "      <td>{Trailers,\"Behind the Scenes\"}</td>\n",
       "      <td>0</td>\n",
       "      <td>0</td>\n",
       "      <td>0</td>\n",
       "      <td>1</td>\n",
       "      <td>8.9401</td>\n",
       "      <td>15876.0</td>\n",
       "      <td>8.9401</td>\n",
       "      <td>2 days 20:05:00</td>\n",
       "      <td>2</td>\n",
       "      <td>0</td>\n",
       "      <td>1</td>\n",
       "    </tr>\n",
       "    <tr>\n",
       "      <th>2</th>\n",
       "      <td>2005-07-10 04:27:45+00:00</td>\n",
       "      <td>2005-07-17 10:11:45+00:00</td>\n",
       "      <td>2.99</td>\n",
       "      <td>2005.0</td>\n",
       "      <td>2.99</td>\n",
       "      <td>126.0</td>\n",
       "      <td>16.99</td>\n",
       "      <td>{Trailers,\"Behind the Scenes\"}</td>\n",
       "      <td>0</td>\n",
       "      <td>0</td>\n",
       "      <td>0</td>\n",
       "      <td>1</td>\n",
       "      <td>8.9401</td>\n",
       "      <td>15876.0</td>\n",
       "      <td>8.9401</td>\n",
       "      <td>7 days 05:44:00</td>\n",
       "      <td>7</td>\n",
       "      <td>0</td>\n",
       "      <td>1</td>\n",
       "    </tr>\n",
       "    <tr>\n",
       "      <th>3</th>\n",
       "      <td>2005-07-31 12:06:41+00:00</td>\n",
       "      <td>2005-08-02 14:30:41+00:00</td>\n",
       "      <td>2.99</td>\n",
       "      <td>2005.0</td>\n",
       "      <td>2.99</td>\n",
       "      <td>126.0</td>\n",
       "      <td>16.99</td>\n",
       "      <td>{Trailers,\"Behind the Scenes\"}</td>\n",
       "      <td>0</td>\n",
       "      <td>0</td>\n",
       "      <td>0</td>\n",
       "      <td>1</td>\n",
       "      <td>8.9401</td>\n",
       "      <td>15876.0</td>\n",
       "      <td>8.9401</td>\n",
       "      <td>2 days 02:24:00</td>\n",
       "      <td>2</td>\n",
       "      <td>0</td>\n",
       "      <td>1</td>\n",
       "    </tr>\n",
       "    <tr>\n",
       "      <th>4</th>\n",
       "      <td>2005-08-19 12:30:04+00:00</td>\n",
       "      <td>2005-08-23 13:35:04+00:00</td>\n",
       "      <td>2.99</td>\n",
       "      <td>2005.0</td>\n",
       "      <td>2.99</td>\n",
       "      <td>126.0</td>\n",
       "      <td>16.99</td>\n",
       "      <td>{Trailers,\"Behind the Scenes\"}</td>\n",
       "      <td>0</td>\n",
       "      <td>0</td>\n",
       "      <td>0</td>\n",
       "      <td>1</td>\n",
       "      <td>8.9401</td>\n",
       "      <td>15876.0</td>\n",
       "      <td>8.9401</td>\n",
       "      <td>4 days 01:05:00</td>\n",
       "      <td>4</td>\n",
       "      <td>0</td>\n",
       "      <td>1</td>\n",
       "    </tr>\n",
       "  </tbody>\n",
       "</table>\n",
       "</div>"
      ],
      "text/plain": [
       "                 rental_date                return_date  amount  release_year  \\\n",
       "0  2005-05-25 02:54:33+00:00  2005-05-28 23:40:33+00:00    2.99        2005.0   \n",
       "1  2005-06-15 23:19:16+00:00  2005-06-18 19:24:16+00:00    2.99        2005.0   \n",
       "2  2005-07-10 04:27:45+00:00  2005-07-17 10:11:45+00:00    2.99        2005.0   \n",
       "3  2005-07-31 12:06:41+00:00  2005-08-02 14:30:41+00:00    2.99        2005.0   \n",
       "4  2005-08-19 12:30:04+00:00  2005-08-23 13:35:04+00:00    2.99        2005.0   \n",
       "\n",
       "   rental_rate  length  replacement_cost                special_features  \\\n",
       "0         2.99   126.0             16.99  {Trailers,\"Behind the Scenes\"}   \n",
       "1         2.99   126.0             16.99  {Trailers,\"Behind the Scenes\"}   \n",
       "2         2.99   126.0             16.99  {Trailers,\"Behind the Scenes\"}   \n",
       "3         2.99   126.0             16.99  {Trailers,\"Behind the Scenes\"}   \n",
       "4         2.99   126.0             16.99  {Trailers,\"Behind the Scenes\"}   \n",
       "\n",
       "   NC-17  PG  PG-13  R  amount_2  length_2  rental_rate_2   rental_length  \\\n",
       "0      0   0      0  1    8.9401   15876.0         8.9401 3 days 20:46:00   \n",
       "1      0   0      0  1    8.9401   15876.0         8.9401 2 days 20:05:00   \n",
       "2      0   0      0  1    8.9401   15876.0         8.9401 7 days 05:44:00   \n",
       "3      0   0      0  1    8.9401   15876.0         8.9401 2 days 02:24:00   \n",
       "4      0   0      0  1    8.9401   15876.0         8.9401 4 days 01:05:00   \n",
       "\n",
       "   rental_length_days  deleted_scenes  behind_the_scenes  \n",
       "0                   3               0                  1  \n",
       "1                   2               0                  1  \n",
       "2                   7               0                  1  \n",
       "3                   2               0                  1  \n",
       "4                   4               0                  1  "
      ]
     },
     "execution_count": 48,
     "metadata": {},
     "output_type": "execute_result"
    }
   ],
   "source": [
    "# 2.2. Dodanie zmiennych zero-jedynkowych dla specjalnych cech\n",
    "# Utworzenie dwóch kolumn zmiennych fikcyjnych ze 'special_features', które przyjmują wartość 1 (gdy wartość jest 'Deleted Scenes' przechowywana jako kolumna o nazwie 'deleted_scenes', oraz wartość jest 'Behind the scenes' przechowywana jako kolumna o nazwie 'bihand_the_scenes'.)\n",
    "df_rental[\"deleted_scenes\"] =  np.where(df_rental[\"special_features\"].str.contains(\"Deleted Scenes\"), 1, 0)\n",
    "df_rental[\"behind_the_scenes\"] =  np.where(df_rental[\"special_features\"].str.contains(\"Behind the Scenes\"), 1, 0)\n",
    "df_rental.head()"
   ]
  },
  {
   "cell_type": "code",
   "execution_count": 49,
   "metadata": {},
   "outputs": [],
   "source": [
    "# 2.3. Wybór kolumn do usunięcia\n",
    "cols_to_drop = [\"special_features\", \"rental_length\", \"rental_length_days\", \"rental_date\", \"return_date\"]"
   ]
  },
  {
   "cell_type": "code",
   "execution_count": 50,
   "metadata": {},
   "outputs": [],
   "source": [
    "# 2.4. Podział na zbiór cech (x) i zbiór docelowy(y)\n",
    "X = df_rental.drop(cols_to_drop, axis=1)\n",
    "y = df_rental[\"rental_length_days\"]"
   ]
  },
  {
   "cell_type": "code",
   "execution_count": 51,
   "metadata": {},
   "outputs": [],
   "source": [
    "# Podzielenie danych na zestaw treningowy i testowy, przy uwzględnieniu 20% całkowitych danych w zestawie testowym.\n",
    "X_train,X_test,y_train,y_test = train_test_split(X, \n",
    "                                                 y, \n",
    "                                                 test_size=0.2, \n",
    "                                                 random_state=9)"
   ]
  },
  {
   "cell_type": "code",
   "execution_count": 70,
   "metadata": {},
   "outputs": [
    {
     "data": {
      "text/html": [
       "<div>\n",
       "<style scoped>\n",
       "    .dataframe tbody tr th:only-of-type {\n",
       "        vertical-align: middle;\n",
       "    }\n",
       "\n",
       "    .dataframe tbody tr th {\n",
       "        vertical-align: top;\n",
       "    }\n",
       "\n",
       "    .dataframe thead th {\n",
       "        text-align: right;\n",
       "    }\n",
       "</style>\n",
       "<table border=\"1\" class=\"dataframe\">\n",
       "  <thead>\n",
       "    <tr style=\"text-align: right;\">\n",
       "      <th></th>\n",
       "      <th>amount</th>\n",
       "      <th>release_year</th>\n",
       "      <th>rental_rate</th>\n",
       "      <th>length</th>\n",
       "      <th>replacement_cost</th>\n",
       "      <th>NC-17</th>\n",
       "      <th>PG</th>\n",
       "      <th>PG-13</th>\n",
       "      <th>R</th>\n",
       "      <th>amount_2</th>\n",
       "      <th>length_2</th>\n",
       "      <th>rental_rate_2</th>\n",
       "      <th>deleted_scenes</th>\n",
       "      <th>behind_the_scenes</th>\n",
       "    </tr>\n",
       "  </thead>\n",
       "  <tbody>\n",
       "    <tr>\n",
       "      <th>6682</th>\n",
       "      <td>2.99</td>\n",
       "      <td>2010.0</td>\n",
       "      <td>2.99</td>\n",
       "      <td>90.0</td>\n",
       "      <td>25.99</td>\n",
       "      <td>1</td>\n",
       "      <td>0</td>\n",
       "      <td>0</td>\n",
       "      <td>0</td>\n",
       "      <td>8.9401</td>\n",
       "      <td>8100.0</td>\n",
       "      <td>8.9401</td>\n",
       "      <td>0</td>\n",
       "      <td>1</td>\n",
       "    </tr>\n",
       "    <tr>\n",
       "      <th>8908</th>\n",
       "      <td>4.99</td>\n",
       "      <td>2008.0</td>\n",
       "      <td>0.99</td>\n",
       "      <td>53.0</td>\n",
       "      <td>25.99</td>\n",
       "      <td>1</td>\n",
       "      <td>0</td>\n",
       "      <td>0</td>\n",
       "      <td>0</td>\n",
       "      <td>24.9001</td>\n",
       "      <td>2809.0</td>\n",
       "      <td>0.9801</td>\n",
       "      <td>1</td>\n",
       "      <td>0</td>\n",
       "    </tr>\n",
       "    <tr>\n",
       "      <th>11827</th>\n",
       "      <td>6.99</td>\n",
       "      <td>2007.0</td>\n",
       "      <td>4.99</td>\n",
       "      <td>171.0</td>\n",
       "      <td>25.99</td>\n",
       "      <td>0</td>\n",
       "      <td>0</td>\n",
       "      <td>1</td>\n",
       "      <td>0</td>\n",
       "      <td>48.8601</td>\n",
       "      <td>29241.0</td>\n",
       "      <td>24.9001</td>\n",
       "      <td>0</td>\n",
       "      <td>1</td>\n",
       "    </tr>\n",
       "    <tr>\n",
       "      <th>6153</th>\n",
       "      <td>2.99</td>\n",
       "      <td>2010.0</td>\n",
       "      <td>2.99</td>\n",
       "      <td>73.0</td>\n",
       "      <td>29.99</td>\n",
       "      <td>0</td>\n",
       "      <td>0</td>\n",
       "      <td>0</td>\n",
       "      <td>1</td>\n",
       "      <td>8.9401</td>\n",
       "      <td>5329.0</td>\n",
       "      <td>8.9401</td>\n",
       "      <td>1</td>\n",
       "      <td>1</td>\n",
       "    </tr>\n",
       "    <tr>\n",
       "      <th>10713</th>\n",
       "      <td>5.99</td>\n",
       "      <td>2004.0</td>\n",
       "      <td>0.99</td>\n",
       "      <td>122.0</td>\n",
       "      <td>14.99</td>\n",
       "      <td>1</td>\n",
       "      <td>0</td>\n",
       "      <td>0</td>\n",
       "      <td>0</td>\n",
       "      <td>35.8801</td>\n",
       "      <td>14884.0</td>\n",
       "      <td>0.9801</td>\n",
       "      <td>1</td>\n",
       "      <td>0</td>\n",
       "    </tr>\n",
       "  </tbody>\n",
       "</table>\n",
       "</div>"
      ],
      "text/plain": [
       "       amount  release_year  rental_rate  length  replacement_cost  NC-17  PG  \\\n",
       "6682     2.99        2010.0         2.99    90.0             25.99      1   0   \n",
       "8908     4.99        2008.0         0.99    53.0             25.99      1   0   \n",
       "11827    6.99        2007.0         4.99   171.0             25.99      0   0   \n",
       "6153     2.99        2010.0         2.99    73.0             29.99      0   0   \n",
       "10713    5.99        2004.0         0.99   122.0             14.99      1   0   \n",
       "\n",
       "       PG-13  R  amount_2  length_2  rental_rate_2  deleted_scenes  \\\n",
       "6682       0  0    8.9401    8100.0         8.9401               0   \n",
       "8908       0  0   24.9001    2809.0         0.9801               1   \n",
       "11827      1  0   48.8601   29241.0        24.9001               0   \n",
       "6153       0  1    8.9401    5329.0         8.9401               1   \n",
       "10713      0  0   35.8801   14884.0         0.9801               1   \n",
       "\n",
       "       behind_the_scenes  \n",
       "6682                   1  \n",
       "8908                   0  \n",
       "11827                  1  \n",
       "6153                   1  \n",
       "10713                  0  "
      ]
     },
     "execution_count": 70,
     "metadata": {},
     "output_type": "execute_result"
    }
   ],
   "source": [
    "X_train.head()"
   ]
  },
  {
   "cell_type": "markdown",
   "metadata": {},
   "source": [
    "### Regresja Lasso"
   ]
  },
  {
   "cell_type": "code",
   "execution_count": 52,
   "metadata": {},
   "outputs": [
    {
     "data": {
      "text/html": [
       "<style>#sk-container-id-6 {color: black;}#sk-container-id-6 pre{padding: 0;}#sk-container-id-6 div.sk-toggleable {background-color: white;}#sk-container-id-6 label.sk-toggleable__label {cursor: pointer;display: block;width: 100%;margin-bottom: 0;padding: 0.3em;box-sizing: border-box;text-align: center;}#sk-container-id-6 label.sk-toggleable__label-arrow:before {content: \"▸\";float: left;margin-right: 0.25em;color: #696969;}#sk-container-id-6 label.sk-toggleable__label-arrow:hover:before {color: black;}#sk-container-id-6 div.sk-estimator:hover label.sk-toggleable__label-arrow:before {color: black;}#sk-container-id-6 div.sk-toggleable__content {max-height: 0;max-width: 0;overflow: hidden;text-align: left;background-color: #f0f8ff;}#sk-container-id-6 div.sk-toggleable__content pre {margin: 0.2em;color: black;border-radius: 0.25em;background-color: #f0f8ff;}#sk-container-id-6 input.sk-toggleable__control:checked~div.sk-toggleable__content {max-height: 200px;max-width: 100%;overflow: auto;}#sk-container-id-6 input.sk-toggleable__control:checked~label.sk-toggleable__label-arrow:before {content: \"▾\";}#sk-container-id-6 div.sk-estimator input.sk-toggleable__control:checked~label.sk-toggleable__label {background-color: #d4ebff;}#sk-container-id-6 div.sk-label input.sk-toggleable__control:checked~label.sk-toggleable__label {background-color: #d4ebff;}#sk-container-id-6 input.sk-hidden--visually {border: 0;clip: rect(1px 1px 1px 1px);clip: rect(1px, 1px, 1px, 1px);height: 1px;margin: -1px;overflow: hidden;padding: 0;position: absolute;width: 1px;}#sk-container-id-6 div.sk-estimator {font-family: monospace;background-color: #f0f8ff;border: 1px dotted black;border-radius: 0.25em;box-sizing: border-box;margin-bottom: 0.5em;}#sk-container-id-6 div.sk-estimator:hover {background-color: #d4ebff;}#sk-container-id-6 div.sk-parallel-item::after {content: \"\";width: 100%;border-bottom: 1px solid gray;flex-grow: 1;}#sk-container-id-6 div.sk-label:hover label.sk-toggleable__label {background-color: #d4ebff;}#sk-container-id-6 div.sk-serial::before {content: \"\";position: absolute;border-left: 1px solid gray;box-sizing: border-box;top: 0;bottom: 0;left: 50%;z-index: 0;}#sk-container-id-6 div.sk-serial {display: flex;flex-direction: column;align-items: center;background-color: white;padding-right: 0.2em;padding-left: 0.2em;position: relative;}#sk-container-id-6 div.sk-item {position: relative;z-index: 1;}#sk-container-id-6 div.sk-parallel {display: flex;align-items: stretch;justify-content: center;background-color: white;position: relative;}#sk-container-id-6 div.sk-item::before, #sk-container-id-6 div.sk-parallel-item::before {content: \"\";position: absolute;border-left: 1px solid gray;box-sizing: border-box;top: 0;bottom: 0;left: 50%;z-index: -1;}#sk-container-id-6 div.sk-parallel-item {display: flex;flex-direction: column;z-index: 1;position: relative;background-color: white;}#sk-container-id-6 div.sk-parallel-item:first-child::after {align-self: flex-end;width: 50%;}#sk-container-id-6 div.sk-parallel-item:last-child::after {align-self: flex-start;width: 50%;}#sk-container-id-6 div.sk-parallel-item:only-child::after {width: 0;}#sk-container-id-6 div.sk-dashed-wrapped {border: 1px dashed gray;margin: 0 0.4em 0.5em 0.4em;box-sizing: border-box;padding-bottom: 0.4em;background-color: white;}#sk-container-id-6 div.sk-label label {font-family: monospace;font-weight: bold;display: inline-block;line-height: 1.2em;}#sk-container-id-6 div.sk-label-container {text-align: center;}#sk-container-id-6 div.sk-container {/* jupyter's `normalize.less` sets `[hidden] { display: none; }` but bootstrap.min.css set `[hidden] { display: none !important; }` so we also need the `!important` here to be able to override the default hidden behavior on the sphinx rendered scikit-learn.org. See: https://github.com/scikit-learn/scikit-learn/issues/21755 */display: inline-block !important;position: relative;}#sk-container-id-6 div.sk-text-repr-fallback {display: none;}</style><div id=\"sk-container-id-6\" class=\"sk-top-container\"><div class=\"sk-text-repr-fallback\"><pre>Lasso(alpha=0.3, random_state=9)</pre><b>In a Jupyter environment, please rerun this cell to show the HTML representation or trust the notebook. <br />On GitHub, the HTML representation is unable to render, please try loading this page with nbviewer.org.</b></div><div class=\"sk-container\" hidden><div class=\"sk-item\"><div class=\"sk-estimator sk-toggleable\"><input class=\"sk-toggleable__control sk-hidden--visually\" id=\"sk-estimator-id-8\" type=\"checkbox\" checked><label for=\"sk-estimator-id-8\" class=\"sk-toggleable__label sk-toggleable__label-arrow\">Lasso</label><div class=\"sk-toggleable__content\"><pre>Lasso(alpha=0.3, random_state=9)</pre></div></div></div></div></div>"
      ],
      "text/plain": [
       "Lasso(alpha=0.3, random_state=9)"
      ]
     },
     "execution_count": 52,
     "metadata": {},
     "output_type": "execute_result"
    }
   ],
   "source": [
    "# 1. Tworzenie modelu lasso\n",
    "lasso = Lasso(alpha=0.3, random_state=9) \n",
    "lasso"
   ]
  },
  {
   "cell_type": "code",
   "execution_count": 53,
   "metadata": {},
   "outputs": [
    {
     "data": {
      "text/plain": [
       "array([ 5.84104424e-01,  0.00000000e+00, -0.00000000e+00,  0.00000000e+00,\n",
       "       -0.00000000e+00,  0.00000000e+00,  0.00000000e+00,  0.00000000e+00,\n",
       "       -0.00000000e+00,  4.36220109e-02,  3.01167812e-06, -1.52983561e-01,\n",
       "       -0.00000000e+00,  0.00000000e+00])"
      ]
     },
     "execution_count": 53,
     "metadata": {},
     "output_type": "execute_result"
    }
   ],
   "source": [
    "lasso.fit(X_train, y_train)\n",
    "lasso_coef = lasso.coef_\n",
    "lasso_coef"
   ]
  },
  {
   "cell_type": "code",
   "execution_count": 54,
   "metadata": {},
   "outputs": [],
   "source": [
    "# 2. Selekcja cech za pomocą współczynników Lasso\n",
    "X_lasso_train, X_lasso_test = X_train.iloc[:, lasso_coef > 0], X_test.iloc[:, lasso_coef > 0]"
   ]
  },
  {
   "cell_type": "code",
   "execution_count": 55,
   "metadata": {},
   "outputs": [
    {
     "data": {
      "text/plain": [
       "4.812297241276244"
      ]
     },
     "execution_count": 55,
     "metadata": {},
     "output_type": "execute_result"
    }
   ],
   "source": [
    "# 3. Regresja liniowa na wybranych cechach:\n",
    "ols = LinearRegression()\n",
    "ols = ols.fit(X_lasso_train, y_train)\n",
    "y_test_pred = ols.predict(X_lasso_test)\n",
    "mse_lin_reg_lasso = mean_squared_error(y_test, y_test_pred)\n",
    "mse_lin_reg_lasso"
   ]
  },
  {
   "cell_type": "markdown",
   "metadata": {},
   "source": [
    "### Las losowy z optymalizacją hiperparametrów"
   ]
  },
  {
   "cell_type": "code",
   "execution_count": 56,
   "metadata": {},
   "outputs": [],
   "source": [
    "# 1. Przestrzeń hiperparametrów:\n",
    "param_dist = {'n_estimators': np.arange(1,101,1),\n",
    "          'max_depth':np.arange(1,11,1)}"
   ]
  },
  {
   "cell_type": "code",
   "execution_count": 57,
   "metadata": {},
   "outputs": [],
   "source": [
    "# 2. Tworzenie modelu lasu losowego:\n",
    "rf = RandomForestRegressor()"
   ]
  },
  {
   "cell_type": "code",
   "execution_count": 58,
   "metadata": {},
   "outputs": [
    {
     "data": {
      "text/plain": [
       "{'n_estimators': 51, 'max_depth': 10}"
      ]
     },
     "execution_count": 58,
     "metadata": {},
     "output_type": "execute_result"
    }
   ],
   "source": [
    "# 3. Tworzenie modelu lasu losowego:\n",
    "rand_search = RandomizedSearchCV(rf, \n",
    "                                 param_distributions=param_dist, \n",
    "                                 cv=5, \n",
    "                                 random_state=9)\n",
    "rand_search.fit(X_train, y_train)\n",
    "hyper_params = rand_search.best_params_\n",
    "hyper_params"
   ]
  },
  {
   "cell_type": "code",
   "execution_count": 59,
   "metadata": {},
   "outputs": [
    {
     "data": {
      "text/html": [
       "<style>#sk-container-id-7 {color: black;}#sk-container-id-7 pre{padding: 0;}#sk-container-id-7 div.sk-toggleable {background-color: white;}#sk-container-id-7 label.sk-toggleable__label {cursor: pointer;display: block;width: 100%;margin-bottom: 0;padding: 0.3em;box-sizing: border-box;text-align: center;}#sk-container-id-7 label.sk-toggleable__label-arrow:before {content: \"▸\";float: left;margin-right: 0.25em;color: #696969;}#sk-container-id-7 label.sk-toggleable__label-arrow:hover:before {color: black;}#sk-container-id-7 div.sk-estimator:hover label.sk-toggleable__label-arrow:before {color: black;}#sk-container-id-7 div.sk-toggleable__content {max-height: 0;max-width: 0;overflow: hidden;text-align: left;background-color: #f0f8ff;}#sk-container-id-7 div.sk-toggleable__content pre {margin: 0.2em;color: black;border-radius: 0.25em;background-color: #f0f8ff;}#sk-container-id-7 input.sk-toggleable__control:checked~div.sk-toggleable__content {max-height: 200px;max-width: 100%;overflow: auto;}#sk-container-id-7 input.sk-toggleable__control:checked~label.sk-toggleable__label-arrow:before {content: \"▾\";}#sk-container-id-7 div.sk-estimator input.sk-toggleable__control:checked~label.sk-toggleable__label {background-color: #d4ebff;}#sk-container-id-7 div.sk-label input.sk-toggleable__control:checked~label.sk-toggleable__label {background-color: #d4ebff;}#sk-container-id-7 input.sk-hidden--visually {border: 0;clip: rect(1px 1px 1px 1px);clip: rect(1px, 1px, 1px, 1px);height: 1px;margin: -1px;overflow: hidden;padding: 0;position: absolute;width: 1px;}#sk-container-id-7 div.sk-estimator {font-family: monospace;background-color: #f0f8ff;border: 1px dotted black;border-radius: 0.25em;box-sizing: border-box;margin-bottom: 0.5em;}#sk-container-id-7 div.sk-estimator:hover {background-color: #d4ebff;}#sk-container-id-7 div.sk-parallel-item::after {content: \"\";width: 100%;border-bottom: 1px solid gray;flex-grow: 1;}#sk-container-id-7 div.sk-label:hover label.sk-toggleable__label {background-color: #d4ebff;}#sk-container-id-7 div.sk-serial::before {content: \"\";position: absolute;border-left: 1px solid gray;box-sizing: border-box;top: 0;bottom: 0;left: 50%;z-index: 0;}#sk-container-id-7 div.sk-serial {display: flex;flex-direction: column;align-items: center;background-color: white;padding-right: 0.2em;padding-left: 0.2em;position: relative;}#sk-container-id-7 div.sk-item {position: relative;z-index: 1;}#sk-container-id-7 div.sk-parallel {display: flex;align-items: stretch;justify-content: center;background-color: white;position: relative;}#sk-container-id-7 div.sk-item::before, #sk-container-id-7 div.sk-parallel-item::before {content: \"\";position: absolute;border-left: 1px solid gray;box-sizing: border-box;top: 0;bottom: 0;left: 50%;z-index: -1;}#sk-container-id-7 div.sk-parallel-item {display: flex;flex-direction: column;z-index: 1;position: relative;background-color: white;}#sk-container-id-7 div.sk-parallel-item:first-child::after {align-self: flex-end;width: 50%;}#sk-container-id-7 div.sk-parallel-item:last-child::after {align-self: flex-start;width: 50%;}#sk-container-id-7 div.sk-parallel-item:only-child::after {width: 0;}#sk-container-id-7 div.sk-dashed-wrapped {border: 1px dashed gray;margin: 0 0.4em 0.5em 0.4em;box-sizing: border-box;padding-bottom: 0.4em;background-color: white;}#sk-container-id-7 div.sk-label label {font-family: monospace;font-weight: bold;display: inline-block;line-height: 1.2em;}#sk-container-id-7 div.sk-label-container {text-align: center;}#sk-container-id-7 div.sk-container {/* jupyter's `normalize.less` sets `[hidden] { display: none; }` but bootstrap.min.css set `[hidden] { display: none !important; }` so we also need the `!important` here to be able to override the default hidden behavior on the sphinx rendered scikit-learn.org. See: https://github.com/scikit-learn/scikit-learn/issues/21755 */display: inline-block !important;position: relative;}#sk-container-id-7 div.sk-text-repr-fallback {display: none;}</style><div id=\"sk-container-id-7\" class=\"sk-top-container\"><div class=\"sk-text-repr-fallback\"><pre>RandomizedSearchCV(cv=5, estimator=RandomForestRegressor(),\n",
       "                   param_distributions={&#x27;max_depth&#x27;: array([ 1,  2,  3,  4,  5,  6,  7,  8,  9, 10]),\n",
       "                                        &#x27;n_estimators&#x27;: array([  1,   2,   3,   4,   5,   6,   7,   8,   9,  10,  11,  12,  13,\n",
       "        14,  15,  16,  17,  18,  19,  20,  21,  22,  23,  24,  25,  26,\n",
       "        27,  28,  29,  30,  31,  32,  33,  34,  35,  36,  37,  38,  39,\n",
       "        40,  41,  42,  43,  44,  45,  46,  47,  48,  49,  50,  51,  52,\n",
       "        53,  54,  55,  56,  57,  58,  59,  60,  61,  62,  63,  64,  65,\n",
       "        66,  67,  68,  69,  70,  71,  72,  73,  74,  75,  76,  77,  78,\n",
       "        79,  80,  81,  82,  83,  84,  85,  86,  87,  88,  89,  90,  91,\n",
       "        92,  93,  94,  95,  96,  97,  98,  99, 100])},\n",
       "                   random_state=9)</pre><b>In a Jupyter environment, please rerun this cell to show the HTML representation or trust the notebook. <br />On GitHub, the HTML representation is unable to render, please try loading this page with nbviewer.org.</b></div><div class=\"sk-container\" hidden><div class=\"sk-item sk-dashed-wrapped\"><div class=\"sk-label-container\"><div class=\"sk-label sk-toggleable\"><input class=\"sk-toggleable__control sk-hidden--visually\" id=\"sk-estimator-id-9\" type=\"checkbox\" ><label for=\"sk-estimator-id-9\" class=\"sk-toggleable__label sk-toggleable__label-arrow\">RandomizedSearchCV</label><div class=\"sk-toggleable__content\"><pre>RandomizedSearchCV(cv=5, estimator=RandomForestRegressor(),\n",
       "                   param_distributions={&#x27;max_depth&#x27;: array([ 1,  2,  3,  4,  5,  6,  7,  8,  9, 10]),\n",
       "                                        &#x27;n_estimators&#x27;: array([  1,   2,   3,   4,   5,   6,   7,   8,   9,  10,  11,  12,  13,\n",
       "        14,  15,  16,  17,  18,  19,  20,  21,  22,  23,  24,  25,  26,\n",
       "        27,  28,  29,  30,  31,  32,  33,  34,  35,  36,  37,  38,  39,\n",
       "        40,  41,  42,  43,  44,  45,  46,  47,  48,  49,  50,  51,  52,\n",
       "        53,  54,  55,  56,  57,  58,  59,  60,  61,  62,  63,  64,  65,\n",
       "        66,  67,  68,  69,  70,  71,  72,  73,  74,  75,  76,  77,  78,\n",
       "        79,  80,  81,  82,  83,  84,  85,  86,  87,  88,  89,  90,  91,\n",
       "        92,  93,  94,  95,  96,  97,  98,  99, 100])},\n",
       "                   random_state=9)</pre></div></div></div><div class=\"sk-parallel\"><div class=\"sk-parallel-item\"><div class=\"sk-item\"><div class=\"sk-label-container\"><div class=\"sk-label sk-toggleable\"><input class=\"sk-toggleable__control sk-hidden--visually\" id=\"sk-estimator-id-10\" type=\"checkbox\" ><label for=\"sk-estimator-id-10\" class=\"sk-toggleable__label sk-toggleable__label-arrow\">estimator: RandomForestRegressor</label><div class=\"sk-toggleable__content\"><pre>RandomForestRegressor()</pre></div></div></div><div class=\"sk-serial\"><div class=\"sk-item\"><div class=\"sk-estimator sk-toggleable\"><input class=\"sk-toggleable__control sk-hidden--visually\" id=\"sk-estimator-id-11\" type=\"checkbox\" ><label for=\"sk-estimator-id-11\" class=\"sk-toggleable__label sk-toggleable__label-arrow\">RandomForestRegressor</label><div class=\"sk-toggleable__content\"><pre>RandomForestRegressor()</pre></div></div></div></div></div></div></div></div></div></div>"
      ],
      "text/plain": [
       "RandomizedSearchCV(cv=5, estimator=RandomForestRegressor(),\n",
       "                   param_distributions={'max_depth': array([ 1,  2,  3,  4,  5,  6,  7,  8,  9, 10]),\n",
       "                                        'n_estimators': array([  1,   2,   3,   4,   5,   6,   7,   8,   9,  10,  11,  12,  13,\n",
       "        14,  15,  16,  17,  18,  19,  20,  21,  22,  23,  24,  25,  26,\n",
       "        27,  28,  29,  30,  31,  32,  33,  34,  35,  36,  37,  38,  39,\n",
       "        40,  41,  42,  43,  44,  45,  46,  47,  48,  49,  50,  51,  52,\n",
       "        53,  54,  55,  56,  57,  58,  59,  60,  61,  62,  63,  64,  65,\n",
       "        66,  67,  68,  69,  70,  71,  72,  73,  74,  75,  76,  77,  78,\n",
       "        79,  80,  81,  82,  83,  84,  85,  86,  87,  88,  89,  90,  91,\n",
       "        92,  93,  94,  95,  96,  97,  98,  99, 100])},\n",
       "                   random_state=9)"
      ]
     },
     "execution_count": 59,
     "metadata": {},
     "output_type": "execute_result"
    }
   ],
   "source": [
    "rand_search"
   ]
  },
  {
   "cell_type": "code",
   "execution_count": 60,
   "metadata": {},
   "outputs": [],
   "source": [
    "# 4. Tworzenie modelu lasu losowego z najlepszymi hiperparametrami:\n",
    "rf = RandomForestRegressor(n_estimators=hyper_params[\"n_estimators\"], \n",
    "                           max_depth=hyper_params[\"max_depth\"], \n",
    "                           random_state=9)\n",
    "rf.fit(X_train,y_train)\n",
    "rf_pred = rf.predict(X_test)\n",
    "mse_random_forest= mean_squared_error(y_test, rf_pred)"
   ]
  },
  {
   "cell_type": "markdown",
   "metadata": {},
   "source": [
    "### Wybór najlepszego modelu"
   ]
  },
  {
   "cell_type": "code",
   "execution_count": 61,
   "metadata": {},
   "outputs": [],
   "source": [
    "best_model = rf\n",
    "best_mse = mse_random_forest"
   ]
  },
  {
   "cell_type": "markdown",
   "metadata": {},
   "source": [
    "## Wizualizacja błędów predykcji"
   ]
  },
  {
   "cell_type": "code",
   "execution_count": 62,
   "metadata": {},
   "outputs": [],
   "source": [
    "import matplotlib.pyplot as plt\n",
    "import seaborn as sns"
   ]
  },
  {
   "cell_type": "code",
   "execution_count": 63,
   "metadata": {},
   "outputs": [],
   "source": [
    "# Wartości przewidywane przez najlepszy model\n",
    "y_pred = best_model.predict(X_test)"
   ]
  },
  {
   "cell_type": "code",
   "execution_count": 64,
   "metadata": {},
   "outputs": [
    {
     "data": {
      "image/png": "[encoded data removed]",
      "text/plain": [
       "<Figure size 1000x600 with 1 Axes>"
      ]
     },
     "metadata": {},
     "output_type": "display_data"
    }
   ],
   "source": [
    "# Wykres rozrzutu rzeczywiste vs. przewidywane wartości\n",
    "plt.figure(figsize=(10, 6))\n",
    "plt.scatter(y_test, y_pred, alpha=0.3)\n",
    "plt.plot([y_test.min(), y_test.max()], [y_test.min(), y_test.max()], 'k--', lw=2)\n",
    "plt.xlabel('Rzeczywiste wartości')\n",
    "plt.ylabel('Przewidywane wartości')\n",
    "plt.title('Rzeczywiste vs. Przewidywane wartości długości wypożyczenia')\n",
    "plt.show()"
   ]
  },
  {
   "cell_type": "code",
   "execution_count": 65,
   "metadata": {},
   "outputs": [
    {
     "data": {
      "image/png": "[encoded data removed]",
      "text/plain": [
       "<Figure size 1000x600 with 1 Axes>"
      ]
     },
     "metadata": {},
     "output_type": "display_data"
    }
   ],
   "source": [
    "# Histogram błędów (reszt)\n",
    "errors = y_test - y_pred\n",
    "plt.figure(figsize=(10, 6))\n",
    "sns.histplot(errors, kde=True)\n",
    "plt.xlabel('Błąd predykcji')\n",
    "plt.title('Histogram błędów predykcji')\n",
    "plt.show()"
   ]
  },
  {
   "cell_type": "code",
   "execution_count": 66,
   "metadata": {},
   "outputs": [],
   "source": [
    "# Ważność cech w modelu lasu losowego\n",
    "importances = best_model.feature_importances_\n",
    "features = X_train.columns\n",
    "indices = np.argsort(importances)"
   ]
  },
  {
   "cell_type": "code",
   "execution_count": 67,
   "metadata": {},
   "outputs": [
    {
     "data": {
      "image/png": "[encoded data removed]",
      "text/plain": [
       "<Figure size 1000x600 with 1 Axes>"
      ]
     },
     "metadata": {},
     "output_type": "display_data"
    }
   ],
   "source": [
    "plt.figure(figsize=(10, 6))\n",
    "plt.title('Ważność cech w modelu lasu losowego')\n",
    "plt.barh(range(len(indices)), importances[indices], align='center')\n",
    "plt.yticks(range(len(indices)), [features[i] for i in indices])\n",
    "plt.xlabel('Znaczenie cechy')\n",
    "plt.show()"
   ]
  },
  {
   "cell_type": "code",
   "execution_count": 78,
   "metadata": {},
   "outputs": [
    {
     "name": "stdout",
     "output_type": "stream",
     "text": [
      "[2.97337595]\n",
      "   amount  release_year  rental_rate  length  replacement_cost  NC-17  PG  \\\n",
      "0    2.99        2010.0         2.99    90.0             25.99      1   0   \n",
      "\n",
      "   PG-13  R  amount_2  length_2  rental_rate_2  deleted_scenes  \\\n",
      "0      0  0    8.9401    8100.0         8.9401               0   \n",
      "\n",
      "   behind_the_scenes  predicted_rental_length  \n",
      "0                  1                 2.973376  \n"
     ]
    }
   ],
   "source": [
    "# Przykładowe nowe dane\n",
    "new_data = pd.DataFrame({\n",
    "    'amount': [2.99],\n",
    "    'release_year': [2010.0],\n",
    "    'rental_rate': [2.99],\n",
    "    'length': [90.0],\n",
    "    'replacement_cost': [25.99],\n",
    "    'NC-17': [1],\n",
    "    'PG': [0],\n",
    "    'PG-13': [0],\n",
    "    'R': [0],\n",
    "    'amount_2': [8.9401],\n",
    "    'length_2': [8100.0],\n",
    "    'rental_rate_2': [8.9401],\n",
    "    'deleted_scenes': [0],\n",
    "    'behind_the_scenes': [1],\n",
    "\n",
    "})\n",
    "\n",
    "# Przewidywanie długości wypożyczenia za pomocą wytrenowanego modelu\n",
    "predicted_rental_length = best_model.predict(new_data)\n",
    "print(predicted_rental_length)\n",
    "\n",
    "# Dodanie przewidywanych wartości do DataFrame\n",
    "new_data['predicted_rental_length'] = predicted_rental_length\n",
    "\n",
    "print(new_data)"
   ]
  }
 ],
 "metadata": {
  "kernelspec": {
   "display_name": "Python 3",
   "language": "python",
   "name": "python3"
  },
  "language_info": {
   "codemirror_mode": {
    "name": "ipython",
    "version": 3
   },
   "file_extension": ".py",
   "mimetype": "text/x-python",
   "name": "python",
   "nbconvert_exporter": "python",
   "pygments_lexer": "ipython3",
   "version": "3.10.13"
  }
 },
 "nbformat": 4,
 "nbformat_minor": 2
}
